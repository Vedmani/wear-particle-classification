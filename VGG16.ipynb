{
  "nbformat": 4,
  "nbformat_minor": 0,
  "metadata": {
    "colab": {
      "provenance": [],
      "mount_file_id": "https://github.com/Vedmani/wear-particle-classification/blob/main/VGG16.ipynb",
      "authorship_tag": "ABX9TyNcKaeXZPbIxbkElTpPV16z",
      "include_colab_link": true
    },
    "kernelspec": {
      "name": "python3",
      "display_name": "Python 3"
    },
    "language_info": {
      "name": "python"
    },
    "accelerator": "GPU",
    "widgets": {
      "application/vnd.jupyter.widget-state+json": {
        "573d76083c1f40be8cb28e185781939f": {
          "model_module": "@jupyter-widgets/controls",
          "model_name": "VBoxModel",
          "model_module_version": "1.5.0",
          "state": {
            "_dom_classes": [],
            "_model_module": "@jupyter-widgets/controls",
            "_model_module_version": "1.5.0",
            "_model_name": "VBoxModel",
            "_view_count": null,
            "_view_module": "@jupyter-widgets/controls",
            "_view_module_version": "1.5.0",
            "_view_name": "VBoxView",
            "box_style": "",
            "children": [
              "IPY_MODEL_d72e658c45a7462b8a9e4bb1fd4fd0a1",
              "IPY_MODEL_f5548bcbc2014ca591c0402d218f7f14"
            ],
            "layout": "IPY_MODEL_fe84767ee11547d1a34cff109bb8b207"
          }
        },
        "d72e658c45a7462b8a9e4bb1fd4fd0a1": {
          "model_module": "@jupyter-widgets/controls",
          "model_name": "LabelModel",
          "model_module_version": "1.5.0",
          "state": {
            "_dom_classes": [],
            "_model_module": "@jupyter-widgets/controls",
            "_model_module_version": "1.5.0",
            "_model_name": "LabelModel",
            "_view_count": null,
            "_view_module": "@jupyter-widgets/controls",
            "_view_module_version": "1.5.0",
            "_view_name": "LabelView",
            "description": "",
            "description_tooltip": null,
            "layout": "IPY_MODEL_ce26ed7d454a4702815ee6d830c95d29",
            "placeholder": "​",
            "style": "IPY_MODEL_82bf40703f794cbe8483f5bba4605783",
            "value": "3112.856 MB of 3165.461 MB uploaded (0.076 MB deduped)\r"
          }
        },
        "f5548bcbc2014ca591c0402d218f7f14": {
          "model_module": "@jupyter-widgets/controls",
          "model_name": "FloatProgressModel",
          "model_module_version": "1.5.0",
          "state": {
            "_dom_classes": [],
            "_model_module": "@jupyter-widgets/controls",
            "_model_module_version": "1.5.0",
            "_model_name": "FloatProgressModel",
            "_view_count": null,
            "_view_module": "@jupyter-widgets/controls",
            "_view_module_version": "1.5.0",
            "_view_name": "ProgressView",
            "bar_style": "",
            "description": "",
            "description_tooltip": null,
            "layout": "IPY_MODEL_bf172213577e40cd9fd18403d395f346",
            "max": 1,
            "min": 0,
            "orientation": "horizontal",
            "style": "IPY_MODEL_782081b2bc414a3e9e23d32579f14afb",
            "value": 0.9833814839847329
          }
        },
        "fe84767ee11547d1a34cff109bb8b207": {
          "model_module": "@jupyter-widgets/base",
          "model_name": "LayoutModel",
          "model_module_version": "1.2.0",
          "state": {
            "_model_module": "@jupyter-widgets/base",
            "_model_module_version": "1.2.0",
            "_model_name": "LayoutModel",
            "_view_count": null,
            "_view_module": "@jupyter-widgets/base",
            "_view_module_version": "1.2.0",
            "_view_name": "LayoutView",
            "align_content": null,
            "align_items": null,
            "align_self": null,
            "border": null,
            "bottom": null,
            "display": null,
            "flex": null,
            "flex_flow": null,
            "grid_area": null,
            "grid_auto_columns": null,
            "grid_auto_flow": null,
            "grid_auto_rows": null,
            "grid_column": null,
            "grid_gap": null,
            "grid_row": null,
            "grid_template_areas": null,
            "grid_template_columns": null,
            "grid_template_rows": null,
            "height": null,
            "justify_content": null,
            "justify_items": null,
            "left": null,
            "margin": null,
            "max_height": null,
            "max_width": null,
            "min_height": null,
            "min_width": null,
            "object_fit": null,
            "object_position": null,
            "order": null,
            "overflow": null,
            "overflow_x": null,
            "overflow_y": null,
            "padding": null,
            "right": null,
            "top": null,
            "visibility": null,
            "width": null
          }
        },
        "ce26ed7d454a4702815ee6d830c95d29": {
          "model_module": "@jupyter-widgets/base",
          "model_name": "LayoutModel",
          "model_module_version": "1.2.0",
          "state": {
            "_model_module": "@jupyter-widgets/base",
            "_model_module_version": "1.2.0",
            "_model_name": "LayoutModel",
            "_view_count": null,
            "_view_module": "@jupyter-widgets/base",
            "_view_module_version": "1.2.0",
            "_view_name": "LayoutView",
            "align_content": null,
            "align_items": null,
            "align_self": null,
            "border": null,
            "bottom": null,
            "display": null,
            "flex": null,
            "flex_flow": null,
            "grid_area": null,
            "grid_auto_columns": null,
            "grid_auto_flow": null,
            "grid_auto_rows": null,
            "grid_column": null,
            "grid_gap": null,
            "grid_row": null,
            "grid_template_areas": null,
            "grid_template_columns": null,
            "grid_template_rows": null,
            "height": null,
            "justify_content": null,
            "justify_items": null,
            "left": null,
            "margin": null,
            "max_height": null,
            "max_width": null,
            "min_height": null,
            "min_width": null,
            "object_fit": null,
            "object_position": null,
            "order": null,
            "overflow": null,
            "overflow_x": null,
            "overflow_y": null,
            "padding": null,
            "right": null,
            "top": null,
            "visibility": null,
            "width": null
          }
        },
        "82bf40703f794cbe8483f5bba4605783": {
          "model_module": "@jupyter-widgets/controls",
          "model_name": "DescriptionStyleModel",
          "model_module_version": "1.5.0",
          "state": {
            "_model_module": "@jupyter-widgets/controls",
            "_model_module_version": "1.5.0",
            "_model_name": "DescriptionStyleModel",
            "_view_count": null,
            "_view_module": "@jupyter-widgets/base",
            "_view_module_version": "1.2.0",
            "_view_name": "StyleView",
            "description_width": ""
          }
        },
        "bf172213577e40cd9fd18403d395f346": {
          "model_module": "@jupyter-widgets/base",
          "model_name": "LayoutModel",
          "model_module_version": "1.2.0",
          "state": {
            "_model_module": "@jupyter-widgets/base",
            "_model_module_version": "1.2.0",
            "_model_name": "LayoutModel",
            "_view_count": null,
            "_view_module": "@jupyter-widgets/base",
            "_view_module_version": "1.2.0",
            "_view_name": "LayoutView",
            "align_content": null,
            "align_items": null,
            "align_self": null,
            "border": null,
            "bottom": null,
            "display": null,
            "flex": null,
            "flex_flow": null,
            "grid_area": null,
            "grid_auto_columns": null,
            "grid_auto_flow": null,
            "grid_auto_rows": null,
            "grid_column": null,
            "grid_gap": null,
            "grid_row": null,
            "grid_template_areas": null,
            "grid_template_columns": null,
            "grid_template_rows": null,
            "height": null,
            "justify_content": null,
            "justify_items": null,
            "left": null,
            "margin": null,
            "max_height": null,
            "max_width": null,
            "min_height": null,
            "min_width": null,
            "object_fit": null,
            "object_position": null,
            "order": null,
            "overflow": null,
            "overflow_x": null,
            "overflow_y": null,
            "padding": null,
            "right": null,
            "top": null,
            "visibility": null,
            "width": null
          }
        },
        "782081b2bc414a3e9e23d32579f14afb": {
          "model_module": "@jupyter-widgets/controls",
          "model_name": "ProgressStyleModel",
          "model_module_version": "1.5.0",
          "state": {
            "_model_module": "@jupyter-widgets/controls",
            "_model_module_version": "1.5.0",
            "_model_name": "ProgressStyleModel",
            "_view_count": null,
            "_view_module": "@jupyter-widgets/base",
            "_view_module_version": "1.2.0",
            "_view_name": "StyleView",
            "bar_color": null,
            "description_width": ""
          }
        }
      }
    }
  },
  "cells": [
    {
      "cell_type": "markdown",
      "metadata": {
        "id": "view-in-github",
        "colab_type": "text"
      },
      "source": [
        "<a href=\"https://colab.research.google.com/github/Vedmani/wear-particle-classification/blob/main/VGG16.ipynb\" target=\"_parent\"><img src=\"https://colab.research.google.com/assets/colab-badge.svg\" alt=\"Open In Colab\"/></a>"
      ]
    },
    {
      "cell_type": "code",
      "source": [
        "!pip install wandb -q\n",
        "!wandb login"
      ],
      "metadata": {
        "colab": {
          "base_uri": "https://localhost:8080/"
        },
        "id": "fS1Jpl8BEOEe",
        "outputId": "b62dadf4-93ab-4a29-a80e-b6488eaafc38"
      },
      "execution_count": 1,
      "outputs": [
        {
          "output_type": "stream",
          "name": "stdout",
          "text": [
            "\u001b[K     |████████████████████████████████| 1.9 MB 10.3 MB/s \n",
            "\u001b[K     |████████████████████████████████| 182 kB 54.4 MB/s \n",
            "\u001b[K     |████████████████████████████████| 162 kB 52.0 MB/s \n",
            "\u001b[K     |████████████████████████████████| 63 kB 1.3 MB/s \n",
            "\u001b[K     |████████████████████████████████| 162 kB 71.1 MB/s \n",
            "\u001b[K     |████████████████████████████████| 158 kB 49.2 MB/s \n",
            "\u001b[K     |████████████████████████████████| 157 kB 57.9 MB/s \n",
            "\u001b[K     |████████████████████████████████| 157 kB 7.0 MB/s \n",
            "\u001b[K     |████████████████████████████████| 157 kB 55.5 MB/s \n",
            "\u001b[K     |████████████████████████████████| 157 kB 56.1 MB/s \n",
            "\u001b[K     |████████████████████████████████| 157 kB 35.3 MB/s \n",
            "\u001b[K     |████████████████████████████████| 157 kB 52.3 MB/s \n",
            "\u001b[K     |████████████████████████████████| 157 kB 59.4 MB/s \n",
            "\u001b[K     |████████████████████████████████| 156 kB 59.0 MB/s \n",
            "\u001b[?25h  Building wheel for pathtools (setup.py) ... \u001b[?25l\u001b[?25hdone\n",
            "\u001b[34m\u001b[1mwandb\u001b[0m: Logging into wandb.ai. (Learn how to deploy a W&B server locally: https://wandb.me/wandb-server)\n",
            "\u001b[34m\u001b[1mwandb\u001b[0m: You can find your API key in your browser here: https://wandb.ai/authorize\n",
            "\u001b[34m\u001b[1mwandb\u001b[0m: Paste an API key from your profile and hit enter, or press ctrl+c to quit: \n",
            "\u001b[34m\u001b[1mwandb\u001b[0m: Appending key for api.wandb.ai to your netrc file: /root/.netrc\n"
          ]
        }
      ]
    },
    {
      "cell_type": "code",
      "execution_count": 2,
      "metadata": {
        "id": "U8Fxg--1BZml"
      },
      "outputs": [],
      "source": [
        "import numpy as np\n",
        "import os\n",
        "import PIL\n",
        "import PIL.Image\n",
        "import tensorflow as tf\n",
        "import matplotlib.pyplot as plt\n",
        "from tensorflow import keras\n",
        "from tensorflow.keras import layers\n",
        "from tensorflow.keras.models import Sequential\n",
        "import wandb\n",
        "from wandb.keras import WandbCallback"
      ]
    },
    {
      "cell_type": "code",
      "source": [
        "tf.keras.utils.set_random_seed(123)\n",
        "tf.config.experimental.enable_op_determinism()"
      ],
      "metadata": {
        "id": "QWehRbYhDq35"
      },
      "execution_count": 3,
      "outputs": []
    },
    {
      "cell_type": "code",
      "source": [
        "from keras.applications.vgg16 import VGG16\n",
        "from keras.applications.vgg16 import preprocess_input\n",
        "vgg16 = VGG16(weights='imagenet',include_top=False,input_shape=(224,224,3))"
      ],
      "metadata": {
        "colab": {
          "base_uri": "https://localhost:8080/"
        },
        "id": "BIT7I_lPL9mr",
        "outputId": "b482c47e-eeeb-4006-ca23-279ec4c5427c"
      },
      "execution_count": 4,
      "outputs": [
        {
          "output_type": "stream",
          "name": "stdout",
          "text": [
            "Downloading data from https://storage.googleapis.com/tensorflow/keras-applications/vgg16/vgg16_weights_tf_dim_ordering_tf_kernels_notop.h5\n",
            "58892288/58889256 [==============================] - 0s 0us/step\n",
            "58900480/58889256 [==============================] - 0s 0us/step\n"
          ]
        }
      ]
    },
    {
      "cell_type": "code",
      "source": [
        "PATH = '/content/drive/MyDrive/Research Internship/wear particles'\n",
        "batch_size = 32\n",
        "img_height = 224\n",
        "img_width = 224\n",
        "\n",
        "train_ds = tf.keras.utils.image_dataset_from_directory(\n",
        "  PATH,\n",
        "  validation_split=0.2,\n",
        "  subset=\"training\",\n",
        "  seed=123,\n",
        "  image_size=(img_height, img_width),\n",
        "  batch_size=batch_size)\n",
        "\n",
        "val_ds = tf.keras.utils.image_dataset_from_directory(\n",
        "  PATH,\n",
        "  validation_split=0.2,\n",
        "  subset=\"validation\",\n",
        "  seed=123,\n",
        "  image_size=(img_height, img_width),\n",
        "  batch_size=batch_size)"
      ],
      "metadata": {
        "colab": {
          "base_uri": "https://localhost:8080/"
        },
        "id": "wtAagaAMMAb3",
        "outputId": "8c6c10c3-4bde-4aee-e7d7-57b3c3326072"
      },
      "execution_count": 5,
      "outputs": [
        {
          "output_type": "stream",
          "name": "stdout",
          "text": [
            "Found 740 files belonging to 5 classes.\n",
            "Using 592 files for training.\n",
            "Found 740 files belonging to 5 classes.\n",
            "Using 148 files for validation.\n"
          ]
        }
      ]
    },
    {
      "cell_type": "code",
      "source": [
        "class_names = train_ds.class_names\n",
        "print(class_names)\n",
        "num_classes = len(class_names)"
      ],
      "metadata": {
        "colab": {
          "base_uri": "https://localhost:8080/"
        },
        "id": "PPbz9VSEMoxq",
        "outputId": "60e834b6-e36a-41f9-a564-e74beb428436"
      },
      "execution_count": 6,
      "outputs": [
        {
          "output_type": "stream",
          "name": "stdout",
          "text": [
            "['cutting wear', 'normal rubbign and cutting wear combined', 'normal rubbing wear', 'red oxide', 'severe sliding wear']\n"
          ]
        }
      ]
    },
    {
      "cell_type": "code",
      "source": [
        "model_vgg16 = Sequential([\n",
        "  layers.Rescaling(1./255, input_shape=(img_height, img_width, 3)),\n",
        "  vgg16,\n",
        "  layers.Flatten(),\n",
        "  layers.Dense(1028, activation='relu'),\n",
        "  layers.Dropout(0.5), \n",
        "  layers.Dense(num_classes, activation='softmax')\n",
        "])\n",
        "vgg16.trainable=False\n",
        "model_vgg16.summary()"
      ],
      "metadata": {
        "colab": {
          "base_uri": "https://localhost:8080/"
        },
        "id": "EPaYoLCtMpIF",
        "outputId": "e832afe6-193b-4445-bc29-99b52cda1d6e"
      },
      "execution_count": 12,
      "outputs": [
        {
          "output_type": "stream",
          "name": "stdout",
          "text": [
            "Model: \"sequential_1\"\n",
            "_________________________________________________________________\n",
            " Layer (type)                Output Shape              Param #   \n",
            "=================================================================\n",
            " rescaling_1 (Rescaling)     (None, 224, 224, 3)       0         \n",
            "                                                                 \n",
            " vgg16 (Functional)          (None, 7, 7, 512)         14714688  \n",
            "                                                                 \n",
            " flatten_1 (Flatten)         (None, 25088)             0         \n",
            "                                                                 \n",
            " dense_2 (Dense)             (None, 1028)              25791492  \n",
            "                                                                 \n",
            " dropout (Dropout)           (None, 1028)              0         \n",
            "                                                                 \n",
            " dense_3 (Dense)             (None, 5)                 5145      \n",
            "                                                                 \n",
            "=================================================================\n",
            "Total params: 40,511,325\n",
            "Trainable params: 25,796,637\n",
            "Non-trainable params: 14,714,688\n",
            "_________________________________________________________________\n"
          ]
        }
      ]
    },
    {
      "cell_type": "code",
      "source": [
        "model_vgg16.compile(\n",
        "              optimizer= tf.keras.optimizers.Adam(learning_rate=0.001, beta_1=0.9, beta_2=0.999, epsilon=1e-07, amsgrad=False, name='Adam'),\n",
        "              loss=tf.keras.losses.SparseCategoricalCrossentropy(from_logits=False),\n",
        "              metrics=['accuracy']\n",
        "              )"
      ],
      "metadata": {
        "id": "WfGgUhDLNkzx"
      },
      "execution_count": 13,
      "outputs": []
    },
    {
      "cell_type": "code",
      "source": [
        "wandb.init(\n",
        "      # Set the project where this run will be logged\n",
        "      project=\"Transfer_learning\", \n",
        "      name = \"vgg16_2\",\n",
        "      tags = \"without augment with dropout\"\n",
        ")"
      ],
      "metadata": {
        "colab": {
          "base_uri": "https://localhost:8080/",
          "height": 90
        },
        "id": "0s4TITrtNq83",
        "outputId": "129fedff-dffc-43e0-f494-40322f26eab9"
      },
      "execution_count": 14,
      "outputs": [
        {
          "output_type": "display_data",
          "data": {
            "text/plain": [
              "<IPython.core.display.HTML object>"
            ],
            "text/html": [
              "Tracking run with wandb version 0.13.4"
            ]
          },
          "metadata": {}
        },
        {
          "output_type": "display_data",
          "data": {
            "text/plain": [
              "<IPython.core.display.HTML object>"
            ],
            "text/html": [
              "Run data is saved locally in <code>/content/wandb/run-20221007_072750-29xju7ug</code>"
            ]
          },
          "metadata": {}
        },
        {
          "output_type": "display_data",
          "data": {
            "text/plain": [
              "<IPython.core.display.HTML object>"
            ],
            "text/html": [
              "Syncing run <strong><a href=\"https://wandb.ai/vedmanivaidya/Transfer_learning/runs/29xju7ug\" target=\"_blank\">vgg16_2</a></strong> to <a href=\"https://wandb.ai/vedmanivaidya/Transfer_learning\" target=\"_blank\">Weights & Biases</a> (<a href=\"https://wandb.me/run\" target=\"_blank\">docs</a>)<br/>"
            ]
          },
          "metadata": {}
        },
        {
          "output_type": "execute_result",
          "data": {
            "text/html": [
              "<button onClick=\"this.nextSibling.style.display='block';this.style.display='none';\">Display W&B run</button><iframe src=\"https://wandb.ai/vedmanivaidya/Transfer_learning/runs/29xju7ug?jupyter=true\" style=\"border:none;width:100%;height:420px;display:none;\"></iframe>"
            ],
            "text/plain": [
              "<wandb.sdk.wandb_run.Run at 0x7f48861780d0>"
            ]
          },
          "metadata": {},
          "execution_count": 14
        }
      ]
    },
    {
      "cell_type": "code",
      "source": [
        "epochs=40\n",
        "history = model_vgg16.fit(\n",
        "  train_ds,\n",
        "  validation_data=val_ds,\n",
        "  epochs=epochs,\n",
        "callbacks=[WandbCallback()]\n",
        ")"
      ],
      "metadata": {
        "colab": {
          "base_uri": "https://localhost:8080/"
        },
        "id": "Tq1N_s8VPhx3",
        "outputId": "94cf37fc-f53a-457e-b248-f52878e7d889"
      },
      "execution_count": 15,
      "outputs": [
        {
          "output_type": "stream",
          "name": "stdout",
          "text": [
            "Epoch 1/40\n",
            "19/19 [==============================] - ETA: 0s - loss: 4.8052 - accuracy: 0.5794"
          ]
        },
        {
          "output_type": "stream",
          "name": "stderr",
          "text": [
            "\u001b[34m\u001b[1mwandb\u001b[0m: Adding directory to artifact (/content/wandb/run-20221007_072750-29xju7ug/files/model-best)... Done. 2.5s\n"
          ]
        },
        {
          "output_type": "stream",
          "name": "stdout",
          "text": [
            "\b\b\b\b\b\b\b\b\b\b\b\b\b\b\b\b\b\b\b\b\b\b\b\b\b\b\b\b\b\b\b\b\b\b\b\b\b\b\b\b\b\b\b\b\b\b\b\b\b\b\b\b\b\b\b\b\b\b\b\b\b\b\b\b\b\b\b\b\b\b\b\b\b\b\b\b\b\b\b\b\b\b\r19/19 [==============================] - 15s 759ms/step - loss: 4.8052 - accuracy: 0.5794 - val_loss: 0.5914 - val_accuracy: 0.8514\n",
            "Epoch 2/40\n",
            "19/19 [==============================] - ETA: 0s - loss: 0.6442 - accuracy: 0.8378"
          ]
        },
        {
          "output_type": "stream",
          "name": "stderr",
          "text": [
            "\u001b[34m\u001b[1mwandb\u001b[0m: Adding directory to artifact (/content/wandb/run-20221007_072750-29xju7ug/files/model-best)... Done. 2.4s\n"
          ]
        },
        {
          "output_type": "stream",
          "name": "stdout",
          "text": [
            "\b\b\b\b\b\b\b\b\b\b\b\b\b\b\b\b\b\b\b\b\b\b\b\b\b\b\b\b\b\b\b\b\b\b\b\b\b\b\b\b\b\b\b\b\b\b\b\b\b\b\b\b\b\b\b\b\b\b\b\b\b\b\b\b\b\b\b\b\b\b\b\b\b\b\b\b\b\b\b\b\b\b\r19/19 [==============================] - 14s 740ms/step - loss: 0.6442 - accuracy: 0.8378 - val_loss: 0.2235 - val_accuracy: 0.9257\n",
            "Epoch 3/40\n",
            "19/19 [==============================] - ETA: 0s - loss: 0.1754 - accuracy: 0.9493"
          ]
        },
        {
          "output_type": "stream",
          "name": "stderr",
          "text": [
            "\u001b[34m\u001b[1mwandb\u001b[0m: Adding directory to artifact (/content/wandb/run-20221007_072750-29xju7ug/files/model-best)... Done. 2.5s\n"
          ]
        },
        {
          "output_type": "stream",
          "name": "stdout",
          "text": [
            "\b\b\b\b\b\b\b\b\b\b\b\b\b\b\b\b\b\b\b\b\b\b\b\b\b\b\b\b\b\b\b\b\b\b\b\b\b\b\b\b\b\b\b\b\b\b\b\b\b\b\b\b\b\b\b\b\b\b\b\b\b\b\b\b\b\b\b\b\b\b\b\b\b\b\b\b\b\b\b\b\b\b\r19/19 [==============================] - 14s 714ms/step - loss: 0.1754 - accuracy: 0.9493 - val_loss: 0.0991 - val_accuracy: 0.9662\n",
            "Epoch 4/40\n",
            "19/19 [==============================] - ETA: 0s - loss: 0.0810 - accuracy: 0.9747"
          ]
        },
        {
          "output_type": "stream",
          "name": "stderr",
          "text": [
            "\u001b[34m\u001b[1mwandb\u001b[0m: Adding directory to artifact (/content/wandb/run-20221007_072750-29xju7ug/files/model-best)... Done. 2.4s\n"
          ]
        },
        {
          "output_type": "stream",
          "name": "stdout",
          "text": [
            "\b\b\b\b\b\b\b\b\b\b\b\b\b\b\b\b\b\b\b\b\b\b\b\b\b\b\b\b\b\b\b\b\b\b\b\b\b\b\b\b\b\b\b\b\b\b\b\b\b\b\b\b\b\b\b\b\b\b\b\b\b\b\b\b\b\b\b\b\b\b\b\b\b\b\b\b\b\b\b\b\b\b\r19/19 [==============================] - 14s 726ms/step - loss: 0.0810 - accuracy: 0.9747 - val_loss: 0.0642 - val_accuracy: 0.9730\n",
            "Epoch 5/40\n",
            "19/19 [==============================] - ETA: 0s - loss: 0.0552 - accuracy: 0.9865"
          ]
        },
        {
          "output_type": "stream",
          "name": "stderr",
          "text": [
            "\u001b[34m\u001b[1mwandb\u001b[0m: Adding directory to artifact (/content/wandb/run-20221007_072750-29xju7ug/files/model-best)... Done. 2.5s\n"
          ]
        },
        {
          "output_type": "stream",
          "name": "stdout",
          "text": [
            "\b\b\b\b\b\b\b\b\b\b\b\b\b\b\b\b\b\b\b\b\b\b\b\b\b\b\b\b\b\b\b\b\b\b\b\b\b\b\b\b\b\b\b\b\b\b\b\b\b\b\b\b\b\b\b\b\b\b\b\b\b\b\b\b\b\b\b\b\b\b\b\b\b\b\b\b\b\b\b\b\b\b\r19/19 [==============================] - 14s 747ms/step - loss: 0.0552 - accuracy: 0.9865 - val_loss: 0.0613 - val_accuracy: 0.9865\n",
            "Epoch 6/40\n",
            "19/19 [==============================] - ETA: 0s - loss: 0.0379 - accuracy: 0.9882"
          ]
        },
        {
          "output_type": "stream",
          "name": "stderr",
          "text": [
            "\u001b[34m\u001b[1mwandb\u001b[0m: Adding directory to artifact (/content/wandb/run-20221007_072750-29xju7ug/files/model-best)... Done. 2.3s\n"
          ]
        },
        {
          "output_type": "stream",
          "name": "stdout",
          "text": [
            "\b\b\b\b\b\b\b\b\b\b\b\b\b\b\b\b\b\b\b\b\b\b\b\b\b\b\b\b\b\b\b\b\b\b\b\b\b\b\b\b\b\b\b\b\b\b\b\b\b\b\b\b\b\b\b\b\b\b\b\b\b\b\b\b\b\b\b\b\b\b\b\b\b\b\b\b\b\b\b\b\b\b\r19/19 [==============================] - 14s 723ms/step - loss: 0.0379 - accuracy: 0.9882 - val_loss: 0.0468 - val_accuracy: 0.9865\n",
            "Epoch 7/40\n",
            "19/19 [==============================] - 7s 337ms/step - loss: 0.0315 - accuracy: 0.9882 - val_loss: 0.0896 - val_accuracy: 0.9730\n",
            "Epoch 8/40\n",
            "19/19 [==============================] - 7s 340ms/step - loss: 0.0302 - accuracy: 0.9932 - val_loss: 0.0797 - val_accuracy: 0.9662\n",
            "Epoch 9/40\n",
            "19/19 [==============================] - 7s 339ms/step - loss: 0.0252 - accuracy: 0.9899 - val_loss: 0.0789 - val_accuracy: 0.9797\n",
            "Epoch 10/40\n",
            "19/19 [==============================] - 7s 343ms/step - loss: 0.0098 - accuracy: 1.0000 - val_loss: 0.0600 - val_accuracy: 0.9797\n",
            "Epoch 11/40\n",
            "19/19 [==============================] - 7s 345ms/step - loss: 0.0118 - accuracy: 0.9983 - val_loss: 0.0548 - val_accuracy: 0.9865\n",
            "Epoch 12/40\n",
            "19/19 [==============================] - 7s 346ms/step - loss: 0.0062 - accuracy: 1.0000 - val_loss: 0.0587 - val_accuracy: 0.9865\n",
            "Epoch 13/40\n",
            "19/19 [==============================] - 7s 348ms/step - loss: 0.0060 - accuracy: 1.0000 - val_loss: 0.0612 - val_accuracy: 0.9865\n",
            "Epoch 14/40\n",
            "19/19 [==============================] - ETA: 0s - loss: 0.0075 - accuracy: 0.9983"
          ]
        },
        {
          "output_type": "stream",
          "name": "stderr",
          "text": [
            "\u001b[34m\u001b[1mwandb\u001b[0m: Adding directory to artifact (/content/wandb/run-20221007_072750-29xju7ug/files/model-best)... Done. 2.3s\n"
          ]
        },
        {
          "output_type": "stream",
          "name": "stdout",
          "text": [
            "\b\b\b\b\b\b\b\b\b\b\b\b\b\b\b\b\b\b\b\b\b\b\b\b\b\b\b\b\b\b\b\b\b\b\b\b\b\b\b\b\b\b\b\b\b\b\b\b\b\b\b\b\b\b\b\b\b\b\b\b\b\b\b\b\b\b\b\b\b\b\b\b\b\b\b\b\b\b\b\b\b\b\r19/19 [==============================] - 14s 724ms/step - loss: 0.0075 - accuracy: 0.9983 - val_loss: 0.0444 - val_accuracy: 0.9865\n",
            "Epoch 15/40\n",
            "19/19 [==============================] - 7s 347ms/step - loss: 0.0049 - accuracy: 1.0000 - val_loss: 0.0813 - val_accuracy: 0.9865\n",
            "Epoch 16/40\n",
            "19/19 [==============================] - ETA: 0s - loss: 0.0057 - accuracy: 1.0000"
          ]
        },
        {
          "output_type": "stream",
          "name": "stderr",
          "text": [
            "\u001b[34m\u001b[1mwandb\u001b[0m: Adding directory to artifact (/content/wandb/run-20221007_072750-29xju7ug/files/model-best)... Done. 2.2s\n"
          ]
        },
        {
          "output_type": "stream",
          "name": "stdout",
          "text": [
            "\b\b\b\b\b\b\b\b\b\b\b\b\b\b\b\b\b\b\b\b\b\b\b\b\b\b\b\b\b\b\b\b\b\b\b\b\b\b\b\b\b\b\b\b\b\b\b\b\b\b\b\b\b\b\b\b\b\b\b\b\b\b\b\b\b\b\b\b\b\b\b\b\b\b\b\b\b\b\b\b\b\b\r19/19 [==============================] - 14s 738ms/step - loss: 0.0057 - accuracy: 1.0000 - val_loss: 0.0381 - val_accuracy: 0.9865\n",
            "Epoch 17/40\n",
            "19/19 [==============================] - 7s 349ms/step - loss: 0.0033 - accuracy: 1.0000 - val_loss: 0.0740 - val_accuracy: 0.9865\n",
            "Epoch 18/40\n",
            "19/19 [==============================] - 7s 349ms/step - loss: 0.0041 - accuracy: 1.0000 - val_loss: 0.0617 - val_accuracy: 0.9865\n",
            "Epoch 19/40\n",
            "19/19 [==============================] - 7s 351ms/step - loss: 0.0027 - accuracy: 1.0000 - val_loss: 0.0621 - val_accuracy: 0.9865\n",
            "Epoch 20/40\n",
            "19/19 [==============================] - 7s 355ms/step - loss: 0.0023 - accuracy: 1.0000 - val_loss: 0.0467 - val_accuracy: 0.9865\n",
            "Epoch 21/40\n",
            "19/19 [==============================] - 7s 367ms/step - loss: 0.0029 - accuracy: 1.0000 - val_loss: 0.0578 - val_accuracy: 0.9797\n",
            "Epoch 22/40\n",
            "19/19 [==============================] - 7s 355ms/step - loss: 0.0023 - accuracy: 1.0000 - val_loss: 0.0618 - val_accuracy: 0.9865\n",
            "Epoch 23/40\n",
            "19/19 [==============================] - 7s 354ms/step - loss: 0.0025 - accuracy: 1.0000 - val_loss: 0.0596 - val_accuracy: 0.9865\n",
            "Epoch 24/40\n",
            "19/19 [==============================] - 7s 349ms/step - loss: 0.0043 - accuracy: 0.9983 - val_loss: 0.0935 - val_accuracy: 0.9730\n",
            "Epoch 25/40\n",
            "19/19 [==============================] - 7s 349ms/step - loss: 0.0044 - accuracy: 1.0000 - val_loss: 0.0734 - val_accuracy: 0.9865\n",
            "Epoch 26/40\n",
            "19/19 [==============================] - 7s 347ms/step - loss: 0.0057 - accuracy: 1.0000 - val_loss: 0.0441 - val_accuracy: 0.9797\n",
            "Epoch 27/40\n",
            "19/19 [==============================] - 7s 349ms/step - loss: 0.0043 - accuracy: 1.0000 - val_loss: 0.1169 - val_accuracy: 0.9730\n",
            "Epoch 28/40\n",
            "19/19 [==============================] - 7s 351ms/step - loss: 0.0041 - accuracy: 1.0000 - val_loss: 0.0434 - val_accuracy: 0.9797\n",
            "Epoch 29/40\n",
            "19/19 [==============================] - 7s 355ms/step - loss: 0.0058 - accuracy: 0.9983 - val_loss: 0.0796 - val_accuracy: 0.9865\n",
            "Epoch 30/40\n",
            "19/19 [==============================] - 7s 359ms/step - loss: 0.0048 - accuracy: 1.0000 - val_loss: 0.0608 - val_accuracy: 0.9865\n",
            "Epoch 31/40\n",
            "19/19 [==============================] - 7s 352ms/step - loss: 0.0029 - accuracy: 1.0000 - val_loss: 0.0615 - val_accuracy: 0.9865\n",
            "Epoch 32/40\n",
            "19/19 [==============================] - 7s 351ms/step - loss: 0.0012 - accuracy: 1.0000 - val_loss: 0.0626 - val_accuracy: 0.9865\n",
            "Epoch 33/40\n",
            "19/19 [==============================] - 7s 350ms/step - loss: 0.0013 - accuracy: 1.0000 - val_loss: 0.0585 - val_accuracy: 0.9865\n",
            "Epoch 34/40\n",
            "19/19 [==============================] - 7s 346ms/step - loss: 0.0014 - accuracy: 1.0000 - val_loss: 0.0517 - val_accuracy: 0.9865\n",
            "Epoch 35/40\n",
            "19/19 [==============================] - 7s 348ms/step - loss: 9.6688e-04 - accuracy: 1.0000 - val_loss: 0.0515 - val_accuracy: 0.9865\n",
            "Epoch 36/40\n",
            "19/19 [==============================] - 7s 351ms/step - loss: 0.0013 - accuracy: 1.0000 - val_loss: 0.0738 - val_accuracy: 0.9865\n",
            "Epoch 37/40\n",
            "19/19 [==============================] - 7s 353ms/step - loss: 6.6614e-04 - accuracy: 1.0000 - val_loss: 0.0760 - val_accuracy: 0.9865\n",
            "Epoch 38/40\n",
            "19/19 [==============================] - 7s 355ms/step - loss: 7.2986e-04 - accuracy: 1.0000 - val_loss: 0.0621 - val_accuracy: 0.9865\n",
            "Epoch 39/40\n",
            "19/19 [==============================] - 7s 355ms/step - loss: 9.8242e-04 - accuracy: 1.0000 - val_loss: 0.0602 - val_accuracy: 0.9865\n",
            "Epoch 40/40\n",
            "19/19 [==============================] - 7s 351ms/step - loss: 0.0015 - accuracy: 1.0000 - val_loss: 0.0602 - val_accuracy: 0.9865\n"
          ]
        }
      ]
    },
    {
      "cell_type": "code",
      "source": [
        "wandb.finish()"
      ],
      "metadata": {
        "colab": {
          "base_uri": "https://localhost:8080/",
          "height": 397,
          "referenced_widgets": [
            "573d76083c1f40be8cb28e185781939f",
            "d72e658c45a7462b8a9e4bb1fd4fd0a1",
            "f5548bcbc2014ca591c0402d218f7f14",
            "fe84767ee11547d1a34cff109bb8b207",
            "ce26ed7d454a4702815ee6d830c95d29",
            "82bf40703f794cbe8483f5bba4605783",
            "bf172213577e40cd9fd18403d395f346",
            "782081b2bc414a3e9e23d32579f14afb"
          ]
        },
        "id": "OEONLKx3Px6I",
        "outputId": "23d6fbe5-6141-414e-f9d4-513098a94501"
      },
      "execution_count": 16,
      "outputs": [
        {
          "output_type": "display_data",
          "data": {
            "text/plain": [
              "<IPython.core.display.HTML object>"
            ],
            "text/html": [
              "Waiting for W&B process to finish... <strong style=\"color:green\">(success).</strong>"
            ]
          },
          "metadata": {}
        },
        {
          "output_type": "display_data",
          "data": {
            "text/plain": [
              "VBox(children=(Label(value='3165.447 MB of 3165.447 MB uploaded (0.076 MB deduped)\\r'), FloatProgress(value=1.…"
            ],
            "application/vnd.jupyter.widget-view+json": {
              "version_major": 2,
              "version_minor": 0,
              "model_id": "573d76083c1f40be8cb28e185781939f"
            }
          },
          "metadata": {}
        },
        {
          "output_type": "display_data",
          "data": {
            "text/plain": [
              "<IPython.core.display.HTML object>"
            ],
            "text/html": [
              "<style>\n",
              "    table.wandb td:nth-child(1) { padding: 0 10px; text-align: left ; width: auto;} td:nth-child(2) {text-align: left ; width: 100%}\n",
              "    .wandb-row { display: flex; flex-direction: row; flex-wrap: wrap; justify-content: flex-start; width: 100% }\n",
              "    .wandb-col { display: flex; flex-direction: column; flex-basis: 100%; flex: 1; padding: 10px; }\n",
              "    </style>\n",
              "<div class=\"wandb-row\"><div class=\"wandb-col\"><h3>Run history:</h3><br/><table class=\"wandb\"><tr><td>accuracy</td><td>▁▅▇█████████████████████████████████████</td></tr><tr><td>epoch</td><td>▁▁▁▂▂▂▂▂▂▃▃▃▃▃▄▄▄▄▄▄▅▅▅▅▅▅▆▆▆▆▆▇▇▇▇▇▇███</td></tr><tr><td>loss</td><td>█▂▁▁▁▁▁▁▁▁▁▁▁▁▁▁▁▁▁▁▁▁▁▁▁▁▁▁▁▁▁▁▁▁▁▁▁▁▁▁</td></tr><tr><td>val_accuracy</td><td>▁▅▇▇██▇▇███████████████▇██▇█████████████</td></tr><tr><td>val_loss</td><td>█▃▂▁▁▁▂▂▂▁▁▁▁▁▂▁▁▁▁▁▁▁▁▂▁▁▂▁▂▁▁▁▁▁▁▁▁▁▁▁</td></tr></table><br/></div><div class=\"wandb-col\"><h3>Run summary:</h3><br/><table class=\"wandb\"><tr><td>accuracy</td><td>1.0</td></tr><tr><td>best_epoch</td><td>15</td></tr><tr><td>best_val_loss</td><td>0.03815</td></tr><tr><td>epoch</td><td>39</td></tr><tr><td>loss</td><td>0.00151</td></tr><tr><td>val_accuracy</td><td>0.98649</td></tr><tr><td>val_loss</td><td>0.06018</td></tr></table><br/></div></div>"
            ]
          },
          "metadata": {}
        },
        {
          "output_type": "display_data",
          "data": {
            "text/plain": [
              "<IPython.core.display.HTML object>"
            ],
            "text/html": [
              "Synced <strong style=\"color:#cdcd00\">vgg16_2</strong>: <a href=\"https://wandb.ai/vedmanivaidya/Transfer_learning/runs/29xju7ug\" target=\"_blank\">https://wandb.ai/vedmanivaidya/Transfer_learning/runs/29xju7ug</a><br/>Synced 5 W&B file(s), 1 media file(s), 25 artifact file(s) and 1 other file(s)"
            ]
          },
          "metadata": {}
        },
        {
          "output_type": "display_data",
          "data": {
            "text/plain": [
              "<IPython.core.display.HTML object>"
            ],
            "text/html": [
              "Find logs at: <code>./wandb/run-20221007_072750-29xju7ug/logs</code>"
            ]
          },
          "metadata": {}
        }
      ]
    }
  ]
}