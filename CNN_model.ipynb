{
  "nbformat": 4,
  "nbformat_minor": 0,
  "metadata": {
    "colab": {
      "provenance": [],
      "collapsed_sections": [],
      "include_colab_link": true
    },
    "kernelspec": {
      "name": "python3",
      "display_name": "Python 3"
    },
    "language_info": {
      "name": "python"
    },
    "accelerator": "GPU",
    "gpuClass": "standard",
    "widgets": {
      "application/vnd.jupyter.widget-state+json": {
        "173dc26d7f91442b89449631f5e3b640": {
          "model_module": "@jupyter-widgets/controls",
          "model_name": "VBoxModel",
          "model_module_version": "1.5.0",
          "state": {
            "_dom_classes": [],
            "_model_module": "@jupyter-widgets/controls",
            "_model_module_version": "1.5.0",
            "_model_name": "VBoxModel",
            "_view_count": null,
            "_view_module": "@jupyter-widgets/controls",
            "_view_module_version": "1.5.0",
            "_view_name": "VBoxView",
            "box_style": "",
            "children": [
              "IPY_MODEL_5331c3e51e434588aee2220a3d9f786e",
              "IPY_MODEL_2859ab926a1b4869abe65d6d40a3d1ec"
            ],
            "layout": "IPY_MODEL_f4d456bb360b42f4932c28fc7906c492"
          }
        },
        "5331c3e51e434588aee2220a3d9f786e": {
          "model_module": "@jupyter-widgets/controls",
          "model_name": "LabelModel",
          "model_module_version": "1.5.0",
          "state": {
            "_dom_classes": [],
            "_model_module": "@jupyter-widgets/controls",
            "_model_module_version": "1.5.0",
            "_model_name": "LabelModel",
            "_view_count": null,
            "_view_module": "@jupyter-widgets/controls",
            "_view_module_version": "1.5.0",
            "_view_name": "LabelView",
            "description": "",
            "description_tooltip": null,
            "layout": "IPY_MODEL_1d568223fa644755bf03c3201bf97ce1",
            "placeholder": "​",
            "style": "IPY_MODEL_bdb8199beb4f4350b314034664135df7",
            "value": "227.078 MB of 227.078 MB uploaded (0.037 MB deduped)\r"
          }
        },
        "2859ab926a1b4869abe65d6d40a3d1ec": {
          "model_module": "@jupyter-widgets/controls",
          "model_name": "FloatProgressModel",
          "model_module_version": "1.5.0",
          "state": {
            "_dom_classes": [],
            "_model_module": "@jupyter-widgets/controls",
            "_model_module_version": "1.5.0",
            "_model_name": "FloatProgressModel",
            "_view_count": null,
            "_view_module": "@jupyter-widgets/controls",
            "_view_module_version": "1.5.0",
            "_view_name": "ProgressView",
            "bar_style": "",
            "description": "",
            "description_tooltip": null,
            "layout": "IPY_MODEL_cea01cb2cb9c472491b115bb88a675cf",
            "max": 1,
            "min": 0,
            "orientation": "horizontal",
            "style": "IPY_MODEL_f50fa5f1a6aa4ea68faf2612a2fab90b",
            "value": 1
          }
        },
        "f4d456bb360b42f4932c28fc7906c492": {
          "model_module": "@jupyter-widgets/base",
          "model_name": "LayoutModel",
          "model_module_version": "1.2.0",
          "state": {
            "_model_module": "@jupyter-widgets/base",
            "_model_module_version": "1.2.0",
            "_model_name": "LayoutModel",
            "_view_count": null,
            "_view_module": "@jupyter-widgets/base",
            "_view_module_version": "1.2.0",
            "_view_name": "LayoutView",
            "align_content": null,
            "align_items": null,
            "align_self": null,
            "border": null,
            "bottom": null,
            "display": null,
            "flex": null,
            "flex_flow": null,
            "grid_area": null,
            "grid_auto_columns": null,
            "grid_auto_flow": null,
            "grid_auto_rows": null,
            "grid_column": null,
            "grid_gap": null,
            "grid_row": null,
            "grid_template_areas": null,
            "grid_template_columns": null,
            "grid_template_rows": null,
            "height": null,
            "justify_content": null,
            "justify_items": null,
            "left": null,
            "margin": null,
            "max_height": null,
            "max_width": null,
            "min_height": null,
            "min_width": null,
            "object_fit": null,
            "object_position": null,
            "order": null,
            "overflow": null,
            "overflow_x": null,
            "overflow_y": null,
            "padding": null,
            "right": null,
            "top": null,
            "visibility": null,
            "width": null
          }
        },
        "1d568223fa644755bf03c3201bf97ce1": {
          "model_module": "@jupyter-widgets/base",
          "model_name": "LayoutModel",
          "model_module_version": "1.2.0",
          "state": {
            "_model_module": "@jupyter-widgets/base",
            "_model_module_version": "1.2.0",
            "_model_name": "LayoutModel",
            "_view_count": null,
            "_view_module": "@jupyter-widgets/base",
            "_view_module_version": "1.2.0",
            "_view_name": "LayoutView",
            "align_content": null,
            "align_items": null,
            "align_self": null,
            "border": null,
            "bottom": null,
            "display": null,
            "flex": null,
            "flex_flow": null,
            "grid_area": null,
            "grid_auto_columns": null,
            "grid_auto_flow": null,
            "grid_auto_rows": null,
            "grid_column": null,
            "grid_gap": null,
            "grid_row": null,
            "grid_template_areas": null,
            "grid_template_columns": null,
            "grid_template_rows": null,
            "height": null,
            "justify_content": null,
            "justify_items": null,
            "left": null,
            "margin": null,
            "max_height": null,
            "max_width": null,
            "min_height": null,
            "min_width": null,
            "object_fit": null,
            "object_position": null,
            "order": null,
            "overflow": null,
            "overflow_x": null,
            "overflow_y": null,
            "padding": null,
            "right": null,
            "top": null,
            "visibility": null,
            "width": null
          }
        },
        "bdb8199beb4f4350b314034664135df7": {
          "model_module": "@jupyter-widgets/controls",
          "model_name": "DescriptionStyleModel",
          "model_module_version": "1.5.0",
          "state": {
            "_model_module": "@jupyter-widgets/controls",
            "_model_module_version": "1.5.0",
            "_model_name": "DescriptionStyleModel",
            "_view_count": null,
            "_view_module": "@jupyter-widgets/base",
            "_view_module_version": "1.2.0",
            "_view_name": "StyleView",
            "description_width": ""
          }
        },
        "cea01cb2cb9c472491b115bb88a675cf": {
          "model_module": "@jupyter-widgets/base",
          "model_name": "LayoutModel",
          "model_module_version": "1.2.0",
          "state": {
            "_model_module": "@jupyter-widgets/base",
            "_model_module_version": "1.2.0",
            "_model_name": "LayoutModel",
            "_view_count": null,
            "_view_module": "@jupyter-widgets/base",
            "_view_module_version": "1.2.0",
            "_view_name": "LayoutView",
            "align_content": null,
            "align_items": null,
            "align_self": null,
            "border": null,
            "bottom": null,
            "display": null,
            "flex": null,
            "flex_flow": null,
            "grid_area": null,
            "grid_auto_columns": null,
            "grid_auto_flow": null,
            "grid_auto_rows": null,
            "grid_column": null,
            "grid_gap": null,
            "grid_row": null,
            "grid_template_areas": null,
            "grid_template_columns": null,
            "grid_template_rows": null,
            "height": null,
            "justify_content": null,
            "justify_items": null,
            "left": null,
            "margin": null,
            "max_height": null,
            "max_width": null,
            "min_height": null,
            "min_width": null,
            "object_fit": null,
            "object_position": null,
            "order": null,
            "overflow": null,
            "overflow_x": null,
            "overflow_y": null,
            "padding": null,
            "right": null,
            "top": null,
            "visibility": null,
            "width": null
          }
        },
        "f50fa5f1a6aa4ea68faf2612a2fab90b": {
          "model_module": "@jupyter-widgets/controls",
          "model_name": "ProgressStyleModel",
          "model_module_version": "1.5.0",
          "state": {
            "_model_module": "@jupyter-widgets/controls",
            "_model_module_version": "1.5.0",
            "_model_name": "ProgressStyleModel",
            "_view_count": null,
            "_view_module": "@jupyter-widgets/base",
            "_view_module_version": "1.2.0",
            "_view_name": "StyleView",
            "bar_color": null,
            "description_width": ""
          }
        }
      }
    }
  },
  "cells": [
    {
      "cell_type": "markdown",
      "metadata": {
        "id": "view-in-github",
        "colab_type": "text"
      },
      "source": [
        "<a href=\"https://colab.research.google.com/github/Vedmani/wear-particle-classification/blob/main/CNN_model.ipynb\" target=\"_parent\"><img src=\"https://colab.research.google.com/assets/colab-badge.svg\" alt=\"Open In Colab\"/></a>"
      ]
    },
    {
      "cell_type": "code",
      "source": [
        "from google.colab import drive\n",
        "drive.mount('/content/drive')"
      ],
      "metadata": {
        "colab": {
          "base_uri": "https://localhost:8080/"
        },
        "id": "XW1U1huwLrdV",
        "outputId": "94882351-475b-4849-c79c-7c75e0bf9235"
      },
      "execution_count": 1,
      "outputs": [
        {
          "output_type": "stream",
          "name": "stdout",
          "text": [
            "Mounted at /content/drive\n"
          ]
        }
      ]
    },
    {
      "cell_type": "code",
      "source": [
        "!pip install wandb -qU\n",
        "!wandb login "
      ],
      "metadata": {
        "id": "PpVWYBPJYBGE",
        "colab": {
          "base_uri": "https://localhost:8080/"
        },
        "outputId": "220aaf0f-5b30-4d0c-8bf3-fe92e6fed97b"
      },
      "execution_count": 2,
      "outputs": [
        {
          "output_type": "stream",
          "name": "stdout",
          "text": [
            "\u001b[K     |████████████████████████████████| 1.9 MB 33.4 MB/s \n",
            "\u001b[K     |████████████████████████████████| 182 kB 45.4 MB/s \n",
            "\u001b[K     |████████████████████████████████| 166 kB 71.0 MB/s \n",
            "\u001b[K     |████████████████████████████████| 63 kB 1.4 MB/s \n",
            "\u001b[K     |████████████████████████████████| 166 kB 66.5 MB/s \n",
            "\u001b[K     |████████████████████████████████| 162 kB 30.1 MB/s \n",
            "\u001b[K     |████████████████████████████████| 162 kB 78.9 MB/s \n",
            "\u001b[K     |████████████████████████████████| 158 kB 70.6 MB/s \n",
            "\u001b[K     |████████████████████████████████| 157 kB 72.9 MB/s \n",
            "\u001b[K     |████████████████████████████████| 157 kB 73.4 MB/s \n",
            "\u001b[K     |████████████████████████████████| 157 kB 61.8 MB/s \n",
            "\u001b[K     |████████████████████████████████| 157 kB 73.8 MB/s \n",
            "\u001b[K     |████████████████████████████████| 157 kB 74.4 MB/s \n",
            "\u001b[K     |████████████████████████████████| 157 kB 79.9 MB/s \n",
            "\u001b[K     |████████████████████████████████| 157 kB 73.7 MB/s \n",
            "\u001b[K     |████████████████████████████████| 156 kB 78.8 MB/s \n",
            "\u001b[?25h  Building wheel for pathtools (setup.py) ... \u001b[?25l\u001b[?25hdone\n",
            "\u001b[34m\u001b[1mwandb\u001b[0m: Logging into wandb.ai. (Learn how to deploy a W&B server locally: https://wandb.me/wandb-server)\n",
            "\u001b[34m\u001b[1mwandb\u001b[0m: You can find your API key in your browser here: https://wandb.ai/authorize\n",
            "\u001b[34m\u001b[1mwandb\u001b[0m: Paste an API key from your profile and hit enter, or press ctrl+c to quit: \n",
            "\u001b[34m\u001b[1mwandb\u001b[0m: Appending key for api.wandb.ai to your netrc file: /root/.netrc\n"
          ]
        }
      ]
    },
    {
      "cell_type": "code",
      "execution_count": 3,
      "metadata": {
        "id": "lIfpn_2YgJDO",
        "pycharm": {
          "name": "#%%\n"
        }
      },
      "outputs": [],
      "source": [
        "import tensorflow as tf\n",
        "from tensorflow import keras\n",
        "from tensorflow.keras.models import Sequential\n",
        "import wandb\n",
        "from wandb.keras import WandbCallback\n",
        "from tensorflow.keras import layers"
      ]
    },
    {
      "cell_type": "code",
      "source": [
        "tf.keras.utils.set_random_seed(1)\n",
        "tf.config.experimental.enable_op_determinism()"
      ],
      "metadata": {
        "id": "7o3jMYqH8S8g",
        "pycharm": {
          "name": "#%%\n"
        }
      },
      "execution_count": 4,
      "outputs": []
    },
    {
      "cell_type": "code",
      "source": [
        "PATH = '/content/drive/MyDrive/Research Internship/final data/wear particles/Train'\n",
        "test_path = '/content/drive/MyDrive/Research Internship/final data/wear particles/Test'\n",
        "batch_size = 32\n",
        "img_height = 224\n",
        "img_width = 224"
      ],
      "metadata": {
        "id": "_4_D1B1c1JDU",
        "pycharm": {
          "name": "#%%\n"
        }
      },
      "execution_count": 5,
      "outputs": []
    },
    {
      "cell_type": "code",
      "source": [
        "train_ds = tf.keras.utils.image_dataset_from_directory(\n",
        "  PATH,\n",
        "  validation_split=0.2,\n",
        "  subset=\"training\",\n",
        "  seed=42,\n",
        "  image_size=(img_height, img_width),\n",
        "  batch_size=batch_size)\n",
        "\n",
        "val_ds = tf.keras.utils.image_dataset_from_directory(\n",
        "  PATH,\n",
        "  validation_split=0.2,\n",
        "  subset=\"validation\",\n",
        "  seed=42,\n",
        "  image_size=(img_height, img_width),\n",
        "  batch_size=batch_size)\n",
        "\n",
        "test_ds = tf.keras.utils.image_dataset_from_directory(\n",
        "  test_path,\n",
        "  seed = 42,\n",
        "  image_size=(img_height, img_width)  )"
      ],
      "metadata": {
        "colab": {
          "base_uri": "https://localhost:8080/"
        },
        "id": "jq2TmJmm1gnc",
        "outputId": "4756e358-99da-4020-f007-78ce3b5d6d65",
        "pycharm": {
          "name": "#%%\n"
        }
      },
      "execution_count": 6,
      "outputs": [
        {
          "output_type": "stream",
          "name": "stdout",
          "text": [
            "Found 879 files belonging to 5 classes.\n",
            "Using 704 files for training.\n",
            "Found 879 files belonging to 5 classes.\n",
            "Using 175 files for validation.\n",
            "Found 94 files belonging to 5 classes.\n"
          ]
        }
      ]
    },
    {
      "cell_type": "code",
      "source": [
        "class_names = train_ds.class_names\n",
        "test_class_names = test_ds.class_names\n",
        "class_names == test_class_names\n",
        "print(class_names)"
      ],
      "metadata": {
        "colab": {
          "base_uri": "https://localhost:8080/"
        },
        "id": "9iMDAOraOOsq",
        "outputId": "bb2e347f-855e-44ae-82bc-cbc168ef990b",
        "pycharm": {
          "name": "#%%\n"
        }
      },
      "execution_count": 7,
      "outputs": [
        {
          "output_type": "stream",
          "name": "stdout",
          "text": [
            "['cutting wear', 'normal rubbing and cutting wear combined', 'normal rubbing wear', 'red oxide', 'severe sliding wear']\n"
          ]
        }
      ]
    },
    {
      "cell_type": "code",
      "source": [
        "num_classes = len(class_names)\n",
        "data_augmentation = tf.keras.Sequential([tf.keras.layers.RandomFlip(\"horizontal_and_vertical\"),tf.keras.layers.RandomRotation(0.2),tf.keras.layers.RandomZoom(0.1),])\n",
        "model = Sequential([\n",
        "  tf.keras.layers.Rescaling(1./255, input_shape=(img_height, img_width, 3)),\n",
        "  data_augmentation,\n",
        "  layers.Conv2D(16, 3, activation='relu'),\n",
        "  layers.MaxPooling2D(),\n",
        "  layers.Conv2D(32, 3, activation='relu'),\n",
        "  layers.MaxPooling2D(),\n",
        "  layers.Conv2D(64, 3, activation='relu'),\n",
        "  layers.MaxPooling2D(),\n",
        "  layers.Conv2D(128, 3, activation='relu'),\n",
        "  layers.MaxPooling2D(),\n",
        "  layers.Conv2D(256, 3, activation='relu'),\n",
        "  layers.MaxPooling2D(),\n",
        "  layers.Conv2D(180, 3, activation='relu'),\n",
        "  layers.MaxPooling2D(),\n",
        "  layers.Dropout(0.2),\n",
        "  layers.Flatten(),\n",
        "  layers.Dense(30, activation='relu'),\n",
        "  layers.Dropout(0.2), \n",
        "  layers.Dense(num_classes, activation='softmax')\n",
        "])"
      ],
      "metadata": {
        "id": "XOb7OtW7OVA_",
        "pycharm": {
          "name": "#%%\n"
        }
      },
      "execution_count": 23,
      "outputs": []
    },
    {
      "cell_type": "code",
      "source": [
        "model.compile(\n",
        "              optimizer= tf.keras.optimizers.Adam(learning_rate=0.001, beta_1=0.9, beta_2=0.999, epsilon=1e-07, amsgrad=False, name='Adam'),\n",
        "              loss=tf.keras.losses.SparseCategoricalCrossentropy(from_logits=False),\n",
        "              metrics=['accuracy']\n",
        "              )"
      ],
      "metadata": {
        "id": "iiwASt6xRIi3",
        "pycharm": {
          "name": "#%%\n"
        }
      },
      "execution_count": 24,
      "outputs": []
    },
    {
      "cell_type": "code",
      "source": [
        "model.summary()"
      ],
      "metadata": {
        "colab": {
          "base_uri": "https://localhost:8080/"
        },
        "id": "19JAVYt_Tii0",
        "outputId": "bb62d609-054b-46d1-d948-54c94852f1e5",
        "pycharm": {
          "name": "#%%\n"
        }
      },
      "execution_count": 25,
      "outputs": [
        {
          "output_type": "stream",
          "name": "stdout",
          "text": [
            "Model: \"sequential_5\"\n",
            "_________________________________________________________________\n",
            " Layer (type)                Output Shape              Param #   \n",
            "=================================================================\n",
            " rescaling_2 (Rescaling)     (None, 224, 224, 3)       0         \n",
            "                                                                 \n",
            " sequential_4 (Sequential)   (None, 224, 224, 3)       0         \n",
            "                                                                 \n",
            " conv2d_12 (Conv2D)          (None, 222, 222, 16)      448       \n",
            "                                                                 \n",
            " max_pooling2d_12 (MaxPoolin  (None, 111, 111, 16)     0         \n",
            " g2D)                                                            \n",
            "                                                                 \n",
            " conv2d_13 (Conv2D)          (None, 109, 109, 32)      4640      \n",
            "                                                                 \n",
            " max_pooling2d_13 (MaxPoolin  (None, 54, 54, 32)       0         \n",
            " g2D)                                                            \n",
            "                                                                 \n",
            " conv2d_14 (Conv2D)          (None, 52, 52, 64)        18496     \n",
            "                                                                 \n",
            " max_pooling2d_14 (MaxPoolin  (None, 26, 26, 64)       0         \n",
            " g2D)                                                            \n",
            "                                                                 \n",
            " conv2d_15 (Conv2D)          (None, 24, 24, 128)       73856     \n",
            "                                                                 \n",
            " max_pooling2d_15 (MaxPoolin  (None, 12, 12, 128)      0         \n",
            " g2D)                                                            \n",
            "                                                                 \n",
            " conv2d_16 (Conv2D)          (None, 10, 10, 256)       295168    \n",
            "                                                                 \n",
            " max_pooling2d_16 (MaxPoolin  (None, 5, 5, 256)        0         \n",
            " g2D)                                                            \n",
            "                                                                 \n",
            " conv2d_17 (Conv2D)          (None, 3, 3, 180)         414900    \n",
            "                                                                 \n",
            " max_pooling2d_17 (MaxPoolin  (None, 1, 1, 180)        0         \n",
            " g2D)                                                            \n",
            "                                                                 \n",
            " dropout_3 (Dropout)         (None, 1, 1, 180)         0         \n",
            "                                                                 \n",
            " flatten_2 (Flatten)         (None, 180)               0         \n",
            "                                                                 \n",
            " dense_4 (Dense)             (None, 30)                5430      \n",
            "                                                                 \n",
            " dropout_4 (Dropout)         (None, 30)                0         \n",
            "                                                                 \n",
            " dense_5 (Dense)             (None, 5)                 155       \n",
            "                                                                 \n",
            "=================================================================\n",
            "Total params: 813,093\n",
            "Trainable params: 813,093\n",
            "Non-trainable params: 0\n",
            "_________________________________________________________________\n"
          ]
        }
      ]
    },
    {
      "cell_type": "code",
      "source": [
        "'''model_checkpoint_callback = tf.keras.callbacks.ModelCheckpoint(\n",
        "    filepath=\"/content/drive/MyDrive/Research Internship/augmentation/my_best_model.epoch{epoch:02d}-val_accuracy{val_accuracy:.2f}\",\n",
        "    save_weights_only=False,\n",
        "    monitor='val_accuracy',\n",
        "    mode='max',\n",
        "    save_best_only=True)'''"
      ],
      "metadata": {
        "id": "fTkNhlXm7VZc",
        "pycharm": {
          "name": "#%%\n"
        },
        "colab": {
          "base_uri": "https://localhost:8080/",
          "height": 53
        },
        "outputId": "ff9a4114-d0a3-4490-8aef-b06442056852"
      },
      "execution_count": 20,
      "outputs": [
        {
          "output_type": "execute_result",
          "data": {
            "text/plain": [
              "'model_checkpoint_callback = tf.keras.callbacks.ModelCheckpoint(\\n    filepath=\"/content/drive/MyDrive/Research Internship/augmentation/my_best_model.epoch{epoch:02d}-val_accuracy{val_accuracy:.2f}\",\\n    save_weights_only=False,\\n    monitor=\\'val_accuracy\\',\\n    mode=\\'max\\',\\n    save_best_only=True)'"
            ],
            "application/vnd.google.colaboratory.intrinsic+json": {
              "type": "string"
            }
          },
          "metadata": {},
          "execution_count": 20
        }
      ]
    },
    {
      "cell_type": "code",
      "source": [
        "wandb.init(\n",
        "      # Set the project where this run will be logged\n",
        "      project=\"CNN_particle_classification\", \n",
        "      name = \"run-5\",\n",
        ")"
      ],
      "metadata": {
        "colab": {
          "base_uri": "https://localhost:8080/",
          "height": 90
        },
        "id": "t7zAHolKaPT5",
        "outputId": "b970be85-c23a-40a5-92c1-a5beca92bdd6"
      },
      "execution_count": 28,
      "outputs": [
        {
          "output_type": "display_data",
          "data": {
            "text/plain": [
              "<IPython.core.display.HTML object>"
            ],
            "text/html": [
              "Tracking run with wandb version 0.13.5"
            ]
          },
          "metadata": {}
        },
        {
          "output_type": "display_data",
          "data": {
            "text/plain": [
              "<IPython.core.display.HTML object>"
            ],
            "text/html": [
              "Run data is saved locally in <code>/content/wandb/run-20221104_070135-2ypzsiuu</code>"
            ]
          },
          "metadata": {}
        },
        {
          "output_type": "display_data",
          "data": {
            "text/plain": [
              "<IPython.core.display.HTML object>"
            ],
            "text/html": [
              "Syncing run <strong><a href=\"https://wandb.ai/vedmanivaidya/CNN_particle_classification/runs/2ypzsiuu\" target=\"_blank\">run-5</a></strong> to <a href=\"https://wandb.ai/vedmanivaidya/CNN_particle_classification\" target=\"_blank\">Weights & Biases</a> (<a href=\"https://wandb.me/run\" target=\"_blank\">docs</a>)<br/>"
            ]
          },
          "metadata": {}
        },
        {
          "output_type": "execute_result",
          "data": {
            "text/html": [
              "<button onClick=\"this.nextSibling.style.display='block';this.style.display='none';\">Display W&B run</button><iframe src=\"https://wandb.ai/vedmanivaidya/CNN_particle_classification/runs/2ypzsiuu?jupyter=true\" style=\"border:none;width:100%;height:420px;display:none;\"></iframe>"
            ],
            "text/plain": [
              "<wandb.sdk.wandb_run.Run at 0x7f87c4287990>"
            ]
          },
          "metadata": {},
          "execution_count": 28
        }
      ]
    },
    {
      "cell_type": "code",
      "source": [
        "%%time\n",
        "epochs=200\n",
        "history = model.fit(\n",
        "  train_ds,\n",
        "  validation_data=val_ds,\n",
        "  epochs=epochs,\n",
        "  callbacks=[WandbCallback()]\n",
        ")"
      ],
      "metadata": {
        "colab": {
          "base_uri": "https://localhost:8080/"
        },
        "id": "4Nfnd3urTn2W",
        "outputId": "947c4ea9-f897-49a8-afac-509863e1d22e",
        "pycharm": {
          "name": "#%%\n"
        }
      },
      "execution_count": 29,
      "outputs": [
        {
          "output_type": "stream",
          "name": "stdout",
          "text": [
            "Epoch 1/200\n",
            "22/22 [==============================] - ETA: 0s - loss: 1.3979 - accuracy: 0.3693"
          ]
        },
        {
          "output_type": "stream",
          "name": "stderr",
          "text": [
            "WARNING:absl:Found untraced functions such as _jit_compiled_convolution_op, _jit_compiled_convolution_op, _jit_compiled_convolution_op, _jit_compiled_convolution_op, _jit_compiled_convolution_op while saving (showing 5 of 6). These functions will not be directly callable after loading.\n",
            "\u001b[34m\u001b[1mwandb\u001b[0m: Adding directory to artifact (/content/wandb/run-20221104_070135-2ypzsiuu/files/model-best)... Done. 0.1s\n"
          ]
        },
        {
          "output_type": "stream",
          "name": "stdout",
          "text": [
            "\b\b\b\b\b\b\b\b\b\b\b\b\b\b\b\b\b\b\b\b\b\b\b\b\b\b\b\b\b\b\b\b\b\b\b\b\b\b\b\b\b\b\b\b\b\b\b\b\b\b\b\b\b\b\b\b\b\b\b\b\b\b\b\b\b\b\b\b\b\b\b\b\b\b\b\b\b\b\b\b\b\b\r22/22 [==============================] - 8s 283ms/step - loss: 1.3979 - accuracy: 0.3693 - val_loss: 1.3421 - val_accuracy: 0.3886\n",
            "Epoch 2/200\n",
            "22/22 [==============================] - 4s 134ms/step - loss: 1.1570 - accuracy: 0.5142 - val_loss: 1.4451 - val_accuracy: 0.5143\n",
            "Epoch 3/200\n",
            "22/22 [==============================] - ETA: 0s - loss: 1.1076 - accuracy: 0.5966"
          ]
        },
        {
          "output_type": "stream",
          "name": "stderr",
          "text": [
            "WARNING:absl:Found untraced functions such as _jit_compiled_convolution_op, _jit_compiled_convolution_op, _jit_compiled_convolution_op, _jit_compiled_convolution_op, _jit_compiled_convolution_op while saving (showing 5 of 6). These functions will not be directly callable after loading.\n",
            "\u001b[34m\u001b[1mwandb\u001b[0m: Adding directory to artifact (/content/wandb/run-20221104_070135-2ypzsiuu/files/model-best)... Done. 0.1s\n"
          ]
        },
        {
          "output_type": "stream",
          "name": "stdout",
          "text": [
            "\b\b\b\b\b\b\b\b\b\b\b\b\b\b\b\b\b\b\b\b\b\b\b\b\b\b\b\b\b\b\b\b\b\b\b\b\b\b\b\b\b\b\b\b\b\b\b\b\b\b\b\b\b\b\b\b\b\b\b\b\b\b\b\b\b\b\b\b\b\b\b\b\b\b\b\b\b\b\b\b\b\b\r22/22 [==============================] - 7s 292ms/step - loss: 1.1076 - accuracy: 0.5966 - val_loss: 1.2899 - val_accuracy: 0.5200\n",
            "Epoch 4/200\n",
            "22/22 [==============================] - ETA: 0s - loss: 1.0519 - accuracy: 0.6179"
          ]
        },
        {
          "output_type": "stream",
          "name": "stderr",
          "text": [
            "WARNING:absl:Found untraced functions such as _jit_compiled_convolution_op, _jit_compiled_convolution_op, _jit_compiled_convolution_op, _jit_compiled_convolution_op, _jit_compiled_convolution_op while saving (showing 5 of 6). These functions will not be directly callable after loading.\n",
            "\u001b[34m\u001b[1mwandb\u001b[0m: Adding directory to artifact (/content/wandb/run-20221104_070135-2ypzsiuu/files/model-best)... Done. 0.1s\n"
          ]
        },
        {
          "output_type": "stream",
          "name": "stdout",
          "text": [
            "\b\b\b\b\b\b\b\b\b\b\b\b\b\b\b\b\b\b\b\b\b\b\b\b\b\b\b\b\b\b\b\b\b\b\b\b\b\b\b\b\b\b\b\b\b\b\b\b\b\b\b\b\b\b\b\b\b\b\b\b\b\b\b\b\b\b\b\b\b\b\b\b\b\b\b\b\b\b\b\b\b\b\r22/22 [==============================] - 10s 401ms/step - loss: 1.0519 - accuracy: 0.6179 - val_loss: 1.1682 - val_accuracy: 0.5257\n",
            "Epoch 5/200\n",
            "22/22 [==============================] - ETA: 0s - loss: 1.0198 - accuracy: 0.6193"
          ]
        },
        {
          "output_type": "stream",
          "name": "stderr",
          "text": [
            "WARNING:absl:Found untraced functions such as _jit_compiled_convolution_op, _jit_compiled_convolution_op, _jit_compiled_convolution_op, _jit_compiled_convolution_op, _jit_compiled_convolution_op while saving (showing 5 of 6). These functions will not be directly callable after loading.\n",
            "\u001b[34m\u001b[1mwandb\u001b[0m: Adding directory to artifact (/content/wandb/run-20221104_070135-2ypzsiuu/files/model-best)... Done. 0.1s\n"
          ]
        },
        {
          "output_type": "stream",
          "name": "stdout",
          "text": [
            "\b\b\b\b\b\b\b\b\b\b\b\b\b\b\b\b\b\b\b\b\b\b\b\b\b\b\b\b\b\b\b\b\b\b\b\b\b\b\b\b\b\b\b\b\b\b\b\b\b\b\b\b\b\b\b\b\b\b\b\b\b\b\b\b\b\b\b\b\b\b\b\b\b\b\b\b\b\b\b\b\b\b\r22/22 [==============================] - 7s 294ms/step - loss: 1.0198 - accuracy: 0.6193 - val_loss: 1.1097 - val_accuracy: 0.5371\n",
            "Epoch 6/200\n",
            "22/22 [==============================] - ETA: 0s - loss: 1.0137 - accuracy: 0.6165"
          ]
        },
        {
          "output_type": "stream",
          "name": "stderr",
          "text": [
            "WARNING:absl:Found untraced functions such as _jit_compiled_convolution_op, _jit_compiled_convolution_op, _jit_compiled_convolution_op, _jit_compiled_convolution_op, _jit_compiled_convolution_op while saving (showing 5 of 6). These functions will not be directly callable after loading.\n",
            "\u001b[34m\u001b[1mwandb\u001b[0m: Adding directory to artifact (/content/wandb/run-20221104_070135-2ypzsiuu/files/model-best)... Done. 0.1s\n"
          ]
        },
        {
          "output_type": "stream",
          "name": "stdout",
          "text": [
            "\b\b\b\b\b\b\b\b\b\b\b\b\b\b\b\b\b\b\b\b\b\b\b\b\b\b\b\b\b\b\b\b\b\b\b\b\b\b\b\b\b\b\b\b\b\b\b\b\b\b\b\b\b\b\b\b\b\b\b\b\b\b\b\b\b\b\b\b\b\b\b\b\b\b\b\b\b\b\b\b\b\b\r22/22 [==============================] - 7s 280ms/step - loss: 1.0137 - accuracy: 0.6165 - val_loss: 1.0849 - val_accuracy: 0.5543\n",
            "Epoch 7/200\n",
            "22/22 [==============================] - 3s 126ms/step - loss: 1.0168 - accuracy: 0.6250 - val_loss: 1.2927 - val_accuracy: 0.5200\n",
            "Epoch 8/200\n",
            "22/22 [==============================] - ETA: 0s - loss: 0.9938 - accuracy: 0.6264"
          ]
        },
        {
          "output_type": "stream",
          "name": "stderr",
          "text": [
            "WARNING:absl:Found untraced functions such as _jit_compiled_convolution_op, _jit_compiled_convolution_op, _jit_compiled_convolution_op, _jit_compiled_convolution_op, _jit_compiled_convolution_op while saving (showing 5 of 6). These functions will not be directly callable after loading.\n",
            "\u001b[34m\u001b[1mwandb\u001b[0m: Adding directory to artifact (/content/wandb/run-20221104_070135-2ypzsiuu/files/model-best)... Done. 0.1s\n"
          ]
        },
        {
          "output_type": "stream",
          "name": "stdout",
          "text": [
            "\b\b\b\b\b\b\b\b\b\b\b\b\b\b\b\b\b\b\b\b\b\b\b\b\b\b\b\b\b\b\b\b\b\b\b\b\b\b\b\b\b\b\b\b\b\b\b\b\b\b\b\b\b\b\b\b\b\b\b\b\b\b\b\b\b\b\b\b\b\b\b\b\b\b\b\b\b\b\b\b\b\b\r22/22 [==============================] - 7s 293ms/step - loss: 0.9938 - accuracy: 0.6264 - val_loss: 1.0100 - val_accuracy: 0.5657\n",
            "Epoch 9/200\n",
            "22/22 [==============================] - 3s 124ms/step - loss: 1.0093 - accuracy: 0.6264 - val_loss: 1.5021 - val_accuracy: 0.5257\n",
            "Epoch 10/200\n",
            "22/22 [==============================] - 3s 120ms/step - loss: 1.0367 - accuracy: 0.6151 - val_loss: 1.0540 - val_accuracy: 0.5371\n",
            "Epoch 11/200\n",
            "22/22 [==============================] - 3s 120ms/step - loss: 0.9731 - accuracy: 0.6420 - val_loss: 1.1565 - val_accuracy: 0.5486\n",
            "Epoch 12/200\n",
            "22/22 [==============================] - 3s 118ms/step - loss: 0.9588 - accuracy: 0.6477 - val_loss: 1.1412 - val_accuracy: 0.5600\n",
            "Epoch 13/200\n",
            "22/22 [==============================] - ETA: 0s - loss: 0.9675 - accuracy: 0.6534"
          ]
        },
        {
          "output_type": "stream",
          "name": "stderr",
          "text": [
            "WARNING:absl:Found untraced functions such as _jit_compiled_convolution_op, _jit_compiled_convolution_op, _jit_compiled_convolution_op, _jit_compiled_convolution_op, _jit_compiled_convolution_op while saving (showing 5 of 6). These functions will not be directly callable after loading.\n",
            "\u001b[34m\u001b[1mwandb\u001b[0m: Adding directory to artifact (/content/wandb/run-20221104_070135-2ypzsiuu/files/model-best)... Done. 0.1s\n"
          ]
        },
        {
          "output_type": "stream",
          "name": "stdout",
          "text": [
            "\b\b\b\b\b\b\b\b\b\b\b\b\b\b\b\b\b\b\b\b\b\b\b\b\b\b\b\b\b\b\b\b\b\b\b\b\b\b\b\b\b\b\b\b\b\b\b\b\b\b\b\b\b\b\b\b\b\b\b\b\b\b\b\b\b\b\b\b\b\b\b\b\b\b\b\b\b\b\b\b\b\b\r22/22 [==============================] - 6s 278ms/step - loss: 0.9675 - accuracy: 0.6534 - val_loss: 0.9806 - val_accuracy: 0.5943\n",
            "Epoch 14/200\n",
            "22/22 [==============================] - 3s 124ms/step - loss: 0.9330 - accuracy: 0.6491 - val_loss: 1.2846 - val_accuracy: 0.5371\n",
            "Epoch 15/200\n",
            "22/22 [==============================] - 3s 119ms/step - loss: 0.9365 - accuracy: 0.6562 - val_loss: 1.2534 - val_accuracy: 0.5429\n",
            "Epoch 16/200\n",
            "22/22 [==============================] - 3s 125ms/step - loss: 0.9963 - accuracy: 0.6378 - val_loss: 1.1594 - val_accuracy: 0.5600\n",
            "Epoch 17/200\n",
            "22/22 [==============================] - 3s 124ms/step - loss: 0.9855 - accuracy: 0.6193 - val_loss: 1.0493 - val_accuracy: 0.5486\n",
            "Epoch 18/200\n",
            "22/22 [==============================] - 3s 126ms/step - loss: 0.9176 - accuracy: 0.6562 - val_loss: 1.1087 - val_accuracy: 0.5657\n",
            "Epoch 19/200\n",
            "22/22 [==============================] - ETA: 0s - loss: 0.8564 - accuracy: 0.6761"
          ]
        },
        {
          "output_type": "stream",
          "name": "stderr",
          "text": [
            "WARNING:absl:Found untraced functions such as _jit_compiled_convolution_op, _jit_compiled_convolution_op, _jit_compiled_convolution_op, _jit_compiled_convolution_op, _jit_compiled_convolution_op while saving (showing 5 of 6). These functions will not be directly callable after loading.\n",
            "\u001b[34m\u001b[1mwandb\u001b[0m: Adding directory to artifact (/content/wandb/run-20221104_070135-2ypzsiuu/files/model-best)... Done. 0.1s\n"
          ]
        },
        {
          "output_type": "stream",
          "name": "stdout",
          "text": [
            "\b\b\b\b\b\b\b\b\b\b\b\b\b\b\b\b\b\b\b\b\b\b\b\b\b\b\b\b\b\b\b\b\b\b\b\b\b\b\b\b\b\b\b\b\b\b\b\b\b\b\b\b\b\b\b\b\b\b\b\b\b\b\b\b\b\b\b\b\b\b\b\b\b\b\b\b\b\b\b\b\b\b\r22/22 [==============================] - 7s 285ms/step - loss: 0.8564 - accuracy: 0.6761 - val_loss: 0.8627 - val_accuracy: 0.6857\n",
            "Epoch 20/200\n",
            "22/22 [==============================] - 3s 125ms/step - loss: 0.8490 - accuracy: 0.6974 - val_loss: 0.9845 - val_accuracy: 0.6114\n",
            "Epoch 21/200\n",
            "22/22 [==============================] - 3s 125ms/step - loss: 0.8911 - accuracy: 0.6676 - val_loss: 0.9190 - val_accuracy: 0.6457\n",
            "Epoch 22/200\n",
            "22/22 [==============================] - ETA: 0s - loss: 0.7710 - accuracy: 0.7287"
          ]
        },
        {
          "output_type": "stream",
          "name": "stderr",
          "text": [
            "WARNING:absl:Found untraced functions such as _jit_compiled_convolution_op, _jit_compiled_convolution_op, _jit_compiled_convolution_op, _jit_compiled_convolution_op, _jit_compiled_convolution_op while saving (showing 5 of 6). These functions will not be directly callable after loading.\n",
            "\u001b[34m\u001b[1mwandb\u001b[0m: Adding directory to artifact (/content/wandb/run-20221104_070135-2ypzsiuu/files/model-best)... Done. 0.1s\n"
          ]
        },
        {
          "output_type": "stream",
          "name": "stdout",
          "text": [
            "\b\b\b\b\b\b\b\b\b\b\b\b\b\b\b\b\b\b\b\b\b\b\b\b\b\b\b\b\b\b\b\b\b\b\b\b\b\b\b\b\b\b\b\b\b\b\b\b\b\b\b\b\b\b\b\b\b\b\b\b\b\b\b\b\b\b\b\b\b\b\b\b\b\b\b\b\b\b\b\b\b\b\r22/22 [==============================] - 6s 270ms/step - loss: 0.7710 - accuracy: 0.7287 - val_loss: 0.8149 - val_accuracy: 0.6743\n",
            "Epoch 23/200\n",
            "22/22 [==============================] - 6s 238ms/step - loss: 0.7052 - accuracy: 0.7273 - val_loss: 0.9286 - val_accuracy: 0.6457\n",
            "Epoch 24/200\n",
            "22/22 [==============================] - 3s 123ms/step - loss: 0.7033 - accuracy: 0.7344 - val_loss: 0.9192 - val_accuracy: 0.6800\n",
            "Epoch 25/200\n",
            "22/22 [==============================] - 3s 114ms/step - loss: 0.7977 - accuracy: 0.7173 - val_loss: 1.2508 - val_accuracy: 0.5371\n",
            "Epoch 26/200\n",
            "22/22 [==============================] - 3s 115ms/step - loss: 0.8547 - accuracy: 0.6776 - val_loss: 0.8640 - val_accuracy: 0.6800\n",
            "Epoch 27/200\n",
            "22/22 [==============================] - 3s 117ms/step - loss: 0.7223 - accuracy: 0.7003 - val_loss: 0.8389 - val_accuracy: 0.6686\n",
            "Epoch 28/200\n",
            "22/22 [==============================] - 3s 125ms/step - loss: 0.6795 - accuracy: 0.7131 - val_loss: 0.9498 - val_accuracy: 0.6457\n",
            "Epoch 29/200\n",
            "22/22 [==============================] - ETA: 0s - loss: 0.6109 - accuracy: 0.7344"
          ]
        },
        {
          "output_type": "stream",
          "name": "stderr",
          "text": [
            "WARNING:absl:Found untraced functions such as _jit_compiled_convolution_op, _jit_compiled_convolution_op, _jit_compiled_convolution_op, _jit_compiled_convolution_op, _jit_compiled_convolution_op while saving (showing 5 of 6). These functions will not be directly callable after loading.\n",
            "\u001b[34m\u001b[1mwandb\u001b[0m: Adding directory to artifact (/content/wandb/run-20221104_070135-2ypzsiuu/files/model-best)... Done. 0.1s\n"
          ]
        },
        {
          "output_type": "stream",
          "name": "stdout",
          "text": [
            "\b\b\b\b\b\b\b\b\b\b\b\b\b\b\b\b\b\b\b\b\b\b\b\b\b\b\b\b\b\b\b\b\b\b\b\b\b\b\b\b\b\b\b\b\b\b\b\b\b\b\b\b\b\b\b\b\b\b\b\b\b\b\b\b\b\b\b\b\b\b\b\b\b\b\b\b\b\b\b\b\b\b\r22/22 [==============================] - 7s 293ms/step - loss: 0.6109 - accuracy: 0.7344 - val_loss: 0.5998 - val_accuracy: 0.7600\n",
            "Epoch 30/200\n",
            "22/22 [==============================] - ETA: 0s - loss: 0.5742 - accuracy: 0.7557"
          ]
        },
        {
          "output_type": "stream",
          "name": "stderr",
          "text": [
            "WARNING:absl:Found untraced functions such as _jit_compiled_convolution_op, _jit_compiled_convolution_op, _jit_compiled_convolution_op, _jit_compiled_convolution_op, _jit_compiled_convolution_op while saving (showing 5 of 6). These functions will not be directly callable after loading.\n",
            "\u001b[34m\u001b[1mwandb\u001b[0m: Adding directory to artifact (/content/wandb/run-20221104_070135-2ypzsiuu/files/model-best)... Done. 0.1s\n"
          ]
        },
        {
          "output_type": "stream",
          "name": "stdout",
          "text": [
            "\b\b\b\b\b\b\b\b\b\b\b\b\b\b\b\b\b\b\b\b\b\b\b\b\b\b\b\b\b\b\b\b\b\b\b\b\b\b\b\b\b\b\b\b\b\b\b\b\b\b\b\b\b\b\b\b\b\b\b\b\b\b\b\b\b\b\b\b\b\b\b\b\b\b\b\b\b\b\b\b\b\b\r22/22 [==============================] - 7s 285ms/step - loss: 0.5742 - accuracy: 0.7557 - val_loss: 0.5875 - val_accuracy: 0.7714\n",
            "Epoch 31/200\n",
            "22/22 [==============================] - 3s 125ms/step - loss: 0.5744 - accuracy: 0.7656 - val_loss: 0.6885 - val_accuracy: 0.7086\n",
            "Epoch 32/200\n",
            "22/22 [==============================] - 3s 117ms/step - loss: 0.5800 - accuracy: 0.7514 - val_loss: 0.7174 - val_accuracy: 0.7371\n",
            "Epoch 33/200\n",
            "22/22 [==============================] - 3s 117ms/step - loss: 0.6729 - accuracy: 0.7287 - val_loss: 0.6640 - val_accuracy: 0.7200\n",
            "Epoch 34/200\n",
            "22/22 [==============================] - 3s 117ms/step - loss: 0.5821 - accuracy: 0.7543 - val_loss: 0.6152 - val_accuracy: 0.7486\n",
            "Epoch 35/200\n",
            "22/22 [==============================] - 3s 117ms/step - loss: 0.5349 - accuracy: 0.7940 - val_loss: 0.7795 - val_accuracy: 0.7314\n",
            "Epoch 36/200\n",
            "22/22 [==============================] - ETA: 0s - loss: 0.4898 - accuracy: 0.7955"
          ]
        },
        {
          "output_type": "stream",
          "name": "stderr",
          "text": [
            "WARNING:absl:Found untraced functions such as _jit_compiled_convolution_op, _jit_compiled_convolution_op, _jit_compiled_convolution_op, _jit_compiled_convolution_op, _jit_compiled_convolution_op while saving (showing 5 of 6). These functions will not be directly callable after loading.\n",
            "\u001b[34m\u001b[1mwandb\u001b[0m: Adding directory to artifact (/content/wandb/run-20221104_070135-2ypzsiuu/files/model-best)... Done. 0.1s\n"
          ]
        },
        {
          "output_type": "stream",
          "name": "stdout",
          "text": [
            "\b\b\b\b\b\b\b\b\b\b\b\b\b\b\b\b\b\b\b\b\b\b\b\b\b\b\b\b\b\b\b\b\b\b\b\b\b\b\b\b\b\b\b\b\b\b\b\b\b\b\b\b\b\b\b\b\b\b\b\b\b\b\b\b\b\b\b\b\b\b\b\b\b\b\b\b\b\b\b\b\b\b\r22/22 [==============================] - 7s 286ms/step - loss: 0.4898 - accuracy: 0.7955 - val_loss: 0.5816 - val_accuracy: 0.7714\n",
            "Epoch 37/200\n",
            "22/22 [==============================] - 3s 125ms/step - loss: 0.4894 - accuracy: 0.7713 - val_loss: 0.9272 - val_accuracy: 0.7200\n",
            "Epoch 38/200\n",
            "22/22 [==============================] - ETA: 0s - loss: 0.5398 - accuracy: 0.7784"
          ]
        },
        {
          "output_type": "stream",
          "name": "stderr",
          "text": [
            "WARNING:absl:Found untraced functions such as _jit_compiled_convolution_op, _jit_compiled_convolution_op, _jit_compiled_convolution_op, _jit_compiled_convolution_op, _jit_compiled_convolution_op while saving (showing 5 of 6). These functions will not be directly callable after loading.\n",
            "\u001b[34m\u001b[1mwandb\u001b[0m: Adding directory to artifact (/content/wandb/run-20221104_070135-2ypzsiuu/files/model-best)... Done. 0.1s\n"
          ]
        },
        {
          "output_type": "stream",
          "name": "stdout",
          "text": [
            "\b\b\b\b\b\b\b\b\b\b\b\b\b\b\b\b\b\b\b\b\b\b\b\b\b\b\b\b\b\b\b\b\b\b\b\b\b\b\b\b\b\b\b\b\b\b\b\b\b\b\b\b\b\b\b\b\b\b\b\b\b\b\b\b\b\b\b\b\b\b\b\b\b\b\b\b\b\b\b\b\b\b\r22/22 [==============================] - 6s 272ms/step - loss: 0.5398 - accuracy: 0.7784 - val_loss: 0.4771 - val_accuracy: 0.7886\n",
            "Epoch 39/200\n",
            "22/22 [==============================] - 3s 122ms/step - loss: 0.6012 - accuracy: 0.7486 - val_loss: 1.2354 - val_accuracy: 0.6571\n",
            "Epoch 40/200\n",
            "22/22 [==============================] - 3s 125ms/step - loss: 0.6074 - accuracy: 0.7628 - val_loss: 0.5921 - val_accuracy: 0.7829\n",
            "Epoch 41/200\n",
            "22/22 [==============================] - ETA: 0s - loss: 0.4907 - accuracy: 0.7955"
          ]
        },
        {
          "output_type": "stream",
          "name": "stderr",
          "text": [
            "WARNING:absl:Found untraced functions such as _jit_compiled_convolution_op, _jit_compiled_convolution_op, _jit_compiled_convolution_op, _jit_compiled_convolution_op, _jit_compiled_convolution_op while saving (showing 5 of 6). These functions will not be directly callable after loading.\n",
            "\u001b[34m\u001b[1mwandb\u001b[0m: Adding directory to artifact (/content/wandb/run-20221104_070135-2ypzsiuu/files/model-best)... Done. 0.1s\n"
          ]
        },
        {
          "output_type": "stream",
          "name": "stdout",
          "text": [
            "\b\b\b\b\b\b\b\b\b\b\b\b\b\b\b\b\b\b\b\b\b\b\b\b\b\b\b\b\b\b\b\b\b\b\b\b\b\b\b\b\b\b\b\b\b\b\b\b\b\b\b\b\b\b\b\b\b\b\b\b\b\b\b\b\b\b\b\b\b\b\b\b\b\b\b\b\b\b\b\b\b\b\r22/22 [==============================] - 7s 297ms/step - loss: 0.4907 - accuracy: 0.7955 - val_loss: 0.4614 - val_accuracy: 0.7943\n",
            "Epoch 42/200\n",
            "22/22 [==============================] - 3s 122ms/step - loss: 0.4824 - accuracy: 0.7898 - val_loss: 0.5600 - val_accuracy: 0.7657\n",
            "Epoch 43/200\n",
            "22/22 [==============================] - ETA: 0s - loss: 0.4199 - accuracy: 0.8111"
          ]
        },
        {
          "output_type": "stream",
          "name": "stderr",
          "text": [
            "WARNING:absl:Found untraced functions such as _jit_compiled_convolution_op, _jit_compiled_convolution_op, _jit_compiled_convolution_op, _jit_compiled_convolution_op, _jit_compiled_convolution_op while saving (showing 5 of 6). These functions will not be directly callable after loading.\n",
            "\u001b[34m\u001b[1mwandb\u001b[0m: Adding directory to artifact (/content/wandb/run-20221104_070135-2ypzsiuu/files/model-best)... Done. 0.1s\n"
          ]
        },
        {
          "output_type": "stream",
          "name": "stdout",
          "text": [
            "\b\b\b\b\b\b\b\b\b\b\b\b\b\b\b\b\b\b\b\b\b\b\b\b\b\b\b\b\b\b\b\b\b\b\b\b\b\b\b\b\b\b\b\b\b\b\b\b\b\b\b\b\b\b\b\b\b\b\b\b\b\b\b\b\b\b\b\b\b\b\b\b\b\b\b\b\b\b\b\b\b\b\r22/22 [==============================] - 7s 281ms/step - loss: 0.4199 - accuracy: 0.8111 - val_loss: 0.4458 - val_accuracy: 0.8229\n",
            "Epoch 44/200\n",
            "22/22 [==============================] - ETA: 0s - loss: 0.4329 - accuracy: 0.8139"
          ]
        },
        {
          "output_type": "stream",
          "name": "stderr",
          "text": [
            "WARNING:absl:Found untraced functions such as _jit_compiled_convolution_op, _jit_compiled_convolution_op, _jit_compiled_convolution_op, _jit_compiled_convolution_op, _jit_compiled_convolution_op while saving (showing 5 of 6). These functions will not be directly callable after loading.\n",
            "\u001b[34m\u001b[1mwandb\u001b[0m: Adding directory to artifact (/content/wandb/run-20221104_070135-2ypzsiuu/files/model-best)... Done. 0.1s\n"
          ]
        },
        {
          "output_type": "stream",
          "name": "stdout",
          "text": [
            "\b\b\b\b\b\b\b\b\b\b\b\b\b\b\b\b\b\b\b\b\b\b\b\b\b\b\b\b\b\b\b\b\b\b\b\b\b\b\b\b\b\b\b\b\b\b\b\b\b\b\b\b\b\b\b\b\b\b\b\b\b\b\b\b\b\b\b\b\b\b\b\b\b\b\b\b\b\b\b\b\b\b\r22/22 [==============================] - 7s 303ms/step - loss: 0.4329 - accuracy: 0.8139 - val_loss: 0.4043 - val_accuracy: 0.8400\n",
            "Epoch 45/200\n",
            "22/22 [==============================] - 3s 125ms/step - loss: 0.4031 - accuracy: 0.8111 - val_loss: 0.4440 - val_accuracy: 0.8343\n",
            "Epoch 46/200\n",
            "22/22 [==============================] - 3s 116ms/step - loss: 0.4276 - accuracy: 0.8239 - val_loss: 0.4515 - val_accuracy: 0.8000\n",
            "Epoch 47/200\n",
            "22/22 [==============================] - 3s 124ms/step - loss: 0.4012 - accuracy: 0.8139 - val_loss: 0.5651 - val_accuracy: 0.7886\n",
            "Epoch 48/200\n",
            "22/22 [==============================] - 3s 125ms/step - loss: 0.3622 - accuracy: 0.8310 - val_loss: 0.4207 - val_accuracy: 0.8457\n",
            "Epoch 49/200\n",
            "22/22 [==============================] - 3s 124ms/step - loss: 0.3861 - accuracy: 0.8466 - val_loss: 0.5386 - val_accuracy: 0.7543\n",
            "Epoch 50/200\n",
            "22/22 [==============================] - ETA: 0s - loss: 0.4515 - accuracy: 0.7940"
          ]
        },
        {
          "output_type": "stream",
          "name": "stderr",
          "text": [
            "WARNING:absl:Found untraced functions such as _jit_compiled_convolution_op, _jit_compiled_convolution_op, _jit_compiled_convolution_op, _jit_compiled_convolution_op, _jit_compiled_convolution_op while saving (showing 5 of 6). These functions will not be directly callable after loading.\n",
            "\u001b[34m\u001b[1mwandb\u001b[0m: Adding directory to artifact (/content/wandb/run-20221104_070135-2ypzsiuu/files/model-best)... Done. 0.1s\n"
          ]
        },
        {
          "output_type": "stream",
          "name": "stdout",
          "text": [
            "\b\b\b\b\b\b\b\b\b\b\b\b\b\b\b\b\b\b\b\b\b\b\b\b\b\b\b\b\b\b\b\b\b\b\b\b\b\b\b\b\b\b\b\b\b\b\b\b\b\b\b\b\b\b\b\b\b\b\b\b\b\b\b\b\b\b\b\b\b\b\b\b\b\b\b\b\b\b\b\b\b\b\r22/22 [==============================] - 6s 274ms/step - loss: 0.4515 - accuracy: 0.7940 - val_loss: 0.3902 - val_accuracy: 0.8514\n",
            "Epoch 51/200\n",
            "22/22 [==============================] - 3s 124ms/step - loss: 0.3524 - accuracy: 0.8537 - val_loss: 0.5033 - val_accuracy: 0.8229\n",
            "Epoch 52/200\n",
            "22/22 [==============================] - ETA: 0s - loss: 0.3467 - accuracy: 0.8452"
          ]
        },
        {
          "output_type": "stream",
          "name": "stderr",
          "text": [
            "WARNING:absl:Found untraced functions such as _jit_compiled_convolution_op, _jit_compiled_convolution_op, _jit_compiled_convolution_op, _jit_compiled_convolution_op, _jit_compiled_convolution_op while saving (showing 5 of 6). These functions will not be directly callable after loading.\n",
            "\u001b[34m\u001b[1mwandb\u001b[0m: Adding directory to artifact (/content/wandb/run-20221104_070135-2ypzsiuu/files/model-best)... Done. 0.1s\n"
          ]
        },
        {
          "output_type": "stream",
          "name": "stdout",
          "text": [
            "\b\b\b\b\b\b\b\b\b\b\b\b\b\b\b\b\b\b\b\b\b\b\b\b\b\b\b\b\b\b\b\b\b\b\b\b\b\b\b\b\b\b\b\b\b\b\b\b\b\b\b\b\b\b\b\b\b\b\b\b\b\b\b\b\b\b\b\b\b\b\b\b\b\b\b\b\b\b\b\b\b\b\r22/22 [==============================] - 7s 296ms/step - loss: 0.3467 - accuracy: 0.8452 - val_loss: 0.3857 - val_accuracy: 0.8514\n",
            "Epoch 53/200\n",
            "22/22 [==============================] - ETA: 0s - loss: 0.3074 - accuracy: 0.8722"
          ]
        },
        {
          "output_type": "stream",
          "name": "stderr",
          "text": [
            "WARNING:absl:Found untraced functions such as _jit_compiled_convolution_op, _jit_compiled_convolution_op, _jit_compiled_convolution_op, _jit_compiled_convolution_op, _jit_compiled_convolution_op while saving (showing 5 of 6). These functions will not be directly callable after loading.\n",
            "\u001b[34m\u001b[1mwandb\u001b[0m: Adding directory to artifact (/content/wandb/run-20221104_070135-2ypzsiuu/files/model-best)... Done. 0.1s\n"
          ]
        },
        {
          "output_type": "stream",
          "name": "stdout",
          "text": [
            "\b\b\b\b\b\b\b\b\b\b\b\b\b\b\b\b\b\b\b\b\b\b\b\b\b\b\b\b\b\b\b\b\b\b\b\b\b\b\b\b\b\b\b\b\b\b\b\b\b\b\b\b\b\b\b\b\b\b\b\b\b\b\b\b\b\b\b\b\b\b\b\b\b\b\b\b\b\b\b\b\b\b\r22/22 [==============================] - 7s 288ms/step - loss: 0.3074 - accuracy: 0.8722 - val_loss: 0.3445 - val_accuracy: 0.8457\n",
            "Epoch 54/200\n",
            "22/22 [==============================] - 5s 190ms/step - loss: 0.3854 - accuracy: 0.8438 - val_loss: 0.4110 - val_accuracy: 0.8114\n",
            "Epoch 55/200\n",
            "22/22 [==============================] - 5s 182ms/step - loss: 0.3403 - accuracy: 0.8438 - val_loss: 0.5410 - val_accuracy: 0.8171\n",
            "Epoch 56/200\n",
            "22/22 [==============================] - 3s 117ms/step - loss: 0.3497 - accuracy: 0.8452 - val_loss: 0.5564 - val_accuracy: 0.8114\n",
            "Epoch 57/200\n",
            "22/22 [==============================] - 3s 115ms/step - loss: 0.3232 - accuracy: 0.8622 - val_loss: 0.6497 - val_accuracy: 0.8229\n",
            "Epoch 58/200\n",
            "22/22 [==============================] - 3s 118ms/step - loss: 0.3339 - accuracy: 0.8679 - val_loss: 0.4559 - val_accuracy: 0.7886\n",
            "Epoch 59/200\n",
            "22/22 [==============================] - 3s 122ms/step - loss: 0.3900 - accuracy: 0.8352 - val_loss: 0.4221 - val_accuracy: 0.8171\n",
            "Epoch 60/200\n",
            "22/22 [==============================] - 3s 118ms/step - loss: 0.3092 - accuracy: 0.8750 - val_loss: 0.4027 - val_accuracy: 0.8343\n",
            "Epoch 61/200\n",
            "22/22 [==============================] - 3s 114ms/step - loss: 0.3224 - accuracy: 0.8707 - val_loss: 0.4056 - val_accuracy: 0.8343\n",
            "Epoch 62/200\n",
            "22/22 [==============================] - 3s 117ms/step - loss: 0.3335 - accuracy: 0.8793 - val_loss: 0.5270 - val_accuracy: 0.8000\n",
            "Epoch 63/200\n",
            "22/22 [==============================] - 3s 117ms/step - loss: 0.5844 - accuracy: 0.7926 - val_loss: 0.7802 - val_accuracy: 0.7543\n",
            "Epoch 64/200\n",
            "22/22 [==============================] - 3s 124ms/step - loss: 0.5436 - accuracy: 0.7869 - val_loss: 0.8472 - val_accuracy: 0.7657\n",
            "Epoch 65/200\n",
            "22/22 [==============================] - 3s 116ms/step - loss: 0.4583 - accuracy: 0.8295 - val_loss: 0.3700 - val_accuracy: 0.8514\n",
            "Epoch 66/200\n",
            "22/22 [==============================] - 3s 115ms/step - loss: 0.3571 - accuracy: 0.8452 - val_loss: 0.4725 - val_accuracy: 0.8057\n",
            "Epoch 67/200\n",
            "22/22 [==============================] - 3s 121ms/step - loss: 0.3594 - accuracy: 0.8494 - val_loss: 0.3934 - val_accuracy: 0.8514\n",
            "Epoch 68/200\n",
            "22/22 [==============================] - ETA: 0s - loss: 0.2766 - accuracy: 0.8849"
          ]
        },
        {
          "output_type": "stream",
          "name": "stderr",
          "text": [
            "WARNING:absl:Found untraced functions such as _jit_compiled_convolution_op, _jit_compiled_convolution_op, _jit_compiled_convolution_op, _jit_compiled_convolution_op, _jit_compiled_convolution_op while saving (showing 5 of 6). These functions will not be directly callable after loading.\n",
            "\u001b[34m\u001b[1mwandb\u001b[0m: Adding directory to artifact (/content/wandb/run-20221104_070135-2ypzsiuu/files/model-best)... Done. 0.1s\n"
          ]
        },
        {
          "output_type": "stream",
          "name": "stdout",
          "text": [
            "\b\b\b\b\b\b\b\b\b\b\b\b\b\b\b\b\b\b\b\b\b\b\b\b\b\b\b\b\b\b\b\b\b\b\b\b\b\b\b\b\b\b\b\b\b\b\b\b\b\b\b\b\b\b\b\b\b\b\b\b\b\b\b\b\b\b\b\b\b\b\b\b\b\b\b\b\b\b\b\b\b\b\r22/22 [==============================] - 7s 285ms/step - loss: 0.2766 - accuracy: 0.8849 - val_loss: 0.3086 - val_accuracy: 0.8400\n",
            "Epoch 69/200\n",
            "22/22 [==============================] - 3s 120ms/step - loss: 0.2860 - accuracy: 0.8963 - val_loss: 0.3409 - val_accuracy: 0.8457\n",
            "Epoch 70/200\n",
            "22/22 [==============================] - 3s 121ms/step - loss: 0.2877 - accuracy: 0.8949 - val_loss: 0.5187 - val_accuracy: 0.8000\n",
            "Epoch 71/200\n",
            "22/22 [==============================] - 3s 122ms/step - loss: 0.3953 - accuracy: 0.8523 - val_loss: 0.9138 - val_accuracy: 0.7257\n",
            "Epoch 72/200\n",
            "22/22 [==============================] - 3s 123ms/step - loss: 0.3559 - accuracy: 0.8608 - val_loss: 0.8406 - val_accuracy: 0.7314\n",
            "Epoch 73/200\n",
            "22/22 [==============================] - 3s 122ms/step - loss: 0.3121 - accuracy: 0.8736 - val_loss: 0.3493 - val_accuracy: 0.8400\n",
            "Epoch 74/200\n",
            "22/22 [==============================] - 3s 121ms/step - loss: 0.3225 - accuracy: 0.8821 - val_loss: 0.4600 - val_accuracy: 0.8571\n",
            "Epoch 75/200\n",
            "22/22 [==============================] - 3s 115ms/step - loss: 0.3043 - accuracy: 0.8821 - val_loss: 0.4160 - val_accuracy: 0.8457\n",
            "Epoch 76/200\n",
            "22/22 [==============================] - 3s 116ms/step - loss: 0.2668 - accuracy: 0.9006 - val_loss: 0.3515 - val_accuracy: 0.8686\n",
            "Epoch 77/200\n",
            "22/22 [==============================] - 3s 113ms/step - loss: 0.2434 - accuracy: 0.9006 - val_loss: 0.3718 - val_accuracy: 0.8229\n",
            "Epoch 78/200\n",
            "22/22 [==============================] - 3s 128ms/step - loss: 0.2313 - accuracy: 0.9148 - val_loss: 0.5880 - val_accuracy: 0.8343\n",
            "Epoch 79/200\n",
            "22/22 [==============================] - 3s 119ms/step - loss: 0.2433 - accuracy: 0.8949 - val_loss: 0.6429 - val_accuracy: 0.7886\n",
            "Epoch 80/200\n",
            "22/22 [==============================] - 3s 115ms/step - loss: 0.4046 - accuracy: 0.8565 - val_loss: 0.5637 - val_accuracy: 0.7829\n",
            "Epoch 81/200\n",
            "22/22 [==============================] - 3s 124ms/step - loss: 0.2814 - accuracy: 0.9020 - val_loss: 0.6593 - val_accuracy: 0.7771\n",
            "Epoch 82/200\n",
            "22/22 [==============================] - 3s 123ms/step - loss: 0.2659 - accuracy: 0.8935 - val_loss: 0.4874 - val_accuracy: 0.8114\n",
            "Epoch 83/200\n",
            "22/22 [==============================] - 3s 124ms/step - loss: 0.2581 - accuracy: 0.8991 - val_loss: 0.5031 - val_accuracy: 0.8457\n",
            "Epoch 84/200\n",
            "22/22 [==============================] - 5s 190ms/step - loss: 0.2214 - accuracy: 0.9148 - val_loss: 0.5006 - val_accuracy: 0.8114\n",
            "Epoch 85/200\n",
            "22/22 [==============================] - 5s 173ms/step - loss: 0.2182 - accuracy: 0.9261 - val_loss: 0.5857 - val_accuracy: 0.8171\n",
            "Epoch 86/200\n",
            "22/22 [==============================] - 3s 117ms/step - loss: 0.2702 - accuracy: 0.9077 - val_loss: 0.6178 - val_accuracy: 0.7486\n",
            "Epoch 87/200\n",
            "22/22 [==============================] - 3s 120ms/step - loss: 0.3222 - accuracy: 0.8722 - val_loss: 0.4392 - val_accuracy: 0.8686\n",
            "Epoch 88/200\n",
            "22/22 [==============================] - 3s 120ms/step - loss: 0.2499 - accuracy: 0.9048 - val_loss: 0.3698 - val_accuracy: 0.8514\n",
            "Epoch 89/200\n",
            "22/22 [==============================] - 3s 120ms/step - loss: 0.2335 - accuracy: 0.9048 - val_loss: 0.3184 - val_accuracy: 0.8400\n",
            "Epoch 90/200\n",
            "22/22 [==============================] - ETA: 0s - loss: 0.1897 - accuracy: 0.9219"
          ]
        },
        {
          "output_type": "stream",
          "name": "stderr",
          "text": [
            "WARNING:absl:Found untraced functions such as _jit_compiled_convolution_op, _jit_compiled_convolution_op, _jit_compiled_convolution_op, _jit_compiled_convolution_op, _jit_compiled_convolution_op while saving (showing 5 of 6). These functions will not be directly callable after loading.\n",
            "\u001b[34m\u001b[1mwandb\u001b[0m: Adding directory to artifact (/content/wandb/run-20221104_070135-2ypzsiuu/files/model-best)... Done. 0.1s\n"
          ]
        },
        {
          "output_type": "stream",
          "name": "stdout",
          "text": [
            "\b\b\b\b\b\b\b\b\b\b\b\b\b\b\b\b\b\b\b\b\b\b\b\b\b\b\b\b\b\b\b\b\b\b\b\b\b\b\b\b\b\b\b\b\b\b\b\b\b\b\b\b\b\b\b\b\b\b\b\b\b\b\b\b\b\b\b\b\b\b\b\b\b\b\b\b\b\b\b\b\b\b\r22/22 [==============================] - 7s 285ms/step - loss: 0.1897 - accuracy: 0.9219 - val_loss: 0.2200 - val_accuracy: 0.8800\n",
            "Epoch 91/200\n",
            "22/22 [==============================] - 3s 125ms/step - loss: 0.2527 - accuracy: 0.9134 - val_loss: 0.3810 - val_accuracy: 0.8800\n",
            "Epoch 92/200\n",
            "22/22 [==============================] - 3s 127ms/step - loss: 0.1831 - accuracy: 0.9361 - val_loss: 0.4029 - val_accuracy: 0.8343\n",
            "Epoch 93/200\n",
            "22/22 [==============================] - 3s 115ms/step - loss: 0.2539 - accuracy: 0.9347 - val_loss: 0.5640 - val_accuracy: 0.8057\n",
            "Epoch 94/200\n",
            "22/22 [==============================] - 3s 115ms/step - loss: 0.3107 - accuracy: 0.8778 - val_loss: 0.7184 - val_accuracy: 0.7829\n",
            "Epoch 95/200\n",
            "22/22 [==============================] - 3s 118ms/step - loss: 0.3683 - accuracy: 0.8693 - val_loss: 0.3277 - val_accuracy: 0.8914\n",
            "Epoch 96/200\n",
            "22/22 [==============================] - 3s 119ms/step - loss: 0.2835 - accuracy: 0.8949 - val_loss: 0.6252 - val_accuracy: 0.8229\n",
            "Epoch 97/200\n",
            "22/22 [==============================] - 3s 116ms/step - loss: 0.2262 - accuracy: 0.9091 - val_loss: 0.5081 - val_accuracy: 0.8171\n",
            "Epoch 98/200\n",
            "22/22 [==============================] - 3s 116ms/step - loss: 0.2064 - accuracy: 0.9148 - val_loss: 0.3508 - val_accuracy: 0.8914\n",
            "Epoch 99/200\n",
            "22/22 [==============================] - 3s 122ms/step - loss: 0.1625 - accuracy: 0.9460 - val_loss: 0.2959 - val_accuracy: 0.8800\n",
            "Epoch 100/200\n",
            "22/22 [==============================] - 3s 117ms/step - loss: 0.1914 - accuracy: 0.9261 - val_loss: 0.7530 - val_accuracy: 0.7886\n",
            "Epoch 101/200\n",
            "22/22 [==============================] - 3s 116ms/step - loss: 0.2519 - accuracy: 0.9062 - val_loss: 0.5514 - val_accuracy: 0.8171\n",
            "Epoch 102/200\n",
            "22/22 [==============================] - 3s 115ms/step - loss: 0.1759 - accuracy: 0.9318 - val_loss: 0.2582 - val_accuracy: 0.8800\n",
            "Epoch 103/200\n",
            "22/22 [==============================] - 3s 113ms/step - loss: 0.1509 - accuracy: 0.9460 - val_loss: 0.3241 - val_accuracy: 0.8629\n",
            "Epoch 104/200\n",
            "22/22 [==============================] - 3s 121ms/step - loss: 0.1809 - accuracy: 0.9432 - val_loss: 0.2742 - val_accuracy: 0.8914\n",
            "Epoch 105/200\n",
            "22/22 [==============================] - 3s 114ms/step - loss: 0.1919 - accuracy: 0.9304 - val_loss: 0.3020 - val_accuracy: 0.8857\n",
            "Epoch 106/200\n",
            "22/22 [==============================] - 3s 115ms/step - loss: 0.1718 - accuracy: 0.9375 - val_loss: 0.2755 - val_accuracy: 0.8971\n",
            "Epoch 107/200\n",
            "22/22 [==============================] - 3s 115ms/step - loss: 0.1238 - accuracy: 0.9531 - val_loss: 0.3202 - val_accuracy: 0.9029\n",
            "Epoch 108/200\n",
            "22/22 [==============================] - 3s 116ms/step - loss: 0.1901 - accuracy: 0.9347 - val_loss: 1.1861 - val_accuracy: 0.7371\n",
            "Epoch 109/200\n",
            "22/22 [==============================] - 3s 120ms/step - loss: 0.5781 - accuracy: 0.8438 - val_loss: 0.5353 - val_accuracy: 0.7714\n",
            "Epoch 110/200\n",
            "22/22 [==============================] - 3s 115ms/step - loss: 0.3330 - accuracy: 0.8750 - val_loss: 0.5505 - val_accuracy: 0.7714\n",
            "Epoch 111/200\n",
            "22/22 [==============================] - 3s 117ms/step - loss: 0.2952 - accuracy: 0.8892 - val_loss: 0.4347 - val_accuracy: 0.8400\n",
            "Epoch 112/200\n",
            "22/22 [==============================] - 3s 117ms/step - loss: 0.2244 - accuracy: 0.9162 - val_loss: 0.3609 - val_accuracy: 0.8457\n",
            "Epoch 113/200\n",
            "22/22 [==============================] - 3s 123ms/step - loss: 0.2757 - accuracy: 0.9048 - val_loss: 0.4761 - val_accuracy: 0.8400\n",
            "Epoch 114/200\n",
            "22/22 [==============================] - 3s 121ms/step - loss: 0.2027 - accuracy: 0.9347 - val_loss: 0.3323 - val_accuracy: 0.8514\n",
            "Epoch 115/200\n",
            "22/22 [==============================] - 3s 121ms/step - loss: 0.1636 - accuracy: 0.9389 - val_loss: 0.5080 - val_accuracy: 0.7600\n",
            "Epoch 116/200\n",
            "22/22 [==============================] - 3s 116ms/step - loss: 0.1487 - accuracy: 0.9361 - val_loss: 0.3557 - val_accuracy: 0.8686\n",
            "Epoch 117/200\n",
            "22/22 [==============================] - 3s 123ms/step - loss: 0.1502 - accuracy: 0.9460 - val_loss: 0.3299 - val_accuracy: 0.8800\n",
            "Epoch 118/200\n",
            "22/22 [==============================] - 3s 123ms/step - loss: 0.1475 - accuracy: 0.9418 - val_loss: 0.3094 - val_accuracy: 0.8686\n",
            "Epoch 119/200\n",
            "22/22 [==============================] - 3s 116ms/step - loss: 0.1180 - accuracy: 0.9631 - val_loss: 0.3041 - val_accuracy: 0.8686\n",
            "Epoch 120/200\n",
            "22/22 [==============================] - 3s 116ms/step - loss: 0.1665 - accuracy: 0.9474 - val_loss: 0.4059 - val_accuracy: 0.8800\n",
            "Epoch 121/200\n",
            "22/22 [==============================] - 3s 116ms/step - loss: 0.2781 - accuracy: 0.9048 - val_loss: 0.5460 - val_accuracy: 0.7829\n",
            "Epoch 122/200\n",
            "22/22 [==============================] - 3s 116ms/step - loss: 0.2422 - accuracy: 0.9190 - val_loss: 0.2742 - val_accuracy: 0.8971\n",
            "Epoch 123/200\n",
            "22/22 [==============================] - 5s 194ms/step - loss: 0.1646 - accuracy: 0.9489 - val_loss: 0.3073 - val_accuracy: 0.8629\n",
            "Epoch 124/200\n",
            "22/22 [==============================] - 5s 159ms/step - loss: 0.1493 - accuracy: 0.9531 - val_loss: 0.3669 - val_accuracy: 0.8571\n",
            "Epoch 125/200\n",
            "22/22 [==============================] - 3s 113ms/step - loss: 0.1806 - accuracy: 0.9318 - val_loss: 0.2879 - val_accuracy: 0.8571\n",
            "Epoch 126/200\n",
            "22/22 [==============================] - 3s 122ms/step - loss: 0.1394 - accuracy: 0.9545 - val_loss: 0.2711 - val_accuracy: 0.9257\n",
            "Epoch 127/200\n",
            "22/22 [==============================] - 3s 119ms/step - loss: 0.1191 - accuracy: 0.9517 - val_loss: 0.2621 - val_accuracy: 0.8971\n",
            "Epoch 128/200\n",
            "22/22 [==============================] - 3s 115ms/step - loss: 0.2059 - accuracy: 0.9318 - val_loss: 0.3821 - val_accuracy: 0.8800\n",
            "Epoch 129/200\n",
            "22/22 [==============================] - 3s 122ms/step - loss: 0.1835 - accuracy: 0.9403 - val_loss: 0.2583 - val_accuracy: 0.9086\n",
            "Epoch 130/200\n",
            "22/22 [==============================] - 3s 126ms/step - loss: 0.1117 - accuracy: 0.9631 - val_loss: 0.3467 - val_accuracy: 0.8629\n",
            "Epoch 131/200\n",
            "22/22 [==============================] - 3s 116ms/step - loss: 0.1428 - accuracy: 0.9446 - val_loss: 0.2316 - val_accuracy: 0.9086\n",
            "Epoch 132/200\n",
            "22/22 [==============================] - 3s 115ms/step - loss: 0.1591 - accuracy: 0.9403 - val_loss: 0.2250 - val_accuracy: 0.9143\n",
            "Epoch 133/200\n",
            "22/22 [==============================] - 3s 121ms/step - loss: 0.1248 - accuracy: 0.9517 - val_loss: 0.2738 - val_accuracy: 0.9257\n",
            "Epoch 134/200\n",
            "22/22 [==============================] - 3s 113ms/step - loss: 0.1144 - accuracy: 0.9659 - val_loss: 0.4268 - val_accuracy: 0.8686\n",
            "Epoch 135/200\n",
            "22/22 [==============================] - 3s 115ms/step - loss: 0.2648 - accuracy: 0.9162 - val_loss: 0.2427 - val_accuracy: 0.9486\n",
            "Epoch 136/200\n",
            "22/22 [==============================] - 3s 120ms/step - loss: 0.1541 - accuracy: 0.9418 - val_loss: 0.2717 - val_accuracy: 0.8914\n",
            "Epoch 137/200\n",
            "22/22 [==============================] - 3s 115ms/step - loss: 0.1248 - accuracy: 0.9574 - val_loss: 0.2443 - val_accuracy: 0.9143\n",
            "Epoch 138/200\n",
            "22/22 [==============================] - 3s 113ms/step - loss: 0.1019 - accuracy: 0.9574 - val_loss: 0.2376 - val_accuracy: 0.9200\n",
            "Epoch 139/200\n",
            "22/22 [==============================] - 3s 122ms/step - loss: 0.1155 - accuracy: 0.9574 - val_loss: 0.3459 - val_accuracy: 0.8743\n",
            "Epoch 140/200\n",
            "22/22 [==============================] - ETA: 0s - loss: 0.1828 - accuracy: 0.9389"
          ]
        },
        {
          "output_type": "stream",
          "name": "stderr",
          "text": [
            "WARNING:absl:Found untraced functions such as _jit_compiled_convolution_op, _jit_compiled_convolution_op, _jit_compiled_convolution_op, _jit_compiled_convolution_op, _jit_compiled_convolution_op while saving (showing 5 of 6). These functions will not be directly callable after loading.\n",
            "\u001b[34m\u001b[1mwandb\u001b[0m: Adding directory to artifact (/content/wandb/run-20221104_070135-2ypzsiuu/files/model-best)... Done. 0.1s\n"
          ]
        },
        {
          "output_type": "stream",
          "name": "stdout",
          "text": [
            "\b\b\b\b\b\b\b\b\b\b\b\b\b\b\b\b\b\b\b\b\b\b\b\b\b\b\b\b\b\b\b\b\b\b\b\b\b\b\b\b\b\b\b\b\b\b\b\b\b\b\b\b\b\b\b\b\b\b\b\b\b\b\b\b\b\b\b\b\b\b\b\b\b\b\b\b\b\b\b\b\b\b\r22/22 [==============================] - 6s 267ms/step - loss: 0.1828 - accuracy: 0.9389 - val_loss: 0.1539 - val_accuracy: 0.9429\n",
            "Epoch 141/200\n",
            "22/22 [==============================] - 3s 123ms/step - loss: 0.1069 - accuracy: 0.9659 - val_loss: 0.4147 - val_accuracy: 0.8686\n",
            "Epoch 142/200\n",
            "22/22 [==============================] - 3s 120ms/step - loss: 0.1321 - accuracy: 0.9602 - val_loss: 0.3434 - val_accuracy: 0.8857\n",
            "Epoch 143/200\n",
            "22/22 [==============================] - 3s 114ms/step - loss: 0.1207 - accuracy: 0.9531 - val_loss: 0.3113 - val_accuracy: 0.8914\n",
            "Epoch 144/200\n",
            "22/22 [==============================] - 3s 122ms/step - loss: 0.1014 - accuracy: 0.9730 - val_loss: 0.2921 - val_accuracy: 0.9143\n",
            "Epoch 145/200\n",
            "22/22 [==============================] - 3s 123ms/step - loss: 0.0930 - accuracy: 0.9702 - val_loss: 0.2207 - val_accuracy: 0.9200\n",
            "Epoch 146/200\n",
            "22/22 [==============================] - 3s 114ms/step - loss: 0.1050 - accuracy: 0.9645 - val_loss: 0.3907 - val_accuracy: 0.8857\n",
            "Epoch 147/200\n",
            "22/22 [==============================] - 3s 113ms/step - loss: 0.1226 - accuracy: 0.9616 - val_loss: 0.2908 - val_accuracy: 0.9200\n",
            "Epoch 148/200\n",
            "22/22 [==============================] - 3s 123ms/step - loss: 0.0931 - accuracy: 0.9744 - val_loss: 0.3119 - val_accuracy: 0.9143\n",
            "Epoch 149/200\n",
            "22/22 [==============================] - 3s 115ms/step - loss: 0.0713 - accuracy: 0.9773 - val_loss: 0.2210 - val_accuracy: 0.9314\n",
            "Epoch 150/200\n",
            "22/22 [==============================] - 3s 114ms/step - loss: 0.1173 - accuracy: 0.9659 - val_loss: 0.3251 - val_accuracy: 0.9143\n",
            "Epoch 151/200\n",
            "22/22 [==============================] - 3s 115ms/step - loss: 0.0974 - accuracy: 0.9545 - val_loss: 0.2711 - val_accuracy: 0.9200\n",
            "Epoch 152/200\n",
            "22/22 [==============================] - 3s 114ms/step - loss: 0.0842 - accuracy: 0.9730 - val_loss: 0.2895 - val_accuracy: 0.9200\n",
            "Epoch 153/200\n",
            "22/22 [==============================] - 3s 117ms/step - loss: 0.0930 - accuracy: 0.9645 - val_loss: 0.3829 - val_accuracy: 0.8971\n",
            "Epoch 154/200\n",
            "22/22 [==============================] - 3s 122ms/step - loss: 0.0867 - accuracy: 0.9716 - val_loss: 0.2451 - val_accuracy: 0.9143\n",
            "Epoch 155/200\n",
            "22/22 [==============================] - 3s 117ms/step - loss: 0.2059 - accuracy: 0.9403 - val_loss: 1.5018 - val_accuracy: 0.7429\n",
            "Epoch 156/200\n",
            "22/22 [==============================] - 5s 197ms/step - loss: 0.2618 - accuracy: 0.9162 - val_loss: 0.4791 - val_accuracy: 0.8400\n",
            "Epoch 157/200\n",
            "22/22 [==============================] - 5s 160ms/step - loss: 0.1326 - accuracy: 0.9531 - val_loss: 0.5738 - val_accuracy: 0.8457\n",
            "Epoch 158/200\n",
            "22/22 [==============================] - 3s 115ms/step - loss: 0.1032 - accuracy: 0.9602 - val_loss: 0.7881 - val_accuracy: 0.8400\n",
            "Epoch 159/200\n",
            "22/22 [==============================] - 3s 114ms/step - loss: 0.1462 - accuracy: 0.9474 - val_loss: 0.2983 - val_accuracy: 0.9257\n",
            "Epoch 160/200\n",
            "22/22 [==============================] - 3s 125ms/step - loss: 0.1037 - accuracy: 0.9631 - val_loss: 0.4448 - val_accuracy: 0.8686\n",
            "Epoch 161/200\n",
            "22/22 [==============================] - 3s 122ms/step - loss: 0.0971 - accuracy: 0.9688 - val_loss: 0.2683 - val_accuracy: 0.9200\n",
            "Epoch 162/200\n",
            "22/22 [==============================] - 3s 123ms/step - loss: 0.1500 - accuracy: 0.9560 - val_loss: 0.3614 - val_accuracy: 0.8914\n",
            "Epoch 163/200\n",
            "22/22 [==============================] - 3s 121ms/step - loss: 0.3410 - accuracy: 0.8920 - val_loss: 0.6155 - val_accuracy: 0.7943\n",
            "Epoch 164/200\n",
            "22/22 [==============================] - 3s 115ms/step - loss: 0.2703 - accuracy: 0.9034 - val_loss: 0.5073 - val_accuracy: 0.8171\n",
            "Epoch 165/200\n",
            "22/22 [==============================] - 3s 123ms/step - loss: 0.1747 - accuracy: 0.9418 - val_loss: 0.8671 - val_accuracy: 0.8229\n",
            "Epoch 166/200\n",
            "22/22 [==============================] - 3s 121ms/step - loss: 0.1734 - accuracy: 0.9375 - val_loss: 0.2893 - val_accuracy: 0.9029\n",
            "Epoch 167/200\n",
            "22/22 [==============================] - 3s 117ms/step - loss: 0.0970 - accuracy: 0.9688 - val_loss: 0.4702 - val_accuracy: 0.8857\n",
            "Epoch 168/200\n",
            "22/22 [==============================] - 3s 117ms/step - loss: 0.0927 - accuracy: 0.9730 - val_loss: 0.2892 - val_accuracy: 0.9086\n",
            "Epoch 169/200\n",
            "22/22 [==============================] - 3s 113ms/step - loss: 0.0831 - accuracy: 0.9716 - val_loss: 0.3257 - val_accuracy: 0.9143\n",
            "Epoch 170/200\n",
            "22/22 [==============================] - 3s 112ms/step - loss: 0.0882 - accuracy: 0.9702 - val_loss: 0.4747 - val_accuracy: 0.9200\n",
            "Epoch 171/200\n",
            "22/22 [==============================] - 3s 120ms/step - loss: 0.0573 - accuracy: 0.9787 - val_loss: 0.2483 - val_accuracy: 0.9257\n",
            "Epoch 172/200\n",
            "22/22 [==============================] - 3s 113ms/step - loss: 0.0887 - accuracy: 0.9702 - val_loss: 0.2104 - val_accuracy: 0.9486\n",
            "Epoch 173/200\n",
            "22/22 [==============================] - 3s 121ms/step - loss: 0.0885 - accuracy: 0.9673 - val_loss: 0.1888 - val_accuracy: 0.9371\n",
            "Epoch 174/200\n",
            "22/22 [==============================] - 3s 121ms/step - loss: 0.0644 - accuracy: 0.9773 - val_loss: 0.3127 - val_accuracy: 0.9257\n",
            "Epoch 175/200\n",
            "22/22 [==============================] - 3s 116ms/step - loss: 0.0523 - accuracy: 0.9844 - val_loss: 0.3389 - val_accuracy: 0.9314\n",
            "Epoch 176/200\n",
            "22/22 [==============================] - 3s 123ms/step - loss: 0.0481 - accuracy: 0.9915 - val_loss: 0.3446 - val_accuracy: 0.9086\n",
            "Epoch 177/200\n",
            "22/22 [==============================] - 3s 113ms/step - loss: 0.0947 - accuracy: 0.9645 - val_loss: 0.3756 - val_accuracy: 0.9143\n",
            "Epoch 178/200\n",
            "22/22 [==============================] - 3s 114ms/step - loss: 0.2055 - accuracy: 0.9318 - val_loss: 0.2575 - val_accuracy: 0.9371\n",
            "Epoch 179/200\n",
            "22/22 [==============================] - 3s 124ms/step - loss: 0.1345 - accuracy: 0.9574 - val_loss: 0.3315 - val_accuracy: 0.8914\n",
            "Epoch 180/200\n",
            "22/22 [==============================] - 3s 115ms/step - loss: 0.0901 - accuracy: 0.9616 - val_loss: 0.2311 - val_accuracy: 0.9429\n",
            "Epoch 181/200\n",
            "22/22 [==============================] - 3s 115ms/step - loss: 0.1001 - accuracy: 0.9759 - val_loss: 0.1925 - val_accuracy: 0.9429\n",
            "Epoch 182/200\n",
            "22/22 [==============================] - 3s 114ms/step - loss: 0.0828 - accuracy: 0.9631 - val_loss: 0.5366 - val_accuracy: 0.8629\n",
            "Epoch 183/200\n",
            "22/22 [==============================] - 3s 121ms/step - loss: 0.1151 - accuracy: 0.9645 - val_loss: 0.2492 - val_accuracy: 0.9257\n",
            "Epoch 184/200\n",
            "22/22 [==============================] - 3s 123ms/step - loss: 0.0795 - accuracy: 0.9744 - val_loss: 0.3993 - val_accuracy: 0.8971\n",
            "Epoch 185/200\n",
            "22/22 [==============================] - 3s 123ms/step - loss: 0.1009 - accuracy: 0.9730 - val_loss: 0.4355 - val_accuracy: 0.9143\n",
            "Epoch 186/200\n",
            "22/22 [==============================] - 3s 115ms/step - loss: 0.0924 - accuracy: 0.9688 - val_loss: 0.2793 - val_accuracy: 0.9200\n",
            "Epoch 187/200\n",
            "22/22 [==============================] - 3s 115ms/step - loss: 0.1115 - accuracy: 0.9659 - val_loss: 0.3075 - val_accuracy: 0.8971\n",
            "Epoch 188/200\n",
            "22/22 [==============================] - 3s 120ms/step - loss: 0.1139 - accuracy: 0.9673 - val_loss: 0.3614 - val_accuracy: 0.9200\n",
            "Epoch 189/200\n",
            "22/22 [==============================] - 3s 116ms/step - loss: 0.1054 - accuracy: 0.9702 - val_loss: 0.2214 - val_accuracy: 0.9257\n",
            "Epoch 190/200\n",
            "22/22 [==============================] - 3s 123ms/step - loss: 0.0680 - accuracy: 0.9773 - val_loss: 0.4156 - val_accuracy: 0.8971\n",
            "Epoch 191/200\n",
            "22/22 [==============================] - 3s 114ms/step - loss: 0.0948 - accuracy: 0.9702 - val_loss: 0.3065 - val_accuracy: 0.9429\n",
            "Epoch 192/200\n",
            "22/22 [==============================] - 5s 208ms/step - loss: 0.0824 - accuracy: 0.9744 - val_loss: 0.2865 - val_accuracy: 0.9200\n",
            "Epoch 193/200\n",
            "22/22 [==============================] - 5s 166ms/step - loss: 0.0842 - accuracy: 0.9787 - val_loss: 0.1953 - val_accuracy: 0.9429\n",
            "Epoch 194/200\n",
            "22/22 [==============================] - 3s 112ms/step - loss: 0.0663 - accuracy: 0.9730 - val_loss: 0.3160 - val_accuracy: 0.9257\n",
            "Epoch 195/200\n",
            "22/22 [==============================] - 3s 121ms/step - loss: 0.0448 - accuracy: 0.9872 - val_loss: 0.3886 - val_accuracy: 0.9086\n",
            "Epoch 196/200\n",
            "22/22 [==============================] - 3s 127ms/step - loss: 0.1265 - accuracy: 0.9645 - val_loss: 0.3184 - val_accuracy: 0.9257\n",
            "Epoch 197/200\n",
            "22/22 [==============================] - 3s 119ms/step - loss: 0.0623 - accuracy: 0.9830 - val_loss: 0.3423 - val_accuracy: 0.9086\n",
            "Epoch 198/200\n",
            "22/22 [==============================] - 3s 125ms/step - loss: 0.0604 - accuracy: 0.9830 - val_loss: 0.1930 - val_accuracy: 0.9600\n",
            "Epoch 199/200\n",
            "22/22 [==============================] - 3s 117ms/step - loss: 0.0513 - accuracy: 0.9830 - val_loss: 0.1681 - val_accuracy: 0.9600\n",
            "Epoch 200/200\n",
            "22/22 [==============================] - 3s 116ms/step - loss: 0.1346 - accuracy: 0.9631 - val_loss: 0.3144 - val_accuracy: 0.9257\n",
            "CPU times: user 11min 36s, sys: 1min 43s, total: 13min 19s\n",
            "Wall time: 15min 13s\n"
          ]
        }
      ]
    },
    {
      "cell_type": "code",
      "source": [
        "wandb.finish()"
      ],
      "metadata": {
        "colab": {
          "base_uri": "https://localhost:8080/",
          "height": 397,
          "referenced_widgets": [
            "173dc26d7f91442b89449631f5e3b640",
            "5331c3e51e434588aee2220a3d9f786e",
            "2859ab926a1b4869abe65d6d40a3d1ec",
            "f4d456bb360b42f4932c28fc7906c492",
            "1d568223fa644755bf03c3201bf97ce1",
            "bdb8199beb4f4350b314034664135df7",
            "cea01cb2cb9c472491b115bb88a675cf",
            "f50fa5f1a6aa4ea68faf2612a2fab90b"
          ]
        },
        "id": "x3u_gJJobdjh",
        "outputId": "cef7f9d5-4174-49db-d784-aa78870acd4c"
      },
      "execution_count": 30,
      "outputs": [
        {
          "output_type": "display_data",
          "data": {
            "text/plain": [
              "<IPython.core.display.HTML object>"
            ],
            "text/html": [
              "Waiting for W&B process to finish... <strong style=\"color:green\">(success).</strong>"
            ]
          },
          "metadata": {}
        },
        {
          "output_type": "display_data",
          "data": {
            "text/plain": [
              "VBox(children=(Label(value='227.018 MB of 227.078 MB uploaded (0.037 MB deduped)\\r'), FloatProgress(value=0.99…"
            ],
            "application/vnd.jupyter.widget-view+json": {
              "version_major": 2,
              "version_minor": 0,
              "model_id": "173dc26d7f91442b89449631f5e3b640"
            }
          },
          "metadata": {}
        },
        {
          "output_type": "display_data",
          "data": {
            "text/plain": [
              "<IPython.core.display.HTML object>"
            ],
            "text/html": [
              "<style>\n",
              "    table.wandb td:nth-child(1) { padding: 0 10px; text-align: left ; width: auto;} td:nth-child(2) {text-align: left ; width: 100%}\n",
              "    .wandb-row { display: flex; flex-direction: row; flex-wrap: wrap; justify-content: flex-start; width: 100% }\n",
              "    .wandb-col { display: flex; flex-direction: column; flex-basis: 100%; flex: 1; padding: 10px; }\n",
              "    </style>\n",
              "<div class=\"wandb-row\"><div class=\"wandb-col\"><h3>Run history:</h3><br/><table class=\"wandb\"><tr><td>accuracy</td><td>▁▃▃▃▄▃▅▅▅▆▆▆▇▇▆▇▇▇▇▇▇▇▇▇▇▇██████▇██▇████</td></tr><tr><td>epoch</td><td>▁▁▁▁▂▂▂▂▂▃▃▃▃▃▃▄▄▄▄▄▅▅▅▅▅▅▆▆▆▆▆▇▇▇▇▇▇███</td></tr><tr><td>loss</td><td>█▇▇▇▆▆▄▄▄▃▃▃▃▂▃▂▂▂▂▂▂▂▂▂▂▂▁▁▁▁▁▁▂▁▁▂▁▁▁▁</td></tr><tr><td>val_accuracy</td><td>▁▂▂▂▄▄▅▅▅▆▇▆▆▆▅▆▆▇▆▇▇▅▆▇▇▇▇████▆▆███▇███</td></tr><tr><td>val_loss</td><td>█▆▆▆▄▅▄▃▃▂▂▃▃▁▄▃▂▂▂▂▁▆▂▁▁▂▂▁▁▁▁▄▃▁▁▁▂▂▁▁</td></tr></table><br/></div><div class=\"wandb-col\"><h3>Run summary:</h3><br/><table class=\"wandb\"><tr><td>accuracy</td><td>0.96307</td></tr><tr><td>best_epoch</td><td>139</td></tr><tr><td>best_val_loss</td><td>0.15386</td></tr><tr><td>epoch</td><td>199</td></tr><tr><td>loss</td><td>0.13459</td></tr><tr><td>val_accuracy</td><td>0.92571</td></tr><tr><td>val_loss</td><td>0.31435</td></tr></table><br/></div></div>"
            ]
          },
          "metadata": {}
        },
        {
          "output_type": "display_data",
          "data": {
            "text/plain": [
              "<IPython.core.display.HTML object>"
            ],
            "text/html": [
              "Synced <strong style=\"color:#cdcd00\">run-5</strong>: <a href=\"https://wandb.ai/vedmanivaidya/CNN_particle_classification/runs/2ypzsiuu\" target=\"_blank\">https://wandb.ai/vedmanivaidya/CNN_particle_classification/runs/2ypzsiuu</a><br/>Synced 5 W&B file(s), 1 media file(s), 67 artifact file(s) and 1 other file(s)"
            ]
          },
          "metadata": {}
        },
        {
          "output_type": "display_data",
          "data": {
            "text/plain": [
              "<IPython.core.display.HTML object>"
            ],
            "text/html": [
              "Find logs at: <code>./wandb/run-20221104_070135-2ypzsiuu/logs</code>"
            ]
          },
          "metadata": {}
        }
      ]
    },
    {
      "cell_type": "code",
      "source": [
        "!nvidia-smi --query-gpu=gpu_name --format=csv"
      ],
      "metadata": {
        "id": "caK1UVEmvN0T",
        "colab": {
          "base_uri": "https://localhost:8080/"
        },
        "outputId": "5a491807-86b6-4029-c8ff-94b2462c444d",
        "pycharm": {
          "name": "#%%\n"
        }
      },
      "execution_count": 31,
      "outputs": [
        {
          "output_type": "stream",
          "name": "stdout",
          "text": [
            "name\n",
            "Tesla T4\n"
          ]
        }
      ]
    }
  ]
}