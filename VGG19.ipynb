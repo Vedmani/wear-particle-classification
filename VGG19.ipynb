{
  "nbformat": 4,
  "nbformat_minor": 0,
  "metadata": {
    "colab": {
      "provenance": [],
      "authorship_tag": "ABX9TyPntLhK4B4IZRuZqpa+8K5G",
      "include_colab_link": true
    },
    "kernelspec": {
      "name": "python3",
      "display_name": "Python 3"
    },
    "language_info": {
      "name": "python"
    }
  },
  "cells": [
    {
      "cell_type": "markdown",
      "metadata": {
        "id": "view-in-github",
        "colab_type": "text"
      },
      "source": [
        "<a href=\"https://colab.research.google.com/github/Vedmani/wear-particle-classification/blob/main/VGG19.ipynb\" target=\"_parent\"><img src=\"https://colab.research.google.com/assets/colab-badge.svg\" alt=\"Open In Colab\"/></a>"
      ]
    },
    {
      "cell_type": "code",
      "execution_count": null,
      "metadata": {
        "colab": {
          "base_uri": "https://localhost:8080/"
        },
        "id": "5ChWsX7iBBxP",
        "outputId": "9da9a57f-4848-4b45-ac4a-fbe7a329c3c9"
      },
      "outputs": [
        {
          "output_type": "stream",
          "name": "stdout",
          "text": [
            "\u001b[K     |████████████████████████████████| 1.9 MB 13.6 MB/s \n",
            "\u001b[K     |████████████████████████████████| 182 kB 55.8 MB/s \n",
            "\u001b[K     |████████████████████████████████| 162 kB 85.6 MB/s \n",
            "\u001b[K     |████████████████████████████████| 63 kB 1.8 MB/s \n",
            "\u001b[K     |████████████████████████████████| 162 kB 68.3 MB/s \n",
            "\u001b[K     |████████████████████████████████| 158 kB 67.4 MB/s \n",
            "\u001b[K     |████████████████████████████████| 157 kB 65.1 MB/s \n",
            "\u001b[K     |████████████████████████████████| 157 kB 64.0 MB/s \n",
            "\u001b[K     |████████████████████████████████| 157 kB 66.0 MB/s \n",
            "\u001b[K     |████████████████████████████████| 157 kB 82.3 MB/s \n",
            "\u001b[K     |████████████████████████████████| 157 kB 79.7 MB/s \n",
            "\u001b[K     |████████████████████████████████| 157 kB 53.4 MB/s \n",
            "\u001b[K     |████████████████████████████████| 157 kB 79.3 MB/s \n",
            "\u001b[K     |████████████████████████████████| 156 kB 80.6 MB/s \n",
            "\u001b[?25h  Building wheel for pathtools (setup.py) ... \u001b[?25l\u001b[?25hdone\n",
            "\u001b[34m\u001b[1mwandb\u001b[0m: Logging into wandb.ai. (Learn how to deploy a W&B server locally: https://wandb.me/wandb-server)\n",
            "\u001b[34m\u001b[1mwandb\u001b[0m: You can find your API key in your browser here: https://wandb.ai/authorize\n",
            "\u001b[34m\u001b[1mwandb\u001b[0m: Paste an API key from your profile and hit enter, or press ctrl+c to quit: "
          ]
        }
      ],
      "source": [
        "!pip install wandb -q\n",
        "!wandb login"
      ]
    },
    {
      "cell_type": "code",
      "source": [],
      "metadata": {
        "id": "XnjhZcQgBLB2"
      },
      "execution_count": null,
      "outputs": []
    }
  ]
}