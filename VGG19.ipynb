{
  "nbformat": 4,
  "nbformat_minor": 0,
  "metadata": {
    "colab": {
      "provenance": [],
      "mount_file_id": "https://github.com/Vedmani/wear-particle-classification/blob/main/VGG19.ipynb",
      "authorship_tag": "ABX9TyOpo8i31utT/rDNRKM6Vkyz",
      "include_colab_link": true
    },
    "kernelspec": {
      "name": "python3",
      "display_name": "Python 3"
    },
    "language_info": {
      "name": "python"
    },
    "accelerator": "GPU",
    "widgets": {
      "application/vnd.jupyter.widget-state+json": {
        "9200121125634e558ca172b248815da8": {
          "model_module": "@jupyter-widgets/controls",
          "model_name": "VBoxModel",
          "model_module_version": "1.5.0",
          "state": {
            "_dom_classes": [],
            "_model_module": "@jupyter-widgets/controls",
            "_model_module_version": "1.5.0",
            "_model_name": "VBoxModel",
            "_view_count": null,
            "_view_module": "@jupyter-widgets/controls",
            "_view_module_version": "1.5.0",
            "_view_name": "VBoxView",
            "box_style": "",
            "children": [
              "IPY_MODEL_deba014099b14d5281655eeac084d33a",
              "IPY_MODEL_46181da0521e4fa59955b253559a5f8f"
            ],
            "layout": "IPY_MODEL_c5a119bd0bcb4a7aa13c919c06559643"
          }
        },
        "deba014099b14d5281655eeac084d33a": {
          "model_module": "@jupyter-widgets/controls",
          "model_name": "LabelModel",
          "model_module_version": "1.5.0",
          "state": {
            "_dom_classes": [],
            "_model_module": "@jupyter-widgets/controls",
            "_model_module_version": "1.5.0",
            "_model_name": "LabelModel",
            "_view_count": null,
            "_view_module": "@jupyter-widgets/controls",
            "_view_module_version": "1.5.0",
            "_view_name": "LabelView",
            "description": "",
            "description_tooltip": null,
            "layout": "IPY_MODEL_2a58fb3f706448edabb5127dcf08b052",
            "placeholder": "​",
            "style": "IPY_MODEL_f099b047e9834c058e1403bb68999cd6",
            "value": "3348.232 MB of 3348.232 MB uploaded (0.088 MB deduped)\r"
          }
        },
        "46181da0521e4fa59955b253559a5f8f": {
          "model_module": "@jupyter-widgets/controls",
          "model_name": "FloatProgressModel",
          "model_module_version": "1.5.0",
          "state": {
            "_dom_classes": [],
            "_model_module": "@jupyter-widgets/controls",
            "_model_module_version": "1.5.0",
            "_model_name": "FloatProgressModel",
            "_view_count": null,
            "_view_module": "@jupyter-widgets/controls",
            "_view_module_version": "1.5.0",
            "_view_name": "ProgressView",
            "bar_style": "",
            "description": "",
            "description_tooltip": null,
            "layout": "IPY_MODEL_fadfce7693224e58a0a86a5461d4ca5e",
            "max": 1,
            "min": 0,
            "orientation": "horizontal",
            "style": "IPY_MODEL_d27511ccdbc348e388baffdcd108c191",
            "value": 1
          }
        },
        "c5a119bd0bcb4a7aa13c919c06559643": {
          "model_module": "@jupyter-widgets/base",
          "model_name": "LayoutModel",
          "model_module_version": "1.2.0",
          "state": {
            "_model_module": "@jupyter-widgets/base",
            "_model_module_version": "1.2.0",
            "_model_name": "LayoutModel",
            "_view_count": null,
            "_view_module": "@jupyter-widgets/base",
            "_view_module_version": "1.2.0",
            "_view_name": "LayoutView",
            "align_content": null,
            "align_items": null,
            "align_self": null,
            "border": null,
            "bottom": null,
            "display": null,
            "flex": null,
            "flex_flow": null,
            "grid_area": null,
            "grid_auto_columns": null,
            "grid_auto_flow": null,
            "grid_auto_rows": null,
            "grid_column": null,
            "grid_gap": null,
            "grid_row": null,
            "grid_template_areas": null,
            "grid_template_columns": null,
            "grid_template_rows": null,
            "height": null,
            "justify_content": null,
            "justify_items": null,
            "left": null,
            "margin": null,
            "max_height": null,
            "max_width": null,
            "min_height": null,
            "min_width": null,
            "object_fit": null,
            "object_position": null,
            "order": null,
            "overflow": null,
            "overflow_x": null,
            "overflow_y": null,
            "padding": null,
            "right": null,
            "top": null,
            "visibility": null,
            "width": null
          }
        },
        "2a58fb3f706448edabb5127dcf08b052": {
          "model_module": "@jupyter-widgets/base",
          "model_name": "LayoutModel",
          "model_module_version": "1.2.0",
          "state": {
            "_model_module": "@jupyter-widgets/base",
            "_model_module_version": "1.2.0",
            "_model_name": "LayoutModel",
            "_view_count": null,
            "_view_module": "@jupyter-widgets/base",
            "_view_module_version": "1.2.0",
            "_view_name": "LayoutView",
            "align_content": null,
            "align_items": null,
            "align_self": null,
            "border": null,
            "bottom": null,
            "display": null,
            "flex": null,
            "flex_flow": null,
            "grid_area": null,
            "grid_auto_columns": null,
            "grid_auto_flow": null,
            "grid_auto_rows": null,
            "grid_column": null,
            "grid_gap": null,
            "grid_row": null,
            "grid_template_areas": null,
            "grid_template_columns": null,
            "grid_template_rows": null,
            "height": null,
            "justify_content": null,
            "justify_items": null,
            "left": null,
            "margin": null,
            "max_height": null,
            "max_width": null,
            "min_height": null,
            "min_width": null,
            "object_fit": null,
            "object_position": null,
            "order": null,
            "overflow": null,
            "overflow_x": null,
            "overflow_y": null,
            "padding": null,
            "right": null,
            "top": null,
            "visibility": null,
            "width": null
          }
        },
        "f099b047e9834c058e1403bb68999cd6": {
          "model_module": "@jupyter-widgets/controls",
          "model_name": "DescriptionStyleModel",
          "model_module_version": "1.5.0",
          "state": {
            "_model_module": "@jupyter-widgets/controls",
            "_model_module_version": "1.5.0",
            "_model_name": "DescriptionStyleModel",
            "_view_count": null,
            "_view_module": "@jupyter-widgets/base",
            "_view_module_version": "1.2.0",
            "_view_name": "StyleView",
            "description_width": ""
          }
        },
        "fadfce7693224e58a0a86a5461d4ca5e": {
          "model_module": "@jupyter-widgets/base",
          "model_name": "LayoutModel",
          "model_module_version": "1.2.0",
          "state": {
            "_model_module": "@jupyter-widgets/base",
            "_model_module_version": "1.2.0",
            "_model_name": "LayoutModel",
            "_view_count": null,
            "_view_module": "@jupyter-widgets/base",
            "_view_module_version": "1.2.0",
            "_view_name": "LayoutView",
            "align_content": null,
            "align_items": null,
            "align_self": null,
            "border": null,
            "bottom": null,
            "display": null,
            "flex": null,
            "flex_flow": null,
            "grid_area": null,
            "grid_auto_columns": null,
            "grid_auto_flow": null,
            "grid_auto_rows": null,
            "grid_column": null,
            "grid_gap": null,
            "grid_row": null,
            "grid_template_areas": null,
            "grid_template_columns": null,
            "grid_template_rows": null,
            "height": null,
            "justify_content": null,
            "justify_items": null,
            "left": null,
            "margin": null,
            "max_height": null,
            "max_width": null,
            "min_height": null,
            "min_width": null,
            "object_fit": null,
            "object_position": null,
            "order": null,
            "overflow": null,
            "overflow_x": null,
            "overflow_y": null,
            "padding": null,
            "right": null,
            "top": null,
            "visibility": null,
            "width": null
          }
        },
        "d27511ccdbc348e388baffdcd108c191": {
          "model_module": "@jupyter-widgets/controls",
          "model_name": "ProgressStyleModel",
          "model_module_version": "1.5.0",
          "state": {
            "_model_module": "@jupyter-widgets/controls",
            "_model_module_version": "1.5.0",
            "_model_name": "ProgressStyleModel",
            "_view_count": null,
            "_view_module": "@jupyter-widgets/base",
            "_view_module_version": "1.2.0",
            "_view_name": "StyleView",
            "bar_color": null,
            "description_width": ""
          }
        }
      }
    }
  },
  "cells": [
    {
      "cell_type": "markdown",
      "metadata": {
        "id": "view-in-github",
        "colab_type": "text"
      },
      "source": [
        "<a href=\"https://colab.research.google.com/github/Vedmani/wear-particle-classification/blob/main/VGG19.ipynb\" target=\"_parent\"><img src=\"https://colab.research.google.com/assets/colab-badge.svg\" alt=\"Open In Colab\"/></a>"
      ]
    },
    {
      "cell_type": "code",
      "execution_count": null,
      "metadata": {
        "colab": {
          "base_uri": "https://localhost:8080/"
        },
        "id": "5ChWsX7iBBxP",
        "outputId": "b0da1fa9-17de-4a94-95e5-9cd1887e1643"
      },
      "outputs": [
        {
          "output_type": "stream",
          "name": "stdout",
          "text": [
            "\u001b[34m\u001b[1mwandb\u001b[0m: Currently logged in as: \u001b[33mvedmanivaidya\u001b[0m. Use \u001b[1m`wandb login --relogin`\u001b[0m to force relogin\n"
          ]
        }
      ],
      "source": [
        "!pip install wandb -q\n",
        "!wandb login"
      ]
    },
    {
      "cell_type": "code",
      "source": [
        "import numpy as np\n",
        "import os\n",
        "import PIL\n",
        "import PIL.Image\n",
        "import tensorflow as tf\n",
        "import matplotlib.pyplot as plt\n",
        "from tensorflow import keras\n",
        "from tensorflow.keras import layers\n",
        "from tensorflow.keras.models import Sequential\n",
        "import keras.applications\n",
        "import wandb\n",
        "from wandb.keras import WandbCallback"
      ],
      "metadata": {
        "id": "XnjhZcQgBLB2"
      },
      "execution_count": null,
      "outputs": []
    },
    {
      "cell_type": "code",
      "source": [
        "tf.keras.utils.set_random_seed(123)\n",
        "tf.config.experimental.enable_op_determinism()"
      ],
      "metadata": {
        "id": "0FvHfDgXBtzq"
      },
      "execution_count": null,
      "outputs": []
    },
    {
      "cell_type": "code",
      "source": [
        "PATH = '/content/drive/MyDrive/Research Internship/wear particles'\n",
        "batch_size = 32\n",
        "img_height = 224\n",
        "img_width = 224\n",
        "\n",
        "train_ds = tf.keras.utils.image_dataset_from_directory(\n",
        "  PATH,\n",
        "  validation_split=0.2,\n",
        "  subset=\"training\",\n",
        "  seed=123,\n",
        "  image_size=(img_height, img_width),\n",
        "  batch_size=batch_size)\n",
        "\n",
        "val_ds = tf.keras.utils.image_dataset_from_directory(\n",
        "  PATH,\n",
        "  validation_split=0.2,\n",
        "  subset=\"validation\",\n",
        "  seed=123,\n",
        "  image_size=(img_height, img_width),\n",
        "  batch_size=batch_size)\n",
        "\n",
        "class_names = train_ds.class_names\n",
        "print(class_names)\n",
        "num_classes = len(class_names)"
      ],
      "metadata": {
        "id": "Id_e65GMEDWr",
        "outputId": "ab00c48f-cfcf-461b-b283-f7c27ce00a84",
        "colab": {
          "base_uri": "https://localhost:8080/"
        }
      },
      "execution_count": null,
      "outputs": [
        {
          "output_type": "stream",
          "name": "stdout",
          "text": [
            "Found 740 files belonging to 5 classes.\n",
            "Using 592 files for training.\n",
            "Found 740 files belonging to 5 classes.\n",
            "Using 148 files for validation.\n",
            "['cutting wear', 'normal rubbign and cutting wear combined', 'normal rubbing wear', 'red oxide', 'severe sliding wear']\n"
          ]
        }
      ]
    },
    {
      "cell_type": "code",
      "source": [
        "vgg19=tf.keras.applications.VGG19(\n",
        "    include_top=False,\n",
        "    weights=\"imagenet\",\n",
        "    input_tensor=None,\n",
        "    input_shape=None,\n",
        "    pooling=None,\n",
        "    classes=1000,\n",
        "    classifier_activation=\"softmax\",\n",
        ")\n",
        "data_augmentation = tf.keras.Sequential([layers.RandomFlip(\"horizontal_and_vertical\"),layers.RandomRotation(0.2),])\n",
        "model_vgg19=Sequential([\n",
        "  #data_augmentation,\n",
        "  layers.Rescaling(1./255, input_shape=(img_height, img_width, 3)),\n",
        "  vgg19,\n",
        "  layers.Flatten(),\n",
        "  layers.Dense(1028, activation='relu'),\n",
        "  #layers.Dropout(0.5), \n",
        "  layers.Dense(num_classes, activation='softmax')\n",
        "])\n",
        "vgg19.trainable=False\n",
        "model_vgg19.summary()"
      ],
      "metadata": {
        "id": "vcLPJaxzErhW",
        "colab": {
          "base_uri": "https://localhost:8080/"
        },
        "outputId": "8f1fe949-5126-4407-a3a8-a3f4e6d8f43b"
      },
      "execution_count": null,
      "outputs": [
        {
          "output_type": "stream",
          "name": "stdout",
          "text": [
            "Model: \"sequential_2\"\n",
            "_________________________________________________________________\n",
            " Layer (type)                Output Shape              Param #   \n",
            "=================================================================\n",
            " rescaling_1 (Rescaling)     (None, 224, 224, 3)       0         \n",
            "                                                                 \n",
            " vgg19 (Functional)          (None, None, None, 512)   20024384  \n",
            "                                                                 \n",
            " flatten_1 (Flatten)         (None, 25088)             0         \n",
            "                                                                 \n",
            " dense_2 (Dense)             (None, 1028)              25791492  \n",
            "                                                                 \n",
            " dense_3 (Dense)             (None, 5)                 5145      \n",
            "                                                                 \n",
            "=================================================================\n",
            "Total params: 45,821,021\n",
            "Trainable params: 25,796,637\n",
            "Non-trainable params: 20,024,384\n",
            "_________________________________________________________________\n"
          ]
        }
      ]
    },
    {
      "cell_type": "code",
      "source": [
        "model_vgg19.compile(\n",
        "              optimizer= tf.keras.optimizers.Adam(learning_rate=0.001, beta_1=0.9, beta_2=0.999, epsilon=1e-07, amsgrad=False, name='Adam'),\n",
        "              loss=tf.keras.losses.SparseCategoricalCrossentropy(from_logits=False),\n",
        "              metrics=['accuracy']\n",
        "              )"
      ],
      "metadata": {
        "id": "DO8cAlPJGz9j"
      },
      "execution_count": null,
      "outputs": []
    },
    {
      "cell_type": "code",
      "source": [
        "wandb.init(\n",
        "      # Set the project where this run will be logged\n",
        "      project=\"Transfer_learning\", \n",
        "      name = \"vgg19_1\",\n",
        "      tags = \"without augment without dropout\"\n",
        ")"
      ],
      "metadata": {
        "colab": {
          "base_uri": "https://localhost:8080/",
          "height": 125
        },
        "id": "DquudfAvHMFf",
        "outputId": "0b3e05a7-16f6-4ed7-f4ec-ef57e3329241"
      },
      "execution_count": null,
      "outputs": [
        {
          "output_type": "stream",
          "name": "stderr",
          "text": [
            "ERROR:wandb.jupyter:Failed to detect the name of this notebook, you can set it manually with the WANDB_NOTEBOOK_NAME environment variable to enable code saving.\n",
            "\u001b[34m\u001b[1mwandb\u001b[0m: Currently logged in as: \u001b[33mvedmanivaidya\u001b[0m. Use \u001b[1m`wandb login --relogin`\u001b[0m to force relogin\n"
          ]
        },
        {
          "output_type": "display_data",
          "data": {
            "text/plain": [
              "<IPython.core.display.HTML object>"
            ],
            "text/html": [
              "Tracking run with wandb version 0.13.4"
            ]
          },
          "metadata": {}
        },
        {
          "output_type": "display_data",
          "data": {
            "text/plain": [
              "<IPython.core.display.HTML object>"
            ],
            "text/html": [
              "Run data is saved locally in <code>/content/wandb/run-20221007_110319-10f8odav</code>"
            ]
          },
          "metadata": {}
        },
        {
          "output_type": "display_data",
          "data": {
            "text/plain": [
              "<IPython.core.display.HTML object>"
            ],
            "text/html": [
              "Syncing run <strong><a href=\"https://wandb.ai/vedmanivaidya/Transfer_learning/runs/10f8odav\" target=\"_blank\">vgg19_1</a></strong> to <a href=\"https://wandb.ai/vedmanivaidya/Transfer_learning\" target=\"_blank\">Weights & Biases</a> (<a href=\"https://wandb.me/run\" target=\"_blank\">docs</a>)<br/>"
            ]
          },
          "metadata": {}
        },
        {
          "output_type": "execute_result",
          "data": {
            "text/html": [
              "<button onClick=\"this.nextSibling.style.display='block';this.style.display='none';\">Display W&B run</button><iframe src=\"https://wandb.ai/vedmanivaidya/Transfer_learning/runs/10f8odav?jupyter=true\" style=\"border:none;width:100%;height:420px;display:none;\"></iframe>"
            ],
            "text/plain": [
              "<wandb.sdk.wandb_run.Run at 0x7ff35310c810>"
            ]
          },
          "metadata": {},
          "execution_count": 16
        }
      ]
    },
    {
      "cell_type": "code",
      "source": [
        "epochs=40\n",
        "history = model_vgg19.fit(\n",
        "  train_ds,\n",
        "  validation_data=val_ds,\n",
        "  epochs=epochs,\n",
        "callbacks=[WandbCallback()]\n",
        ")"
      ],
      "metadata": {
        "colab": {
          "base_uri": "https://localhost:8080/"
        },
        "id": "ZR6vHGKPHRL3",
        "outputId": "5101bab1-2577-449a-9a28-1105f2d5a1c9"
      },
      "execution_count": null,
      "outputs": [
        {
          "output_type": "stream",
          "name": "stderr",
          "text": [
            "\u001b[34m\u001b[1mwandb\u001b[0m: \u001b[33mWARNING\u001b[0m The save_model argument by default saves the model in the HDF5 format that cannot save custom objects like subclassed models and custom layers. This behavior will be deprecated in a future release in favor of the SavedModel format. Meanwhile, the HDF5 model is saved as W&B files and the SavedModel as W&B Artifacts.\n"
          ]
        },
        {
          "output_type": "stream",
          "name": "stdout",
          "text": [
            "Epoch 1/40\n",
            "19/19 [==============================] - ETA: 0s - loss: 6.0837 - accuracy: 0.5861"
          ]
        },
        {
          "output_type": "stream",
          "name": "stderr",
          "text": [
            "\u001b[34m\u001b[1mwandb\u001b[0m: Adding directory to artifact (/content/wandb/run-20221007_110319-10f8odav/files/model-best)... Done. 2.5s\n"
          ]
        },
        {
          "output_type": "stream",
          "name": "stdout",
          "text": [
            "\b\b\b\b\b\b\b\b\b\b\b\b\b\b\b\b\b\b\b\b\b\b\b\b\b\b\b\b\b\b\b\b\b\b\b\b\b\b\b\b\b\b\b\b\b\b\b\b\b\b\b\b\b\b\b\b\b\b\b\b\b\b\b\b\b\b\b\b\b\b\b\b\b\b\b\b\b\b\b\b\b\b\r19/19 [==============================] - 253s 8s/step - loss: 6.0837 - accuracy: 0.5861 - val_loss: 0.2840 - val_accuracy: 0.9122\n",
            "Epoch 2/40\n",
            "19/19 [==============================] - ETA: 0s - loss: 0.1914 - accuracy: 0.9409"
          ]
        },
        {
          "output_type": "stream",
          "name": "stderr",
          "text": [
            "\u001b[34m\u001b[1mwandb\u001b[0m: Adding directory to artifact (/content/wandb/run-20221007_110319-10f8odav/files/model-best)... Done. 2.5s\n"
          ]
        },
        {
          "output_type": "stream",
          "name": "stdout",
          "text": [
            "\b\b\b\b\b\b\b\b\b\b\b\b\b\b\b\b\b\b\b\b\b\b\b\b\b\b\b\b\b\b\b\b\b\b\b\b\b\b\b\b\b\b\b\b\b\b\b\b\b\b\b\b\b\b\b\b\b\b\b\b\b\b\b\b\b\b\b\b\b\b\b\b\b\b\b\b\b\b\b\b\b\b\r19/19 [==============================] - 16s 845ms/step - loss: 0.1914 - accuracy: 0.9409 - val_loss: 0.2382 - val_accuracy: 0.9324\n",
            "Epoch 3/40\n",
            "19/19 [==============================] - ETA: 0s - loss: 0.1176 - accuracy: 0.9561"
          ]
        },
        {
          "output_type": "stream",
          "name": "stderr",
          "text": [
            "\u001b[34m\u001b[1mwandb\u001b[0m: Adding directory to artifact (/content/wandb/run-20221007_110319-10f8odav/files/model-best)... Done. 2.5s\n"
          ]
        },
        {
          "output_type": "stream",
          "name": "stdout",
          "text": [
            "\b\b\b\b\b\b\b\b\b\b\b\b\b\b\b\b\b\b\b\b\b\b\b\b\b\b\b\b\b\b\b\b\b\b\b\b\b\b\b\b\b\b\b\b\b\b\b\b\b\b\b\b\b\b\b\b\b\b\b\b\b\b\b\b\b\b\b\b\b\b\b\b\b\b\b\b\b\b\b\b\b\b\r19/19 [==============================] - 16s 860ms/step - loss: 0.1176 - accuracy: 0.9561 - val_loss: 0.1920 - val_accuracy: 0.9527\n",
            "Epoch 4/40\n",
            "19/19 [==============================] - ETA: 0s - loss: 0.0477 - accuracy: 0.9848"
          ]
        },
        {
          "output_type": "stream",
          "name": "stderr",
          "text": [
            "\u001b[34m\u001b[1mwandb\u001b[0m: Adding directory to artifact (/content/wandb/run-20221007_110319-10f8odav/files/model-best)... Done. 2.5s\n"
          ]
        },
        {
          "output_type": "stream",
          "name": "stdout",
          "text": [
            "\b\b\b\b\b\b\b\b\b\b\b\b\b\b\b\b\b\b\b\b\b\b\b\b\b\b\b\b\b\b\b\b\b\b\b\b\b\b\b\b\b\b\b\b\b\b\b\b\b\b\b\b\b\b\b\b\b\b\b\b\b\b\b\b\b\b\b\b\b\b\b\b\b\b\b\b\b\b\b\b\b\b\r19/19 [==============================] - 17s 901ms/step - loss: 0.0477 - accuracy: 0.9848 - val_loss: 0.0936 - val_accuracy: 0.9595\n",
            "Epoch 5/40\n",
            "19/19 [==============================] - ETA: 0s - loss: 0.0175 - accuracy: 0.9949"
          ]
        },
        {
          "output_type": "stream",
          "name": "stderr",
          "text": [
            "\u001b[34m\u001b[1mwandb\u001b[0m: Adding directory to artifact (/content/wandb/run-20221007_110319-10f8odav/files/model-best)... Done. 2.5s\n"
          ]
        },
        {
          "output_type": "stream",
          "name": "stdout",
          "text": [
            "\b\b\b\b\b\b\b\b\b\b\b\b\b\b\b\b\b\b\b\b\b\b\b\b\b\b\b\b\b\b\b\b\b\b\b\b\b\b\b\b\b\b\b\b\b\b\b\b\b\b\b\b\b\b\b\b\b\b\b\b\b\b\b\b\b\b\b\b\b\b\b\b\b\b\b\b\b\b\b\b\b\b\r19/19 [==============================] - 17s 894ms/step - loss: 0.0175 - accuracy: 0.9949 - val_loss: 0.0752 - val_accuracy: 0.9662\n",
            "Epoch 6/40\n",
            "19/19 [==============================] - 9s 432ms/step - loss: 0.0094 - accuracy: 0.9983 - val_loss: 0.0850 - val_accuracy: 0.9662\n",
            "Epoch 7/40\n",
            "19/19 [==============================] - 9s 434ms/step - loss: 0.0065 - accuracy: 0.9983 - val_loss: 0.0754 - val_accuracy: 0.9527\n",
            "Epoch 8/40\n",
            "19/19 [==============================] - 9s 435ms/step - loss: 0.0038 - accuracy: 1.0000 - val_loss: 0.0800 - val_accuracy: 0.9527\n",
            "Epoch 9/40\n",
            "19/19 [==============================] - ETA: 0s - loss: 0.0031 - accuracy: 1.0000"
          ]
        },
        {
          "output_type": "stream",
          "name": "stderr",
          "text": [
            "\u001b[34m\u001b[1mwandb\u001b[0m: Adding directory to artifact (/content/wandb/run-20221007_110319-10f8odav/files/model-best)... Done. 2.4s\n"
          ]
        },
        {
          "output_type": "stream",
          "name": "stdout",
          "text": [
            "\b\b\b\b\b\b\b\b\b\b\b\b\b\b\b\b\b\b\b\b\b\b\b\b\b\b\b\b\b\b\b\b\b\b\b\b\b\b\b\b\b\b\b\b\b\b\b\b\b\b\b\b\b\b\b\b\b\b\b\b\b\b\b\b\b\b\b\b\b\b\b\b\b\b\b\b\b\b\b\b\b\b\r19/19 [==============================] - 16s 844ms/step - loss: 0.0031 - accuracy: 1.0000 - val_loss: 0.0729 - val_accuracy: 0.9662\n",
            "Epoch 10/40\n",
            "19/19 [==============================] - 9s 432ms/step - loss: 0.0027 - accuracy: 1.0000 - val_loss: 0.0790 - val_accuracy: 0.9527\n",
            "Epoch 11/40\n",
            "19/19 [==============================] - 9s 428ms/step - loss: 0.0023 - accuracy: 1.0000 - val_loss: 0.0759 - val_accuracy: 0.9595\n",
            "Epoch 12/40\n",
            "19/19 [==============================] - ETA: 0s - loss: 0.0021 - accuracy: 1.0000"
          ]
        },
        {
          "output_type": "stream",
          "name": "stderr",
          "text": [
            "\u001b[34m\u001b[1mwandb\u001b[0m: Adding directory to artifact (/content/wandb/run-20221007_110319-10f8odav/files/model-best)... Done. 2.5s\n"
          ]
        },
        {
          "output_type": "stream",
          "name": "stdout",
          "text": [
            "\b\b\b\b\b\b\b\b\b\b\b\b\b\b\b\b\b\b\b\b\b\b\b\b\b\b\b\b\b\b\b\b\b\b\b\b\b\b\b\b\b\b\b\b\b\b\b\b\b\b\b\b\b\b\b\b\b\b\b\b\b\b\b\b\b\b\b\b\b\b\b\b\b\b\b\b\b\b\b\b\b\b\r19/19 [==============================] - 16s 855ms/step - loss: 0.0021 - accuracy: 1.0000 - val_loss: 0.0700 - val_accuracy: 0.9662\n",
            "Epoch 13/40\n",
            "19/19 [==============================] - 9s 431ms/step - loss: 0.0019 - accuracy: 1.0000 - val_loss: 0.0740 - val_accuracy: 0.9662\n",
            "Epoch 14/40\n",
            "19/19 [==============================] - 9s 433ms/step - loss: 0.0017 - accuracy: 1.0000 - val_loss: 0.0732 - val_accuracy: 0.9662\n",
            "Epoch 15/40\n",
            "19/19 [==============================] - 9s 440ms/step - loss: 0.0016 - accuracy: 1.0000 - val_loss: 0.0751 - val_accuracy: 0.9595\n",
            "Epoch 16/40\n",
            "19/19 [==============================] - 9s 436ms/step - loss: 0.0014 - accuracy: 1.0000 - val_loss: 0.0730 - val_accuracy: 0.9662\n",
            "Epoch 17/40\n",
            "19/19 [==============================] - 9s 431ms/step - loss: 0.0013 - accuracy: 1.0000 - val_loss: 0.0722 - val_accuracy: 0.9662\n",
            "Epoch 18/40\n",
            "19/19 [==============================] - 9s 430ms/step - loss: 0.0012 - accuracy: 1.0000 - val_loss: 0.0766 - val_accuracy: 0.9662\n",
            "Epoch 19/40\n",
            "19/19 [==============================] - 9s 436ms/step - loss: 0.0011 - accuracy: 1.0000 - val_loss: 0.0719 - val_accuracy: 0.9662\n",
            "Epoch 20/40\n",
            "19/19 [==============================] - 9s 427ms/step - loss: 0.0010 - accuracy: 1.0000 - val_loss: 0.0714 - val_accuracy: 0.9662\n",
            "Epoch 21/40\n",
            "19/19 [==============================] - 9s 429ms/step - loss: 9.5169e-04 - accuracy: 1.0000 - val_loss: 0.0723 - val_accuracy: 0.9662\n",
            "Epoch 22/40\n",
            "19/19 [==============================] - 9s 429ms/step - loss: 9.1764e-04 - accuracy: 1.0000 - val_loss: 0.0749 - val_accuracy: 0.9662\n",
            "Epoch 23/40\n",
            "19/19 [==============================] - 9s 432ms/step - loss: 8.3049e-04 - accuracy: 1.0000 - val_loss: 0.0719 - val_accuracy: 0.9730\n",
            "Epoch 24/40\n",
            "19/19 [==============================] - 9s 433ms/step - loss: 7.9994e-04 - accuracy: 1.0000 - val_loss: 0.0721 - val_accuracy: 0.9662\n",
            "Epoch 25/40\n",
            "19/19 [==============================] - 9s 432ms/step - loss: 7.3153e-04 - accuracy: 1.0000 - val_loss: 0.0718 - val_accuracy: 0.9730\n",
            "Epoch 26/40\n",
            "19/19 [==============================] - 9s 428ms/step - loss: 7.0281e-04 - accuracy: 1.0000 - val_loss: 0.0742 - val_accuracy: 0.9662\n",
            "Epoch 27/40\n",
            "19/19 [==============================] - 9s 429ms/step - loss: 6.5905e-04 - accuracy: 1.0000 - val_loss: 0.0716 - val_accuracy: 0.9730\n",
            "Epoch 28/40\n",
            "19/19 [==============================] - 9s 426ms/step - loss: 6.2811e-04 - accuracy: 1.0000 - val_loss: 0.0717 - val_accuracy: 0.9730\n",
            "Epoch 29/40\n",
            "19/19 [==============================] - 9s 428ms/step - loss: 5.9620e-04 - accuracy: 1.0000 - val_loss: 0.0746 - val_accuracy: 0.9662\n",
            "Epoch 30/40\n",
            "19/19 [==============================] - 9s 428ms/step - loss: 5.6694e-04 - accuracy: 1.0000 - val_loss: 0.0704 - val_accuracy: 0.9730\n",
            "Epoch 31/40\n",
            "19/19 [==============================] - 9s 429ms/step - loss: 5.3958e-04 - accuracy: 1.0000 - val_loss: 0.0733 - val_accuracy: 0.9730\n",
            "Epoch 32/40\n",
            "19/19 [==============================] - 9s 431ms/step - loss: 5.1336e-04 - accuracy: 1.0000 - val_loss: 0.0714 - val_accuracy: 0.9730\n",
            "Epoch 33/40\n",
            "19/19 [==============================] - 9s 431ms/step - loss: 5.0195e-04 - accuracy: 1.0000 - val_loss: 0.0702 - val_accuracy: 0.9730\n",
            "Epoch 34/40\n",
            "19/19 [==============================] - 9s 432ms/step - loss: 4.7355e-04 - accuracy: 1.0000 - val_loss: 0.0716 - val_accuracy: 0.9730\n",
            "Epoch 35/40\n",
            "19/19 [==============================] - 9s 428ms/step - loss: 4.4973e-04 - accuracy: 1.0000 - val_loss: 0.0718 - val_accuracy: 0.9730\n",
            "Epoch 36/40\n",
            "19/19 [==============================] - 9s 430ms/step - loss: 4.3040e-04 - accuracy: 1.0000 - val_loss: 0.0740 - val_accuracy: 0.9730\n",
            "Epoch 37/40\n",
            "19/19 [==============================] - ETA: 0s - loss: 4.1213e-04 - accuracy: 1.0000"
          ]
        },
        {
          "output_type": "stream",
          "name": "stderr",
          "text": [
            "\u001b[34m\u001b[1mwandb\u001b[0m: Adding directory to artifact (/content/wandb/run-20221007_110319-10f8odav/files/model-best)... Done. 2.4s\n"
          ]
        },
        {
          "output_type": "stream",
          "name": "stdout",
          "text": [
            "\b\b\b\b\b\b\b\b\b\b\b\b\b\b\b\b\b\b\b\b\b\b\b\b\b\b\b\b\b\b\b\b\b\b\b\b\b\b\b\b\b\b\b\b\b\b\b\b\b\b\b\b\b\b\b\b\b\b\b\b\b\b\b\b\b\b\b\b\b\b\b\b\b\b\b\b\b\b\b\b\b\b\b\b\b\b\r19/19 [==============================] - 17s 889ms/step - loss: 4.1213e-04 - accuracy: 1.0000 - val_loss: 0.0700 - val_accuracy: 0.9730\n",
            "Epoch 38/40\n",
            "19/19 [==============================] - 9s 427ms/step - loss: 3.9521e-04 - accuracy: 1.0000 - val_loss: 0.0707 - val_accuracy: 0.9730\n",
            "Epoch 39/40\n",
            "19/19 [==============================] - 9s 434ms/step - loss: 3.8356e-04 - accuracy: 1.0000 - val_loss: 0.0719 - val_accuracy: 0.9730\n",
            "Epoch 40/40\n",
            "19/19 [==============================] - 9s 436ms/step - loss: 3.6514e-04 - accuracy: 1.0000 - val_loss: 0.0724 - val_accuracy: 0.9730\n"
          ]
        }
      ]
    },
    {
      "cell_type": "code",
      "source": [
        "wandb.finish()"
      ],
      "metadata": {
        "id": "hdgNLFFmHUFP",
        "outputId": "4fe1d062-3b3a-4a8e-a8a0-a61a35973ec6",
        "colab": {
          "base_uri": "https://localhost:8080/",
          "height": 397,
          "referenced_widgets": [
            "9200121125634e558ca172b248815da8",
            "deba014099b14d5281655eeac084d33a",
            "46181da0521e4fa59955b253559a5f8f",
            "c5a119bd0bcb4a7aa13c919c06559643",
            "2a58fb3f706448edabb5127dcf08b052",
            "f099b047e9834c058e1403bb68999cd6",
            "fadfce7693224e58a0a86a5461d4ca5e",
            "d27511ccdbc348e388baffdcd108c191"
          ]
        }
      },
      "execution_count": null,
      "outputs": [
        {
          "output_type": "display_data",
          "data": {
            "text/plain": [
              "<IPython.core.display.HTML object>"
            ],
            "text/html": [
              "Waiting for W&B process to finish... <strong style=\"color:green\">(success).</strong>"
            ]
          },
          "metadata": {}
        },
        {
          "output_type": "display_data",
          "data": {
            "text/plain": [
              "VBox(children=(Label(value='3348.217 MB of 3348.217 MB uploaded (0.088 MB deduped)\\r'), FloatProgress(value=1.…"
            ],
            "application/vnd.jupyter.widget-view+json": {
              "version_major": 2,
              "version_minor": 0,
              "model_id": "9200121125634e558ca172b248815da8"
            }
          },
          "metadata": {}
        },
        {
          "output_type": "display_data",
          "data": {
            "text/plain": [
              "<IPython.core.display.HTML object>"
            ],
            "text/html": [
              "<style>\n",
              "    table.wandb td:nth-child(1) { padding: 0 10px; text-align: left ; width: auto;} td:nth-child(2) {text-align: left ; width: 100%}\n",
              "    .wandb-row { display: flex; flex-direction: row; flex-wrap: wrap; justify-content: flex-start; width: 100% }\n",
              "    .wandb-col { display: flex; flex-direction: column; flex-basis: 100%; flex: 1; padding: 10px; }\n",
              "    </style>\n",
              "<div class=\"wandb-row\"><div class=\"wandb-col\"><h3>Run history:</h3><br/><table class=\"wandb\"><tr><td>accuracy</td><td>▁▇▇█████████████████████████████████████</td></tr><tr><td>epoch</td><td>▁▁▁▂▂▂▂▂▂▃▃▃▃▃▄▄▄▄▄▄▅▅▅▅▅▅▆▆▆▆▆▇▇▇▇▇▇███</td></tr><tr><td>loss</td><td>█▁▁▁▁▁▁▁▁▁▁▁▁▁▁▁▁▁▁▁▁▁▁▁▁▁▁▁▁▁▁▁▁▁▁▁▁▁▁▁</td></tr><tr><td>val_accuracy</td><td>▁▃▆▆▇▇▆▆▇▆▆▇▇▇▆▇▇▇▇▇▇▇█▇█▇██▇███████████</td></tr><tr><td>val_loss</td><td>█▇▅▂▁▁▁▁▁▁▁▁▁▁▁▁▁▁▁▁▁▁▁▁▁▁▁▁▁▁▁▁▁▁▁▁▁▁▁▁</td></tr></table><br/></div><div class=\"wandb-col\"><h3>Run summary:</h3><br/><table class=\"wandb\"><tr><td>accuracy</td><td>1.0</td></tr><tr><td>best_epoch</td><td>36</td></tr><tr><td>best_val_loss</td><td>0.06997</td></tr><tr><td>epoch</td><td>39</td></tr><tr><td>loss</td><td>0.00037</td></tr><tr><td>val_accuracy</td><td>0.97297</td></tr><tr><td>val_loss</td><td>0.07241</td></tr></table><br/></div></div>"
            ]
          },
          "metadata": {}
        },
        {
          "output_type": "display_data",
          "data": {
            "text/plain": [
              "<IPython.core.display.HTML object>"
            ],
            "text/html": [
              "Synced <strong style=\"color:#cdcd00\">vgg19_1</strong>: <a href=\"https://wandb.ai/vedmanivaidya/Transfer_learning/runs/10f8odav\" target=\"_blank\">https://wandb.ai/vedmanivaidya/Transfer_learning/runs/10f8odav</a><br/>Synced 5 W&B file(s), 1 media file(s), 25 artifact file(s) and 1 other file(s)"
            ]
          },
          "metadata": {}
        },
        {
          "output_type": "display_data",
          "data": {
            "text/plain": [
              "<IPython.core.display.HTML object>"
            ],
            "text/html": [
              "Find logs at: <code>./wandb/run-20221007_110319-10f8odav/logs</code>"
            ]
          },
          "metadata": {}
        }
      ]
    },
    {
      "cell_type": "code",
      "source": [],
      "metadata": {
        "id": "5Kri76yzHYIo"
      },
      "execution_count": null,
      "outputs": []
    }
  ]
}