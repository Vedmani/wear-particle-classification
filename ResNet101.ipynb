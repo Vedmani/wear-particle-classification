{
  "cells": [
    {
      "cell_type": "code",
      "source": [
        "from google.colab import drive\n",
        "drive.mount('/content/drive')"
      ],
      "metadata": {
        "colab": {
          "base_uri": "https://localhost:8080/"
        },
        "id": "hZxsQnPoFFCQ",
        "outputId": "f304cedc-90ac-457b-9679-8dc03e01c750"
      },
      "execution_count": 1,
      "outputs": [
        {
          "output_type": "stream",
          "name": "stdout",
          "text": [
            "Mounted at /content/drive\n"
          ]
        }
      ]
    },
    {
      "cell_type": "code",
      "execution_count": 2,
      "outputs": [
        {
          "output_type": "stream",
          "name": "stdout",
          "text": [
            "\u001b[K     |████████████████████████████████| 1.9 MB 13.3 MB/s \n",
            "\u001b[K     |████████████████████████████████| 168 kB 61.9 MB/s \n",
            "\u001b[K     |████████████████████████████████| 182 kB 76.5 MB/s \n",
            "\u001b[K     |████████████████████████████████| 62 kB 1.3 MB/s \n",
            "\u001b[K     |████████████████████████████████| 168 kB 77.5 MB/s \n",
            "\u001b[K     |████████████████████████████████| 166 kB 78.5 MB/s \n",
            "\u001b[K     |████████████████████████████████| 166 kB 82.1 MB/s \n",
            "\u001b[K     |████████████████████████████████| 162 kB 81.7 MB/s \n",
            "\u001b[K     |████████████████████████████████| 162 kB 77.1 MB/s \n",
            "\u001b[K     |████████████████████████████████| 158 kB 84.4 MB/s \n",
            "\u001b[K     |████████████████████████████████| 157 kB 76.0 MB/s \n",
            "\u001b[K     |████████████████████████████████| 157 kB 85.5 MB/s \n",
            "\u001b[K     |████████████████████████████████| 157 kB 85.0 MB/s \n",
            "\u001b[K     |████████████████████████████████| 157 kB 87.5 MB/s \n",
            "\u001b[K     |████████████████████████████████| 157 kB 85.0 MB/s \n",
            "\u001b[K     |████████████████████████████████| 157 kB 82.3 MB/s \n",
            "\u001b[K     |████████████████████████████████| 157 kB 83.5 MB/s \n",
            "\u001b[K     |████████████████████████████████| 156 kB 83.6 MB/s \n",
            "\u001b[?25h  Building wheel for pathtools (setup.py) ... \u001b[?25l\u001b[?25hdone\n",
            "\u001b[34m\u001b[1mwandb\u001b[0m: Logging into wandb.ai. (Learn how to deploy a W&B server locally: https://wandb.me/wandb-server)\n",
            "\u001b[34m\u001b[1mwandb\u001b[0m: You can find your API key in your browser here: https://wandb.ai/authorize\n",
            "\u001b[34m\u001b[1mwandb\u001b[0m: Paste an API key from your profile and hit enter, or press ctrl+c to quit: \n",
            "\u001b[34m\u001b[1mwandb\u001b[0m: Appending key for api.wandb.ai to your netrc file: /root/.netrc\n"
          ]
        }
      ],
      "source": [
        "!pip install wandb -qU\n",
        "!wandb login"
      ],
      "metadata": {
        "pycharm": {
          "name": "#%%\n"
        },
        "colab": {
          "base_uri": "https://localhost:8080/"
        },
        "id": "nzVPsk5i2f6k",
        "outputId": "c1b7966a-07e3-4f2b-b20e-6d0887d7d086"
      }
    },
    {
      "cell_type": "code",
      "execution_count": 3,
      "outputs": [],
      "source": [
        "import tensorflow as tf\n",
        "from tensorflow import keras\n",
        "from tensorflow.keras import layers\n",
        "from tensorflow.keras.models import Sequential\n",
        "import wandb\n",
        "from wandb.keras import WandbCallback"
      ],
      "metadata": {
        "pycharm": {
          "name": "#%%\n"
        },
        "id": "acoOtOXx2f6z"
      }
    },
    {
      "cell_type": "code",
      "source": [
        "%env WANDB_NOTEBOOK_NAME = \"ResNet101\""
      ],
      "metadata": {
        "colab": {
          "base_uri": "https://localhost:8080/"
        },
        "id": "RUFTUFPEES9y",
        "outputId": "b569b038-5876-428a-aa91-d3b1bdb14846"
      },
      "execution_count": 14,
      "outputs": [
        {
          "output_type": "stream",
          "name": "stdout",
          "text": [
            "env: WANDB_NOTEBOOK_NAME=\"ResNet101\"\n"
          ]
        }
      ]
    },
    {
      "cell_type": "code",
      "execution_count": 4,
      "outputs": [],
      "source": [
        "tf.keras.utils.set_random_seed(1)\n",
        "tf.config.experimental.enable_op_determinism()"
      ],
      "metadata": {
        "pycharm": {
          "name": "#%%\n"
        },
        "id": "vhcPFfST2f62"
      }
    },
    {
      "cell_type": "code",
      "source": [
        "PATH = '/content/drive/MyDrive/Research Internship/final data/wear particles/Train'\n",
        "test_path = '/content/drive/MyDrive/Research Internship/final data/wear particles/Test'\n",
        "batch_size = 32\n",
        "img_height = 224\n",
        "img_width = 224\n",
        "\n",
        "train_ds = tf.keras.utils.image_dataset_from_directory(\n",
        "  PATH,\n",
        "  validation_split=0.2,\n",
        "  subset=\"training\",\n",
        "  seed=42,\n",
        "  image_size=(img_height, img_width),\n",
        "  batch_size=batch_size)\n",
        "\n",
        "val_ds = tf.keras.utils.image_dataset_from_directory(\n",
        "  PATH,\n",
        "  validation_split=0.2,\n",
        "  subset=\"validation\",\n",
        "  seed=42,\n",
        "  image_size=(img_height, img_width),\n",
        "  batch_size=batch_size)\n",
        "\n",
        "test_ds = tf.keras.utils.image_dataset_from_directory(\n",
        "  test_path,\n",
        "  seed = 42,\n",
        "  image_size=(img_height, img_width))"
      ],
      "metadata": {
        "colab": {
          "base_uri": "https://localhost:8080/"
        },
        "id": "CiW-AljoCyRN",
        "outputId": "a54553af-d352-46e8-d3dd-6334ddf5928a"
      },
      "execution_count": 5,
      "outputs": [
        {
          "output_type": "stream",
          "name": "stdout",
          "text": [
            "Found 879 files belonging to 5 classes.\n",
            "Using 704 files for training.\n",
            "Found 879 files belonging to 5 classes.\n",
            "Using 175 files for validation.\n",
            "Found 100 files belonging to 5 classes.\n"
          ]
        }
      ]
    },
    {
      "cell_type": "code",
      "source": [
        "class_names = train_ds.class_names\n",
        "test_class_names = test_ds.class_names\n",
        "num_classes = len(class_names)\n",
        "print(class_names)"
      ],
      "metadata": {
        "colab": {
          "base_uri": "https://localhost:8080/"
        },
        "id": "EILIELHHzygF",
        "outputId": "c4b65907-dd26-44ec-f210-1d7be1980998"
      },
      "execution_count": 6,
      "outputs": [
        {
          "output_type": "stream",
          "name": "stdout",
          "text": [
            "['cutting wear', 'normal rubbing and cutting wear combined', 'normal rubbing wear', 'red oxide', 'severe sliding wear']\n"
          ]
        }
      ]
    },
    {
      "cell_type": "code",
      "source": [
        "tf.keras.backend.clear_session()\n",
        "resnet101 = tf.keras.applications.ResNet101(\n",
        "    include_top=False,\n",
        "    weights=\"imagenet\",\n",
        "    input_tensor=None,\n",
        "    input_shape=(224,224,3),\n",
        "    pooling='avg')\n",
        "model_resnet101=Sequential([\n",
        "  layers.Rescaling(1./255, input_shape=(img_height, img_width, 3)),\n",
        "  resnet101,\n",
        "  layers.Dropout(0.2), \n",
        "  layers.Dense(num_classes, activation='softmax')\n",
        "])\n",
        "resnet101.trainable=False\n",
        "model_resnet101.summary()"
      ],
      "metadata": {
        "colab": {
          "base_uri": "https://localhost:8080/"
        },
        "id": "qTLja-HJCy79",
        "outputId": "9a5e217b-9415-4678-f5cf-6dabfbc5a81e"
      },
      "execution_count": 11,
      "outputs": [
        {
          "output_type": "stream",
          "name": "stdout",
          "text": [
            "Model: \"sequential\"\n",
            "_________________________________________________________________\n",
            " Layer (type)                Output Shape              Param #   \n",
            "=================================================================\n",
            " rescaling (Rescaling)       (None, 224, 224, 3)       0         \n",
            "                                                                 \n",
            " resnet101 (Functional)      (None, 2048)              42658176  \n",
            "                                                                 \n",
            " dropout (Dropout)           (None, 2048)              0         \n",
            "                                                                 \n",
            " dense (Dense)               (None, 5)                 10245     \n",
            "                                                                 \n",
            "=================================================================\n",
            "Total params: 42,668,421\n",
            "Trainable params: 10,245\n",
            "Non-trainable params: 42,658,176\n",
            "_________________________________________________________________\n"
          ]
        }
      ]
    },
    {
      "cell_type": "code",
      "source": [
        "model_resnet101.compile(\n",
        "              optimizer= tf.keras.optimizers.Adam(learning_rate=0.001, beta_1=0.9, beta_2=0.999, epsilon=1e-07, amsgrad=False, name='Adam'),\n",
        "              loss=tf.keras.losses.SparseCategoricalCrossentropy(from_logits=False),\n",
        "              metrics=['accuracy'],\n",
        "              jit_compile = True\n",
        "              )"
      ],
      "metadata": {
        "id": "UKCoWlAWD1XP"
      },
      "execution_count": 12,
      "outputs": []
    },
    {
      "cell_type": "code",
      "source": [
        "wandb.init(\n",
        "      # Set the project where this run will be logged\n",
        "      project=\"Transfer_Learning_New\", \n",
        "      name = \"resnet101\",\n",
        ")"
      ],
      "metadata": {
        "colab": {
          "base_uri": "https://localhost:8080/",
          "height": 125
        },
        "id": "v7gcv8AMD9Vv",
        "outputId": "4ad86671-f553-4f3c-86c0-b17d61d22312"
      },
      "execution_count": 13,
      "outputs": [
        {
          "output_type": "stream",
          "name": "stderr",
          "text": [
            "ERROR:wandb.jupyter:Failed to detect the name of this notebook, you can set it manually with the WANDB_NOTEBOOK_NAME environment variable to enable code saving.\n",
            "\u001b[34m\u001b[1mwandb\u001b[0m: Currently logged in as: \u001b[33mvedmanivaidya\u001b[0m. Use \u001b[1m`wandb login --relogin`\u001b[0m to force relogin\n"
          ]
        },
        {
          "output_type": "display_data",
          "data": {
            "text/plain": [
              "<IPython.core.display.HTML object>"
            ],
            "text/html": [
              "Tracking run with wandb version 0.13.6"
            ]
          },
          "metadata": {}
        },
        {
          "output_type": "display_data",
          "data": {
            "text/plain": [
              "<IPython.core.display.HTML object>"
            ],
            "text/html": [
              "Run data is saved locally in <code>/content/wandb/run-20221208_092850-2m5q1lbn</code>"
            ]
          },
          "metadata": {}
        },
        {
          "output_type": "display_data",
          "data": {
            "text/plain": [
              "<IPython.core.display.HTML object>"
            ],
            "text/html": [
              "Syncing run <strong><a href=\"https://wandb.ai/vedmanivaidya/Transfer_Learning_New/runs/2m5q1lbn\" target=\"_blank\">resnet101</a></strong> to <a href=\"https://wandb.ai/vedmanivaidya/Transfer_Learning_New\" target=\"_blank\">Weights & Biases</a> (<a href=\"https://wandb.me/run\" target=\"_blank\">docs</a>)<br/>"
            ]
          },
          "metadata": {}
        },
        {
          "output_type": "execute_result",
          "data": {
            "text/html": [
              "<button onClick=\"this.nextSibling.style.display='block';this.style.display='none';\">Display W&B run</button><iframe src=\"https://wandb.ai/vedmanivaidya/Transfer_Learning_New/runs/2m5q1lbn?jupyter=true\" style=\"border:none;width:100%;height:420px;display:none;\"></iframe>"
            ],
            "text/plain": [
              "<wandb.sdk.wandb_run.Run at 0x7fd1cb869e50>"
            ]
          },
          "metadata": {},
          "execution_count": 13
        }
      ]
    },
    {
      "cell_type": "code",
      "source": [
        "%%time\n",
        "epochs=40\n",
        "history = model_resnet101.fit(\n",
        "  train_ds,\n",
        "  validation_data=val_ds,\n",
        "  epochs=epochs,\n",
        "callbacks=[WandbCallback(\n",
        "    compute_flops = True,\n",
        "    save_model = True\n",
        ")]\n",
        ")"
      ],
      "metadata": {
        "colab": {
          "base_uri": "https://localhost:8080/"
        },
        "id": "yQ50kAkQEOBS",
        "outputId": "8412f626-bfec-4d84-fc81-cb912d5fa3ef"
      },
      "execution_count": 15,
      "outputs": [
        {
          "output_type": "stream",
          "name": "stderr",
          "text": [
            "\u001b[34m\u001b[1mwandb\u001b[0m: \u001b[33mWARNING\u001b[0m The save_model argument by default saves the model in the HDF5 format that cannot save custom objects like subclassed models and custom layers. This behavior will be deprecated in a future release in favor of the SavedModel format. Meanwhile, the HDF5 model is saved as W&B files and the SavedModel as W&B Artifacts.\n",
            "WARNING:tensorflow:From /usr/local/lib/python3.8/dist-packages/tensorflow/python/profiler/internal/flops_registry.py:138: tensor_shape_from_node_def_name (from tensorflow.python.framework.graph_util_impl) is deprecated and will be removed in a future version.\n",
            "Instructions for updating:\n",
            "Use `tf.compat.v1.graph_util.tensor_shape_from_node_def_name`\n"
          ]
        },
        {
          "output_type": "stream",
          "name": "stdout",
          "text": [
            "Epoch 1/40\n",
            "22/22 [==============================] - ETA: 0s - loss: 1.5601 - accuracy: 0.3480"
          ]
        },
        {
          "output_type": "stream",
          "name": "stderr",
          "text": [
            "WARNING:absl:Found untraced functions such as _jit_compiled_convolution_op, _jit_compiled_convolution_op, _jit_compiled_convolution_op, _jit_compiled_convolution_op, _jit_compiled_convolution_op while saving (showing 5 of 104). These functions will not be directly callable after loading.\n",
            "\u001b[34m\u001b[1mwandb\u001b[0m: Adding directory to artifact (/content/wandb/run-20221208_092850-2m5q1lbn/files/model-best)... Done. 1.2s\n"
          ]
        },
        {
          "output_type": "stream",
          "name": "stdout",
          "text": [
            "\b\b\b\b\b\b\b\b\b\b\b\b\b\b\b\b\b\b\b\b\b\b\b\b\b\b\b\b\b\b\b\b\b\b\b\b\b\b\b\b\b\b\b\b\b\b\b\b\b\b\b\b\b\b\b\b\b\b\b\b\b\b\b\b\b\b\b\b\b\b\b\b\b\b\b\b\b\b\b\b\b\b\r22/22 [==============================] - 319s 10s/step - loss: 1.5601 - accuracy: 0.3480 - val_loss: 1.4241 - val_accuracy: 0.5143\n",
            "Epoch 2/40\n",
            "22/22 [==============================] - ETA: 0s - loss: 1.3646 - accuracy: 0.4801"
          ]
        },
        {
          "output_type": "stream",
          "name": "stderr",
          "text": [
            "WARNING:absl:Found untraced functions such as _jit_compiled_convolution_op, _jit_compiled_convolution_op, _jit_compiled_convolution_op, _jit_compiled_convolution_op, _jit_compiled_convolution_op while saving (showing 5 of 104). These functions will not be directly callable after loading.\n",
            "\u001b[34m\u001b[1mwandb\u001b[0m: Adding directory to artifact (/content/wandb/run-20221208_092850-2m5q1lbn/files/model-best)... Done. 1.3s\n"
          ]
        },
        {
          "output_type": "stream",
          "name": "stdout",
          "text": [
            "\b\b\b\b\b\b\b\b\b\b\b\b\b\b\b\b\b\b\b\b\b\b\b\b\b\b\b\b\b\b\b\b\b\b\b\b\b\b\b\b\b\b\b\b\b\b\b\b\b\b\b\b\b\b\b\b\b\b\b\b\b\b\b\b\b\b\b\b\b\b\b\b\b\b\b\b\b\b\b\b\b\b\r22/22 [==============================] - 46s 2s/step - loss: 1.3646 - accuracy: 0.4801 - val_loss: 1.3072 - val_accuracy: 0.5371\n",
            "Epoch 3/40\n",
            "22/22 [==============================] - ETA: 0s - loss: 1.2811 - accuracy: 0.5085"
          ]
        },
        {
          "output_type": "stream",
          "name": "stderr",
          "text": [
            "WARNING:absl:Found untraced functions such as _jit_compiled_convolution_op, _jit_compiled_convolution_op, _jit_compiled_convolution_op, _jit_compiled_convolution_op, _jit_compiled_convolution_op while saving (showing 5 of 104). These functions will not be directly callable after loading.\n",
            "\u001b[34m\u001b[1mwandb\u001b[0m: Adding directory to artifact (/content/wandb/run-20221208_092850-2m5q1lbn/files/model-best)... Done. 1.2s\n"
          ]
        },
        {
          "output_type": "stream",
          "name": "stdout",
          "text": [
            "\b\b\b\b\b\b\b\b\b\b\b\b\b\b\b\b\b\b\b\b\b\b\b\b\b\b\b\b\b\b\b\b\b\b\b\b\b\b\b\b\b\b\b\b\b\b\b\b\b\b\b\b\b\b\b\b\b\b\b\b\b\b\b\b\b\b\b\b\b\b\b\b\b\b\b\b\b\b\b\b\b\b\r22/22 [==============================] - 50s 2s/step - loss: 1.2811 - accuracy: 0.5085 - val_loss: 1.2685 - val_accuracy: 0.5200\n",
            "Epoch 4/40\n",
            "22/22 [==============================] - ETA: 0s - loss: 1.2385 - accuracy: 0.5384"
          ]
        },
        {
          "output_type": "stream",
          "name": "stderr",
          "text": [
            "WARNING:absl:Found untraced functions such as _jit_compiled_convolution_op, _jit_compiled_convolution_op, _jit_compiled_convolution_op, _jit_compiled_convolution_op, _jit_compiled_convolution_op while saving (showing 5 of 104). These functions will not be directly callable after loading.\n",
            "\u001b[34m\u001b[1mwandb\u001b[0m: Adding directory to artifact (/content/wandb/run-20221208_092850-2m5q1lbn/files/model-best)... Done. 1.2s\n"
          ]
        },
        {
          "output_type": "stream",
          "name": "stdout",
          "text": [
            "\b\b\b\b\b\b\b\b\b\b\b\b\b\b\b\b\b\b\b\b\b\b\b\b\b\b\b\b\b\b\b\b\b\b\b\b\b\b\b\b\b\b\b\b\b\b\b\b\b\b\b\b\b\b\b\b\b\b\b\b\b\b\b\b\b\b\b\b\b\b\b\b\b\b\b\b\b\b\b\b\b\b\r22/22 [==============================] - 48s 2s/step - loss: 1.2385 - accuracy: 0.5384 - val_loss: 1.2348 - val_accuracy: 0.5486\n",
            "Epoch 5/40\n",
            "22/22 [==============================] - ETA: 0s - loss: 1.2290 - accuracy: 0.5241"
          ]
        },
        {
          "output_type": "stream",
          "name": "stderr",
          "text": [
            "WARNING:absl:Found untraced functions such as _jit_compiled_convolution_op, _jit_compiled_convolution_op, _jit_compiled_convolution_op, _jit_compiled_convolution_op, _jit_compiled_convolution_op while saving (showing 5 of 104). These functions will not be directly callable after loading.\n",
            "\u001b[34m\u001b[1mwandb\u001b[0m: Adding directory to artifact (/content/wandb/run-20221208_092850-2m5q1lbn/files/model-best)... Done. 1.2s\n"
          ]
        },
        {
          "output_type": "stream",
          "name": "stdout",
          "text": [
            "\b\b\b\b\b\b\b\b\b\b\b\b\b\b\b\b\b\b\b\b\b\b\b\b\b\b\b\b\b\b\b\b\b\b\b\b\b\b\b\b\b\b\b\b\b\b\b\b\b\b\b\b\b\b\b\b\b\b\b\b\b\b\b\b\b\b\b\b\b\b\b\b\b\b\b\b\b\b\b\b\b\b\r22/22 [==============================] - 48s 2s/step - loss: 1.2290 - accuracy: 0.5241 - val_loss: 1.2053 - val_accuracy: 0.5257\n",
            "Epoch 6/40\n",
            "22/22 [==============================] - ETA: 0s - loss: 1.2029 - accuracy: 0.5526"
          ]
        },
        {
          "output_type": "stream",
          "name": "stderr",
          "text": [
            "WARNING:absl:Found untraced functions such as _jit_compiled_convolution_op, _jit_compiled_convolution_op, _jit_compiled_convolution_op, _jit_compiled_convolution_op, _jit_compiled_convolution_op while saving (showing 5 of 104). These functions will not be directly callable after loading.\n",
            "\u001b[34m\u001b[1mwandb\u001b[0m: Adding directory to artifact (/content/wandb/run-20221208_092850-2m5q1lbn/files/model-best)... Done. 1.3s\n"
          ]
        },
        {
          "output_type": "stream",
          "name": "stdout",
          "text": [
            "\b\b\b\b\b\b\b\b\b\b\b\b\b\b\b\b\b\b\b\b\b\b\b\b\b\b\b\b\b\b\b\b\b\b\b\b\b\b\b\b\b\b\b\b\b\b\b\b\b\b\b\b\b\b\b\b\b\b\b\b\b\b\b\b\b\b\b\b\b\b\b\b\b\b\b\b\b\b\b\b\b\b\r22/22 [==============================] - 47s 2s/step - loss: 1.2029 - accuracy: 0.5526 - val_loss: 1.1948 - val_accuracy: 0.5200\n",
            "Epoch 7/40\n",
            "22/22 [==============================] - ETA: 0s - loss: 1.1743 - accuracy: 0.5412"
          ]
        },
        {
          "output_type": "stream",
          "name": "stderr",
          "text": [
            "WARNING:absl:Found untraced functions such as _jit_compiled_convolution_op, _jit_compiled_convolution_op, _jit_compiled_convolution_op, _jit_compiled_convolution_op, _jit_compiled_convolution_op while saving (showing 5 of 104). These functions will not be directly callable after loading.\n",
            "\u001b[34m\u001b[1mwandb\u001b[0m: Adding directory to artifact (/content/wandb/run-20221208_092850-2m5q1lbn/files/model-best)... Done. 1.2s\n"
          ]
        },
        {
          "output_type": "stream",
          "name": "stdout",
          "text": [
            "\b\b\b\b\b\b\b\b\b\b\b\b\b\b\b\b\b\b\b\b\b\b\b\b\b\b\b\b\b\b\b\b\b\b\b\b\b\b\b\b\b\b\b\b\b\b\b\b\b\b\b\b\b\b\b\b\b\b\b\b\b\b\b\b\b\b\b\b\b\b\b\b\b\b\b\b\b\b\b\b\b\b\r22/22 [==============================] - 50s 2s/step - loss: 1.1743 - accuracy: 0.5412 - val_loss: 1.1795 - val_accuracy: 0.5429\n",
            "Epoch 8/40\n",
            "22/22 [==============================] - ETA: 0s - loss: 1.1494 - accuracy: 0.5554"
          ]
        },
        {
          "output_type": "stream",
          "name": "stderr",
          "text": [
            "WARNING:absl:Found untraced functions such as _jit_compiled_convolution_op, _jit_compiled_convolution_op, _jit_compiled_convolution_op, _jit_compiled_convolution_op, _jit_compiled_convolution_op while saving (showing 5 of 104). These functions will not be directly callable after loading.\n",
            "\u001b[34m\u001b[1mwandb\u001b[0m: Adding directory to artifact (/content/wandb/run-20221208_092850-2m5q1lbn/files/model-best)... Done. 1.3s\n"
          ]
        },
        {
          "output_type": "stream",
          "name": "stdout",
          "text": [
            "\b\b\b\b\b\b\b\b\b\b\b\b\b\b\b\b\b\b\b\b\b\b\b\b\b\b\b\b\b\b\b\b\b\b\b\b\b\b\b\b\b\b\b\b\b\b\b\b\b\b\b\b\b\b\b\b\b\b\b\b\b\b\b\b\b\b\b\b\b\b\b\b\b\b\b\b\b\b\b\b\b\b\r22/22 [==============================] - 50s 2s/step - loss: 1.1494 - accuracy: 0.5554 - val_loss: 1.1565 - val_accuracy: 0.5486\n",
            "Epoch 9/40\n",
            "22/22 [==============================] - 7s 270ms/step - loss: 1.1445 - accuracy: 0.5639 - val_loss: 1.1569 - val_accuracy: 0.5257\n",
            "Epoch 10/40\n",
            "22/22 [==============================] - ETA: 0s - loss: 1.1263 - accuracy: 0.5739"
          ]
        },
        {
          "output_type": "stream",
          "name": "stderr",
          "text": [
            "WARNING:absl:Found untraced functions such as _jit_compiled_convolution_op, _jit_compiled_convolution_op, _jit_compiled_convolution_op, _jit_compiled_convolution_op, _jit_compiled_convolution_op while saving (showing 5 of 104). These functions will not be directly callable after loading.\n",
            "\u001b[34m\u001b[1mwandb\u001b[0m: Adding directory to artifact (/content/wandb/run-20221208_092850-2m5q1lbn/files/model-best)... Done. 1.3s\n"
          ]
        },
        {
          "output_type": "stream",
          "name": "stdout",
          "text": [
            "\b\b\b\b\b\b\b\b\b\b\b\b\b\b\b\b\b\b\b\b\b\b\b\b\b\b\b\b\b\b\b\b\b\b\b\b\b\b\b\b\b\b\b\b\b\b\b\b\b\b\b\b\b\b\b\b\b\b\b\b\b\b\b\b\b\b\b\b\b\b\b\b\b\b\b\b\b\b\b\b\b\b\r22/22 [==============================] - 49s 2s/step - loss: 1.1263 - accuracy: 0.5739 - val_loss: 1.1439 - val_accuracy: 0.5429\n",
            "Epoch 11/40\n",
            "22/22 [==============================] - ETA: 0s - loss: 1.1277 - accuracy: 0.5724"
          ]
        },
        {
          "output_type": "stream",
          "name": "stderr",
          "text": [
            "WARNING:absl:Found untraced functions such as _jit_compiled_convolution_op, _jit_compiled_convolution_op, _jit_compiled_convolution_op, _jit_compiled_convolution_op, _jit_compiled_convolution_op while saving (showing 5 of 104). These functions will not be directly callable after loading.\n",
            "\u001b[34m\u001b[1mwandb\u001b[0m: Adding directory to artifact (/content/wandb/run-20221208_092850-2m5q1lbn/files/model-best)... Done. 1.3s\n"
          ]
        },
        {
          "output_type": "stream",
          "name": "stdout",
          "text": [
            "\b\b\b\b\b\b\b\b\b\b\b\b\b\b\b\b\b\b\b\b\b\b\b\b\b\b\b\b\b\b\b\b\b\b\b\b\b\b\b\b\b\b\b\b\b\b\b\b\b\b\b\b\b\b\b\b\b\b\b\b\b\b\b\b\b\b\b\b\b\b\b\b\b\b\b\b\b\b\b\b\b\b\r22/22 [==============================] - 49s 2s/step - loss: 1.1277 - accuracy: 0.5724 - val_loss: 1.1302 - val_accuracy: 0.5429\n",
            "Epoch 12/40\n",
            "22/22 [==============================] - ETA: 0s - loss: 1.1056 - accuracy: 0.5753"
          ]
        },
        {
          "output_type": "stream",
          "name": "stderr",
          "text": [
            "WARNING:absl:Found untraced functions such as _jit_compiled_convolution_op, _jit_compiled_convolution_op, _jit_compiled_convolution_op, _jit_compiled_convolution_op, _jit_compiled_convolution_op while saving (showing 5 of 104). These functions will not be directly callable after loading.\n",
            "\u001b[34m\u001b[1mwandb\u001b[0m: Adding directory to artifact (/content/wandb/run-20221208_092850-2m5q1lbn/files/model-best)... Done. 1.0s\n"
          ]
        },
        {
          "output_type": "stream",
          "name": "stdout",
          "text": [
            "\b\b\b\b\b\b\b\b\b\b\b\b\b\b\b\b\b\b\b\b\b\b\b\b\b\b\b\b\b\b\b\b\b\b\b\b\b\b\b\b\b\b\b\b\b\b\b\b\b\b\b\b\b\b\b\b\b\b\b\b\b\b\b\b\b\b\b\b\b\b\b\b\b\b\b\b\b\b\b\b\b\b\r22/22 [==============================] - 48s 2s/step - loss: 1.1056 - accuracy: 0.5753 - val_loss: 1.1198 - val_accuracy: 0.5314\n",
            "Epoch 13/40\n",
            "22/22 [==============================] - 7s 268ms/step - loss: 1.0865 - accuracy: 0.5838 - val_loss: 1.1262 - val_accuracy: 0.5200\n",
            "Epoch 14/40\n",
            "22/22 [==============================] - ETA: 0s - loss: 1.0820 - accuracy: 0.5682"
          ]
        },
        {
          "output_type": "stream",
          "name": "stderr",
          "text": [
            "WARNING:absl:Found untraced functions such as _jit_compiled_convolution_op, _jit_compiled_convolution_op, _jit_compiled_convolution_op, _jit_compiled_convolution_op, _jit_compiled_convolution_op while saving (showing 5 of 104). These functions will not be directly callable after loading.\n",
            "\u001b[34m\u001b[1mwandb\u001b[0m: Adding directory to artifact (/content/wandb/run-20221208_092850-2m5q1lbn/files/model-best)... Done. 1.2s\n"
          ]
        },
        {
          "output_type": "stream",
          "name": "stdout",
          "text": [
            "\b\b\b\b\b\b\b\b\b\b\b\b\b\b\b\b\b\b\b\b\b\b\b\b\b\b\b\b\b\b\b\b\b\b\b\b\b\b\b\b\b\b\b\b\b\b\b\b\b\b\b\b\b\b\b\b\b\b\b\b\b\b\b\b\b\b\b\b\b\b\b\b\b\b\b\b\b\b\b\b\b\b\r22/22 [==============================] - 47s 2s/step - loss: 1.0820 - accuracy: 0.5682 - val_loss: 1.0976 - val_accuracy: 0.5714\n",
            "Epoch 15/40\n",
            "22/22 [==============================] - 7s 273ms/step - loss: 1.0822 - accuracy: 0.5781 - val_loss: 1.1009 - val_accuracy: 0.5486\n",
            "Epoch 16/40\n",
            "22/22 [==============================] - 7s 276ms/step - loss: 1.0747 - accuracy: 0.5852 - val_loss: 1.1000 - val_accuracy: 0.5200\n",
            "Epoch 17/40\n",
            "22/22 [==============================] - ETA: 0s - loss: 1.0652 - accuracy: 0.5952"
          ]
        },
        {
          "output_type": "stream",
          "name": "stderr",
          "text": [
            "WARNING:absl:Found untraced functions such as _jit_compiled_convolution_op, _jit_compiled_convolution_op, _jit_compiled_convolution_op, _jit_compiled_convolution_op, _jit_compiled_convolution_op while saving (showing 5 of 104). These functions will not be directly callable after loading.\n",
            "\u001b[34m\u001b[1mwandb\u001b[0m: Adding directory to artifact (/content/wandb/run-20221208_092850-2m5q1lbn/files/model-best)... Done. 1.1s\n"
          ]
        },
        {
          "output_type": "stream",
          "name": "stdout",
          "text": [
            "\b\b\b\b\b\b\b\b\b\b\b\b\b\b\b\b\b\b\b\b\b\b\b\b\b\b\b\b\b\b\b\b\b\b\b\b\b\b\b\b\b\b\b\b\b\b\b\b\b\b\b\b\b\b\b\b\b\b\b\b\b\b\b\b\b\b\b\b\b\b\b\b\b\b\b\b\b\b\b\b\b\b\r22/22 [==============================] - 48s 2s/step - loss: 1.0652 - accuracy: 0.5952 - val_loss: 1.0837 - val_accuracy: 0.5657\n",
            "Epoch 18/40\n",
            "22/22 [==============================] - 7s 269ms/step - loss: 1.0414 - accuracy: 0.6009 - val_loss: 1.0869 - val_accuracy: 0.5314\n",
            "Epoch 19/40\n",
            "22/22 [==============================] - ETA: 0s - loss: 1.0457 - accuracy: 0.5895"
          ]
        },
        {
          "output_type": "stream",
          "name": "stderr",
          "text": [
            "WARNING:absl:Found untraced functions such as _jit_compiled_convolution_op, _jit_compiled_convolution_op, _jit_compiled_convolution_op, _jit_compiled_convolution_op, _jit_compiled_convolution_op while saving (showing 5 of 104). These functions will not be directly callable after loading.\n",
            "\u001b[34m\u001b[1mwandb\u001b[0m: Adding directory to artifact (/content/wandb/run-20221208_092850-2m5q1lbn/files/model-best)... Done. 1.2s\n"
          ]
        },
        {
          "output_type": "stream",
          "name": "stdout",
          "text": [
            "\b\b\b\b\b\b\b\b\b\b\b\b\b\b\b\b\b\b\b\b\b\b\b\b\b\b\b\b\b\b\b\b\b\b\b\b\b\b\b\b\b\b\b\b\b\b\b\b\b\b\b\b\b\b\b\b\b\b\b\b\b\b\b\b\b\b\b\b\b\b\b\b\b\b\b\b\b\b\b\b\b\b\r22/22 [==============================] - 47s 2s/step - loss: 1.0457 - accuracy: 0.5895 - val_loss: 1.0628 - val_accuracy: 0.5829\n",
            "Epoch 20/40\n",
            "22/22 [==============================] - ETA: 0s - loss: 1.0442 - accuracy: 0.5838"
          ]
        },
        {
          "output_type": "stream",
          "name": "stderr",
          "text": [
            "WARNING:absl:Found untraced functions such as _jit_compiled_convolution_op, _jit_compiled_convolution_op, _jit_compiled_convolution_op, _jit_compiled_convolution_op, _jit_compiled_convolution_op while saving (showing 5 of 104). These functions will not be directly callable after loading.\n",
            "\u001b[34m\u001b[1mwandb\u001b[0m: Adding directory to artifact (/content/wandb/run-20221208_092850-2m5q1lbn/files/model-best)... Done. 1.2s\n"
          ]
        },
        {
          "output_type": "stream",
          "name": "stdout",
          "text": [
            "\b\b\b\b\b\b\b\b\b\b\b\b\b\b\b\b\b\b\b\b\b\b\b\b\b\b\b\b\b\b\b\b\b\b\b\b\b\b\b\b\b\b\b\b\b\b\b\b\b\b\b\b\b\b\b\b\b\b\b\b\b\b\b\b\b\b\b\b\b\b\b\b\b\b\b\b\b\b\b\b\b\b\r22/22 [==============================] - 50s 2s/step - loss: 1.0442 - accuracy: 0.5838 - val_loss: 1.0538 - val_accuracy: 0.5829\n",
            "Epoch 21/40\n",
            "22/22 [==============================] - 7s 271ms/step - loss: 1.0236 - accuracy: 0.6122 - val_loss: 1.0732 - val_accuracy: 0.5429\n",
            "Epoch 22/40\n",
            "22/22 [==============================] - ETA: 0s - loss: 1.0378 - accuracy: 0.6037"
          ]
        },
        {
          "output_type": "stream",
          "name": "stderr",
          "text": [
            "WARNING:absl:Found untraced functions such as _jit_compiled_convolution_op, _jit_compiled_convolution_op, _jit_compiled_convolution_op, _jit_compiled_convolution_op, _jit_compiled_convolution_op while saving (showing 5 of 104). These functions will not be directly callable after loading.\n",
            "\u001b[34m\u001b[1mwandb\u001b[0m: Adding directory to artifact (/content/wandb/run-20221208_092850-2m5q1lbn/files/model-best)... Done. 1.2s\n"
          ]
        },
        {
          "output_type": "stream",
          "name": "stdout",
          "text": [
            "\b\b\b\b\b\b\b\b\b\b\b\b\b\b\b\b\b\b\b\b\b\b\b\b\b\b\b\b\b\b\b\b\b\b\b\b\b\b\b\b\b\b\b\b\b\b\b\b\b\b\b\b\b\b\b\b\b\b\b\b\b\b\b\b\b\b\b\b\b\b\b\b\b\b\b\b\b\b\b\b\b\b\r22/22 [==============================] - 48s 2s/step - loss: 1.0378 - accuracy: 0.6037 - val_loss: 1.0494 - val_accuracy: 0.5714\n",
            "Epoch 23/40\n",
            "22/22 [==============================] - ETA: 0s - loss: 1.0191 - accuracy: 0.6179"
          ]
        },
        {
          "output_type": "stream",
          "name": "stderr",
          "text": [
            "WARNING:absl:Found untraced functions such as _jit_compiled_convolution_op, _jit_compiled_convolution_op, _jit_compiled_convolution_op, _jit_compiled_convolution_op, _jit_compiled_convolution_op while saving (showing 5 of 104). These functions will not be directly callable after loading.\n",
            "\u001b[34m\u001b[1mwandb\u001b[0m: Adding directory to artifact (/content/wandb/run-20221208_092850-2m5q1lbn/files/model-best)... Done. 1.2s\n"
          ]
        },
        {
          "output_type": "stream",
          "name": "stdout",
          "text": [
            "\b\b\b\b\b\b\b\b\b\b\b\b\b\b\b\b\b\b\b\b\b\b\b\b\b\b\b\b\b\b\b\b\b\b\b\b\b\b\b\b\b\b\b\b\b\b\b\b\b\b\b\b\b\b\b\b\b\b\b\b\b\b\b\b\b\b\b\b\b\b\b\b\b\b\b\b\b\b\b\b\b\b\r22/22 [==============================] - 49s 2s/step - loss: 1.0191 - accuracy: 0.6179 - val_loss: 1.0408 - val_accuracy: 0.6057\n",
            "Epoch 24/40\n",
            "22/22 [==============================] - ETA: 0s - loss: 1.0196 - accuracy: 0.6250"
          ]
        },
        {
          "output_type": "stream",
          "name": "stderr",
          "text": [
            "WARNING:absl:Found untraced functions such as _jit_compiled_convolution_op, _jit_compiled_convolution_op, _jit_compiled_convolution_op, _jit_compiled_convolution_op, _jit_compiled_convolution_op while saving (showing 5 of 104). These functions will not be directly callable after loading.\n",
            "\u001b[34m\u001b[1mwandb\u001b[0m: Adding directory to artifact (/content/wandb/run-20221208_092850-2m5q1lbn/files/model-best)... Done. 1.1s\n"
          ]
        },
        {
          "output_type": "stream",
          "name": "stdout",
          "text": [
            "\b\b\b\b\b\b\b\b\b\b\b\b\b\b\b\b\b\b\b\b\b\b\b\b\b\b\b\b\b\b\b\b\b\b\b\b\b\b\b\b\b\b\b\b\b\b\b\b\b\b\b\b\b\b\b\b\b\b\b\b\b\b\b\b\b\b\b\b\b\b\b\b\b\b\b\b\b\b\b\b\b\b\r22/22 [==============================] - 48s 2s/step - loss: 1.0196 - accuracy: 0.6250 - val_loss: 1.0368 - val_accuracy: 0.6114\n",
            "Epoch 25/40\n",
            "22/22 [==============================] - ETA: 0s - loss: 1.0189 - accuracy: 0.6037"
          ]
        },
        {
          "output_type": "stream",
          "name": "stderr",
          "text": [
            "WARNING:absl:Found untraced functions such as _jit_compiled_convolution_op, _jit_compiled_convolution_op, _jit_compiled_convolution_op, _jit_compiled_convolution_op, _jit_compiled_convolution_op while saving (showing 5 of 104). These functions will not be directly callable after loading.\n",
            "\u001b[34m\u001b[1mwandb\u001b[0m: Adding directory to artifact (/content/wandb/run-20221208_092850-2m5q1lbn/files/model-best)... Done. 1.2s\n"
          ]
        },
        {
          "output_type": "stream",
          "name": "stdout",
          "text": [
            "\b\b\b\b\b\b\b\b\b\b\b\b\b\b\b\b\b\b\b\b\b\b\b\b\b\b\b\b\b\b\b\b\b\b\b\b\b\b\b\b\b\b\b\b\b\b\b\b\b\b\b\b\b\b\b\b\b\b\b\b\b\b\b\b\b\b\b\b\b\b\b\b\b\b\b\b\b\b\b\b\b\b\r22/22 [==============================] - 49s 2s/step - loss: 1.0189 - accuracy: 0.6037 - val_loss: 1.0305 - val_accuracy: 0.6286\n",
            "Epoch 26/40\n",
            "22/22 [==============================] - ETA: 0s - loss: 1.0260 - accuracy: 0.5909"
          ]
        },
        {
          "output_type": "stream",
          "name": "stderr",
          "text": [
            "WARNING:absl:Found untraced functions such as _jit_compiled_convolution_op, _jit_compiled_convolution_op, _jit_compiled_convolution_op, _jit_compiled_convolution_op, _jit_compiled_convolution_op while saving (showing 5 of 104). These functions will not be directly callable after loading.\n",
            "\u001b[34m\u001b[1mwandb\u001b[0m: Adding directory to artifact (/content/wandb/run-20221208_092850-2m5q1lbn/files/model-best)... Done. 1.1s\n"
          ]
        },
        {
          "output_type": "stream",
          "name": "stdout",
          "text": [
            "\b\b\b\b\b\b\b\b\b\b\b\b\b\b\b\b\b\b\b\b\b\b\b\b\b\b\b\b\b\b\b\b\b\b\b\b\b\b\b\b\b\b\b\b\b\b\b\b\b\b\b\b\b\b\b\b\b\b\b\b\b\b\b\b\b\b\b\b\b\b\b\b\b\b\b\b\b\b\b\b\b\b\r22/22 [==============================] - 47s 2s/step - loss: 1.0260 - accuracy: 0.5909 - val_loss: 1.0177 - val_accuracy: 0.6457\n",
            "Epoch 27/40\n",
            "22/22 [==============================] - 7s 286ms/step - loss: 1.0177 - accuracy: 0.6009 - val_loss: 1.0203 - val_accuracy: 0.6229\n",
            "Epoch 28/40\n",
            "22/22 [==============================] - 7s 282ms/step - loss: 0.9874 - accuracy: 0.6193 - val_loss: 1.0212 - val_accuracy: 0.6686\n",
            "Epoch 29/40\n",
            "22/22 [==============================] - 7s 275ms/step - loss: 0.9912 - accuracy: 0.6378 - val_loss: 1.0201 - val_accuracy: 0.6114\n",
            "Epoch 30/40\n",
            "22/22 [==============================] - ETA: 0s - loss: 1.0058 - accuracy: 0.6080"
          ]
        },
        {
          "output_type": "stream",
          "name": "stderr",
          "text": [
            "WARNING:absl:Found untraced functions such as _jit_compiled_convolution_op, _jit_compiled_convolution_op, _jit_compiled_convolution_op, _jit_compiled_convolution_op, _jit_compiled_convolution_op while saving (showing 5 of 104). These functions will not be directly callable after loading.\n",
            "\u001b[34m\u001b[1mwandb\u001b[0m: Adding directory to artifact (/content/wandb/run-20221208_092850-2m5q1lbn/files/model-best)... Done. 1.2s\n"
          ]
        },
        {
          "output_type": "stream",
          "name": "stdout",
          "text": [
            "\b\b\b\b\b\b\b\b\b\b\b\b\b\b\b\b\b\b\b\b\b\b\b\b\b\b\b\b\b\b\b\b\b\b\b\b\b\b\b\b\b\b\b\b\b\b\b\b\b\b\b\b\b\b\b\b\b\b\b\b\b\b\b\b\b\b\b\b\b\b\b\b\b\b\b\b\b\b\b\b\b\b\r22/22 [==============================] - 47s 2s/step - loss: 1.0058 - accuracy: 0.6080 - val_loss: 0.9985 - val_accuracy: 0.6629\n",
            "Epoch 31/40\n",
            "22/22 [==============================] - 7s 284ms/step - loss: 0.9704 - accuracy: 0.6264 - val_loss: 1.0148 - val_accuracy: 0.6343\n",
            "Epoch 32/40\n",
            "22/22 [==============================] - 7s 270ms/step - loss: 0.9879 - accuracy: 0.6335 - val_loss: 1.0086 - val_accuracy: 0.6171\n",
            "Epoch 33/40\n",
            "22/22 [==============================] - ETA: 0s - loss: 0.9758 - accuracy: 0.6378"
          ]
        },
        {
          "output_type": "stream",
          "name": "stderr",
          "text": [
            "WARNING:absl:Found untraced functions such as _jit_compiled_convolution_op, _jit_compiled_convolution_op, _jit_compiled_convolution_op, _jit_compiled_convolution_op, _jit_compiled_convolution_op while saving (showing 5 of 104). These functions will not be directly callable after loading.\n",
            "\u001b[34m\u001b[1mwandb\u001b[0m: Adding directory to artifact (/content/wandb/run-20221208_092850-2m5q1lbn/files/model-best)... Done. 1.3s\n"
          ]
        },
        {
          "output_type": "stream",
          "name": "stdout",
          "text": [
            "\b\b\b\b\b\b\b\b\b\b\b\b\b\b\b\b\b\b\b\b\b\b\b\b\b\b\b\b\b\b\b\b\b\b\b\b\b\b\b\b\b\b\b\b\b\b\b\b\b\b\b\b\b\b\b\b\b\b\b\b\b\b\b\b\b\b\b\b\b\b\b\b\b\b\b\b\b\b\b\b\b\b\r22/22 [==============================] - 47s 2s/step - loss: 0.9758 - accuracy: 0.6378 - val_loss: 0.9918 - val_accuracy: 0.6457\n",
            "Epoch 34/40\n",
            "22/22 [==============================] - 7s 284ms/step - loss: 0.9691 - accuracy: 0.6378 - val_loss: 0.9984 - val_accuracy: 0.6343\n",
            "Epoch 35/40\n",
            "22/22 [==============================] - ETA: 0s - loss: 0.9573 - accuracy: 0.6364"
          ]
        },
        {
          "output_type": "stream",
          "name": "stderr",
          "text": [
            "WARNING:absl:Found untraced functions such as _jit_compiled_convolution_op, _jit_compiled_convolution_op, _jit_compiled_convolution_op, _jit_compiled_convolution_op, _jit_compiled_convolution_op while saving (showing 5 of 104). These functions will not be directly callable after loading.\n",
            "\u001b[34m\u001b[1mwandb\u001b[0m: Adding directory to artifact (/content/wandb/run-20221208_092850-2m5q1lbn/files/model-best)... Done. 1.2s\n"
          ]
        },
        {
          "output_type": "stream",
          "name": "stdout",
          "text": [
            "\b\b\b\b\b\b\b\b\b\b\b\b\b\b\b\b\b\b\b\b\b\b\b\b\b\b\b\b\b\b\b\b\b\b\b\b\b\b\b\b\b\b\b\b\b\b\b\b\b\b\b\b\b\b\b\b\b\b\b\b\b\b\b\b\b\b\b\b\b\b\b\b\b\b\b\b\b\b\b\b\b\b\r22/22 [==============================] - 48s 2s/step - loss: 0.9573 - accuracy: 0.6364 - val_loss: 0.9820 - val_accuracy: 0.6629\n",
            "Epoch 36/40\n",
            "22/22 [==============================] - 7s 277ms/step - loss: 0.9768 - accuracy: 0.6449 - val_loss: 0.9832 - val_accuracy: 0.6514\n",
            "Epoch 37/40\n",
            "22/22 [==============================] - ETA: 0s - loss: 0.9710 - accuracy: 0.6293"
          ]
        },
        {
          "output_type": "stream",
          "name": "stderr",
          "text": [
            "WARNING:absl:Found untraced functions such as _jit_compiled_convolution_op, _jit_compiled_convolution_op, _jit_compiled_convolution_op, _jit_compiled_convolution_op, _jit_compiled_convolution_op while saving (showing 5 of 104). These functions will not be directly callable after loading.\n",
            "\u001b[34m\u001b[1mwandb\u001b[0m: Adding directory to artifact (/content/wandb/run-20221208_092850-2m5q1lbn/files/model-best)... Done. 1.1s\n"
          ]
        },
        {
          "output_type": "stream",
          "name": "stdout",
          "text": [
            "\b\b\b\b\b\b\b\b\b\b\b\b\b\b\b\b\b\b\b\b\b\b\b\b\b\b\b\b\b\b\b\b\b\b\b\b\b\b\b\b\b\b\b\b\b\b\b\b\b\b\b\b\b\b\b\b\b\b\b\b\b\b\b\b\b\b\b\b\b\b\b\b\b\b\b\b\b\b\b\b\b\b\r22/22 [==============================] - 47s 2s/step - loss: 0.9710 - accuracy: 0.6293 - val_loss: 0.9781 - val_accuracy: 0.6343\n",
            "Epoch 38/40\n",
            "22/22 [==============================] - 6s 256ms/step - loss: 0.9540 - accuracy: 0.6463 - val_loss: 0.9805 - val_accuracy: 0.6514\n",
            "Epoch 39/40\n",
            "22/22 [==============================] - ETA: 0s - loss: 0.9532 - accuracy: 0.6420"
          ]
        },
        {
          "output_type": "stream",
          "name": "stderr",
          "text": [
            "WARNING:absl:Found untraced functions such as _jit_compiled_convolution_op, _jit_compiled_convolution_op, _jit_compiled_convolution_op, _jit_compiled_convolution_op, _jit_compiled_convolution_op while saving (showing 5 of 104). These functions will not be directly callable after loading.\n",
            "\u001b[34m\u001b[1mwandb\u001b[0m: Adding directory to artifact (/content/wandb/run-20221208_092850-2m5q1lbn/files/model-best)... Done. 1.0s\n"
          ]
        },
        {
          "output_type": "stream",
          "name": "stdout",
          "text": [
            "\b\b\b\b\b\b\b\b\b\b\b\b\b\b\b\b\b\b\b\b\b\b\b\b\b\b\b\b\b\b\b\b\b\b\b\b\b\b\b\b\b\b\b\b\b\b\b\b\b\b\b\b\b\b\b\b\b\b\b\b\b\b\b\b\b\b\b\b\b\b\b\b\b\b\b\b\b\b\b\b\b\b\r22/22 [==============================] - 48s 2s/step - loss: 0.9532 - accuracy: 0.6420 - val_loss: 0.9705 - val_accuracy: 0.6457\n",
            "Epoch 40/40\n",
            "22/22 [==============================] - 6s 255ms/step - loss: 0.9631 - accuracy: 0.6463 - val_loss: 0.9743 - val_accuracy: 0.6457\n",
            "CPU times: user 18min 17s, sys: 1min 12s, total: 19min 30s\n",
            "Wall time: 33min 10s\n"
          ]
        }
      ]
    },
    {
      "cell_type": "code",
      "source": [
        "wandb.alert(title=\"Run finished\",\n",
        "            text='ResNet101')"
      ],
      "metadata": {
        "id": "AzMEf3RojAQz"
      },
      "execution_count": 16,
      "outputs": []
    },
    {
      "cell_type": "code",
      "source": [
        "wandb.finish()"
      ],
      "metadata": {
        "colab": {
          "base_uri": "https://localhost:8080/",
          "height": 355
        },
        "id": "WaZ2tnFeETsF",
        "outputId": "6c2796bd-3803-4974-bbf1-c1a7f478ec28"
      },
      "execution_count": 17,
      "outputs": [
        {
          "output_type": "display_data",
          "data": {
            "text/plain": [
              "<IPython.core.display.HTML object>"
            ],
            "text/html": [
              "Waiting for W&B process to finish... <strong style=\"color:green\">(success).</strong>"
            ]
          },
          "metadata": {}
        },
        {
          "output_type": "display_data",
          "data": {
            "text/plain": [
              "<IPython.core.display.HTML object>"
            ],
            "text/html": [
              "<style>\n",
              "    table.wandb td:nth-child(1) { padding: 0 10px; text-align: left ; width: auto;} td:nth-child(2) {text-align: left ; width: 100%}\n",
              "    .wandb-row { display: flex; flex-direction: row; flex-wrap: wrap; justify-content: flex-start; width: 100% }\n",
              "    .wandb-col { display: flex; flex-direction: column; flex-basis: 100%; flex: 1; padding: 10px; }\n",
              "    </style>\n",
              "<div class=\"wandb-row\"><div class=\"wandb-col\"><h3>Run history:</h3><br/><table class=\"wandb\"><tr><td>accuracy</td><td>▁▄▅▅▅▆▆▆▆▆▆▆▇▆▆▇▇▇▇▇▇▇▇█▇▇▇▇█▇██████████</td></tr><tr><td>epoch</td><td>▁▁▁▂▂▂▂▂▂▃▃▃▃▃▄▄▄▄▄▄▅▅▅▅▅▅▆▆▆▆▆▇▇▇▇▇▇███</td></tr><tr><td>loss</td><td>█▆▅▄▄▄▄▃▃▃▃▃▃▂▂▂▂▂▂▂▂▂▂▂▂▂▂▁▁▂▁▁▁▁▁▁▁▁▁▁</td></tr><tr><td>val_accuracy</td><td>▁▂▁▃▂▁▂▃▂▂▂▂▁▄▃▁▃▂▄▄▂▄▅▅▆▇▆█▅█▆▆▇▆█▇▆▇▇▇</td></tr><tr><td>val_loss</td><td>█▆▆▅▅▄▄▄▄▄▃▃▃▃▃▃▃▃▂▂▃▂▂▂▂▂▂▂▂▁▂▂▁▁▁▁▁▁▁▁</td></tr></table><br/></div><div class=\"wandb-col\"><h3>Run summary:</h3><br/><table class=\"wandb\"><tr><td>GFLOPs</td><td>7.57704</td></tr><tr><td>accuracy</td><td>0.64631</td></tr><tr><td>best_epoch</td><td>38</td></tr><tr><td>best_val_loss</td><td>0.97049</td></tr><tr><td>epoch</td><td>39</td></tr><tr><td>loss</td><td>0.9631</td></tr><tr><td>val_accuracy</td><td>0.64571</td></tr><tr><td>val_loss</td><td>0.97425</td></tr></table><br/></div></div>"
            ]
          },
          "metadata": {}
        },
        {
          "output_type": "display_data",
          "data": {
            "text/plain": [
              "<IPython.core.display.HTML object>"
            ],
            "text/html": [
              "Synced <strong style=\"color:#cdcd00\">resnet101</strong>: <a href=\"https://wandb.ai/vedmanivaidya/Transfer_Learning_New/runs/2m5q1lbn\" target=\"_blank\">https://wandb.ai/vedmanivaidya/Transfer_Learning_New/runs/2m5q1lbn</a><br/>Synced 5 W&B file(s), 1 media file(s), 81 artifact file(s) and 2 other file(s)"
            ]
          },
          "metadata": {}
        },
        {
          "output_type": "display_data",
          "data": {
            "text/plain": [
              "<IPython.core.display.HTML object>"
            ],
            "text/html": [
              "Find logs at: <code>./wandb/run-20221208_092850-2m5q1lbn/logs</code>"
            ]
          },
          "metadata": {}
        }
      ]
    },
    {
      "cell_type": "code",
      "source": [
        "!nvidia-smi --query-gpu=gpu_name --format=csv"
      ],
      "metadata": {
        "id": "qxIgXkM_FFiK",
        "colab": {
          "base_uri": "https://localhost:8080/"
        },
        "outputId": "94d39e85-1d57-4190-ce7d-7e1f7a159fb1"
      },
      "execution_count": 18,
      "outputs": [
        {
          "output_type": "stream",
          "name": "stdout",
          "text": [
            "name\n",
            "Tesla T4\n"
          ]
        }
      ]
    },
    {
      "cell_type": "code",
      "source": [],
      "metadata": {
        "id": "SYwXXgQP1VO5"
      },
      "execution_count": null,
      "outputs": []
    }
  ],
  "metadata": {
    "kernelspec": {
      "display_name": "Python 3",
      "language": "python",
      "name": "python3"
    },
    "language_info": {
      "codemirror_mode": {
        "name": "ipython",
        "version": 2
      },
      "file_extension": ".py",
      "mimetype": "text/x-python",
      "name": "python",
      "nbconvert_exporter": "python",
      "pygments_lexer": "ipython2",
      "version": "2.7.6"
    },
    "colab": {
      "provenance": []
    },
    "accelerator": "GPU",
    "gpuClass": "standard"
  },
  "nbformat": 4,
  "nbformat_minor": 0
}