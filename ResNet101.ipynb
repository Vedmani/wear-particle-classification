{
  "cells": [
    {
      "cell_type": "markdown",
      "metadata": {
        "id": "view-in-github",
        "colab_type": "text"
      },
      "source": [
        "<a href=\"https://colab.research.google.com/github/Vedmani/wear-particle-classification/blob/main/ResNet101.ipynb\" target=\"_parent\"><img src=\"https://colab.research.google.com/assets/colab-badge.svg\" alt=\"Open In Colab\"/></a>"
      ]
    },
    {
      "cell_type": "code",
      "source": [
        "from google.colab import drive\n",
        "drive.mount('/content/drive')"
      ],
      "metadata": {
        "colab": {
          "base_uri": "https://localhost:8080/"
        },
        "id": "hZxsQnPoFFCQ",
        "outputId": "737c28c1-1fea-48f1-c268-ee85a020bf6b"
      },
      "execution_count": 1,
      "outputs": [
        {
          "output_type": "stream",
          "name": "stdout",
          "text": [
            "Mounted at /content/drive\n"
          ]
        }
      ]
    },
    {
      "cell_type": "code",
      "execution_count": 2,
      "outputs": [
        {
          "output_type": "stream",
          "name": "stdout",
          "text": [
            "\u001b[K     |████████████████████████████████| 1.9 MB 32.1 MB/s \n",
            "\u001b[K     |████████████████████████████████| 162 kB 66.6 MB/s \n",
            "\u001b[K     |████████████████████████████████| 182 kB 64.3 MB/s \n",
            "\u001b[K     |████████████████████████████████| 63 kB 1.6 MB/s \n",
            "\u001b[K     |████████████████████████████████| 162 kB 68.4 MB/s \n",
            "\u001b[K     |████████████████████████████████| 158 kB 69.3 MB/s \n",
            "\u001b[K     |████████████████████████████████| 157 kB 51.5 MB/s \n",
            "\u001b[K     |████████████████████████████████| 157 kB 71.3 MB/s \n",
            "\u001b[K     |████████████████████████████████| 157 kB 71.9 MB/s \n",
            "\u001b[K     |████████████████████████████████| 157 kB 71.7 MB/s \n",
            "\u001b[K     |████████████████████████████████| 157 kB 74.9 MB/s \n",
            "\u001b[K     |████████████████████████████████| 157 kB 67.7 MB/s \n",
            "\u001b[K     |████████████████████████████████| 157 kB 67.5 MB/s \n",
            "\u001b[K     |████████████████████████████████| 156 kB 73.2 MB/s \n",
            "\u001b[?25h  Building wheel for pathtools (setup.py) ... \u001b[?25l\u001b[?25hdone\n",
            "\u001b[34m\u001b[1mwandb\u001b[0m: Logging into wandb.ai. (Learn how to deploy a W&B server locally: https://wandb.me/wandb-server)\n",
            "\u001b[34m\u001b[1mwandb\u001b[0m: You can find your API key in your browser here: https://wandb.ai/authorize\n",
            "\u001b[34m\u001b[1mwandb\u001b[0m: Paste an API key from your profile and hit enter, or press ctrl+c to quit: \n",
            "\u001b[34m\u001b[1mwandb\u001b[0m: Appending key for api.wandb.ai to your netrc file: /root/.netrc\n"
          ]
        }
      ],
      "source": [
        "!pip install wandb -qU\n",
        "!wandb login"
      ],
      "metadata": {
        "pycharm": {
          "name": "#%%\n"
        },
        "colab": {
          "base_uri": "https://localhost:8080/"
        },
        "id": "nzVPsk5i2f6k",
        "outputId": "865a6aab-a6ca-4ec9-f63a-08619c2044a2"
      }
    },
    {
      "cell_type": "code",
      "execution_count": 3,
      "outputs": [],
      "source": [
        "import tensorflow as tf\n",
        "from tensorflow import keras\n",
        "from tensorflow.keras import layers\n",
        "from tensorflow.keras.models import Sequential\n",
        "import wandb\n",
        "from wandb.keras import WandbCallback"
      ],
      "metadata": {
        "pycharm": {
          "name": "#%%\n"
        },
        "id": "acoOtOXx2f6z"
      }
    },
    {
      "cell_type": "code",
      "execution_count": 4,
      "outputs": [],
      "source": [
        "tf.keras.utils.set_random_seed(123)\n",
        "tf.config.experimental.enable_op_determinism()"
      ],
      "metadata": {
        "pycharm": {
          "name": "#%%\n"
        },
        "id": "vhcPFfST2f62"
      }
    },
    {
      "cell_type": "code",
      "source": [
        "PATH = '/content/drive/MyDrive/Research Internship/wear particles'\n",
        "batch_size = 32\n",
        "img_height = 224\n",
        "img_width = 224\n",
        "\n",
        "train_ds = tf.keras.utils.image_dataset_from_directory(\n",
        "  PATH,\n",
        "  validation_split=0.2,\n",
        "  subset=\"training\",\n",
        "  seed=123,\n",
        "  image_size=(img_height, img_width),\n",
        "  batch_size=batch_size)\n",
        "\n",
        "val_ds = tf.keras.utils.image_dataset_from_directory(\n",
        "  PATH,\n",
        "  validation_split=0.2,\n",
        "  subset=\"validation\",\n",
        "  seed=123,\n",
        "  image_size=(img_height, img_width),\n",
        "  batch_size=batch_size)\n",
        "\n",
        "class_names = train_ds.class_names\n",
        "print(class_names)\n",
        "num_classes = len(class_names)"
      ],
      "metadata": {
        "colab": {
          "base_uri": "https://localhost:8080/"
        },
        "id": "CiW-AljoCyRN",
        "outputId": "caa5eb25-bb3b-4612-d1d5-e6a8117d6aa0"
      },
      "execution_count": 5,
      "outputs": [
        {
          "output_type": "stream",
          "name": "stdout",
          "text": [
            "Found 740 files belonging to 5 classes.\n",
            "Using 592 files for training.\n",
            "Found 740 files belonging to 5 classes.\n",
            "Using 148 files for validation.\n",
            "['cutting wear', 'normal rubbign and cutting wear combined', 'normal rubbing wear', 'red oxide', 'severe sliding wear']\n"
          ]
        }
      ]
    },
    {
      "cell_type": "code",
      "source": [
        "resnet101 = tf.keras.applications.ResNet101(\n",
        "    include_top=False,\n",
        "    weights=\"imagenet\",\n",
        "    input_tensor=None,\n",
        "    input_shape=None,\n",
        "    pooling=None)\n",
        "data_augmentation = tf.keras.Sequential([layers.RandomFlip(\"horizontal_and_vertical\"),layers.RandomRotation(0.2),])\n",
        "model_resnet101=Sequential([\n",
        "  #data_augmentation,\n",
        "  layers.Rescaling(1./255, input_shape=(img_height, img_width, 3)),\n",
        "  resnet101,\n",
        "  layers.Flatten(),\n",
        "  layers.Dense(1028, activation='relu'),\n",
        "  #layers.Dropout(0.5), \n",
        "  layers.Dense(num_classes, activation='softmax')\n",
        "])\n",
        "resnet101.trainable=False\n",
        "model_resnet101.summary()"
      ],
      "metadata": {
        "colab": {
          "base_uri": "https://localhost:8080/"
        },
        "id": "qTLja-HJCy79",
        "outputId": "4093f7d6-ef1e-4a98-fc8a-30d4266a3864"
      },
      "execution_count": 6,
      "outputs": [
        {
          "output_type": "stream",
          "name": "stdout",
          "text": [
            "Downloading data from https://storage.googleapis.com/tensorflow/keras-applications/resnet/resnet101_weights_tf_dim_ordering_tf_kernels_notop.h5\n",
            "171450368/171446536 [==============================] - 1s 0us/step\n",
            "171458560/171446536 [==============================] - 1s 0us/step\n",
            "Model: \"sequential_1\"\n",
            "_________________________________________________________________\n",
            " Layer (type)                Output Shape              Param #   \n",
            "=================================================================\n",
            " rescaling (Rescaling)       (None, 224, 224, 3)       0         \n",
            "                                                                 \n",
            " resnet101 (Functional)      (None, None, None, 2048)  42658176  \n",
            "                                                                 \n",
            " flatten (Flatten)           (None, 100352)            0         \n",
            "                                                                 \n",
            " dense (Dense)               (None, 1028)              103162884 \n",
            "                                                                 \n",
            " dense_1 (Dense)             (None, 5)                 5145      \n",
            "                                                                 \n",
            "=================================================================\n",
            "Total params: 145,826,205\n",
            "Trainable params: 103,168,029\n",
            "Non-trainable params: 42,658,176\n",
            "_________________________________________________________________\n"
          ]
        }
      ]
    },
    {
      "cell_type": "code",
      "source": [
        "model_resnet101.compile(\n",
        "              optimizer= tf.keras.optimizers.Adam(learning_rate=0.001, beta_1=0.9, beta_2=0.999, epsilon=1e-07, amsgrad=False, name='Adam'),\n",
        "              loss=tf.keras.losses.SparseCategoricalCrossentropy(from_logits=False),\n",
        "              metrics=['accuracy']\n",
        "              )"
      ],
      "metadata": {
        "id": "UKCoWlAWD1XP"
      },
      "execution_count": 7,
      "outputs": []
    },
    {
      "cell_type": "code",
      "source": [
        "wandb.init(\n",
        "      # Set the project where this run will be logged\n",
        "      project=\"Transfer_learning\", \n",
        "      name = \"resnet101\",\n",
        "      notes = \"without augment and without dropout\"\n",
        ")"
      ],
      "metadata": {
        "colab": {
          "base_uri": "https://localhost:8080/",
          "height": 125
        },
        "id": "v7gcv8AMD9Vv",
        "outputId": "35d8faae-68d0-40f4-a5af-ff5becf6b995"
      },
      "execution_count": 8,
      "outputs": [
        {
          "output_type": "stream",
          "name": "stderr",
          "text": [
            "ERROR:wandb.jupyter:Failed to detect the name of this notebook, you can set it manually with the WANDB_NOTEBOOK_NAME environment variable to enable code saving.\n",
            "\u001b[34m\u001b[1mwandb\u001b[0m: Currently logged in as: \u001b[33mvedmanivaidya\u001b[0m. Use \u001b[1m`wandb login --relogin`\u001b[0m to force relogin\n"
          ]
        },
        {
          "output_type": "display_data",
          "data": {
            "text/plain": [
              "<IPython.core.display.HTML object>"
            ],
            "text/html": [
              "Tracking run with wandb version 0.13.4"
            ]
          },
          "metadata": {}
        },
        {
          "output_type": "display_data",
          "data": {
            "text/plain": [
              "<IPython.core.display.HTML object>"
            ],
            "text/html": [
              "Run data is saved locally in <code>/content/wandb/run-20221012_075756-1fya4i00</code>"
            ]
          },
          "metadata": {}
        },
        {
          "output_type": "display_data",
          "data": {
            "text/plain": [
              "<IPython.core.display.HTML object>"
            ],
            "text/html": [
              "Syncing run <strong><a href=\"https://wandb.ai/vedmanivaidya/Transfer_learning/runs/1fya4i00\" target=\"_blank\">resnet101</a></strong> to <a href=\"https://wandb.ai/vedmanivaidya/Transfer_learning\" target=\"_blank\">Weights & Biases</a> (<a href=\"https://wandb.me/run\" target=\"_blank\">docs</a>)<br/>"
            ]
          },
          "metadata": {}
        },
        {
          "output_type": "execute_result",
          "data": {
            "text/html": [
              "<button onClick=\"this.nextSibling.style.display='block';this.style.display='none';\">Display W&B run</button><iframe src=\"https://wandb.ai/vedmanivaidya/Transfer_learning/runs/1fya4i00?jupyter=true\" style=\"border:none;width:100%;height:420px;display:none;\"></iframe>"
            ],
            "text/plain": [
              "<wandb.sdk.wandb_run.Run at 0x7fbe928fac90>"
            ]
          },
          "metadata": {},
          "execution_count": 8
        }
      ]
    },
    {
      "cell_type": "code",
      "source": [
        "%%time\n",
        "epochs=40\n",
        "history = model_resnet101.fit(\n",
        "  train_ds,\n",
        "  validation_data=val_ds,\n",
        "  epochs=epochs,\n",
        "callbacks=[WandbCallback()]\n",
        ")"
      ],
      "metadata": {
        "colab": {
          "base_uri": "https://localhost:8080/"
        },
        "id": "yQ50kAkQEOBS",
        "outputId": "d8558303-de5a-4b8c-a4e7-6dc4cc0d2b3a"
      },
      "execution_count": 9,
      "outputs": [
        {
          "output_type": "stream",
          "name": "stderr",
          "text": [
            "\u001b[34m\u001b[1mwandb\u001b[0m: \u001b[33mWARNING\u001b[0m The save_model argument by default saves the model in the HDF5 format that cannot save custom objects like subclassed models and custom layers. This behavior will be deprecated in a future release in favor of the SavedModel format. Meanwhile, the HDF5 model is saved as W&B files and the SavedModel as W&B Artifacts.\n"
          ]
        },
        {
          "output_type": "stream",
          "name": "stdout",
          "text": [
            "Epoch 1/40\n",
            "19/19 [==============================] - ETA: 0s - loss: 19.6445 - accuracy: 0.4088"
          ]
        },
        {
          "output_type": "stream",
          "name": "stderr",
          "text": [
            "\u001b[34m\u001b[1mwandb\u001b[0m: Adding directory to artifact (/content/wandb/run-20221012_075756-1fya4i00/files/model-best)... Done. 8.6s\n"
          ]
        },
        {
          "output_type": "stream",
          "name": "stdout",
          "text": [
            "\b\b\b\b\b\b\b\b\b\b\b\b\b\b\b\b\b\b\b\b\b\b\b\b\b\b\b\b\b\b\b\b\b\b\b\b\b\b\b\b\b\b\b\b\b\b\b\b\b\b\b\b\b\b\b\b\b\b\b\b\b\b\b\b\b\b\b\b\b\b\b\b\b\b\b\b\b\b\b\b\b\b\b\r19/19 [==============================] - 111s 4s/step - loss: 19.6445 - accuracy: 0.4088 - val_loss: 3.9181 - val_accuracy: 0.5000\n",
            "Epoch 2/40\n",
            "19/19 [==============================] - ETA: 0s - loss: 2.5671 - accuracy: 0.4932"
          ]
        },
        {
          "output_type": "stream",
          "name": "stderr",
          "text": [
            "\u001b[34m\u001b[1mwandb\u001b[0m: Adding directory to artifact (/content/wandb/run-20221012_075756-1fya4i00/files/model-best)... Done. 8.4s\n"
          ]
        },
        {
          "output_type": "stream",
          "name": "stdout",
          "text": [
            "\b\b\b\b\b\b\b\b\b\b\b\b\b\b\b\b\b\b\b\b\b\b\b\b\b\b\b\b\b\b\b\b\b\b\b\b\b\b\b\b\b\b\b\b\b\b\b\b\b\b\b\b\b\b\b\b\b\b\b\b\b\b\b\b\b\b\b\b\b\b\b\b\b\b\b\b\b\b\b\b\b\b\r19/19 [==============================] - 66s 4s/step - loss: 2.5671 - accuracy: 0.4932 - val_loss: 1.0506 - val_accuracy: 0.5405\n",
            "Epoch 3/40\n",
            "19/19 [==============================] - 7s 314ms/step - loss: 1.1708 - accuracy: 0.5389 - val_loss: 1.5535 - val_accuracy: 0.5473\n",
            "Epoch 4/40\n",
            "19/19 [==============================] - ETA: 0s - loss: 1.0067 - accuracy: 0.6199"
          ]
        },
        {
          "output_type": "stream",
          "name": "stderr",
          "text": [
            "\u001b[34m\u001b[1mwandb\u001b[0m: Adding directory to artifact (/content/wandb/run-20221012_075756-1fya4i00/files/model-best)... Done. 8.4s\n"
          ]
        },
        {
          "output_type": "stream",
          "name": "stdout",
          "text": [
            "\b\b\b\b\b\b\b\b\b\b\b\b\b\b\b\b\b\b\b\b\b\b\b\b\b\b\b\b\b\b\b\b\b\b\b\b\b\b\b\b\b\b\b\b\b\b\b\b\b\b\b\b\b\b\b\b\b\b\b\b\b\b\b\b\b\b\b\b\b\b\b\b\b\b\b\b\b\b\b\b\b\b\r19/19 [==============================] - 66s 4s/step - loss: 1.0067 - accuracy: 0.6199 - val_loss: 0.8184 - val_accuracy: 0.6757\n",
            "Epoch 5/40\n",
            "19/19 [==============================] - 6s 280ms/step - loss: 0.8496 - accuracy: 0.6791 - val_loss: 0.9167 - val_accuracy: 0.6824\n",
            "Epoch 6/40\n",
            "19/19 [==============================] - 6s 284ms/step - loss: 0.8584 - accuracy: 0.6554 - val_loss: 0.9511 - val_accuracy: 0.6486\n",
            "Epoch 7/40\n",
            "19/19 [==============================] - ETA: 0s - loss: 0.7305 - accuracy: 0.7162"
          ]
        },
        {
          "output_type": "stream",
          "name": "stderr",
          "text": [
            "\u001b[34m\u001b[1mwandb\u001b[0m: Adding directory to artifact (/content/wandb/run-20221012_075756-1fya4i00/files/model-best)... Done. 8.3s\n"
          ]
        },
        {
          "output_type": "stream",
          "name": "stdout",
          "text": [
            "\b\b\b\b\b\b\b\b\b\b\b\b\b\b\b\b\b\b\b\b\b\b\b\b\b\b\b\b\b\b\b\b\b\b\b\b\b\b\b\b\b\b\b\b\b\b\b\b\b\b\b\b\b\b\b\b\b\b\b\b\b\b\b\b\b\b\b\b\b\b\b\b\b\b\b\b\b\b\b\b\b\b\r19/19 [==============================] - 65s 4s/step - loss: 0.7305 - accuracy: 0.7162 - val_loss: 0.7864 - val_accuracy: 0.7365\n",
            "Epoch 8/40\n",
            "19/19 [==============================] - ETA: 0s - loss: 0.7245 - accuracy: 0.7095"
          ]
        },
        {
          "output_type": "stream",
          "name": "stderr",
          "text": [
            "\u001b[34m\u001b[1mwandb\u001b[0m: Adding directory to artifact (/content/wandb/run-20221012_075756-1fya4i00/files/model-best)... Done. 8.3s\n"
          ]
        },
        {
          "output_type": "stream",
          "name": "stdout",
          "text": [
            "\b\b\b\b\b\b\b\b\b\b\b\b\b\b\b\b\b\b\b\b\b\b\b\b\b\b\b\b\b\b\b\b\b\b\b\b\b\b\b\b\b\b\b\b\b\b\b\b\b\b\b\b\b\b\b\b\b\b\b\b\b\b\b\b\b\b\b\b\b\b\b\b\b\b\b\b\b\b\b\b\b\b\r19/19 [==============================] - 69s 4s/step - loss: 0.7245 - accuracy: 0.7095 - val_loss: 0.6539 - val_accuracy: 0.7162\n",
            "Epoch 9/40\n",
            "19/19 [==============================] - 6s 291ms/step - loss: 0.6075 - accuracy: 0.7905 - val_loss: 0.7140 - val_accuracy: 0.7027\n",
            "Epoch 10/40\n",
            "19/19 [==============================] - ETA: 0s - loss: 0.6072 - accuracy: 0.7753"
          ]
        },
        {
          "output_type": "stream",
          "name": "stderr",
          "text": [
            "\u001b[34m\u001b[1mwandb\u001b[0m: Adding directory to artifact (/content/wandb/run-20221012_075756-1fya4i00/files/model-best)... Done. 8.5s\n"
          ]
        },
        {
          "output_type": "stream",
          "name": "stdout",
          "text": [
            "\b\b\b\b\b\b\b\b\b\b\b\b\b\b\b\b\b\b\b\b\b\b\b\b\b\b\b\b\b\b\b\b\b\b\b\b\b\b\b\b\b\b\b\b\b\b\b\b\b\b\b\b\b\b\b\b\b\b\b\b\b\b\b\b\b\b\b\b\b\b\b\b\b\b\b\b\b\b\b\b\b\b\r19/19 [==============================] - 66s 4s/step - loss: 0.6072 - accuracy: 0.7753 - val_loss: 0.5925 - val_accuracy: 0.7973\n",
            "Epoch 11/40\n",
            "19/19 [==============================] - 7s 292ms/step - loss: 0.6055 - accuracy: 0.7635 - val_loss: 0.8377 - val_accuracy: 0.7095\n",
            "Epoch 12/40\n",
            "19/19 [==============================] - 7s 295ms/step - loss: 0.7110 - accuracy: 0.7314 - val_loss: 0.6284 - val_accuracy: 0.7432\n",
            "Epoch 13/40\n",
            "19/19 [==============================] - 7s 295ms/step - loss: 0.5218 - accuracy: 0.7973 - val_loss: 0.7644 - val_accuracy: 0.6216\n",
            "Epoch 14/40\n",
            "19/19 [==============================] - 6s 291ms/step - loss: 0.5264 - accuracy: 0.8176 - val_loss: 0.7956 - val_accuracy: 0.7162\n",
            "Epoch 15/40\n",
            "19/19 [==============================] - ETA: 0s - loss: 0.4466 - accuracy: 0.8446"
          ]
        },
        {
          "output_type": "stream",
          "name": "stderr",
          "text": [
            "\u001b[34m\u001b[1mwandb\u001b[0m: Adding directory to artifact (/content/wandb/run-20221012_075756-1fya4i00/files/model-best)... Done. 8.3s\n"
          ]
        },
        {
          "output_type": "stream",
          "name": "stdout",
          "text": [
            "\b\b\b\b\b\b\b\b\b\b\b\b\b\b\b\b\b\b\b\b\b\b\b\b\b\b\b\b\b\b\b\b\b\b\b\b\b\b\b\b\b\b\b\b\b\b\b\b\b\b\b\b\b\b\b\b\b\b\b\b\b\b\b\b\b\b\b\b\b\b\b\b\b\b\b\b\b\b\b\b\b\b\r19/19 [==============================] - 66s 4s/step - loss: 0.4466 - accuracy: 0.8446 - val_loss: 0.5283 - val_accuracy: 0.8176\n",
            "Epoch 16/40\n",
            "19/19 [==============================] - 7s 294ms/step - loss: 0.4529 - accuracy: 0.8294 - val_loss: 0.6066 - val_accuracy: 0.7095\n",
            "Epoch 17/40\n",
            "19/19 [==============================] - 7s 295ms/step - loss: 0.3793 - accuracy: 0.8885 - val_loss: 0.6354 - val_accuracy: 0.7500\n",
            "Epoch 18/40\n",
            "19/19 [==============================] - 7s 295ms/step - loss: 0.5048 - accuracy: 0.8108 - val_loss: 0.8748 - val_accuracy: 0.6689\n",
            "Epoch 19/40\n",
            "19/19 [==============================] - 7s 297ms/step - loss: 0.4698 - accuracy: 0.8260 - val_loss: 0.5541 - val_accuracy: 0.8041\n",
            "Epoch 20/40\n",
            "19/19 [==============================] - ETA: 0s - loss: 0.3878 - accuracy: 0.8598"
          ]
        },
        {
          "output_type": "stream",
          "name": "stderr",
          "text": [
            "\u001b[34m\u001b[1mwandb\u001b[0m: Adding directory to artifact (/content/wandb/run-20221012_075756-1fya4i00/files/model-best)... Done. 8.2s\n"
          ]
        },
        {
          "output_type": "stream",
          "name": "stdout",
          "text": [
            "\b\b\b\b\b\b\b\b\b\b\b\b\b\b\b\b\b\b\b\b\b\b\b\b\b\b\b\b\b\b\b\b\b\b\b\b\b\b\b\b\b\b\b\b\b\b\b\b\b\b\b\b\b\b\b\b\b\b\b\b\b\b\b\b\b\b\b\b\b\b\b\b\b\b\b\b\b\b\b\b\b\b\r19/19 [==============================] - 72s 4s/step - loss: 0.3878 - accuracy: 0.8598 - val_loss: 0.4794 - val_accuracy: 0.8176\n",
            "Epoch 21/40\n",
            "19/19 [==============================] - 8s 323ms/step - loss: 0.3373 - accuracy: 0.8834 - val_loss: 0.5541 - val_accuracy: 0.8041\n",
            "Epoch 22/40\n",
            "19/19 [==============================] - 8s 307ms/step - loss: 0.3445 - accuracy: 0.8818 - val_loss: 0.5761 - val_accuracy: 0.7973\n",
            "Epoch 23/40\n",
            "19/19 [==============================] - ETA: 0s - loss: 0.3592 - accuracy: 0.8868"
          ]
        },
        {
          "output_type": "stream",
          "name": "stderr",
          "text": [
            "\u001b[34m\u001b[1mwandb\u001b[0m: Adding directory to artifact (/content/wandb/run-20221012_075756-1fya4i00/files/model-best)... Done. 8.4s\n"
          ]
        },
        {
          "output_type": "stream",
          "name": "stdout",
          "text": [
            "\b\b\b\b\b\b\b\b\b\b\b\b\b\b\b\b\b\b\b\b\b\b\b\b\b\b\b\b\b\b\b\b\b\b\b\b\b\b\b\b\b\b\b\b\b\b\b\b\b\b\b\b\b\b\b\b\b\b\b\b\b\b\b\b\b\b\b\b\b\b\b\b\b\b\b\b\b\b\b\b\b\b\r19/19 [==============================] - 67s 4s/step - loss: 0.3592 - accuracy: 0.8868 - val_loss: 0.4612 - val_accuracy: 0.8378\n",
            "Epoch 24/40\n",
            "19/19 [==============================] - 8s 336ms/step - loss: 0.3969 - accuracy: 0.8564 - val_loss: 0.6499 - val_accuracy: 0.8243\n",
            "Epoch 25/40\n",
            "19/19 [==============================] - 7s 296ms/step - loss: 0.3083 - accuracy: 0.8953 - val_loss: 0.5345 - val_accuracy: 0.7838\n",
            "Epoch 26/40\n",
            "19/19 [==============================] - 7s 296ms/step - loss: 0.2779 - accuracy: 0.9155 - val_loss: 0.5792 - val_accuracy: 0.7635\n",
            "Epoch 27/40\n",
            "19/19 [==============================] - 7s 299ms/step - loss: 0.3030 - accuracy: 0.9139 - val_loss: 0.5310 - val_accuracy: 0.7703\n",
            "Epoch 28/40\n",
            "19/19 [==============================] - 7s 300ms/step - loss: 0.2704 - accuracy: 0.9172 - val_loss: 0.7975 - val_accuracy: 0.7297\n",
            "Epoch 29/40\n",
            "19/19 [==============================] - 7s 302ms/step - loss: 0.3850 - accuracy: 0.8581 - val_loss: 0.6020 - val_accuracy: 0.7973\n",
            "Epoch 30/40\n",
            "19/19 [==============================] - ETA: 0s - loss: 0.2982 - accuracy: 0.8902"
          ]
        },
        {
          "output_type": "stream",
          "name": "stderr",
          "text": [
            "\u001b[34m\u001b[1mwandb\u001b[0m: Adding directory to artifact (/content/wandb/run-20221012_075756-1fya4i00/files/model-best)... Done. 8.4s\n"
          ]
        },
        {
          "output_type": "stream",
          "name": "stdout",
          "text": [
            "\b\b\b\b\b\b\b\b\b\b\b\b\b\b\b\b\b\b\b\b\b\b\b\b\b\b\b\b\b\b\b\b\b\b\b\b\b\b\b\b\b\b\b\b\b\b\b\b\b\b\b\b\b\b\b\b\b\b\b\b\b\b\b\b\b\b\b\b\b\b\b\b\b\b\b\b\b\b\b\b\b\b\r19/19 [==============================] - 65s 4s/step - loss: 0.2982 - accuracy: 0.8902 - val_loss: 0.4275 - val_accuracy: 0.8446\n",
            "Epoch 31/40\n",
            "19/19 [==============================] - 8s 332ms/step - loss: 0.2923 - accuracy: 0.9071 - val_loss: 0.5526 - val_accuracy: 0.7770\n",
            "Epoch 32/40\n",
            "19/19 [==============================] - 7s 306ms/step - loss: 0.2640 - accuracy: 0.9071 - val_loss: 0.4391 - val_accuracy: 0.8378\n",
            "Epoch 33/40\n",
            "19/19 [==============================] - 7s 304ms/step - loss: 0.2688 - accuracy: 0.9223 - val_loss: 0.6048 - val_accuracy: 0.8243\n",
            "Epoch 34/40\n",
            "19/19 [==============================] - 7s 304ms/step - loss: 0.2139 - accuracy: 0.9341 - val_loss: 0.5489 - val_accuracy: 0.7838\n",
            "Epoch 35/40\n",
            "19/19 [==============================] - 7s 309ms/step - loss: 0.2982 - accuracy: 0.8953 - val_loss: 1.2091 - val_accuracy: 0.6149\n",
            "Epoch 36/40\n",
            "19/19 [==============================] - 7s 300ms/step - loss: 0.3907 - accuracy: 0.8463 - val_loss: 0.4558 - val_accuracy: 0.8243\n",
            "Epoch 37/40\n",
            "19/19 [==============================] - 7s 296ms/step - loss: 0.2383 - accuracy: 0.9307 - val_loss: 0.6519 - val_accuracy: 0.7568\n",
            "Epoch 38/40\n",
            "19/19 [==============================] - 7s 298ms/step - loss: 0.2787 - accuracy: 0.8953 - val_loss: 0.5289 - val_accuracy: 0.7973\n",
            "Epoch 39/40\n",
            "19/19 [==============================] - 7s 323ms/step - loss: 0.3004 - accuracy: 0.8986 - val_loss: 0.5237 - val_accuracy: 0.8378\n",
            "Epoch 40/40\n",
            "19/19 [==============================] - 7s 299ms/step - loss: 0.2522 - accuracy: 0.9105 - val_loss: 0.4447 - val_accuracy: 0.8514\n",
            "CPU times: user 9min 7s, sys: 2min 4s, total: 11min 12s\n",
            "Wall time: 17min 59s\n"
          ]
        }
      ]
    },
    {
      "cell_type": "code",
      "source": [
        "wandb.finish()"
      ],
      "metadata": {
        "colab": {
          "base_uri": "https://localhost:8080/",
          "height": 397,
          "referenced_widgets": [
            "1f2b75dedb834df5ae7168fea5e9a527",
            "c5ad099088fc463a89e7ef5a55ebb67d",
            "d9a07a4788f1452ca338e4d867c650ea",
            "fc533e773f824390988055023b6c7c19",
            "96d0b18ca8784a3190b571cde5193c24",
            "ebdf9de6637e430fa9c5383d27b050cc",
            "26fb64c287d7415194c93977805de0fc",
            "f5531e28d5c2415fb6d6fb25a73c9e47"
          ]
        },
        "id": "WaZ2tnFeETsF",
        "outputId": "7d7860e0-723d-4dd0-e70c-a393c11b00cc"
      },
      "execution_count": 10,
      "outputs": [
        {
          "output_type": "display_data",
          "data": {
            "text/plain": [
              "<IPython.core.display.HTML object>"
            ],
            "text/html": [
              "Waiting for W&B process to finish... <strong style=\"color:green\">(success).</strong>"
            ]
          },
          "metadata": {}
        },
        {
          "output_type": "display_data",
          "data": {
            "text/plain": [
              "VBox(children=(Label(value='14849.088 MB of 14849.088 MB uploaded (1.037 MB deduped)\\r'), FloatProgress(value=…"
            ],
            "application/vnd.jupyter.widget-view+json": {
              "version_major": 2,
              "version_minor": 0,
              "model_id": "1f2b75dedb834df5ae7168fea5e9a527"
            }
          },
          "metadata": {}
        },
        {
          "output_type": "display_data",
          "data": {
            "text/plain": [
              "<IPython.core.display.HTML object>"
            ],
            "text/html": [
              "<style>\n",
              "    table.wandb td:nth-child(1) { padding: 0 10px; text-align: left ; width: auto;} td:nth-child(2) {text-align: left ; width: 100%}\n",
              "    .wandb-row { display: flex; flex-direction: row; flex-wrap: wrap; justify-content: flex-start; width: 100% }\n",
              "    .wandb-col { display: flex; flex-direction: column; flex-basis: 100%; flex: 1; padding: 10px; }\n",
              "    </style>\n",
              "<div class=\"wandb-row\"><div class=\"wandb-col\"><h3>Run history:</h3><br/><table class=\"wandb\"><tr><td>accuracy</td><td>▁▂▃▄▅▄▅▅▆▆▆▅▆▆▇▇▇▆▇▇▇▇▇▇▇███▇▇████▇▇█▇██</td></tr><tr><td>epoch</td><td>▁▁▁▂▂▂▂▂▂▃▃▃▃▃▄▄▄▄▄▄▅▅▅▅▅▅▆▆▆▆▆▇▇▇▇▇▇███</td></tr><tr><td>loss</td><td>█▂▁▁▁▁▁▁▁▁▁▁▁▁▁▁▁▁▁▁▁▁▁▁▁▁▁▁▁▁▁▁▁▁▁▁▁▁▁▁</td></tr><tr><td>val_accuracy</td><td>▁▂▂▅▅▄▆▅▅▇▅▆▃▅▇▅▆▄▇▇▇▇█▇▇▆▆▆▇█▇█▇▇▃▇▆▇██</td></tr><tr><td>val_loss</td><td>█▂▃▂▂▂▂▁▂▁▂▁▂▂▁▁▁▂▁▁▁▁▁▁▁▁▁▂▁▁▁▁▁▁▃▁▁▁▁▁</td></tr></table><br/></div><div class=\"wandb-col\"><h3>Run summary:</h3><br/><table class=\"wandb\"><tr><td>accuracy</td><td>0.91047</td></tr><tr><td>best_epoch</td><td>29</td></tr><tr><td>best_val_loss</td><td>0.42748</td></tr><tr><td>epoch</td><td>39</td></tr><tr><td>loss</td><td>0.25224</td></tr><tr><td>val_accuracy</td><td>0.85135</td></tr><tr><td>val_loss</td><td>0.44474</td></tr></table><br/></div></div>"
            ]
          },
          "metadata": {}
        },
        {
          "output_type": "display_data",
          "data": {
            "text/plain": [
              "<IPython.core.display.HTML object>"
            ],
            "text/html": [
              "Synced <strong style=\"color:#cdcd00\">resnet101</strong>: <a href=\"https://wandb.ai/vedmanivaidya/Transfer_learning/runs/1fya4i00\" target=\"_blank\">https://wandb.ai/vedmanivaidya/Transfer_learning/runs/1fya4i00</a><br/>Synced 5 W&B file(s), 1 media file(s), 31 artifact file(s) and 1 other file(s)"
            ]
          },
          "metadata": {}
        },
        {
          "output_type": "display_data",
          "data": {
            "text/plain": [
              "<IPython.core.display.HTML object>"
            ],
            "text/html": [
              "Find logs at: <code>./wandb/run-20221012_075756-1fya4i00/logs</code>"
            ]
          },
          "metadata": {}
        }
      ]
    },
    {
      "cell_type": "code",
      "source": [],
      "metadata": {
        "id": "evsoqZlgK-dc"
      },
      "execution_count": 10,
      "outputs": []
    }
  ],
  "metadata": {
    "kernelspec": {
      "display_name": "Python 3",
      "language": "python",
      "name": "python3"
    },
    "language_info": {
      "codemirror_mode": {
        "name": "ipython",
        "version": 2
      },
      "file_extension": ".py",
      "mimetype": "text/x-python",
      "name": "python",
      "nbconvert_exporter": "python",
      "pygments_lexer": "ipython2",
      "version": "2.7.6"
    },
    "colab": {
      "provenance": [],
      "include_colab_link": true
    },
    "accelerator": "GPU",
    "widgets": {
      "application/vnd.jupyter.widget-state+json": {
        "1f2b75dedb834df5ae7168fea5e9a527": {
          "model_module": "@jupyter-widgets/controls",
          "model_name": "VBoxModel",
          "model_module_version": "1.5.0",
          "state": {
            "_dom_classes": [],
            "_model_module": "@jupyter-widgets/controls",
            "_model_module_version": "1.5.0",
            "_model_name": "VBoxModel",
            "_view_count": null,
            "_view_module": "@jupyter-widgets/controls",
            "_view_module_version": "1.5.0",
            "_view_name": "VBoxView",
            "box_style": "",
            "children": [
              "IPY_MODEL_c5ad099088fc463a89e7ef5a55ebb67d",
              "IPY_MODEL_d9a07a4788f1452ca338e4d867c650ea"
            ],
            "layout": "IPY_MODEL_fc533e773f824390988055023b6c7c19"
          }
        },
        "c5ad099088fc463a89e7ef5a55ebb67d": {
          "model_module": "@jupyter-widgets/controls",
          "model_name": "LabelModel",
          "model_module_version": "1.5.0",
          "state": {
            "_dom_classes": [],
            "_model_module": "@jupyter-widgets/controls",
            "_model_module_version": "1.5.0",
            "_model_name": "LabelModel",
            "_view_count": null,
            "_view_module": "@jupyter-widgets/controls",
            "_view_module_version": "1.5.0",
            "_view_name": "LabelView",
            "description": "",
            "description_tooltip": null,
            "layout": "IPY_MODEL_96d0b18ca8784a3190b571cde5193c24",
            "placeholder": "​",
            "style": "IPY_MODEL_ebdf9de6637e430fa9c5383d27b050cc",
            "value": "14834.623 MB of 14849.103 MB uploaded (1.037 MB deduped)\r"
          }
        },
        "d9a07a4788f1452ca338e4d867c650ea": {
          "model_module": "@jupyter-widgets/controls",
          "model_name": "FloatProgressModel",
          "model_module_version": "1.5.0",
          "state": {
            "_dom_classes": [],
            "_model_module": "@jupyter-widgets/controls",
            "_model_module_version": "1.5.0",
            "_model_name": "FloatProgressModel",
            "_view_count": null,
            "_view_module": "@jupyter-widgets/controls",
            "_view_module_version": "1.5.0",
            "_view_name": "ProgressView",
            "bar_style": "",
            "description": "",
            "description_tooltip": null,
            "layout": "IPY_MODEL_26fb64c287d7415194c93977805de0fc",
            "max": 1,
            "min": 0,
            "orientation": "horizontal",
            "style": "IPY_MODEL_f5531e28d5c2415fb6d6fb25a73c9e47",
            "value": 0.9990248736232957
          }
        },
        "fc533e773f824390988055023b6c7c19": {
          "model_module": "@jupyter-widgets/base",
          "model_name": "LayoutModel",
          "model_module_version": "1.2.0",
          "state": {
            "_model_module": "@jupyter-widgets/base",
            "_model_module_version": "1.2.0",
            "_model_name": "LayoutModel",
            "_view_count": null,
            "_view_module": "@jupyter-widgets/base",
            "_view_module_version": "1.2.0",
            "_view_name": "LayoutView",
            "align_content": null,
            "align_items": null,
            "align_self": null,
            "border": null,
            "bottom": null,
            "display": null,
            "flex": null,
            "flex_flow": null,
            "grid_area": null,
            "grid_auto_columns": null,
            "grid_auto_flow": null,
            "grid_auto_rows": null,
            "grid_column": null,
            "grid_gap": null,
            "grid_row": null,
            "grid_template_areas": null,
            "grid_template_columns": null,
            "grid_template_rows": null,
            "height": null,
            "justify_content": null,
            "justify_items": null,
            "left": null,
            "margin": null,
            "max_height": null,
            "max_width": null,
            "min_height": null,
            "min_width": null,
            "object_fit": null,
            "object_position": null,
            "order": null,
            "overflow": null,
            "overflow_x": null,
            "overflow_y": null,
            "padding": null,
            "right": null,
            "top": null,
            "visibility": null,
            "width": null
          }
        },
        "96d0b18ca8784a3190b571cde5193c24": {
          "model_module": "@jupyter-widgets/base",
          "model_name": "LayoutModel",
          "model_module_version": "1.2.0",
          "state": {
            "_model_module": "@jupyter-widgets/base",
            "_model_module_version": "1.2.0",
            "_model_name": "LayoutModel",
            "_view_count": null,
            "_view_module": "@jupyter-widgets/base",
            "_view_module_version": "1.2.0",
            "_view_name": "LayoutView",
            "align_content": null,
            "align_items": null,
            "align_self": null,
            "border": null,
            "bottom": null,
            "display": null,
            "flex": null,
            "flex_flow": null,
            "grid_area": null,
            "grid_auto_columns": null,
            "grid_auto_flow": null,
            "grid_auto_rows": null,
            "grid_column": null,
            "grid_gap": null,
            "grid_row": null,
            "grid_template_areas": null,
            "grid_template_columns": null,
            "grid_template_rows": null,
            "height": null,
            "justify_content": null,
            "justify_items": null,
            "left": null,
            "margin": null,
            "max_height": null,
            "max_width": null,
            "min_height": null,
            "min_width": null,
            "object_fit": null,
            "object_position": null,
            "order": null,
            "overflow": null,
            "overflow_x": null,
            "overflow_y": null,
            "padding": null,
            "right": null,
            "top": null,
            "visibility": null,
            "width": null
          }
        },
        "ebdf9de6637e430fa9c5383d27b050cc": {
          "model_module": "@jupyter-widgets/controls",
          "model_name": "DescriptionStyleModel",
          "model_module_version": "1.5.0",
          "state": {
            "_model_module": "@jupyter-widgets/controls",
            "_model_module_version": "1.5.0",
            "_model_name": "DescriptionStyleModel",
            "_view_count": null,
            "_view_module": "@jupyter-widgets/base",
            "_view_module_version": "1.2.0",
            "_view_name": "StyleView",
            "description_width": ""
          }
        },
        "26fb64c287d7415194c93977805de0fc": {
          "model_module": "@jupyter-widgets/base",
          "model_name": "LayoutModel",
          "model_module_version": "1.2.0",
          "state": {
            "_model_module": "@jupyter-widgets/base",
            "_model_module_version": "1.2.0",
            "_model_name": "LayoutModel",
            "_view_count": null,
            "_view_module": "@jupyter-widgets/base",
            "_view_module_version": "1.2.0",
            "_view_name": "LayoutView",
            "align_content": null,
            "align_items": null,
            "align_self": null,
            "border": null,
            "bottom": null,
            "display": null,
            "flex": null,
            "flex_flow": null,
            "grid_area": null,
            "grid_auto_columns": null,
            "grid_auto_flow": null,
            "grid_auto_rows": null,
            "grid_column": null,
            "grid_gap": null,
            "grid_row": null,
            "grid_template_areas": null,
            "grid_template_columns": null,
            "grid_template_rows": null,
            "height": null,
            "justify_content": null,
            "justify_items": null,
            "left": null,
            "margin": null,
            "max_height": null,
            "max_width": null,
            "min_height": null,
            "min_width": null,
            "object_fit": null,
            "object_position": null,
            "order": null,
            "overflow": null,
            "overflow_x": null,
            "overflow_y": null,
            "padding": null,
            "right": null,
            "top": null,
            "visibility": null,
            "width": null
          }
        },
        "f5531e28d5c2415fb6d6fb25a73c9e47": {
          "model_module": "@jupyter-widgets/controls",
          "model_name": "ProgressStyleModel",
          "model_module_version": "1.5.0",
          "state": {
            "_model_module": "@jupyter-widgets/controls",
            "_model_module_version": "1.5.0",
            "_model_name": "ProgressStyleModel",
            "_view_count": null,
            "_view_module": "@jupyter-widgets/base",
            "_view_module_version": "1.2.0",
            "_view_name": "StyleView",
            "bar_color": null,
            "description_width": ""
          }
        }
      }
    }
  },
  "nbformat": 4,
  "nbformat_minor": 0
}