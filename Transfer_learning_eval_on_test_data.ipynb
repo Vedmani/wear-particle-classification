{
  "nbformat": 4,
  "nbformat_minor": 0,
  "metadata": {
    "colab": {
      "provenance": [],
      "authorship_tag": "ABX9TyPGwzXwoVowLGoowWAj9J9J",
      "include_colab_link": true
    },
    "kernelspec": {
      "name": "python3",
      "display_name": "Python 3"
    },
    "language_info": {
      "name": "python"
    },
    "accelerator": "GPU",
    "gpuClass": "standard"
  },
  "cells": [
    {
      "cell_type": "markdown",
      "metadata": {
        "id": "view-in-github",
        "colab_type": "text"
      },
      "source": [
        "<a href=\"https://colab.research.google.com/github/Vedmani/wear-particle-classification/blob/main/Transfer_learning_eval_on_test_data.ipynb\" target=\"_parent\"><img src=\"https://colab.research.google.com/assets/colab-badge.svg\" alt=\"Open In Colab\"/></a>"
      ]
    },
    {
      "cell_type": "code",
      "execution_count": null,
      "metadata": {
        "colab": {
          "base_uri": "https://localhost:8080/"
        },
        "id": "RMZV-MY8KPCC",
        "outputId": "b141337d-4ce0-4509-8929-af55b56e98aa"
      },
      "outputs": [
        {
          "output_type": "stream",
          "name": "stdout",
          "text": [
            "Mounted at /content/drive\n"
          ]
        }
      ],
      "source": [
        "from google.colab import drive\n",
        "drive.mount('/content/drive')"
      ]
    },
    {
      "cell_type": "code",
      "source": [
        "!pip install wandb -qU\n",
        "!wandb login 617d80dc70f383d8ff9ef1c2b94a78ccc8d8db23"
      ],
      "metadata": {
        "colab": {
          "base_uri": "https://localhost:8080/"
        },
        "id": "TWAuEN27KZuE",
        "outputId": "72c9c283-ee3a-4e0e-e2f2-a4fffc5944a8"
      },
      "execution_count": null,
      "outputs": [
        {
          "output_type": "stream",
          "name": "stdout",
          "text": [
            "\u001b[K     |████████████████████████████████| 1.9 MB 30.3 MB/s \n",
            "\u001b[K     |████████████████████████████████| 168 kB 64.2 MB/s \n",
            "\u001b[K     |████████████████████████████████| 182 kB 57.5 MB/s \n",
            "\u001b[K     |████████████████████████████████| 63 kB 1.6 MB/s \n",
            "\u001b[K     |████████████████████████████████| 166 kB 74.0 MB/s \n",
            "\u001b[K     |████████████████████████████████| 166 kB 76.1 MB/s \n",
            "\u001b[K     |████████████████████████████████| 162 kB 77.2 MB/s \n",
            "\u001b[K     |████████████████████████████████| 162 kB 68.4 MB/s \n",
            "\u001b[K     |████████████████████████████████| 158 kB 77.3 MB/s \n",
            "\u001b[K     |████████████████████████████████| 157 kB 77.8 MB/s \n",
            "\u001b[K     |████████████████████████████████| 157 kB 75.0 MB/s \n",
            "\u001b[K     |████████████████████████████████| 157 kB 76.5 MB/s \n",
            "\u001b[K     |████████████████████████████████| 157 kB 77.3 MB/s \n",
            "\u001b[K     |████████████████████████████████| 157 kB 78.2 MB/s \n",
            "\u001b[K     |████████████████████████████████| 157 kB 76.6 MB/s \n",
            "\u001b[K     |████████████████████████████████| 157 kB 74.2 MB/s \n",
            "\u001b[K     |████████████████████████████████| 156 kB 76.9 MB/s \n",
            "\u001b[?25h  Building wheel for pathtools (setup.py) ... \u001b[?25l\u001b[?25hdone\n",
            "\u001b[34m\u001b[1mwandb\u001b[0m: Appending key for api.wandb.ai to your netrc file: /root/.netrc\n"
          ]
        }
      ]
    },
    {
      "cell_type": "code",
      "source": [
        "import tensorflow as tf\n",
        "from tensorflow import keras\n",
        "from tensorflow.keras import layers\n",
        "from tensorflow.keras.models import Sequential\n",
        "import wandb\n",
        "from wandb.keras import WandbCallback\n",
        "import numpy as np"
      ],
      "metadata": {
        "id": "0URDaJOcKutg"
      },
      "execution_count": null,
      "outputs": []
    },
    {
      "cell_type": "code",
      "source": [
        "tf.keras.utils.set_random_seed(1)\n",
        "tf.config.experimental.enable_op_determinism()"
      ],
      "metadata": {
        "id": "ug3T9Ja_Kynr"
      },
      "execution_count": null,
      "outputs": []
    },
    {
      "cell_type": "code",
      "source": [
        "PATH = '/content/drive/MyDrive/Research Internship/final data/wear particles/Train'\n",
        "test_path = '/content/drive/MyDrive/Research Internship/final data/wear particles/Test'\n",
        "batch_size = 32\n",
        "img_height = 224\n",
        "img_width = 224\n",
        "\n",
        "test_ds = tf.keras.utils.image_dataset_from_directory(\n",
        "  test_path,\n",
        "  shuffle = False,\n",
        "  seed = 42,\n",
        "  image_size=(img_height, img_width)  )\n",
        "class_names = test_ds.class_names\n",
        "num_classes = len(class_names)"
      ],
      "metadata": {
        "colab": {
          "base_uri": "https://localhost:8080/"
        },
        "id": "VTcL-YsyK7GM",
        "outputId": "f2cd283f-0ed6-4778-8fc2-7ad6b8cbc17f"
      },
      "execution_count": null,
      "outputs": [
        {
          "output_type": "stream",
          "name": "stdout",
          "text": [
            "Found 100 files belonging to 5 classes.\n"
          ]
        }
      ]
    },
    {
      "cell_type": "code",
      "source": [
        "y = np.concatenate([y for x, y in test_ds], axis=0)\n",
        "y"
      ],
      "metadata": {
        "colab": {
          "base_uri": "https://localhost:8080/"
        },
        "id": "wcGVVvQ5MHEa",
        "outputId": "53c80f27-78ff-4140-8766-d2923ae116d7"
      },
      "execution_count": null,
      "outputs": [
        {
          "output_type": "execute_result",
          "data": {
            "text/plain": [
              "array([0, 0, 0, 0, 0, 0, 0, 0, 0, 0, 0, 0, 1, 1, 1, 1, 1, 1, 1, 1, 1, 1,\n",
              "       2, 2, 2, 2, 2, 2, 2, 2, 2, 2, 2, 2, 2, 2, 2, 2, 2, 2, 2, 2, 2, 2,\n",
              "       2, 2, 2, 2, 2, 2, 2, 2, 2, 2, 2, 3, 3, 3, 3, 3, 3, 3, 3, 3, 4, 4,\n",
              "       4, 4, 4, 4, 4, 4, 4, 4, 4, 4, 4, 4, 4, 4, 4, 4, 4, 4, 4, 4, 4, 4,\n",
              "       4, 4, 4, 4, 4, 4, 4, 4, 4, 4, 4, 4], dtype=int32)"
            ]
          },
          "metadata": {},
          "execution_count": 13
        }
      ]
    },
    {
      "cell_type": "code",
      "source": [
        "#efficinetnet\n",
        "api = wandb.Api()\n",
        "artifact = api.artifact('vedmanivaidya/Transfer_Learning_New/model-EfficientnetB0:v31', type='model')\n",
        "artifact.download()\n",
        "model = tf.keras.models.load_model(\"/content/artifacts/model-EfficientnetB0:v31\")\n",
        "model.evaluate(test_ds)"
      ],
      "metadata": {
        "colab": {
          "base_uri": "https://localhost:8080/"
        },
        "id": "XvpTzrOaQcTx",
        "outputId": "bab7f3a8-5694-42e1-c4c1-543453d4d613"
      },
      "execution_count": null,
      "outputs": [
        {
          "output_type": "stream",
          "name": "stderr",
          "text": [
            "\u001b[34m\u001b[1mwandb\u001b[0m:   4 of 4 files downloaded.  \n"
          ]
        },
        {
          "output_type": "stream",
          "name": "stdout",
          "text": [
            "4/4 [==============================] - 3s 202ms/step - loss: 0.0793 - accuracy: 0.9800\n"
          ]
        },
        {
          "output_type": "execute_result",
          "data": {
            "text/plain": [
              "[0.07926594465970993, 0.9800000190734863]"
            ]
          },
          "metadata": {},
          "execution_count": 12
        }
      ]
    },
    {
      "cell_type": "code",
      "source": [
        "#NasNetMobile\n",
        "api = wandb.Api()\n",
        "artifact = api.artifact('vedmanivaidya/Transfer_Learning_New/model-NASNetMobile:v38', type='model')\n",
        "artifact.download()\n",
        "model = tf.keras.models.load_model(\"/content/artifacts/model-NASNetMobile:v38\")\n",
        "model.evaluate(test_ds)"
      ],
      "metadata": {
        "colab": {
          "base_uri": "https://localhost:8080/"
        },
        "id": "nT2D_9ikQ3Sn",
        "outputId": "4b4eeca4-59e2-422d-8bf8-abb7a1225a54"
      },
      "execution_count": null,
      "outputs": [
        {
          "output_type": "stream",
          "name": "stderr",
          "text": [
            "\u001b[34m\u001b[1mwandb\u001b[0m:   4 of 4 files downloaded.  \n"
          ]
        },
        {
          "output_type": "stream",
          "name": "stdout",
          "text": [
            "4/4 [==============================] - 4s 154ms/step - loss: 0.1251 - accuracy: 0.9800\n"
          ]
        },
        {
          "output_type": "execute_result",
          "data": {
            "text/plain": [
              "[0.12505723536014557, 0.9800000190734863]"
            ]
          },
          "metadata": {},
          "execution_count": 13
        }
      ]
    },
    {
      "cell_type": "code",
      "source": [
        "#DenseNet121\n",
        "api = wandb.Api()\n",
        "artifact = api.artifact('vedmanivaidya/Transfer_Learning_New/model-densenet121:v75', type='model')\n",
        "artifact.download()\n",
        "model = tf.keras.models.load_model(\"/content/artifacts/model-densenet121:v75\")\n",
        "model.evaluate(test_ds)"
      ],
      "metadata": {
        "colab": {
          "base_uri": "https://localhost:8080/"
        },
        "id": "_qZM04XiR3El",
        "outputId": "4046f62d-2a3c-4752-ad83-e4aaa341255c"
      },
      "execution_count": null,
      "outputs": [
        {
          "output_type": "stream",
          "name": "stderr",
          "text": [
            "\u001b[34m\u001b[1mwandb\u001b[0m:   4 of 4 files downloaded.  \n"
          ]
        },
        {
          "output_type": "stream",
          "name": "stdout",
          "text": [
            "4/4 [==============================] - 2s 139ms/step - loss: 0.1085 - accuracy: 0.9900\n"
          ]
        },
        {
          "output_type": "execute_result",
          "data": {
            "text/plain": [
              "[0.10849732160568237, 0.9900000095367432]"
            ]
          },
          "metadata": {},
          "execution_count": 14
        }
      ]
    },
    {
      "cell_type": "code",
      "source": [
        "#Densenet169\n",
        "api = wandb.Api()\n",
        "artifact = api.artifact('vedmanivaidya/Transfer_Learning_New/model-Densenet169:v27', type='model')\n",
        "artifact.download()\n",
        "model = tf.keras.models.load_model(\"/content/artifacts/model-Densenet169:v27\")\n",
        "model.evaluate(test_ds)"
      ],
      "metadata": {
        "colab": {
          "base_uri": "https://localhost:8080/"
        },
        "id": "0yei3wD_LCwP",
        "outputId": "910cd377-13d8-4693-c5ea-3ddcfce7cc06"
      },
      "execution_count": null,
      "outputs": [
        {
          "output_type": "stream",
          "name": "stderr",
          "text": [
            "\u001b[34m\u001b[1mwandb\u001b[0m: Downloading large artifact model-Densenet169:v27, 61.23MB. 4 files... \n",
            "\u001b[34m\u001b[1mwandb\u001b[0m:   4 of 4 files downloaded.  \n",
            "Done. 0:0:0.1\n"
          ]
        },
        {
          "output_type": "stream",
          "name": "stdout",
          "text": [
            "4/4 [==============================] - 3s 143ms/step - loss: 0.1469 - accuracy: 0.9500\n"
          ]
        },
        {
          "output_type": "execute_result",
          "data": {
            "text/plain": [
              "[0.1468842327594757, 0.949999988079071]"
            ]
          },
          "metadata": {},
          "execution_count": 11
        }
      ]
    },
    {
      "cell_type": "code",
      "source": [
        "#MobileNetV1\n",
        "api = wandb.Api()\n",
        "artifact = api.artifact('vedmanivaidya/Transfer_Learning_New/model-Mobilenet:v34', type='model')\n",
        "artifact.download()\n",
        "model = tf.keras.models.load_model(\"/content/artifacts/model-Mobilenet:v34\")\n",
        "model.evaluate(test_ds)"
      ],
      "metadata": {
        "colab": {
          "base_uri": "https://localhost:8080/"
        },
        "id": "nSpiSz__Sxe0",
        "outputId": "2a691333-3be8-47ba-d08d-ed298a4b13ea"
      },
      "execution_count": null,
      "outputs": [
        {
          "output_type": "stream",
          "name": "stderr",
          "text": [
            "\u001b[34m\u001b[1mwandb\u001b[0m:   4 of 4 files downloaded.  \n"
          ]
        },
        {
          "output_type": "stream",
          "name": "stdout",
          "text": [
            "4/4 [==============================] - 1s 111ms/step - loss: 0.0886 - accuracy: 0.9900\n"
          ]
        },
        {
          "output_type": "execute_result",
          "data": {
            "text/plain": [
              "[0.08864191919565201, 0.9900000095367432]"
            ]
          },
          "metadata": {},
          "execution_count": 16
        }
      ]
    },
    {
      "cell_type": "code",
      "source": [
        "#MobileNetV2\n",
        "api = wandb.Api()\n",
        "artifact = api.artifact('vedmanivaidya/Transfer_Learning_New/model-MobilenetV2:v67', type='model')\n",
        "artifact.download()\n",
        "model = tf.keras.models.load_model(\"/content/artifacts/model-MobilenetV2:v67\")\n",
        "model.evaluate(test_ds)"
      ],
      "metadata": {
        "colab": {
          "base_uri": "https://localhost:8080/"
        },
        "id": "CiEq5FBYReok",
        "outputId": "3a4ba182-f9dc-41fa-9f24-7cb8209f7497"
      },
      "execution_count": null,
      "outputs": [
        {
          "output_type": "stream",
          "name": "stderr",
          "text": [
            "\u001b[34m\u001b[1mwandb\u001b[0m:   4 of 4 files downloaded.  \n"
          ]
        },
        {
          "output_type": "stream",
          "name": "stdout",
          "text": [
            "4/4 [==============================] - 1s 114ms/step - loss: 0.0804 - accuracy: 0.9700\n"
          ]
        },
        {
          "output_type": "execute_result",
          "data": {
            "text/plain": [
              "[0.0804297924041748, 0.9700000286102295]"
            ]
          },
          "metadata": {},
          "execution_count": 15
        }
      ]
    },
    {
      "cell_type": "code",
      "source": [
        "#InceptionV3\n",
        "api = wandb.Api()\n",
        "artifact = api.artifact('vedmanivaidya/Transfer_Learning_New/model-inceptionv3_with_globalavgpool:v25', type='model')\n",
        "artifact.download()\n",
        "model = tf.keras.models.load_model(\"/content/artifacts/model-inceptionv3_with_globalavgpool:v25\")\n",
        "model.evaluate(test_ds)"
      ],
      "metadata": {
        "colab": {
          "base_uri": "https://localhost:8080/"
        },
        "id": "rtqrYiaNTjCQ",
        "outputId": "0aa1ae57-818f-4b46-cdd8-9c965094a36e"
      },
      "execution_count": null,
      "outputs": [
        {
          "output_type": "stream",
          "name": "stderr",
          "text": [
            "\u001b[34m\u001b[1mwandb\u001b[0m: Downloading large artifact model-inceptionv3_with_globalavgpool:v25, 90.01MB. 4 files... \n",
            "\u001b[34m\u001b[1mwandb\u001b[0m:   4 of 4 files downloaded.  \n",
            "Done. 0:0:5.5\n"
          ]
        },
        {
          "output_type": "stream",
          "name": "stdout",
          "text": [
            "4/4 [==============================] - 3s 322ms/step - loss: 0.0659 - accuracy: 0.9800\n"
          ]
        },
        {
          "output_type": "execute_result",
          "data": {
            "text/plain": [
              "[0.06592459231615067, 0.9800000190734863]"
            ]
          },
          "metadata": {},
          "execution_count": 17
        }
      ]
    },
    {
      "cell_type": "code",
      "source": [
        "#ResNet152 with hidden dense\n",
        "api = wandb.Api()\n",
        "artifact = api.artifact('vedmanivaidya/Transfer_Learning_New/model-resnet152_with_hidden_dense:v20', type='model')\n",
        "artifact.download()\n",
        "model = tf.keras.models.load_model(\"/content/artifacts/model-resnet152_with_hidden_dense:v20\")\n",
        "model.evaluate(test_ds)"
      ],
      "metadata": {
        "colab": {
          "base_uri": "https://localhost:8080/"
        },
        "id": "4RhYoqBpTwZw",
        "outputId": "6fd7d4b7-907e-4a7f-933a-21f61768ee9a"
      },
      "execution_count": null,
      "outputs": [
        {
          "output_type": "stream",
          "name": "stderr",
          "text": [
            "\u001b[34m\u001b[1mwandb\u001b[0m: Downloading large artifact model-resnet152_with_hidden_dense:v20, 235.89MB. 4 files... \n",
            "\u001b[34m\u001b[1mwandb\u001b[0m:   4 of 4 files downloaded.  \n",
            "Done. 0:0:15.5\n"
          ]
        },
        {
          "output_type": "stream",
          "name": "stdout",
          "text": [
            "4/4 [==============================] - 4s 334ms/step - loss: 1.0850 - accuracy: 0.5400\n"
          ]
        },
        {
          "output_type": "execute_result",
          "data": {
            "text/plain": [
              "[1.0850329399108887, 0.5400000214576721]"
            ]
          },
          "metadata": {},
          "execution_count": 18
        }
      ]
    },
    {
      "cell_type": "code",
      "source": [
        "#ResNet152 without hidden dense\n",
        "api = wandb.Api()\n",
        "artifact = api.artifact('vedmanivaidya/Transfer_Learning_New/model-resnet152_without_hidden_dense:v22', type='model')\n",
        "artifact.download()\n",
        "model = tf.keras.models.load_model(\"/content/artifacts/model-resnet152_without_hidden_dense:v22\")\n",
        "model.evaluate(test_ds)"
      ],
      "metadata": {
        "colab": {
          "base_uri": "https://localhost:8080/"
        },
        "id": "9qFQaepPUc3u",
        "outputId": "9c930ac1-b773-4f44-c6a0-d92d9e245f94"
      },
      "execution_count": null,
      "outputs": [
        {
          "output_type": "stream",
          "name": "stderr",
          "text": [
            "\u001b[34m\u001b[1mwandb\u001b[0m: Downloading large artifact model-resnet152_without_hidden_dense:v22, 235.23MB. 4 files... \n",
            "\u001b[34m\u001b[1mwandb\u001b[0m:   4 of 4 files downloaded.  \n",
            "Done. 0:0:13.6\n"
          ]
        },
        {
          "output_type": "stream",
          "name": "stdout",
          "text": [
            "4/4 [==============================] - 3s 217ms/step - loss: 1.1450 - accuracy: 0.6200\n"
          ]
        },
        {
          "output_type": "execute_result",
          "data": {
            "text/plain": [
              "[1.1450303792953491, 0.6200000047683716]"
            ]
          },
          "metadata": {},
          "execution_count": 19
        }
      ]
    },
    {
      "cell_type": "code",
      "source": [
        "#ResNet50 with hidden dense\n",
        "api = wandb.Api()\n",
        "artifact = api.artifact('vedmanivaidya/Transfer_Learning_New/model-resnet50_with_hidden_dense:v24', type='model')\n",
        "artifact.download()\n",
        "model = tf.keras.models.load_model(\"/content/artifacts/model-resnet50_with_hidden_dense:v24\")\n",
        "model.evaluate(test_ds)"
      ],
      "metadata": {
        "colab": {
          "base_uri": "https://localhost:8080/"
        },
        "id": "gjt80Xh1U2ZU",
        "outputId": "fc6cd246-9bdf-47ff-9400-36d18b698df7"
      },
      "execution_count": null,
      "outputs": [
        {
          "output_type": "stream",
          "name": "stderr",
          "text": [
            "\u001b[34m\u001b[1mwandb\u001b[0m: Downloading large artifact model-resnet50_with_hidden_dense:v24, 95.02MB. 4 files... \n",
            "\u001b[34m\u001b[1mwandb\u001b[0m:   4 of 4 files downloaded.  \n",
            "Done. 0:0:6.6\n"
          ]
        },
        {
          "output_type": "stream",
          "name": "stdout",
          "text": [
            "4/4 [==============================] - 1s 113ms/step - loss: 0.8885 - accuracy: 0.6600\n"
          ]
        },
        {
          "output_type": "execute_result",
          "data": {
            "text/plain": [
              "[0.8884599208831787, 0.6600000262260437]"
            ]
          },
          "metadata": {},
          "execution_count": 20
        }
      ]
    },
    {
      "cell_type": "code",
      "source": [
        "#ResNet50 without hidden dense\n",
        "api = wandb.Api()\n",
        "artifact = api.artifact('vedmanivaidya/Transfer_Learning_New/model-resnet50:v30', type='model')\n",
        "artifact.download()\n",
        "model = tf.keras.models.load_model(\"/content/artifacts/model-resnet50:v30\")\n",
        "model.evaluate(test_ds)"
      ],
      "metadata": {
        "colab": {
          "base_uri": "https://localhost:8080/"
        },
        "id": "rr9vqS45V4Cu",
        "outputId": "f4787290-8b67-4cf1-f40d-c47ab483d6f5"
      },
      "execution_count": null,
      "outputs": [
        {
          "output_type": "stream",
          "name": "stderr",
          "text": [
            "\u001b[34m\u001b[1mwandb\u001b[0m: Downloading large artifact model-resnet50:v30, 94.37MB. 4 files... \n",
            "\u001b[34m\u001b[1mwandb\u001b[0m:   4 of 4 files downloaded.  \n",
            "Done. 0:0:7.6\n"
          ]
        },
        {
          "output_type": "stream",
          "name": "stdout",
          "text": [
            "4/4 [==============================] - 2s 115ms/step - loss: 0.9747 - accuracy: 0.5700\n"
          ]
        },
        {
          "output_type": "execute_result",
          "data": {
            "text/plain": [
              "[0.9746862649917603, 0.5699999928474426]"
            ]
          },
          "metadata": {},
          "execution_count": 21
        }
      ]
    },
    {
      "cell_type": "code",
      "source": [
        "#ResNet101 with hidden dense\n",
        "api = wandb.Api()\n",
        "artifact = api.artifact('vedmanivaidya/Transfer_Learning_New/model-resnet101:v29', type='model')\n",
        "artifact.download()\n",
        "model = tf.keras.models.load_model(\"/content/artifacts/model-resnet101:v29\")\n",
        "model.evaluate(test_ds)"
      ],
      "metadata": {
        "colab": {
          "base_uri": "https://localhost:8080/"
        },
        "id": "LKxGQjDNWjYM",
        "outputId": "ff3bff17-35db-4e71-f77c-3e29756cedef"
      },
      "execution_count": null,
      "outputs": [
        {
          "output_type": "stream",
          "name": "stderr",
          "text": [
            "\u001b[34m\u001b[1mwandb\u001b[0m: Downloading large artifact model-resnet101:v29, 171.86MB. 4 files... \n",
            "\u001b[34m\u001b[1mwandb\u001b[0m:   4 of 4 files downloaded.  \n",
            "Done. 0:0:11.7\n"
          ]
        },
        {
          "output_type": "stream",
          "name": "stdout",
          "text": [
            "4/4 [==============================] - 2s 163ms/step - loss: 0.9982 - accuracy: 0.6400\n"
          ]
        },
        {
          "output_type": "execute_result",
          "data": {
            "text/plain": [
              "[0.9982492923736572, 0.6399999856948853]"
            ]
          },
          "metadata": {},
          "execution_count": 22
        }
      ]
    },
    {
      "cell_type": "code",
      "source": [
        "#ResNet101 without hidden dense\n",
        "api = wandb.Api()\n",
        "artifact = api.artifact('vedmanivaidya/Transfer_Learning_New/model-resnet101_without_hidden_dense_layer:v24', type='model')\n",
        "artifact.download()\n",
        "model = tf.keras.models.load_model(\"/content/artifacts/model-resnet101_without_hidden_dense_layer:v24\")\n",
        "model.evaluate(test_ds)"
      ],
      "metadata": {
        "colab": {
          "base_uri": "https://localhost:8080/"
        },
        "id": "9D8ijI_KXNDG",
        "outputId": "c6a9baf5-0378-4c2a-cfae-f055fe82b9df"
      },
      "execution_count": null,
      "outputs": [
        {
          "output_type": "stream",
          "name": "stderr",
          "text": [
            "\u001b[34m\u001b[1mwandb\u001b[0m: Downloading large artifact model-resnet101_without_hidden_dense_layer:v24, 171.21MB. 4 files... \n",
            "\u001b[34m\u001b[1mwandb\u001b[0m:   4 of 4 files downloaded.  \n",
            "Done. 0:0:11.4\n"
          ]
        },
        {
          "output_type": "stream",
          "name": "stdout",
          "text": [
            "4/4 [==============================] - 2s 162ms/step - loss: 1.0635 - accuracy: 0.6100\n"
          ]
        },
        {
          "output_type": "execute_result",
          "data": {
            "text/plain": [
              "[1.063501000404358, 0.6100000143051147]"
            ]
          },
          "metadata": {},
          "execution_count": 23
        }
      ]
    },
    {
      "cell_type": "code",
      "source": [
        "#VGG16\n",
        "api = wandb.Api()\n",
        "artifact = api.artifact('vedmanivaidya/Transfer_Learning_New/model-vgg16:v18', type='model')\n",
        "artifact.download()\n",
        "model = tf.keras.models.load_model(\"/content/artifacts/model-vgg16:v18\")\n",
        "model.evaluate(test_ds)"
      ],
      "metadata": {
        "colab": {
          "base_uri": "https://localhost:8080/"
        },
        "id": "4xBAfpCTXmEs",
        "outputId": "9717619b-3859-411b-f9ba-5cc1c14b8d38"
      },
      "execution_count": null,
      "outputs": [
        {
          "output_type": "stream",
          "name": "stderr",
          "text": [
            "\u001b[34m\u001b[1mwandb\u001b[0m: Downloading large artifact model-vgg16:v18, 65.81MB. 4 files... \n",
            "\u001b[34m\u001b[1mwandb\u001b[0m:   4 of 4 files downloaded.  \n",
            "Done. 0:0:5.6\n"
          ]
        },
        {
          "output_type": "stream",
          "name": "stdout",
          "text": [
            "4/4 [==============================] - 5s 480ms/step - loss: 0.1423 - accuracy: 0.9700\n"
          ]
        },
        {
          "output_type": "execute_result",
          "data": {
            "text/plain": [
              "[0.1422659456729889, 0.9700000286102295]"
            ]
          },
          "metadata": {},
          "execution_count": 24
        }
      ]
    },
    {
      "cell_type": "code",
      "source": [
        "#VGG19\n",
        "api = wandb.Api()\n",
        "artifact = api.artifact('vedmanivaidya/Transfer_Learning_New/model-vgg19:v14', type='model')\n",
        "artifact.download()\n",
        "model = tf.keras.models.load_model(\"/content/artifacts/model-vgg19:v14\")\n",
        "model.evaluate(test_ds)"
      ],
      "metadata": {
        "colab": {
          "base_uri": "https://localhost:8080/"
        },
        "id": "FnXAV_K6YCmy",
        "outputId": "77c5a850-f037-44d7-bd87-21cf64b57319"
      },
      "execution_count": null,
      "outputs": [
        {
          "output_type": "stream",
          "name": "stderr",
          "text": [
            "\u001b[34m\u001b[1mwandb\u001b[0m: Downloading large artifact model-vgg19:v14, 86.14MB. 4 files... \n",
            "\u001b[34m\u001b[1mwandb\u001b[0m:   4 of 4 files downloaded.  \n",
            "Done. 0:0:6.4\n"
          ]
        },
        {
          "output_type": "stream",
          "name": "stdout",
          "text": [
            "4/4 [==============================] - 1s 243ms/step - loss: 0.0713 - accuracy: 0.9600\n"
          ]
        },
        {
          "output_type": "execute_result",
          "data": {
            "text/plain": [
              "[0.07131907343864441, 0.9599999785423279]"
            ]
          },
          "metadata": {},
          "execution_count": 25
        }
      ]
    },
    {
      "cell_type": "code",
      "source": [
        "#Xception\n",
        "api = wandb.Api()\n",
        "artifact = api.artifact(('vedmanivaidya/Transfer_Learning_New/model-Xception:v5', type='model')\n",
        "artifact.download()\n",
        "model = tf.keras.models.load_model(\"/content/artifacts/model-Xception:v5\")\n",
        "model.evaluate(test_ds)"
      ],
      "metadata": {
        "colab": {
          "base_uri": "https://localhost:8080/"
        },
        "id": "km6BDJIoYVuY",
        "outputId": "bdec24b0-e1c2-46ef-bf0d-e494f41691ec"
      },
      "execution_count": null,
      "outputs": [
        {
          "output_type": "stream",
          "name": "stderr",
          "text": [
            "\u001b[34m\u001b[1mwandb\u001b[0m: Downloading large artifact model-vgg19:v14, 86.14MB. 4 files... \n",
            "\u001b[34m\u001b[1mwandb\u001b[0m:   4 of 4 files downloaded.  \n",
            "Done. 0:0:0.1\n"
          ]
        },
        {
          "output_type": "stream",
          "name": "stdout",
          "text": [
            "4/4 [==============================] - 1s 246ms/step - loss: 0.0713 - accuracy: 0.9600\n"
          ]
        },
        {
          "output_type": "execute_result",
          "data": {
            "text/plain": [
              "[0.07131907343864441, 0.9599999785423279]"
            ]
          },
          "metadata": {},
          "execution_count": 26
        }
      ]
    },
    {
      "cell_type": "code",
      "source": [],
      "metadata": {
        "id": "B4Fu-rg1YsvE"
      },
      "execution_count": null,
      "outputs": []
    }
  ]
}