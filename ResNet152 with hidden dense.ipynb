{
  "cells": [
    {
      "cell_type": "markdown",
      "metadata": {
        "id": "view-in-github",
        "colab_type": "text"
      },
      "source": [
        "<a href=\"https://colab.research.google.com/github/Vedmani/wear-particle-classification/blob/main/ResNet152%20with%20hidden%20dense.ipynb\" target=\"_parent\"><img src=\"https://colab.research.google.com/assets/colab-badge.svg\" alt=\"Open In Colab\"/></a>"
      ]
    },
    {
      "cell_type": "code",
      "source": [
        "from google.colab import drive\n",
        "drive.mount('/content/drive')"
      ],
      "metadata": {
        "colab": {
          "base_uri": "https://localhost:8080/"
        },
        "id": "hZxsQnPoFFCQ",
        "outputId": "380ee593-852f-4313-d893-4a93fc77b90a"
      },
      "execution_count": 1,
      "outputs": [
        {
          "output_type": "stream",
          "name": "stdout",
          "text": [
            "Mounted at /content/drive\n"
          ]
        }
      ]
    },
    {
      "cell_type": "code",
      "execution_count": 2,
      "outputs": [
        {
          "output_type": "stream",
          "name": "stdout",
          "text": [
            "\u001b[K     |████████████████████████████████| 1.9 MB 31.8 MB/s \n",
            "\u001b[K     |████████████████████████████████| 182 kB 67.5 MB/s \n",
            "\u001b[K     |████████████████████████████████| 166 kB 71.3 MB/s \n",
            "\u001b[K     |████████████████████████████████| 63 kB 1.8 MB/s \n",
            "\u001b[K     |████████████████████████████████| 166 kB 59.4 MB/s \n",
            "\u001b[K     |████████████████████████████████| 162 kB 78.1 MB/s \n",
            "\u001b[K     |████████████████████████████████| 162 kB 79.6 MB/s \n",
            "\u001b[K     |████████████████████████████████| 158 kB 75.8 MB/s \n",
            "\u001b[K     |████████████████████████████████| 157 kB 78.8 MB/s \n",
            "\u001b[K     |████████████████████████████████| 157 kB 79.9 MB/s \n",
            "\u001b[K     |████████████████████████████████| 157 kB 70.1 MB/s \n",
            "\u001b[K     |████████████████████████████████| 157 kB 77.2 MB/s \n",
            "\u001b[K     |████████████████████████████████| 157 kB 77.5 MB/s \n",
            "\u001b[K     |████████████████████████████████| 157 kB 71.4 MB/s \n",
            "\u001b[K     |████████████████████████████████| 157 kB 72.4 MB/s \n",
            "\u001b[K     |████████████████████████████████| 156 kB 78.2 MB/s \n",
            "\u001b[?25h  Building wheel for pathtools (setup.py) ... \u001b[?25l\u001b[?25hdone\n",
            "\u001b[34m\u001b[1mwandb\u001b[0m: Appending key for api.wandb.ai to your netrc file: /root/.netrc\n"
          ]
        }
      ],
      "source": [
        "!pip install wandb -qU\n",
        "!wandb login"
      ],
      "metadata": {
        "pycharm": {
          "name": "#%%\n"
        },
        "colab": {
          "base_uri": "https://localhost:8080/"
        },
        "id": "nzVPsk5i2f6k",
        "outputId": "38b6eb24-bd6f-47b4-fbb7-cfd34b10759c"
      }
    },
    {
      "cell_type": "code",
      "execution_count": 3,
      "outputs": [],
      "source": [
        "import tensorflow as tf\n",
        "from tensorflow import keras\n",
        "from tensorflow.keras import layers\n",
        "from tensorflow.keras.models import Sequential\n",
        "import wandb\n",
        "from wandb.keras import WandbCallback"
      ],
      "metadata": {
        "pycharm": {
          "name": "#%%\n"
        },
        "id": "acoOtOXx2f6z"
      }
    },
    {
      "cell_type": "code",
      "execution_count": 4,
      "outputs": [],
      "source": [
        "tf.keras.utils.set_random_seed(1)\n",
        "tf.config.experimental.enable_op_determinism()"
      ],
      "metadata": {
        "pycharm": {
          "name": "#%%\n"
        },
        "id": "vhcPFfST2f62"
      }
    },
    {
      "cell_type": "code",
      "source": [
        "PATH = '/content/drive/MyDrive/Research Internship/final data/wear particles/Train'\n",
        "test_path = '/content/drive/MyDrive/Research Internship/final data/wear particles/Test'\n",
        "batch_size = 32\n",
        "img_height = 224\n",
        "img_width = 224\n",
        "\n",
        "train_ds = tf.keras.utils.image_dataset_from_directory(\n",
        "  PATH,\n",
        "  validation_split=0.2,\n",
        "  subset=\"training\",\n",
        "  seed=42,\n",
        "  image_size=(img_height, img_width),\n",
        "  batch_size=batch_size)\n",
        "\n",
        "val_ds = tf.keras.utils.image_dataset_from_directory(\n",
        "  PATH,\n",
        "  validation_split=0.2,\n",
        "  subset=\"validation\",\n",
        "  seed=42,\n",
        "  image_size=(img_height, img_width),\n",
        "  batch_size=batch_size)\n",
        "\n",
        "test_ds = tf.keras.utils.image_dataset_from_directory(\n",
        "  test_path,\n",
        "  seed = 42,\n",
        "  image_size=(img_height, img_width))\n",
        "\n",
        "class_names = train_ds.class_names\n",
        "test_class_names = test_ds.class_names\n",
        "num_classes = len(class_names)\n",
        "print(class_names)"
      ],
      "metadata": {
        "colab": {
          "base_uri": "https://localhost:8080/"
        },
        "id": "CiW-AljoCyRN",
        "outputId": "5c2539e7-c212-4975-cdc9-48634ea584d1"
      },
      "execution_count": 5,
      "outputs": [
        {
          "output_type": "stream",
          "name": "stdout",
          "text": [
            "Found 879 files belonging to 5 classes.\n",
            "Using 704 files for training.\n",
            "Found 879 files belonging to 5 classes.\n",
            "Using 175 files for validation.\n",
            "Found 94 files belonging to 5 classes.\n",
            "['cutting wear', 'normal rubbing and cutting wear combined', 'normal rubbing wear', 'red oxide', 'severe sliding wear']\n"
          ]
        }
      ]
    },
    {
      "cell_type": "code",
      "source": [
        "resnet152 = tf.keras.applications.ResNet152(\n",
        "    include_top=False,\n",
        "    weights=\"imagenet\",\n",
        "    input_tensor=None,\n",
        "    input_shape=None,\n",
        "    pooling='avg')\n",
        "model_resnet152=Sequential([\n",
        "  layers.Rescaling(1./255, input_shape=(img_height, img_width, 3)),\n",
        "  resnet152,\n",
        "  layers.Dense(32, activation='relu'),\n",
        "  layers.Dropout(0.2), \n",
        "  layers.Dense(num_classes, activation='softmax')\n",
        "])\n",
        "resnet152.trainable=False\n",
        "model_resnet152.summary()"
      ],
      "metadata": {
        "colab": {
          "base_uri": "https://localhost:8080/"
        },
        "id": "qTLja-HJCy79",
        "outputId": "fe947aa5-3c6c-42e0-c34b-62743de5a446"
      },
      "execution_count": 12,
      "outputs": [
        {
          "output_type": "stream",
          "name": "stdout",
          "text": [
            "Model: \"sequential_1\"\n",
            "_________________________________________________________________\n",
            " Layer (type)                Output Shape              Param #   \n",
            "=================================================================\n",
            " rescaling_1 (Rescaling)     (None, 224, 224, 3)       0         \n",
            "                                                                 \n",
            " resnet152 (Functional)      (None, 2048)              58370944  \n",
            "                                                                 \n",
            " dense_2 (Dense)             (None, 32)                65568     \n",
            "                                                                 \n",
            " dropout_1 (Dropout)         (None, 32)                0         \n",
            "                                                                 \n",
            " dense_3 (Dense)             (None, 5)                 165       \n",
            "                                                                 \n",
            "=================================================================\n",
            "Total params: 58,436,677\n",
            "Trainable params: 65,733\n",
            "Non-trainable params: 58,370,944\n",
            "_________________________________________________________________\n"
          ]
        }
      ]
    },
    {
      "cell_type": "code",
      "source": [
        "model_resnet152.compile(\n",
        "              optimizer= tf.keras.optimizers.Adam(learning_rate=0.001, beta_1=0.9, beta_2=0.999, epsilon=1e-07, amsgrad=False, name='Adam'),\n",
        "              loss=tf.keras.losses.SparseCategoricalCrossentropy(from_logits=False),\n",
        "              metrics=['accuracy']\n",
        "              )"
      ],
      "metadata": {
        "id": "UKCoWlAWD1XP"
      },
      "execution_count": 13,
      "outputs": []
    },
    {
      "cell_type": "code",
      "source": [
        "wandb.init(\n",
        "      # Set the project where this run will be logged\n",
        "      project=\"Transfer_Learning_New\", \n",
        "      name = \"resnet152 with hidden dense\",\n",
        ")"
      ],
      "metadata": {
        "colab": {
          "base_uri": "https://localhost:8080/",
          "height": 90
        },
        "id": "v7gcv8AMD9Vv",
        "outputId": "b4607147-5368-4e9a-aed4-7aa4dde32eb1"
      },
      "execution_count": 14,
      "outputs": [
        {
          "output_type": "display_data",
          "data": {
            "text/plain": [
              "<IPython.core.display.HTML object>"
            ],
            "text/html": [
              "Tracking run with wandb version 0.13.5"
            ]
          },
          "metadata": {}
        },
        {
          "output_type": "display_data",
          "data": {
            "text/plain": [
              "<IPython.core.display.HTML object>"
            ],
            "text/html": [
              "Run data is saved locally in <code>/content/wandb/run-20221105_071626-1o1hc94b</code>"
            ]
          },
          "metadata": {}
        },
        {
          "output_type": "display_data",
          "data": {
            "text/plain": [
              "<IPython.core.display.HTML object>"
            ],
            "text/html": [
              "Syncing run <strong><a href=\"https://wandb.ai/vedmanivaidya/Transfer_Learning_New/runs/1o1hc94b\" target=\"_blank\">resnet152 with hidden dense</a></strong> to <a href=\"https://wandb.ai/vedmanivaidya/Transfer_Learning_New\" target=\"_blank\">Weights & Biases</a> (<a href=\"https://wandb.me/run\" target=\"_blank\">docs</a>)<br/>"
            ]
          },
          "metadata": {}
        },
        {
          "output_type": "execute_result",
          "data": {
            "text/html": [
              "<button onClick=\"this.nextSibling.style.display='block';this.style.display='none';\">Display W&B run</button><iframe src=\"https://wandb.ai/vedmanivaidya/Transfer_Learning_New/runs/1o1hc94b?jupyter=true\" style=\"border:none;width:100%;height:420px;display:none;\"></iframe>"
            ],
            "text/plain": [
              "<wandb.sdk.wandb_run.Run at 0x7fbe1b94acd0>"
            ]
          },
          "metadata": {},
          "execution_count": 14
        }
      ]
    },
    {
      "cell_type": "code",
      "source": [
        "%%time\n",
        "epochs=40\n",
        "history = model_resnet152.fit(\n",
        "  train_ds,\n",
        "  validation_data=val_ds,\n",
        "  epochs=epochs,\n",
        "callbacks=[WandbCallback()]\n",
        ")"
      ],
      "metadata": {
        "colab": {
          "base_uri": "https://localhost:8080/"
        },
        "id": "yQ50kAkQEOBS",
        "outputId": "1d17c8ac-af85-477a-8ad0-745c29170838"
      },
      "execution_count": 15,
      "outputs": [
        {
          "output_type": "stream",
          "name": "stdout",
          "text": [
            "Epoch 1/40\n",
            "22/22 [==============================] - ETA: 0s - loss: 1.4025 - accuracy: 0.4048"
          ]
        },
        {
          "output_type": "stream",
          "name": "stderr",
          "text": [
            "WARNING:absl:Found untraced functions such as _jit_compiled_convolution_op, _jit_compiled_convolution_op, _jit_compiled_convolution_op, _jit_compiled_convolution_op, _jit_compiled_convolution_op while saving (showing 5 of 155). These functions will not be directly callable after loading.\n",
            "\u001b[34m\u001b[1mwandb\u001b[0m: Adding directory to artifact (/content/wandb/run-20221105_071626-1o1hc94b/files/model-best)... Done. 1.6s\n"
          ]
        },
        {
          "output_type": "stream",
          "name": "stdout",
          "text": [
            "\b\b\b\b\b\b\b\b\b\b\b\b\b\b\b\b\b\b\b\b\b\b\b\b\b\b\b\b\b\b\b\b\b\b\b\b\b\b\b\b\b\b\b\b\b\b\b\b\b\b\b\b\b\b\b\b\b\b\b\b\b\b\b\b\b\b\b\b\b\b\b\b\b\b\b\b\b\b\b\b\b\b\r22/22 [==============================] - 202s 9s/step - loss: 1.4025 - accuracy: 0.4048 - val_loss: 1.3419 - val_accuracy: 0.5371\n",
            "Epoch 2/40\n",
            "22/22 [==============================] - ETA: 0s - loss: 1.3014 - accuracy: 0.5298"
          ]
        },
        {
          "output_type": "stream",
          "name": "stderr",
          "text": [
            "WARNING:absl:Found untraced functions such as _jit_compiled_convolution_op, _jit_compiled_convolution_op, _jit_compiled_convolution_op, _jit_compiled_convolution_op, _jit_compiled_convolution_op while saving (showing 5 of 155). These functions will not be directly callable after loading.\n",
            "\u001b[34m\u001b[1mwandb\u001b[0m: Adding directory to artifact (/content/wandb/run-20221105_071626-1o1hc94b/files/model-best)... Done. 1.5s\n"
          ]
        },
        {
          "output_type": "stream",
          "name": "stdout",
          "text": [
            "\b\b\b\b\b\b\b\b\b\b\b\b\b\b\b\b\b\b\b\b\b\b\b\b\b\b\b\b\b\b\b\b\b\b\b\b\b\b\b\b\b\b\b\b\b\b\b\b\b\b\b\b\b\b\b\b\b\b\b\b\b\b\b\b\b\b\b\b\b\b\b\b\b\b\b\b\b\b\b\b\b\b\r22/22 [==============================] - 70s 3s/step - loss: 1.3014 - accuracy: 0.5298 - val_loss: 1.2822 - val_accuracy: 0.5086\n",
            "Epoch 3/40\n",
            "22/22 [==============================] - ETA: 0s - loss: 1.2648 - accuracy: 0.5256"
          ]
        },
        {
          "output_type": "stream",
          "name": "stderr",
          "text": [
            "WARNING:absl:Found untraced functions such as _jit_compiled_convolution_op, _jit_compiled_convolution_op, _jit_compiled_convolution_op, _jit_compiled_convolution_op, _jit_compiled_convolution_op while saving (showing 5 of 155). These functions will not be directly callable after loading.\n",
            "\u001b[34m\u001b[1mwandb\u001b[0m: Adding directory to artifact (/content/wandb/run-20221105_071626-1o1hc94b/files/model-best)... Done. 1.7s\n"
          ]
        },
        {
          "output_type": "stream",
          "name": "stdout",
          "text": [
            "\b\b\b\b\b\b\b\b\b\b\b\b\b\b\b\b\b\b\b\b\b\b\b\b\b\b\b\b\b\b\b\b\b\b\b\b\b\b\b\b\b\b\b\b\b\b\b\b\b\b\b\b\b\b\b\b\b\b\b\b\b\b\b\b\b\b\b\b\b\b\b\b\b\b\b\b\b\b\b\b\b\b\r22/22 [==============================] - 70s 3s/step - loss: 1.2648 - accuracy: 0.5256 - val_loss: 1.2374 - val_accuracy: 0.5257\n",
            "Epoch 4/40\n",
            "22/22 [==============================] - ETA: 0s - loss: 1.2727 - accuracy: 0.5057"
          ]
        },
        {
          "output_type": "stream",
          "name": "stderr",
          "text": [
            "WARNING:absl:Found untraced functions such as _jit_compiled_convolution_op, _jit_compiled_convolution_op, _jit_compiled_convolution_op, _jit_compiled_convolution_op, _jit_compiled_convolution_op while saving (showing 5 of 155). These functions will not be directly callable after loading.\n",
            "\u001b[34m\u001b[1mwandb\u001b[0m: Adding directory to artifact (/content/wandb/run-20221105_071626-1o1hc94b/files/model-best)... Done. 1.6s\n"
          ]
        },
        {
          "output_type": "stream",
          "name": "stdout",
          "text": [
            "\b\b\b\b\b\b\b\b\b\b\b\b\b\b\b\b\b\b\b\b\b\b\b\b\b\b\b\b\b\b\b\b\b\b\b\b\b\b\b\b\b\b\b\b\b\b\b\b\b\b\b\b\b\b\b\b\b\b\b\b\b\b\b\b\b\b\b\b\b\b\b\b\b\b\b\b\b\b\b\b\b\b\r22/22 [==============================] - 73s 3s/step - loss: 1.2727 - accuracy: 0.5057 - val_loss: 1.2240 - val_accuracy: 0.5314\n",
            "Epoch 5/40\n",
            "22/22 [==============================] - ETA: 0s - loss: 1.2002 - accuracy: 0.5526"
          ]
        },
        {
          "output_type": "stream",
          "name": "stderr",
          "text": [
            "WARNING:absl:Found untraced functions such as _jit_compiled_convolution_op, _jit_compiled_convolution_op, _jit_compiled_convolution_op, _jit_compiled_convolution_op, _jit_compiled_convolution_op while saving (showing 5 of 155). These functions will not be directly callable after loading.\n",
            "\u001b[34m\u001b[1mwandb\u001b[0m: Adding directory to artifact (/content/wandb/run-20221105_071626-1o1hc94b/files/model-best)... Done. 1.7s\n"
          ]
        },
        {
          "output_type": "stream",
          "name": "stdout",
          "text": [
            "\b\b\b\b\b\b\b\b\b\b\b\b\b\b\b\b\b\b\b\b\b\b\b\b\b\b\b\b\b\b\b\b\b\b\b\b\b\b\b\b\b\b\b\b\b\b\b\b\b\b\b\b\b\b\b\b\b\b\b\b\b\b\b\b\b\b\b\b\b\b\b\b\b\b\b\b\b\b\b\b\b\b\r22/22 [==============================] - 71s 3s/step - loss: 1.2002 - accuracy: 0.5526 - val_loss: 1.1967 - val_accuracy: 0.5200\n",
            "Epoch 6/40\n",
            "22/22 [==============================] - ETA: 0s - loss: 1.1926 - accuracy: 0.5554"
          ]
        },
        {
          "output_type": "stream",
          "name": "stderr",
          "text": [
            "WARNING:absl:Found untraced functions such as _jit_compiled_convolution_op, _jit_compiled_convolution_op, _jit_compiled_convolution_op, _jit_compiled_convolution_op, _jit_compiled_convolution_op while saving (showing 5 of 155). These functions will not be directly callable after loading.\n",
            "\u001b[34m\u001b[1mwandb\u001b[0m: Adding directory to artifact (/content/wandb/run-20221105_071626-1o1hc94b/files/model-best)... Done. 1.5s\n"
          ]
        },
        {
          "output_type": "stream",
          "name": "stdout",
          "text": [
            "\b\b\b\b\b\b\b\b\b\b\b\b\b\b\b\b\b\b\b\b\b\b\b\b\b\b\b\b\b\b\b\b\b\b\b\b\b\b\b\b\b\b\b\b\b\b\b\b\b\b\b\b\b\b\b\b\b\b\b\b\b\b\b\b\b\b\b\b\b\b\b\b\b\b\b\b\b\b\b\b\b\b\r22/22 [==============================] - 71s 3s/step - loss: 1.1926 - accuracy: 0.5554 - val_loss: 1.1955 - val_accuracy: 0.5143\n",
            "Epoch 7/40\n",
            "22/22 [==============================] - ETA: 0s - loss: 1.1761 - accuracy: 0.5582"
          ]
        },
        {
          "output_type": "stream",
          "name": "stderr",
          "text": [
            "WARNING:absl:Found untraced functions such as _jit_compiled_convolution_op, _jit_compiled_convolution_op, _jit_compiled_convolution_op, _jit_compiled_convolution_op, _jit_compiled_convolution_op while saving (showing 5 of 155). These functions will not be directly callable after loading.\n",
            "\u001b[34m\u001b[1mwandb\u001b[0m: Adding directory to artifact (/content/wandb/run-20221105_071626-1o1hc94b/files/model-best)... Done. 1.5s\n"
          ]
        },
        {
          "output_type": "stream",
          "name": "stdout",
          "text": [
            "\b\b\b\b\b\b\b\b\b\b\b\b\b\b\b\b\b\b\b\b\b\b\b\b\b\b\b\b\b\b\b\b\b\b\b\b\b\b\b\b\b\b\b\b\b\b\b\b\b\b\b\b\b\b\b\b\b\b\b\b\b\b\b\b\b\b\b\b\b\b\b\b\b\b\b\b\b\b\b\b\b\b\r22/22 [==============================] - 73s 3s/step - loss: 1.1761 - accuracy: 0.5582 - val_loss: 1.1654 - val_accuracy: 0.5314\n",
            "Epoch 8/40\n",
            "22/22 [==============================] - 8s 348ms/step - loss: 1.1604 - accuracy: 0.5682 - val_loss: 1.1719 - val_accuracy: 0.5314\n",
            "Epoch 9/40\n",
            "22/22 [==============================] - ETA: 0s - loss: 1.1529 - accuracy: 0.5639"
          ]
        },
        {
          "output_type": "stream",
          "name": "stderr",
          "text": [
            "WARNING:absl:Found untraced functions such as _jit_compiled_convolution_op, _jit_compiled_convolution_op, _jit_compiled_convolution_op, _jit_compiled_convolution_op, _jit_compiled_convolution_op while saving (showing 5 of 155). These functions will not be directly callable after loading.\n",
            "\u001b[34m\u001b[1mwandb\u001b[0m: Adding directory to artifact (/content/wandb/run-20221105_071626-1o1hc94b/files/model-best)... Done. 1.5s\n"
          ]
        },
        {
          "output_type": "stream",
          "name": "stdout",
          "text": [
            "\b\b\b\b\b\b\b\b\b\b\b\b\b\b\b\b\b\b\b\b\b\b\b\b\b\b\b\b\b\b\b\b\b\b\b\b\b\b\b\b\b\b\b\b\b\b\b\b\b\b\b\b\b\b\b\b\b\b\b\b\b\b\b\b\b\b\b\b\b\b\b\b\b\b\b\b\b\b\b\b\b\b\r22/22 [==============================] - 71s 3s/step - loss: 1.1529 - accuracy: 0.5639 - val_loss: 1.1452 - val_accuracy: 0.5314\n",
            "Epoch 10/40\n",
            "22/22 [==============================] - ETA: 0s - loss: 1.1451 - accuracy: 0.5668"
          ]
        },
        {
          "output_type": "stream",
          "name": "stderr",
          "text": [
            "WARNING:absl:Found untraced functions such as _jit_compiled_convolution_op, _jit_compiled_convolution_op, _jit_compiled_convolution_op, _jit_compiled_convolution_op, _jit_compiled_convolution_op while saving (showing 5 of 155). These functions will not be directly callable after loading.\n",
            "\u001b[34m\u001b[1mwandb\u001b[0m: Adding directory to artifact (/content/wandb/run-20221105_071626-1o1hc94b/files/model-best)... Done. 1.5s\n"
          ]
        },
        {
          "output_type": "stream",
          "name": "stdout",
          "text": [
            "\b\b\b\b\b\b\b\b\b\b\b\b\b\b\b\b\b\b\b\b\b\b\b\b\b\b\b\b\b\b\b\b\b\b\b\b\b\b\b\b\b\b\b\b\b\b\b\b\b\b\b\b\b\b\b\b\b\b\b\b\b\b\b\b\b\b\b\b\b\b\b\b\b\b\b\b\b\b\b\b\b\b\r22/22 [==============================] - 71s 3s/step - loss: 1.1451 - accuracy: 0.5668 - val_loss: 1.1396 - val_accuracy: 0.5314\n",
            "Epoch 11/40\n",
            "22/22 [==============================] - ETA: 0s - loss: 1.1212 - accuracy: 0.5781"
          ]
        },
        {
          "output_type": "stream",
          "name": "stderr",
          "text": [
            "WARNING:absl:Found untraced functions such as _jit_compiled_convolution_op, _jit_compiled_convolution_op, _jit_compiled_convolution_op, _jit_compiled_convolution_op, _jit_compiled_convolution_op while saving (showing 5 of 155). These functions will not be directly callable after loading.\n",
            "\u001b[34m\u001b[1mwandb\u001b[0m: Adding directory to artifact (/content/wandb/run-20221105_071626-1o1hc94b/files/model-best)... Done. 1.6s\n"
          ]
        },
        {
          "output_type": "stream",
          "name": "stdout",
          "text": [
            "\b\b\b\b\b\b\b\b\b\b\b\b\b\b\b\b\b\b\b\b\b\b\b\b\b\b\b\b\b\b\b\b\b\b\b\b\b\b\b\b\b\b\b\b\b\b\b\b\b\b\b\b\b\b\b\b\b\b\b\b\b\b\b\b\b\b\b\b\b\b\b\b\b\b\b\b\b\b\b\b\b\b\r22/22 [==============================] - 73s 3s/step - loss: 1.1212 - accuracy: 0.5781 - val_loss: 1.1367 - val_accuracy: 0.5314\n",
            "Epoch 12/40\n",
            "22/22 [==============================] - ETA: 0s - loss: 1.1422 - accuracy: 0.5682"
          ]
        },
        {
          "output_type": "stream",
          "name": "stderr",
          "text": [
            "WARNING:absl:Found untraced functions such as _jit_compiled_convolution_op, _jit_compiled_convolution_op, _jit_compiled_convolution_op, _jit_compiled_convolution_op, _jit_compiled_convolution_op while saving (showing 5 of 155). These functions will not be directly callable after loading.\n",
            "\u001b[34m\u001b[1mwandb\u001b[0m: Adding directory to artifact (/content/wandb/run-20221105_071626-1o1hc94b/files/model-best)... Done. 1.5s\n"
          ]
        },
        {
          "output_type": "stream",
          "name": "stdout",
          "text": [
            "\b\b\b\b\b\b\b\b\b\b\b\b\b\b\b\b\b\b\b\b\b\b\b\b\b\b\b\b\b\b\b\b\b\b\b\b\b\b\b\b\b\b\b\b\b\b\b\b\b\b\b\b\b\b\b\b\b\b\b\b\b\b\b\b\b\b\b\b\b\b\b\b\b\b\b\b\b\b\b\b\b\b\r22/22 [==============================] - 70s 3s/step - loss: 1.1422 - accuracy: 0.5682 - val_loss: 1.1324 - val_accuracy: 0.5314\n",
            "Epoch 13/40\n",
            "22/22 [==============================] - 8s 346ms/step - loss: 1.1512 - accuracy: 0.5710 - val_loss: 1.1350 - val_accuracy: 0.5314\n",
            "Epoch 14/40\n",
            "22/22 [==============================] - 8s 346ms/step - loss: 1.1031 - accuracy: 0.5767 - val_loss: 1.1329 - val_accuracy: 0.5314\n",
            "Epoch 15/40\n",
            "22/22 [==============================] - 8s 346ms/step - loss: 1.1012 - accuracy: 0.5866 - val_loss: 1.1373 - val_accuracy: 0.5257\n",
            "Epoch 16/40\n",
            "22/22 [==============================] - ETA: 0s - loss: 1.1007 - accuracy: 0.5724"
          ]
        },
        {
          "output_type": "stream",
          "name": "stderr",
          "text": [
            "WARNING:absl:Found untraced functions such as _jit_compiled_convolution_op, _jit_compiled_convolution_op, _jit_compiled_convolution_op, _jit_compiled_convolution_op, _jit_compiled_convolution_op while saving (showing 5 of 155). These functions will not be directly callable after loading.\n",
            "\u001b[34m\u001b[1mwandb\u001b[0m: Adding directory to artifact (/content/wandb/run-20221105_071626-1o1hc94b/files/model-best)... Done. 1.7s\n"
          ]
        },
        {
          "output_type": "stream",
          "name": "stdout",
          "text": [
            "\b\b\b\b\b\b\b\b\b\b\b\b\b\b\b\b\b\b\b\b\b\b\b\b\b\b\b\b\b\b\b\b\b\b\b\b\b\b\b\b\b\b\b\b\b\b\b\b\b\b\b\b\b\b\b\b\b\b\b\b\b\b\b\b\b\b\b\b\b\b\b\b\b\b\b\b\b\b\b\b\b\b\r22/22 [==============================] - 73s 3s/step - loss: 1.1007 - accuracy: 0.5724 - val_loss: 1.1294 - val_accuracy: 0.5314\n",
            "Epoch 17/40\n",
            "22/22 [==============================] - ETA: 0s - loss: 1.1119 - accuracy: 0.5739"
          ]
        },
        {
          "output_type": "stream",
          "name": "stderr",
          "text": [
            "WARNING:absl:Found untraced functions such as _jit_compiled_convolution_op, _jit_compiled_convolution_op, _jit_compiled_convolution_op, _jit_compiled_convolution_op, _jit_compiled_convolution_op while saving (showing 5 of 155). These functions will not be directly callable after loading.\n",
            "\u001b[34m\u001b[1mwandb\u001b[0m: Adding directory to artifact (/content/wandb/run-20221105_071626-1o1hc94b/files/model-best)... Done. 1.7s\n"
          ]
        },
        {
          "output_type": "stream",
          "name": "stdout",
          "text": [
            "\b\b\b\b\b\b\b\b\b\b\b\b\b\b\b\b\b\b\b\b\b\b\b\b\b\b\b\b\b\b\b\b\b\b\b\b\b\b\b\b\b\b\b\b\b\b\b\b\b\b\b\b\b\b\b\b\b\b\b\b\b\b\b\b\b\b\b\b\b\b\b\b\b\b\b\b\b\b\b\b\b\b\r22/22 [==============================] - 70s 3s/step - loss: 1.1119 - accuracy: 0.5739 - val_loss: 1.1161 - val_accuracy: 0.5314\n",
            "Epoch 18/40\n",
            "22/22 [==============================] - ETA: 0s - loss: 1.0808 - accuracy: 0.5781"
          ]
        },
        {
          "output_type": "stream",
          "name": "stderr",
          "text": [
            "WARNING:absl:Found untraced functions such as _jit_compiled_convolution_op, _jit_compiled_convolution_op, _jit_compiled_convolution_op, _jit_compiled_convolution_op, _jit_compiled_convolution_op while saving (showing 5 of 155). These functions will not be directly callable after loading.\n",
            "\u001b[34m\u001b[1mwandb\u001b[0m: Adding directory to artifact (/content/wandb/run-20221105_071626-1o1hc94b/files/model-best)... Done. 1.5s\n"
          ]
        },
        {
          "output_type": "stream",
          "name": "stdout",
          "text": [
            "\b\b\b\b\b\b\b\b\b\b\b\b\b\b\b\b\b\b\b\b\b\b\b\b\b\b\b\b\b\b\b\b\b\b\b\b\b\b\b\b\b\b\b\b\b\b\b\b\b\b\b\b\b\b\b\b\b\b\b\b\b\b\b\b\b\b\b\b\b\b\b\b\b\b\b\b\b\b\b\b\b\b\r22/22 [==============================] - 71s 3s/step - loss: 1.0808 - accuracy: 0.5781 - val_loss: 1.0954 - val_accuracy: 0.5314\n",
            "Epoch 19/40\n",
            "22/22 [==============================] - 8s 350ms/step - loss: 1.0785 - accuracy: 0.5767 - val_loss: 1.1024 - val_accuracy: 0.5371\n",
            "Epoch 20/40\n",
            "22/22 [==============================] - 8s 351ms/step - loss: 1.0738 - accuracy: 0.5795 - val_loss: 1.1048 - val_accuracy: 0.5314\n",
            "Epoch 21/40\n",
            "22/22 [==============================] - ETA: 0s - loss: 1.0912 - accuracy: 0.5810"
          ]
        },
        {
          "output_type": "stream",
          "name": "stderr",
          "text": [
            "WARNING:absl:Found untraced functions such as _jit_compiled_convolution_op, _jit_compiled_convolution_op, _jit_compiled_convolution_op, _jit_compiled_convolution_op, _jit_compiled_convolution_op while saving (showing 5 of 155). These functions will not be directly callable after loading.\n",
            "\u001b[34m\u001b[1mwandb\u001b[0m: Adding directory to artifact (/content/wandb/run-20221105_071626-1o1hc94b/files/model-best)... Done. 1.7s\n"
          ]
        },
        {
          "output_type": "stream",
          "name": "stdout",
          "text": [
            "\b\b\b\b\b\b\b\b\b\b\b\b\b\b\b\b\b\b\b\b\b\b\b\b\b\b\b\b\b\b\b\b\b\b\b\b\b\b\b\b\b\b\b\b\b\b\b\b\b\b\b\b\b\b\b\b\b\b\b\b\b\b\b\b\b\b\b\b\b\b\b\b\b\b\b\b\b\b\b\b\b\b\r22/22 [==============================] - 73s 3s/step - loss: 1.0912 - accuracy: 0.5810 - val_loss: 1.0835 - val_accuracy: 0.5314\n",
            "Epoch 22/40\n",
            "22/22 [==============================] - 8s 344ms/step - loss: 1.0877 - accuracy: 0.5753 - val_loss: 1.0841 - val_accuracy: 0.5314\n",
            "Epoch 23/40\n",
            "22/22 [==============================] - 8s 349ms/step - loss: 1.0578 - accuracy: 0.5866 - val_loss: 1.1090 - val_accuracy: 0.5829\n",
            "Epoch 24/40\n",
            "22/22 [==============================] - 8s 352ms/step - loss: 1.0725 - accuracy: 0.5611 - val_loss: 1.1311 - val_accuracy: 0.5714\n",
            "Epoch 25/40\n",
            "22/22 [==============================] - ETA: 0s - loss: 1.0839 - accuracy: 0.5682"
          ]
        },
        {
          "output_type": "stream",
          "name": "stderr",
          "text": [
            "WARNING:absl:Found untraced functions such as _jit_compiled_convolution_op, _jit_compiled_convolution_op, _jit_compiled_convolution_op, _jit_compiled_convolution_op, _jit_compiled_convolution_op while saving (showing 5 of 155). These functions will not be directly callable after loading.\n",
            "\u001b[34m\u001b[1mwandb\u001b[0m: Adding directory to artifact (/content/wandb/run-20221105_071626-1o1hc94b/files/model-best)... Done. 1.5s\n"
          ]
        },
        {
          "output_type": "stream",
          "name": "stdout",
          "text": [
            "\b\b\b\b\b\b\b\b\b\b\b\b\b\b\b\b\b\b\b\b\b\b\b\b\b\b\b\b\b\b\b\b\b\b\b\b\b\b\b\b\b\b\b\b\b\b\b\b\b\b\b\b\b\b\b\b\b\b\b\b\b\b\b\b\b\b\b\b\b\b\b\b\b\b\b\b\b\b\b\b\b\b\r22/22 [==============================] - 71s 3s/step - loss: 1.0839 - accuracy: 0.5682 - val_loss: 1.0661 - val_accuracy: 0.5486\n",
            "Epoch 26/40\n",
            "22/22 [==============================] - ETA: 0s - loss: 1.0296 - accuracy: 0.5909"
          ]
        },
        {
          "output_type": "stream",
          "name": "stderr",
          "text": [
            "WARNING:absl:Found untraced functions such as _jit_compiled_convolution_op, _jit_compiled_convolution_op, _jit_compiled_convolution_op, _jit_compiled_convolution_op, _jit_compiled_convolution_op while saving (showing 5 of 155). These functions will not be directly callable after loading.\n",
            "\u001b[34m\u001b[1mwandb\u001b[0m: Adding directory to artifact (/content/wandb/run-20221105_071626-1o1hc94b/files/model-best)... Done. 1.5s\n"
          ]
        },
        {
          "output_type": "stream",
          "name": "stdout",
          "text": [
            "\b\b\b\b\b\b\b\b\b\b\b\b\b\b\b\b\b\b\b\b\b\b\b\b\b\b\b\b\b\b\b\b\b\b\b\b\b\b\b\b\b\b\b\b\b\b\b\b\b\b\b\b\b\b\b\b\b\b\b\b\b\b\b\b\b\b\b\b\b\b\b\b\b\b\b\b\b\b\b\b\b\b\r22/22 [==============================] - 71s 3s/step - loss: 1.0296 - accuracy: 0.5909 - val_loss: 1.0569 - val_accuracy: 0.5371\n",
            "Epoch 27/40\n",
            "22/22 [==============================] - 8s 351ms/step - loss: 1.0314 - accuracy: 0.5881 - val_loss: 1.0590 - val_accuracy: 0.5371\n",
            "Epoch 28/40\n",
            "22/22 [==============================] - 8s 356ms/step - loss: 1.0426 - accuracy: 0.5795 - val_loss: 1.0599 - val_accuracy: 0.5543\n",
            "Epoch 29/40\n",
            "22/22 [==============================] - 8s 359ms/step - loss: 1.0204 - accuracy: 0.5866 - val_loss: 1.0574 - val_accuracy: 0.5371\n",
            "Epoch 30/40\n",
            "22/22 [==============================] - 9s 384ms/step - loss: 1.0111 - accuracy: 0.5909 - val_loss: 1.0678 - val_accuracy: 0.5314\n",
            "Epoch 31/40\n",
            "22/22 [==============================] - ETA: 0s - loss: 1.0239 - accuracy: 0.5881"
          ]
        },
        {
          "output_type": "stream",
          "name": "stderr",
          "text": [
            "WARNING:absl:Found untraced functions such as _jit_compiled_convolution_op, _jit_compiled_convolution_op, _jit_compiled_convolution_op, _jit_compiled_convolution_op, _jit_compiled_convolution_op while saving (showing 5 of 155). These functions will not be directly callable after loading.\n",
            "\u001b[34m\u001b[1mwandb\u001b[0m: Adding directory to artifact (/content/wandb/run-20221105_071626-1o1hc94b/files/model-best)... Done. 1.5s\n"
          ]
        },
        {
          "output_type": "stream",
          "name": "stdout",
          "text": [
            "\b\b\b\b\b\b\b\b\b\b\b\b\b\b\b\b\b\b\b\b\b\b\b\b\b\b\b\b\b\b\b\b\b\b\b\b\b\b\b\b\b\b\b\b\b\b\b\b\b\b\b\b\b\b\b\b\b\b\b\b\b\b\b\b\b\b\b\b\b\b\b\b\b\b\b\b\b\b\b\b\b\b\r22/22 [==============================] - 72s 3s/step - loss: 1.0239 - accuracy: 0.5881 - val_loss: 1.0424 - val_accuracy: 0.5429\n",
            "Epoch 32/40\n",
            "22/22 [==============================] - 8s 351ms/step - loss: 1.0069 - accuracy: 0.5966 - val_loss: 1.0466 - val_accuracy: 0.5314\n",
            "Epoch 33/40\n",
            "22/22 [==============================] - 8s 353ms/step - loss: 1.0017 - accuracy: 0.5795 - val_loss: 1.0508 - val_accuracy: 0.5886\n",
            "Epoch 34/40\n",
            "22/22 [==============================] - 8s 355ms/step - loss: 0.9861 - accuracy: 0.5980 - val_loss: 1.0454 - val_accuracy: 0.6114\n",
            "Epoch 35/40\n",
            "22/22 [==============================] - ETA: 0s - loss: 0.9938 - accuracy: 0.6065"
          ]
        },
        {
          "output_type": "stream",
          "name": "stderr",
          "text": [
            "WARNING:absl:Found untraced functions such as _jit_compiled_convolution_op, _jit_compiled_convolution_op, _jit_compiled_convolution_op, _jit_compiled_convolution_op, _jit_compiled_convolution_op while saving (showing 5 of 155). These functions will not be directly callable after loading.\n",
            "\u001b[34m\u001b[1mwandb\u001b[0m: Adding directory to artifact (/content/wandb/run-20221105_071626-1o1hc94b/files/model-best)... Done. 1.5s\n"
          ]
        },
        {
          "output_type": "stream",
          "name": "stdout",
          "text": [
            "\b\b\b\b\b\b\b\b\b\b\b\b\b\b\b\b\b\b\b\b\b\b\b\b\b\b\b\b\b\b\b\b\b\b\b\b\b\b\b\b\b\b\b\b\b\b\b\b\b\b\b\b\b\b\b\b\b\b\b\b\b\b\b\b\b\b\b\b\b\b\b\b\b\b\b\b\b\b\b\b\b\b\r22/22 [==============================] - 70s 3s/step - loss: 0.9938 - accuracy: 0.6065 - val_loss: 1.0288 - val_accuracy: 0.6057\n",
            "Epoch 36/40\n",
            "22/22 [==============================] - ETA: 0s - loss: 0.9959 - accuracy: 0.5980"
          ]
        },
        {
          "output_type": "stream",
          "name": "stderr",
          "text": [
            "WARNING:absl:Found untraced functions such as _jit_compiled_convolution_op, _jit_compiled_convolution_op, _jit_compiled_convolution_op, _jit_compiled_convolution_op, _jit_compiled_convolution_op while saving (showing 5 of 155). These functions will not be directly callable after loading.\n",
            "\u001b[34m\u001b[1mwandb\u001b[0m: Adding directory to artifact (/content/wandb/run-20221105_071626-1o1hc94b/files/model-best)... Done. 1.5s\n"
          ]
        },
        {
          "output_type": "stream",
          "name": "stdout",
          "text": [
            "\b\b\b\b\b\b\b\b\b\b\b\b\b\b\b\b\b\b\b\b\b\b\b\b\b\b\b\b\b\b\b\b\b\b\b\b\b\b\b\b\b\b\b\b\b\b\b\b\b\b\b\b\b\b\b\b\b\b\b\b\b\b\b\b\b\b\b\b\b\b\b\b\b\b\b\b\b\b\b\b\b\b\r22/22 [==============================] - 75s 4s/step - loss: 0.9959 - accuracy: 0.5980 - val_loss: 1.0263 - val_accuracy: 0.5429\n",
            "Epoch 37/40\n",
            "22/22 [==============================] - ETA: 0s - loss: 0.9812 - accuracy: 0.5966"
          ]
        },
        {
          "output_type": "stream",
          "name": "stderr",
          "text": [
            "WARNING:absl:Found untraced functions such as _jit_compiled_convolution_op, _jit_compiled_convolution_op, _jit_compiled_convolution_op, _jit_compiled_convolution_op, _jit_compiled_convolution_op while saving (showing 5 of 155). These functions will not be directly callable after loading.\n",
            "\u001b[34m\u001b[1mwandb\u001b[0m: Adding directory to artifact (/content/wandb/run-20221105_071626-1o1hc94b/files/model-best)... Done. 1.5s\n"
          ]
        },
        {
          "output_type": "stream",
          "name": "stdout",
          "text": [
            "\b\b\b\b\b\b\b\b\b\b\b\b\b\b\b\b\b\b\b\b\b\b\b\b\b\b\b\b\b\b\b\b\b\b\b\b\b\b\b\b\b\b\b\b\b\b\b\b\b\b\b\b\b\b\b\b\b\b\b\b\b\b\b\b\b\b\b\b\b\b\b\b\b\b\b\b\b\b\b\b\b\b\r22/22 [==============================] - 71s 3s/step - loss: 0.9812 - accuracy: 0.5966 - val_loss: 1.0062 - val_accuracy: 0.5429\n",
            "Epoch 38/40\n",
            "22/22 [==============================] - 8s 348ms/step - loss: 0.9614 - accuracy: 0.6165 - val_loss: 1.0183 - val_accuracy: 0.5714\n",
            "Epoch 39/40\n",
            "22/22 [==============================] - 8s 350ms/step - loss: 0.9685 - accuracy: 0.6236 - val_loss: 1.0234 - val_accuracy: 0.5429\n",
            "Epoch 40/40\n",
            "22/22 [==============================] - 8s 354ms/step - loss: 0.9832 - accuracy: 0.6136 - val_loss: 1.0213 - val_accuracy: 0.6171\n",
            "CPU times: user 23min 4s, sys: 1min 25s, total: 24min 30s\n",
            "Wall time: 32min 33s\n"
          ]
        }
      ]
    },
    {
      "cell_type": "code",
      "source": [
        "wandb.finish()"
      ],
      "metadata": {
        "colab": {
          "base_uri": "https://localhost:8080/",
          "height": 333
        },
        "id": "WaZ2tnFeETsF",
        "outputId": "fcfd0f0a-84ab-4d2d-fd5d-21d1e0fbfcf0"
      },
      "execution_count": 16,
      "outputs": [
        {
          "output_type": "display_data",
          "data": {
            "text/plain": [
              "<IPython.core.display.HTML object>"
            ],
            "text/html": [
              "Waiting for W&B process to finish... <strong style=\"color:green\">(success).</strong>"
            ]
          },
          "metadata": {}
        },
        {
          "output_type": "display_data",
          "data": {
            "text/plain": [
              "<IPython.core.display.HTML object>"
            ],
            "text/html": [
              "<style>\n",
              "    table.wandb td:nth-child(1) { padding: 0 10px; text-align: left ; width: auto;} td:nth-child(2) {text-align: left ; width: 100%}\n",
              "    .wandb-row { display: flex; flex-direction: row; flex-wrap: wrap; justify-content: flex-start; width: 100% }\n",
              "    .wandb-col { display: flex; flex-direction: column; flex-basis: 100%; flex: 1; padding: 10px; }\n",
              "    </style>\n",
              "<div class=\"wandb-row\"><div class=\"wandb-col\"><h3>Run history:</h3><br/><table class=\"wandb\"><tr><td>accuracy</td><td>▁▅▅▄▆▆▆▆▆▆▇▆▆▇▇▆▆▇▇▇▇▆▇▆▆▇▇▇▇▇▇▇▇▇▇▇▇███</td></tr><tr><td>epoch</td><td>▁▁▁▂▂▂▂▂▂▃▃▃▃▃▄▄▄▄▄▄▅▅▅▅▅▅▆▆▆▆▆▇▇▇▇▇▇███</td></tr><tr><td>loss</td><td>█▆▆▆▅▅▄▄▄▄▄▄▄▃▃▃▃▃▃▃▃▃▃▃▃▂▂▂▂▂▂▂▂▁▂▂▁▁▁▁</td></tr><tr><td>val_accuracy</td><td>▃▁▂▂▂▁▂▂▂▂▂▂▂▂▂▂▂▂▃▂▂▂▆▅▄▃▃▄▃▂▃▂▆█▇▃▃▅▃█</td></tr><tr><td>val_loss</td><td>█▇▆▆▅▅▄▄▄▄▄▄▄▄▄▄▃▃▃▃▃▃▃▄▂▂▂▂▂▂▂▂▂▂▁▁▁▁▁▁</td></tr></table><br/></div><div class=\"wandb-col\"><h3>Run summary:</h3><br/><table class=\"wandb\"><tr><td>accuracy</td><td>0.61364</td></tr><tr><td>best_epoch</td><td>36</td></tr><tr><td>best_val_loss</td><td>1.00617</td></tr><tr><td>epoch</td><td>39</td></tr><tr><td>loss</td><td>0.98321</td></tr><tr><td>val_accuracy</td><td>0.61714</td></tr><tr><td>val_loss</td><td>1.02133</td></tr></table><br/></div></div>"
            ]
          },
          "metadata": {}
        },
        {
          "output_type": "display_data",
          "data": {
            "text/plain": [
              "<IPython.core.display.HTML object>"
            ],
            "text/html": [
              "Synced <strong style=\"color:#cdcd00\">resnet152 with hidden dense</strong>: <a href=\"https://wandb.ai/vedmanivaidya/Transfer_Learning_New/runs/1o1hc94b\" target=\"_blank\">https://wandb.ai/vedmanivaidya/Transfer_Learning_New/runs/1o1hc94b</a><br/>Synced 5 W&B file(s), 1 media file(s), 64 artifact file(s) and 1 other file(s)"
            ]
          },
          "metadata": {}
        },
        {
          "output_type": "display_data",
          "data": {
            "text/plain": [
              "<IPython.core.display.HTML object>"
            ],
            "text/html": [
              "Find logs at: <code>./wandb/run-20221105_071626-1o1hc94b/logs</code>"
            ]
          },
          "metadata": {}
        }
      ]
    },
    {
      "cell_type": "code",
      "source": [
        "!nvidia-smi --query-gpu=gpu_name --format=csv"
      ],
      "metadata": {
        "id": "evsoqZlgK-dc",
        "colab": {
          "base_uri": "https://localhost:8080/"
        },
        "outputId": "ac786e76-7b05-4ad9-d3f6-d898afc51332"
      },
      "execution_count": 17,
      "outputs": [
        {
          "output_type": "stream",
          "name": "stdout",
          "text": [
            "name\n",
            "Tesla T4\n"
          ]
        }
      ]
    }
  ],
  "metadata": {
    "kernelspec": {
      "display_name": "Python 3",
      "language": "python",
      "name": "python3"
    },
    "language_info": {
      "codemirror_mode": {
        "name": "ipython",
        "version": 2
      },
      "file_extension": ".py",
      "mimetype": "text/x-python",
      "name": "python",
      "nbconvert_exporter": "python",
      "pygments_lexer": "ipython2",
      "version": "2.7.6"
    },
    "colab": {
      "provenance": [],
      "include_colab_link": true
    },
    "accelerator": "GPU"
  },
  "nbformat": 4,
  "nbformat_minor": 0
}