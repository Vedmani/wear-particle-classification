{
 "nbformat": 4,
 "nbformat_minor": 0,
 "metadata": {
  "colab": {
   "provenance": [],
   "collapsed_sections": [],
   "mount_file_id": "1hXTfGUUjTeAw7fL89gbHI12ZE3bK2LuH",
   "authorship_tag": "ABX9TyPeGt4AztTcPmSyGp4CafQh",
   "include_colab_link": true
  },
  "kernelspec": {
   "name": "python3",
   "display_name": "Python 3"
  },
  "language_info": {
   "name": "python"
  },
  "accelerator": "GPU"
 },
 "cells": [
  {
   "cell_type": "markdown",
   "metadata": {
    "id": "view-in-github",
    "colab_type": "text",
    "pycharm": {
     "name": "#%% md\n"
    }
   },
   "source": [
    "<a href=\"https://colab.research.google.com/github/Vedmani/wear-particle-classification/blob/main/Research_Internship(Wear_Particle)_CNN_model.ipynb\" target=\"_parent\"><img src=\"https://colab.research.google.com/assets/colab-badge.svg\" alt=\"Open In Colab\"/></a>"
   ]
  },
  {
   "cell_type": "code",
   "execution_count": 1,
   "metadata": {
    "id": "lIfpn_2YgJDO",
    "pycharm": {
     "name": "#%%\n"
    }
   },
   "outputs": [],
   "source": [
    "import tensorflow as tf\n",
    "from tensorflow.keras import layers\n",
    "from tensorflow.keras.models import Sequential"
   ]
  },
  {
   "cell_type": "code",
   "source": [
    "#tf.keras.utils.set_random_seed(1)\n",
    "#tf.config.experimental.enable_op_determinism()"
   ],
   "metadata": {
    "id": "7o3jMYqH8S8g",
    "pycharm": {
     "name": "#%%\n"
    }
   },
   "execution_count": null,
   "outputs": []
  },
  {
   "cell_type": "code",
   "source": [
    "PATH = '/content/drive/MyDrive/Research Internship/wear particles'\n",
    "batch_size = 32\n",
    "img_height = 224\n",
    "img_width = 224"
   ],
   "metadata": {
    "id": "_4_D1B1c1JDU",
    "pycharm": {
     "name": "#%%\n"
    }
   },
   "execution_count": null,
   "outputs": []
  },
  {
   "cell_type": "code",
   "source": [
    "train_ds = tf.keras.utils.image_dataset_from_directory(\n",
    "  PATH,\n",
    "  validation_split=0.2,\n",
    "  subset=\"training\",\n",
    "  seed=123,\n",
    "  image_size=(img_height, img_width),\n",
    "  batch_size=batch_size)\n",
    "\n",
    "val_ds = tf.keras.utils.image_dataset_from_directory(\n",
    "  PATH,\n",
    "  validation_split=0.2,\n",
    "  subset=\"validation\",\n",
    "  seed=123,\n",
    "  image_size=(img_height, img_width),\n",
    "  batch_size=batch_size)"
   ],
   "metadata": {
    "colab": {
     "base_uri": "https://localhost:8080/"
    },
    "id": "jq2TmJmm1gnc",
    "outputId": "40bcd2c4-37f6-423d-e84e-4d55d1c1af18",
    "pycharm": {
     "name": "#%%\n"
    }
   },
   "execution_count": null,
   "outputs": [
    {
     "output_type": "stream",
     "name": "stdout",
     "text": [
      "Found 740 files belonging to 5 classes.\n",
      "Using 592 files for training.\n",
      "Found 740 files belonging to 5 classes.\n",
      "Using 148 files for validation.\n"
     ]
    }
   ]
  },
  {
   "cell_type": "code",
   "source": [
    "class_names = train_ds.class_names\n",
    "print(class_names)"
   ],
   "metadata": {
    "colab": {
     "base_uri": "https://localhost:8080/"
    },
    "id": "9iMDAOraOOsq",
    "outputId": "5488a782-0343-4bdf-a6bc-4a764b5ae7e6",
    "pycharm": {
     "name": "#%%\n"
    }
   },
   "execution_count": null,
   "outputs": [
    {
     "output_type": "stream",
     "name": "stdout",
     "text": [
      "['cutting wear', 'normal rubbign and cutting wear combined', 'normal rubbing wear', 'red oxide', 'severe sliding wear']\n"
     ]
    }
   ]
  },
  {
   "cell_type": "code",
   "source": [
    "normalization_layer = layers.Rescaling(1./255)"
   ],
   "metadata": {
    "id": "EASixzLHFi9-",
    "pycharm": {
     "name": "#%%\n"
    }
   },
   "execution_count": null,
   "outputs": []
  },
  {
   "cell_type": "code",
   "source": [
    "num_classes = len(class_names)\n",
    "data_augmentation = tf.keras.Sequential([layers.RandomFlip(\"horizontal_and_vertical\"),layers.RandomRotation(0.2),])\n",
    "model = Sequential([\n",
    "  layers.Rescaling(1./255, input_shape=(img_height, img_width, 3)),\n",
    "  data_augmentation,\n",
    "  layers.Conv2D(16, 3, activation='relu'),\n",
    "  layers.MaxPooling2D(),\n",
    "  layers.Conv2D(32, 3, activation='relu'),\n",
    "  layers.MaxPooling2D(),\n",
    "  layers.Conv2D(64, 3, activation='relu'),\n",
    "  layers.MaxPooling2D(),\n",
    "  layers.Conv2D(128, 3, activation='relu'),\n",
    "  layers.MaxPooling2D(),\n",
    "  layers.Conv2D(256, 3, activation='relu'),\n",
    "  layers.MaxPooling2D(),\n",
    "  layers.Conv2D(512, 3, activation='relu'),\n",
    "  layers.MaxPooling2D(),\n",
    "  layers.Flatten(),\n",
    "  layers.Dense(1028, activation='relu'),\n",
    "  layers.Dropout(0.5), \n",
    "  layers.Dense(num_classes, activation='softmax')\n",
    "])"
   ],
   "metadata": {
    "id": "XOb7OtW7OVA_",
    "pycharm": {
     "name": "#%%\n"
    }
   },
   "execution_count": null,
   "outputs": []
  },
  {
   "cell_type": "code",
   "source": [
    "model.compile(optimizer='adam',\n",
    "              loss=tf.keras.losses.SparseCategoricalCrossentropy(from_logits=False),\n",
    "              metrics=['accuracy'])"
   ],
   "metadata": {
    "id": "iiwASt6xRIi3",
    "pycharm": {
     "name": "#%%\n"
    }
   },
   "execution_count": null,
   "outputs": []
  },
  {
   "cell_type": "code",
   "source": [
    "model.summary()"
   ],
   "metadata": {
    "colab": {
     "base_uri": "https://localhost:8080/"
    },
    "id": "19JAVYt_Tii0",
    "outputId": "44adcf91-0f3a-45e9-e388-75c226a010ff",
    "pycharm": {
     "name": "#%%\n"
    }
   },
   "execution_count": null,
   "outputs": [
    {
     "output_type": "stream",
     "name": "stdout",
     "text": [
      "Model: \"sequential_3\"\n",
      "_________________________________________________________________\n",
      " Layer (type)                Output Shape              Param #   \n",
      "=================================================================\n",
      " rescaling_3 (Rescaling)     (None, 224, 224, 3)       0         \n",
      "                                                                 \n",
      " sequential_2 (Sequential)   (None, 224, 224, 3)       0         \n",
      "                                                                 \n",
      " conv2d_6 (Conv2D)           (None, 222, 222, 16)      448       \n",
      "                                                                 \n",
      " max_pooling2d_6 (MaxPooling  (None, 111, 111, 16)     0         \n",
      " 2D)                                                             \n",
      "                                                                 \n",
      " conv2d_7 (Conv2D)           (None, 109, 109, 32)      4640      \n",
      "                                                                 \n",
      " max_pooling2d_7 (MaxPooling  (None, 54, 54, 32)       0         \n",
      " 2D)                                                             \n",
      "                                                                 \n",
      " conv2d_8 (Conv2D)           (None, 52, 52, 64)        18496     \n",
      "                                                                 \n",
      " max_pooling2d_8 (MaxPooling  (None, 26, 26, 64)       0         \n",
      " 2D)                                                             \n",
      "                                                                 \n",
      " conv2d_9 (Conv2D)           (None, 24, 24, 128)       73856     \n",
      "                                                                 \n",
      " max_pooling2d_9 (MaxPooling  (None, 12, 12, 128)      0         \n",
      " 2D)                                                             \n",
      "                                                                 \n",
      " conv2d_10 (Conv2D)          (None, 10, 10, 256)       295168    \n",
      "                                                                 \n",
      " max_pooling2d_10 (MaxPoolin  (None, 5, 5, 256)        0         \n",
      " g2D)                                                            \n",
      "                                                                 \n",
      " conv2d_11 (Conv2D)          (None, 3, 3, 512)         1180160   \n",
      "                                                                 \n",
      " max_pooling2d_11 (MaxPoolin  (None, 1, 1, 512)        0         \n",
      " g2D)                                                            \n",
      "                                                                 \n",
      " flatten_1 (Flatten)         (None, 512)               0         \n",
      "                                                                 \n",
      " dense_2 (Dense)             (None, 1028)              527364    \n",
      "                                                                 \n",
      " dropout_1 (Dropout)         (None, 1028)              0         \n",
      "                                                                 \n",
      " dense_3 (Dense)             (None, 5)                 5145      \n",
      "                                                                 \n",
      "=================================================================\n",
      "Total params: 2,105,277\n",
      "Trainable params: 2,105,277\n",
      "Non-trainable params: 0\n",
      "_________________________________________________________________\n"
     ]
    }
   ]
  },
  {
   "cell_type": "code",
   "source": [
    "model_checkpoint_callback = tf.keras.callbacks.ModelCheckpoint(\n",
    "    filepath=\"/content/drive/MyDrive/Research Internship/augmentation/my_best_model.epoch{epoch:02d}-val_accuracy{val_accuracy:.2f}\",\n",
    "    save_weights_only=False,\n",
    "    monitor='val_accuracy',\n",
    "    mode='max',\n",
    "    save_best_only=True)"
   ],
   "metadata": {
    "id": "fTkNhlXm7VZc",
    "pycharm": {
     "name": "#%%\n"
    }
   },
   "execution_count": null,
   "outputs": []
  },
  {
   "cell_type": "code",
   "source": [
    "epochs=70\n",
    "history = model.fit(\n",
    "  train_ds,\n",
    "  validation_data=val_ds,\n",
    "  epochs=epochs,\n",
    "  callbacks=[model_checkpoint_callback]\n",
    ")"
   ],
   "metadata": {
    "colab": {
     "base_uri": "https://localhost:8080/"
    },
    "id": "4Nfnd3urTn2W",
    "outputId": "bfc90a92-d0db-4bb9-81fd-501339091447",
    "pycharm": {
     "name": "#%%\n"
    }
   },
   "execution_count": null,
   "outputs": [
    {
     "metadata": {
      "tags": null
     },
     "name": "stdout",
     "output_type": "stream",
     "text": [
      "Epoch 1/70\n",
      "19/19 [==============================] - 6s 224ms/step - loss: 1.4965 - accuracy: 0.4679 - val_loss: 1.4103 - val_accuracy: 0.4662\n",
      "Epoch 2/70\n",
      "19/19 [==============================] - 2s 79ms/step - loss: 1.2160 - accuracy: 0.4916 - val_loss: 1.1775 - val_accuracy: 0.4662\n",
      "Epoch 3/70\n",
      "19/19 [==============================] - 4s 202ms/step - loss: 1.0065 - accuracy: 0.4916 - val_loss: 1.0944 - val_accuracy: 0.5608\n",
      "Epoch 4/70\n",
      "19/19 [==============================] - 5s 222ms/step - loss: 0.9960 - accuracy: 0.5726 - val_loss: 1.2476 - val_accuracy: 0.5743\n",
      "Epoch 5/70\n",
      "19/19 [==============================] - 4s 212ms/step - loss: 0.9348 - accuracy: 0.5693 - val_loss: 0.9415 - val_accuracy: 0.6081\n",
      "Epoch 6/70\n",
      "19/19 [==============================] - 2s 81ms/step - loss: 0.9003 - accuracy: 0.5963 - val_loss: 0.9856 - val_accuracy: 0.5608\n",
      "Epoch 7/70\n",
      "19/19 [==============================] - 2s 77ms/step - loss: 0.8798 - accuracy: 0.6081 - val_loss: 0.9743 - val_accuracy: 0.6014\n",
      "Epoch 8/70\n",
      "19/19 [==============================] - 2s 77ms/step - loss: 0.8550 - accuracy: 0.6132 - val_loss: 0.8760 - val_accuracy: 0.5878\n",
      "Epoch 9/70\n",
      "19/19 [==============================] - 2s 75ms/step - loss: 0.8337 - accuracy: 0.6081 - val_loss: 0.9067 - val_accuracy: 0.5473\n",
      "Epoch 10/70\n",
      "19/19 [==============================] - 2s 77ms/step - loss: 0.9115 - accuracy: 0.5980 - val_loss: 1.2344 - val_accuracy: 0.5878\n",
      "Epoch 11/70\n",
      "19/19 [==============================] - 2s 76ms/step - loss: 0.9259 - accuracy: 0.5811 - val_loss: 0.8947 - val_accuracy: 0.5676\n",
      "Epoch 12/70\n",
      "19/19 [==============================] - 4s 212ms/step - loss: 0.7912 - accuracy: 0.6520 - val_loss: 0.7960 - val_accuracy: 0.6757\n",
      "Epoch 13/70\n",
      "19/19 [==============================] - 2s 79ms/step - loss: 0.9161 - accuracy: 0.6166 - val_loss: 0.9326 - val_accuracy: 0.5946\n",
      "Epoch 14/70\n",
      "19/19 [==============================] - 2s 76ms/step - loss: 0.8083 - accuracy: 0.6791 - val_loss: 0.8087 - val_accuracy: 0.6554\n",
      "Epoch 15/70\n",
      "19/19 [==============================] - 2s 80ms/step - loss: 0.7540 - accuracy: 0.6639 - val_loss: 0.7557 - val_accuracy: 0.6622\n",
      "Epoch 16/70\n",
      "19/19 [==============================] - 2s 77ms/step - loss: 0.7989 - accuracy: 0.6858 - val_loss: 0.8801 - val_accuracy: 0.6284\n",
      "Epoch 17/70\n",
      "19/19 [==============================] - 4s 202ms/step - loss: 0.7656 - accuracy: 0.6571 - val_loss: 0.6192 - val_accuracy: 0.7432\n",
      "Epoch 18/70\n",
      "19/19 [==============================] - 2s 79ms/step - loss: 0.6615 - accuracy: 0.6943 - val_loss: 1.0121 - val_accuracy: 0.6757\n",
      "Epoch 19/70\n",
      "19/19 [==============================] - 2s 77ms/step - loss: 0.6902 - accuracy: 0.7145 - val_loss: 1.0129 - val_accuracy: 0.7027\n",
      "Epoch 20/70\n",
      "19/19 [==============================] - 4s 202ms/step - loss: 0.5687 - accuracy: 0.7584 - val_loss: 0.5560 - val_accuracy: 0.7973\n",
      "Epoch 21/70\n",
      "19/19 [==============================] - 2s 79ms/step - loss: 0.5670 - accuracy: 0.7838 - val_loss: 0.6791 - val_accuracy: 0.7095\n",
      "Epoch 22/70\n",
      "19/19 [==============================] - 2s 79ms/step - loss: 0.5402 - accuracy: 0.7669 - val_loss: 0.6951 - val_accuracy: 0.7770\n",
      "Epoch 23/70\n",
      "19/19 [==============================] - 2s 78ms/step - loss: 0.5521 - accuracy: 0.7821 - val_loss: 0.5413 - val_accuracy: 0.7973\n",
      "Epoch 24/70\n",
      "19/19 [==============================] - 2s 77ms/step - loss: 0.5068 - accuracy: 0.7990 - val_loss: 0.6418 - val_accuracy: 0.7973\n",
      "Epoch 25/70\n",
      "19/19 [==============================] - 2s 78ms/step - loss: 0.4295 - accuracy: 0.8446 - val_loss: 0.5948 - val_accuracy: 0.7838\n",
      "Epoch 26/70\n",
      "19/19 [==============================] - 2s 94ms/step - loss: 0.4698 - accuracy: 0.8159 - val_loss: 0.9955 - val_accuracy: 0.7568\n",
      "Epoch 27/70\n",
      "19/19 [==============================] - 5s 235ms/step - loss: 0.6136 - accuracy: 0.7618 - val_loss: 0.4460 - val_accuracy: 0.8378\n",
      "Epoch 28/70\n",
      "19/19 [==============================] - 2s 81ms/step - loss: 0.4667 - accuracy: 0.8345 - val_loss: 0.5414 - val_accuracy: 0.8311\n",
      "Epoch 29/70\n",
      "19/19 [==============================] - 4s 214ms/step - loss: 0.3623 - accuracy: 0.8666 - val_loss: 0.5583 - val_accuracy: 0.8649\n",
      "Epoch 30/70\n",
      "19/19 [==============================] - 2s 79ms/step - loss: 0.5343 - accuracy: 0.7990 - val_loss: 0.5469 - val_accuracy: 0.7635\n",
      "Epoch 31/70\n",
      "19/19 [==============================] - 2s 77ms/step - loss: 0.4689 - accuracy: 0.8125 - val_loss: 0.6389 - val_accuracy: 0.8041\n",
      "Epoch 32/70\n",
      "19/19 [==============================] - 2s 79ms/step - loss: 0.3908 - accuracy: 0.8514 - val_loss: 0.4484 - val_accuracy: 0.8446\n",
      "Epoch 33/70\n",
      "19/19 [==============================] - 4s 198ms/step - loss: 0.3300 - accuracy: 0.8767 - val_loss: 0.3784 - val_accuracy: 0.8784\n",
      "Epoch 34/70\n",
      "19/19 [==============================] - 2s 79ms/step - loss: 0.3303 - accuracy: 0.8649 - val_loss: 0.4071 - val_accuracy: 0.8446\n",
      "Epoch 35/70\n",
      "19/19 [==============================] - 2s 77ms/step - loss: 0.3675 - accuracy: 0.8530 - val_loss: 0.6497 - val_accuracy: 0.7568\n",
      "Epoch 36/70\n",
      "19/19 [==============================] - 2s 80ms/step - loss: 0.4484 - accuracy: 0.8243 - val_loss: 0.8731 - val_accuracy: 0.7770\n",
      "Epoch 37/70\n",
      "19/19 [==============================] - 2s 77ms/step - loss: 0.3518 - accuracy: 0.8750 - val_loss: 0.4393 - val_accuracy: 0.8514\n",
      "Epoch 38/70\n",
      "19/19 [==============================] - 2s 77ms/step - loss: 0.3655 - accuracy: 0.8632 - val_loss: 0.3799 - val_accuracy: 0.8581\n",
      "Epoch 39/70\n",
      "19/19 [==============================] - 2s 78ms/step - loss: 0.2795 - accuracy: 0.8919 - val_loss: 0.3214 - val_accuracy: 0.8716\n",
      "Epoch 40/70\n",
      "19/19 [==============================] - 2s 75ms/step - loss: 0.2526 - accuracy: 0.8986 - val_loss: 0.4965 - val_accuracy: 0.8716\n",
      "Epoch 41/70\n",
      "19/19 [==============================] - 4s 205ms/step - loss: 0.3691 - accuracy: 0.8497 - val_loss: 0.3064 - val_accuracy: 0.8851\n",
      "Epoch 42/70\n",
      "19/19 [==============================] - 2s 78ms/step - loss: 0.3321 - accuracy: 0.8564 - val_loss: 0.4238 - val_accuracy: 0.8581\n",
      "Epoch 43/70\n",
      "19/19 [==============================] - 4s 200ms/step - loss: 0.3092 - accuracy: 0.8834 - val_loss: 0.2788 - val_accuracy: 0.8919\n",
      "Epoch 44/70\n",
      "19/19 [==============================] - 2s 79ms/step - loss: 0.3045 - accuracy: 0.8818 - val_loss: 0.6822 - val_accuracy: 0.8108\n",
      "Epoch 45/70\n",
      "19/19 [==============================] - 2s 76ms/step - loss: 0.3128 - accuracy: 0.8801 - val_loss: 0.3022 - val_accuracy: 0.8919\n",
      "Epoch 46/70\n",
      "19/19 [==============================] - 2s 76ms/step - loss: 0.2838 - accuracy: 0.8936 - val_loss: 0.3058 - val_accuracy: 0.8919\n",
      "Epoch 47/70\n",
      "19/19 [==============================] - 2s 83ms/step - loss: 0.3331 - accuracy: 0.8632 - val_loss: 0.4184 - val_accuracy: 0.8649\n",
      "Epoch 48/70\n",
      "19/19 [==============================] - 2s 75ms/step - loss: 0.2936 - accuracy: 0.8834 - val_loss: 0.3174 - val_accuracy: 0.8851\n",
      "Epoch 49/70\n",
      "19/19 [==============================] - 4s 211ms/step - loss: 0.2316 - accuracy: 0.9189 - val_loss: 0.2423 - val_accuracy: 0.9257\n",
      "Epoch 50/70\n",
      "19/19 [==============================] - 2s 78ms/step - loss: 0.2425 - accuracy: 0.9054 - val_loss: 0.3045 - val_accuracy: 0.8986\n",
      "Epoch 51/70\n",
      "19/19 [==============================] - 2s 76ms/step - loss: 0.2459 - accuracy: 0.8986 - val_loss: 0.2832 - val_accuracy: 0.8986\n",
      "Epoch 52/70\n",
      "19/19 [==============================] - 2s 79ms/step - loss: 0.2276 - accuracy: 0.9020 - val_loss: 0.2738 - val_accuracy: 0.8851\n",
      "Epoch 53/70\n",
      "19/19 [==============================] - 2s 74ms/step - loss: 0.2960 - accuracy: 0.8851 - val_loss: 0.4261 - val_accuracy: 0.8919\n",
      "Epoch 54/70\n",
      "19/19 [==============================] - 2s 75ms/step - loss: 0.2901 - accuracy: 0.8885 - val_loss: 0.3048 - val_accuracy: 0.8986\n",
      "Epoch 55/70\n",
      "19/19 [==============================] - 4s 197ms/step - loss: 0.2564 - accuracy: 0.9155 - val_loss: 0.2220 - val_accuracy: 0.9324\n",
      "Epoch 56/70\n",
      "19/19 [==============================] - 2s 79ms/step - loss: 0.1816 - accuracy: 0.9240 - val_loss: 0.2428 - val_accuracy: 0.9122\n",
      "Epoch 57/70\n",
      "19/19 [==============================] - 2s 76ms/step - loss: 0.2885 - accuracy: 0.9020 - val_loss: 0.8414 - val_accuracy: 0.7568\n",
      "Epoch 58/70\n",
      "19/19 [==============================] - 2s 77ms/step - loss: 0.3679 - accuracy: 0.8345 - val_loss: 0.3419 - val_accuracy: 0.8649\n",
      "Epoch 59/70\n",
      "19/19 [==============================] - 2s 76ms/step - loss: 0.3809 - accuracy: 0.8361 - val_loss: 0.5875 - val_accuracy: 0.7432\n",
      "Epoch 60/70\n",
      "19/19 [==============================] - 2s 77ms/step - loss: 0.3323 - accuracy: 0.8615 - val_loss: 0.3794 - val_accuracy: 0.8649\n",
      "Epoch 61/70\n",
      "19/19 [==============================] - 2s 74ms/step - loss: 0.2530 - accuracy: 0.9071 - val_loss: 0.2351 - val_accuracy: 0.9189\n",
      "Epoch 62/70\n",
      "19/19 [==============================] - 2s 75ms/step - loss: 0.1702 - accuracy: 0.9307 - val_loss: 0.1859 - val_accuracy: 0.9257\n",
      "Epoch 63/70\n",
      "19/19 [==============================] - 2s 75ms/step - loss: 0.1670 - accuracy: 0.9409 - val_loss: 0.3070 - val_accuracy: 0.9054\n",
      "Epoch 64/70\n",
      "19/19 [==============================] - 2s 76ms/step - loss: 0.1853 - accuracy: 0.9291 - val_loss: 0.2445 - val_accuracy: 0.8986\n",
      "Epoch 65/70\n",
      "19/19 [==============================] - 2s 74ms/step - loss: 0.2853 - accuracy: 0.8919 - val_loss: 0.2083 - val_accuracy: 0.9257\n",
      "Epoch 66/70\n",
      "19/19 [==============================] - 2s 75ms/step - loss: 0.2674 - accuracy: 0.9054 - val_loss: 0.4319 - val_accuracy: 0.9122\n",
      "Epoch 67/70\n",
      "19/19 [==============================] - 2s 75ms/step - loss: 0.1649 - accuracy: 0.9392 - val_loss: 0.5312 - val_accuracy: 0.9054\n",
      "Epoch 68/70\n",
      "19/19 [==============================] - 2s 75ms/step - loss: 0.1713 - accuracy: 0.9341 - val_loss: 0.2492 - val_accuracy: 0.9054\n",
      "Epoch 69/70\n",
      "19/19 [==============================] - 2s 77ms/step - loss: 0.1173 - accuracy: 0.9561 - val_loss: 0.3460 - val_accuracy: 0.8986\n",
      "Epoch 70/70\n",
      "19/19 [==============================] - 4s 207ms/step - loss: 0.1485 - accuracy: 0.9409 - val_loss: 0.1334 - val_accuracy: 0.9459\n"
     ]
    }
   ]
  },
  {
   "cell_type": "code",
   "source": [
    "model.save(\"/content/drive/MyDrive/Research Internship/val_acc_99.95\")"
   ],
   "metadata": {
    "id": "edeBmigwTq7q",
    "pycharm": {
     "name": "#%%\n"
    }
   },
   "execution_count": null,
   "outputs": []
  },
  {
   "cell_type": "code",
   "source": [
    "!nvidia-smi --query-gpu=gpu_name --format=csv"
   ],
   "metadata": {
    "id": "caK1UVEmvN0T",
    "colab": {
     "base_uri": "https://localhost:8080/"
    },
    "outputId": "a2ebcc66-5df7-423b-d0f9-f3a20495b805",
    "pycharm": {
     "name": "#%%\n"
    }
   },
   "execution_count": null,
   "outputs": [
    {
     "output_type": "stream",
     "name": "stdout",
     "text": [
      "name\n",
      "Tesla T4\n"
     ]
    }
   ]
  }
 ]
}