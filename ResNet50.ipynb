{
  "cells": [
    {
      "cell_type": "code",
      "source": [
        "from google.colab import drive\n",
        "drive.mount('/content/drive')"
      ],
      "metadata": {
        "colab": {
          "base_uri": "https://localhost:8080/"
        },
        "id": "hZxsQnPoFFCQ",
        "outputId": "b7644d84-e45e-4d05-df8f-0d958f7facc8"
      },
      "execution_count": 1,
      "outputs": [
        {
          "output_type": "stream",
          "name": "stdout",
          "text": [
            "Mounted at /content/drive\n"
          ]
        }
      ]
    },
    {
      "cell_type": "code",
      "execution_count": 2,
      "outputs": [
        {
          "output_type": "stream",
          "name": "stdout",
          "text": [
            "\u001b[K     |████████████████████████████████| 1.9 MB 34.9 MB/s \n",
            "\u001b[K     |████████████████████████████████| 162 kB 71.5 MB/s \n",
            "\u001b[K     |████████████████████████████████| 182 kB 69.3 MB/s \n",
            "\u001b[K     |████████████████████████████████| 63 kB 1.7 MB/s \n",
            "\u001b[K     |████████████████████████████████| 162 kB 73.2 MB/s \n",
            "\u001b[K     |████████████████████████████████| 158 kB 74.0 MB/s \n",
            "\u001b[K     |████████████████████████████████| 157 kB 77.7 MB/s \n",
            "\u001b[K     |████████████████████████████████| 157 kB 65.8 MB/s \n",
            "\u001b[K     |████████████████████████████████| 157 kB 74.7 MB/s \n",
            "\u001b[K     |████████████████████████████████| 157 kB 73.8 MB/s \n",
            "\u001b[K     |████████████████████████████████| 157 kB 72.0 MB/s \n",
            "\u001b[K     |████████████████████████████████| 157 kB 78.9 MB/s \n",
            "\u001b[K     |████████████████████████████████| 157 kB 75.5 MB/s \n",
            "\u001b[K     |████████████████████████████████| 156 kB 78.2 MB/s \n",
            "\u001b[?25h  Building wheel for pathtools (setup.py) ... \u001b[?25l\u001b[?25hdone\n",
            "\u001b[34m\u001b[1mwandb\u001b[0m: Logging into wandb.ai. (Learn how to deploy a W&B server locally: https://wandb.me/wandb-server)\n",
            "\u001b[34m\u001b[1mwandb\u001b[0m: You can find your API key in your browser here: https://wandb.ai/authorize\n",
            "\u001b[34m\u001b[1mwandb\u001b[0m: Paste an API key from your profile and hit enter, or press ctrl+c to quit: \n",
            "\u001b[34m\u001b[1mwandb\u001b[0m: Appending key for api.wandb.ai to your netrc file: /root/.netrc\n"
          ]
        }
      ],
      "source": [
        "!pip install wandb -qU\n",
        "!wandb login"
      ],
      "metadata": {
        "pycharm": {
          "name": "#%%\n"
        },
        "colab": {
          "base_uri": "https://localhost:8080/"
        },
        "id": "nzVPsk5i2f6k",
        "outputId": "7c8d99d0-e9a7-4a23-cfd5-afa463274b1c"
      }
    },
    {
      "cell_type": "code",
      "execution_count": 3,
      "outputs": [],
      "source": [
        "import tensorflow as tf\n",
        "from tensorflow import keras\n",
        "from tensorflow.keras import layers\n",
        "from tensorflow.keras.models import Sequential\n",
        "import wandb\n",
        "from wandb.keras import WandbCallback"
      ],
      "metadata": {
        "pycharm": {
          "name": "#%%\n"
        },
        "id": "acoOtOXx2f6z"
      }
    },
    {
      "cell_type": "code",
      "execution_count": 5,
      "outputs": [],
      "source": [
        "tf.keras.utils.set_random_seed(123)\n",
        "tf.config.experimental.enable_op_determinism()"
      ],
      "metadata": {
        "pycharm": {
          "name": "#%%\n"
        },
        "id": "vhcPFfST2f62"
      }
    },
    {
      "cell_type": "code",
      "source": [
        "PATH = '/content/drive/MyDrive/Research Internship/wear particles'\n",
        "batch_size = 32\n",
        "img_height = 224\n",
        "img_width = 224\n",
        "\n",
        "train_ds = tf.keras.utils.image_dataset_from_directory(\n",
        "  PATH,\n",
        "  validation_split=0.2,\n",
        "  subset=\"training\",\n",
        "  seed=123,\n",
        "  image_size=(img_height, img_width),\n",
        "  batch_size=batch_size)\n",
        "\n",
        "val_ds = tf.keras.utils.image_dataset_from_directory(\n",
        "  PATH,\n",
        "  validation_split=0.2,\n",
        "  subset=\"validation\",\n",
        "  seed=123,\n",
        "  image_size=(img_height, img_width),\n",
        "  batch_size=batch_size)\n",
        "\n",
        "class_names = train_ds.class_names\n",
        "print(class_names)\n",
        "num_classes = len(class_names)"
      ],
      "metadata": {
        "colab": {
          "base_uri": "https://localhost:8080/"
        },
        "id": "CiW-AljoCyRN",
        "outputId": "37d0ddcf-1cc8-417f-dafc-770c85bd1ba0"
      },
      "execution_count": 4,
      "outputs": [
        {
          "output_type": "stream",
          "name": "stdout",
          "text": [
            "Found 740 files belonging to 5 classes.\n",
            "Using 592 files for training.\n",
            "Found 740 files belonging to 5 classes.\n",
            "Using 148 files for validation.\n",
            "['cutting wear', 'normal rubbign and cutting wear combined', 'normal rubbing wear', 'red oxide', 'severe sliding wear']\n"
          ]
        }
      ]
    },
    {
      "cell_type": "code",
      "source": [
        "resnet50 = tf.keras.applications.ResNet50(\n",
        "    include_top=False,\n",
        "    weights=\"imagenet\",\n",
        "    input_tensor=None,\n",
        "    input_shape=None,\n",
        "    pooling=None)\n",
        "data_augmentation = tf.keras.Sequential([layers.RandomFlip(\"horizontal_and_vertical\"),layers.RandomRotation(0.2),])\n",
        "model_resnet50=Sequential([\n",
        "  #data_augmentation,\n",
        "  layers.Rescaling(1./255, input_shape=(img_height, img_width, 3)),\n",
        "  resnet50,\n",
        "  layers.Flatten(),\n",
        "  layers.Dense(1028, activation='relu'),\n",
        "  #layers.Dropout(0.5), \n",
        "  layers.Dense(num_classes, activation='softmax')\n",
        "])\n",
        "resnet50.trainable=False\n",
        "model_resnet50.summary()"
      ],
      "metadata": {
        "colab": {
          "base_uri": "https://localhost:8080/"
        },
        "id": "qTLja-HJCy79",
        "outputId": "f5ed9ffa-3612-4b64-c010-a0391b070145"
      },
      "execution_count": 5,
      "outputs": [
        {
          "output_type": "stream",
          "name": "stdout",
          "text": [
            "Downloading data from https://storage.googleapis.com/tensorflow/keras-applications/resnet/resnet50_weights_tf_dim_ordering_tf_kernels_notop.h5\n",
            "94773248/94765736 [==============================] - 0s 0us/step\n",
            "94781440/94765736 [==============================] - 0s 0us/step\n",
            "Model: \"sequential_1\"\n",
            "_________________________________________________________________\n",
            " Layer (type)                Output Shape              Param #   \n",
            "=================================================================\n",
            " rescaling (Rescaling)       (None, 224, 224, 3)       0         \n",
            "                                                                 \n",
            " resnet50 (Functional)       (None, None, None, 2048)  23587712  \n",
            "                                                                 \n",
            " flatten (Flatten)           (None, 100352)            0         \n",
            "                                                                 \n",
            " dense (Dense)               (None, 1028)              103162884 \n",
            "                                                                 \n",
            " dense_1 (Dense)             (None, 5)                 5145      \n",
            "                                                                 \n",
            "=================================================================\n",
            "Total params: 126,755,741\n",
            "Trainable params: 103,168,029\n",
            "Non-trainable params: 23,587,712\n",
            "_________________________________________________________________\n"
          ]
        }
      ]
    },
    {
      "cell_type": "code",
      "source": [
        "model_resnet50.compile(\n",
        "              optimizer= tf.keras.optimizers.Adam(learning_rate=0.001, beta_1=0.9, beta_2=0.999, epsilon=1e-07, amsgrad=False, name='Adam'),\n",
        "              loss=tf.keras.losses.SparseCategoricalCrossentropy(from_logits=False),\n",
        "              metrics=['accuracy']\n",
        "              )"
      ],
      "metadata": {
        "id": "UKCoWlAWD1XP"
      },
      "execution_count": 6,
      "outputs": []
    },
    {
      "cell_type": "code",
      "source": [
        "wandb.init(\n",
        "      # Set the project where this run will be logged\n",
        "      project=\"Transfer_learning\", \n",
        "      name = \"resnet50\",\n",
        "      notes = \"without augment and without dropout\"\n",
        ")"
      ],
      "metadata": {
        "colab": {
          "base_uri": "https://localhost:8080/",
          "height": 145
        },
        "id": "v7gcv8AMD9Vv",
        "outputId": "6f2e1f32-2224-4e5f-cd9f-827e1a3d976b"
      },
      "execution_count": 7,
      "outputs": [
        {
          "output_type": "stream",
          "name": "stderr",
          "text": [
            "ERROR:wandb.jupyter:Failed to detect the name of this notebook, you can set it manually with the WANDB_NOTEBOOK_NAME environment variable to enable code saving.\n",
            "\u001b[34m\u001b[1mwandb\u001b[0m: Currently logged in as: \u001b[33mvedmanivaidya\u001b[0m. Use \u001b[1m`wandb login --relogin`\u001b[0m to force relogin\n"
          ]
        },
        {
          "output_type": "display_data",
          "data": {
            "text/plain": [
              "<IPython.core.display.HTML object>"
            ],
            "text/html": [
              "Tracking run with wandb version 0.13.4"
            ]
          },
          "metadata": {}
        },
        {
          "output_type": "display_data",
          "data": {
            "text/plain": [
              "<IPython.core.display.HTML object>"
            ],
            "text/html": [
              "Run data is saved locally in <code>/content/wandb/run-20221012_070938-1ez4f3ip</code>"
            ]
          },
          "metadata": {}
        },
        {
          "output_type": "display_data",
          "data": {
            "text/plain": [
              "<IPython.core.display.HTML object>"
            ],
            "text/html": [
              "Syncing run <strong><a href=\"https://wandb.ai/vedmanivaidya/Transfer_learning/runs/1ez4f3ip\" target=\"_blank\">resnet50</a></strong> to <a href=\"https://wandb.ai/vedmanivaidya/Transfer_learning\" target=\"_blank\">Weights & Biases</a> (<a href=\"https://wandb.me/run\" target=\"_blank\">docs</a>)<br/>"
            ]
          },
          "metadata": {}
        },
        {
          "output_type": "execute_result",
          "data": {
            "text/html": [
              "<button onClick=\"this.nextSibling.style.display='block';this.style.display='none';\">Display W&B run</button><iframe src=\"https://wandb.ai/vedmanivaidya/Transfer_learning/runs/1ez4f3ip?jupyter=true\" style=\"border:none;width:100%;height:420px;display:none;\"></iframe>"
            ],
            "text/plain": [
              "<wandb.sdk.wandb_run.Run at 0x7fdbfa0dced0>"
            ]
          },
          "metadata": {},
          "execution_count": 7
        }
      ]
    },
    {
      "cell_type": "code",
      "source": [
        "%%time\n",
        "epochs=40\n",
        "history = model_resnet50.fit(\n",
        "  train_ds,\n",
        "  validation_data=val_ds,\n",
        "  epochs=epochs,\n",
        "callbacks=[WandbCallback()]\n",
        ")"
      ],
      "metadata": {
        "colab": {
          "base_uri": "https://localhost:8080/"
        },
        "id": "yQ50kAkQEOBS",
        "outputId": "5992638b-86a4-4ee8-854f-ce331a6fa72b"
      },
      "execution_count": 8,
      "outputs": [
        {
          "output_type": "stream",
          "name": "stderr",
          "text": [
            "\u001b[34m\u001b[1mwandb\u001b[0m: \u001b[33mWARNING\u001b[0m The save_model argument by default saves the model in the HDF5 format that cannot save custom objects like subclassed models and custom layers. This behavior will be deprecated in a future release in favor of the SavedModel format. Meanwhile, the HDF5 model is saved as W&B files and the SavedModel as W&B Artifacts.\n"
          ]
        },
        {
          "output_type": "stream",
          "name": "stdout",
          "text": [
            "Epoch 1/40\n",
            "19/19 [==============================] - ETA: 0s - loss: 24.6814 - accuracy: 0.3851"
          ]
        },
        {
          "output_type": "stream",
          "name": "stderr",
          "text": [
            "\u001b[34m\u001b[1mwandb\u001b[0m: Adding directory to artifact (/content/wandb/run-20221012_070938-1ez4f3ip/files/model-best)... Done. 7.9s\n"
          ]
        },
        {
          "output_type": "stream",
          "name": "stdout",
          "text": [
            "\b\b\b\b\b\b\b\b\b\b\b\b\b\b\b\b\b\b\b\b\b\b\b\b\b\b\b\b\b\b\b\b\b\b\b\b\b\b\b\b\b\b\b\b\b\b\b\b\b\b\b\b\b\b\b\b\b\b\b\b\b\b\b\b\b\b\b\b\b\b\b\b\b\b\b\b\b\b\b\b\b\b\b\r19/19 [==============================] - 138s 5s/step - loss: 24.6814 - accuracy: 0.3851 - val_loss: 7.0757 - val_accuracy: 0.4662\n",
            "Epoch 2/40\n",
            "19/19 [==============================] - ETA: 0s - loss: 2.9226 - accuracy: 0.4578"
          ]
        },
        {
          "output_type": "stream",
          "name": "stderr",
          "text": [
            "\u001b[34m\u001b[1mwandb\u001b[0m: Adding directory to artifact (/content/wandb/run-20221012_070938-1ez4f3ip/files/model-best)... Done. 8.0s\n"
          ]
        },
        {
          "output_type": "stream",
          "name": "stdout",
          "text": [
            "\b\b\b\b\b\b\b\b\b\b\b\b\b\b\b\b\b\b\b\b\b\b\b\b\b\b\b\b\b\b\b\b\b\b\b\b\b\b\b\b\b\b\b\b\b\b\b\b\b\b\b\b\b\b\b\b\b\b\b\b\b\b\b\b\b\b\b\b\b\b\b\b\b\b\b\b\b\b\b\b\b\b\r19/19 [==============================] - 45s 2s/step - loss: 2.9226 - accuracy: 0.4578 - val_loss: 1.7432 - val_accuracy: 0.4932\n",
            "Epoch 3/40\n",
            "19/19 [==============================] - ETA: 0s - loss: 1.0673 - accuracy: 0.6047"
          ]
        },
        {
          "output_type": "stream",
          "name": "stderr",
          "text": [
            "\u001b[34m\u001b[1mwandb\u001b[0m: Adding directory to artifact (/content/wandb/run-20221012_070938-1ez4f3ip/files/model-best)... Done. 7.9s\n"
          ]
        },
        {
          "output_type": "stream",
          "name": "stdout",
          "text": [
            "\b\b\b\b\b\b\b\b\b\b\b\b\b\b\b\b\b\b\b\b\b\b\b\b\b\b\b\b\b\b\b\b\b\b\b\b\b\b\b\b\b\b\b\b\b\b\b\b\b\b\b\b\b\b\b\b\b\b\b\b\b\b\b\b\b\b\b\b\b\b\b\b\b\b\b\b\b\b\b\b\b\b\r19/19 [==============================] - 45s 2s/step - loss: 1.0673 - accuracy: 0.6047 - val_loss: 0.6604 - val_accuracy: 0.7297\n",
            "Epoch 4/40\n",
            "19/19 [==============================] - 4s 183ms/step - loss: 0.6728 - accuracy: 0.7584 - val_loss: 0.8435 - val_accuracy: 0.5946\n",
            "Epoch 5/40\n",
            "19/19 [==============================] - 4s 178ms/step - loss: 0.7753 - accuracy: 0.6959 - val_loss: 1.0665 - val_accuracy: 0.6284\n",
            "Epoch 6/40\n",
            "19/19 [==============================] - ETA: 0s - loss: 0.8358 - accuracy: 0.7078"
          ]
        },
        {
          "output_type": "stream",
          "name": "stderr",
          "text": [
            "\u001b[34m\u001b[1mwandb\u001b[0m: Adding directory to artifact (/content/wandb/run-20221012_070938-1ez4f3ip/files/model-best)... Done. 7.8s\n"
          ]
        },
        {
          "output_type": "stream",
          "name": "stdout",
          "text": [
            "\b\b\b\b\b\b\b\b\b\b\b\b\b\b\b\b\b\b\b\b\b\b\b\b\b\b\b\b\b\b\b\b\b\b\b\b\b\b\b\b\b\b\b\b\b\b\b\b\b\b\b\b\b\b\b\b\b\b\b\b\b\b\b\b\b\b\b\b\b\b\b\b\b\b\b\b\b\b\b\b\b\b\r19/19 [==============================] - 43s 2s/step - loss: 0.8358 - accuracy: 0.7078 - val_loss: 0.5830 - val_accuracy: 0.7500\n",
            "Epoch 7/40\n",
            "19/19 [==============================] - 5s 199ms/step - loss: 0.6467 - accuracy: 0.7720 - val_loss: 0.8936 - val_accuracy: 0.7500\n",
            "Epoch 8/40\n",
            "19/19 [==============================] - ETA: 0s - loss: 0.5995 - accuracy: 0.7872"
          ]
        },
        {
          "output_type": "stream",
          "name": "stderr",
          "text": [
            "\u001b[34m\u001b[1mwandb\u001b[0m: Adding directory to artifact (/content/wandb/run-20221012_070938-1ez4f3ip/files/model-best)... Done. 7.9s\n"
          ]
        },
        {
          "output_type": "stream",
          "name": "stdout",
          "text": [
            "\b\b\b\b\b\b\b\b\b\b\b\b\b\b\b\b\b\b\b\b\b\b\b\b\b\b\b\b\b\b\b\b\b\b\b\b\b\b\b\b\b\b\b\b\b\b\b\b\b\b\b\b\b\b\b\b\b\b\b\b\b\b\b\b\b\b\b\b\b\b\b\b\b\b\b\b\b\b\b\b\b\b\r19/19 [==============================] - 44s 2s/step - loss: 0.5995 - accuracy: 0.7872 - val_loss: 0.4546 - val_accuracy: 0.8514\n",
            "Epoch 9/40\n",
            "19/19 [==============================] - 4s 181ms/step - loss: 0.4521 - accuracy: 0.8497 - val_loss: 0.4835 - val_accuracy: 0.7973\n",
            "Epoch 10/40\n",
            "19/19 [==============================] - 4s 176ms/step - loss: 0.5136 - accuracy: 0.8057 - val_loss: 0.7131 - val_accuracy: 0.7500\n",
            "Epoch 11/40\n",
            "19/19 [==============================] - ETA: 0s - loss: 0.4225 - accuracy: 0.8412"
          ]
        },
        {
          "output_type": "stream",
          "name": "stderr",
          "text": [
            "\u001b[34m\u001b[1mwandb\u001b[0m: Adding directory to artifact (/content/wandb/run-20221012_070938-1ez4f3ip/files/model-best)... Done. 7.9s\n"
          ]
        },
        {
          "output_type": "stream",
          "name": "stdout",
          "text": [
            "\b\b\b\b\b\b\b\b\b\b\b\b\b\b\b\b\b\b\b\b\b\b\b\b\b\b\b\b\b\b\b\b\b\b\b\b\b\b\b\b\b\b\b\b\b\b\b\b\b\b\b\b\b\b\b\b\b\b\b\b\b\b\b\b\b\b\b\b\b\b\b\b\b\b\b\b\b\b\b\b\b\b\r19/19 [==============================] - 44s 2s/step - loss: 0.4225 - accuracy: 0.8412 - val_loss: 0.4285 - val_accuracy: 0.8243\n",
            "Epoch 12/40\n",
            "19/19 [==============================] - ETA: 0s - loss: 0.3554 - accuracy: 0.9054"
          ]
        },
        {
          "output_type": "stream",
          "name": "stderr",
          "text": [
            "\u001b[34m\u001b[1mwandb\u001b[0m: Adding directory to artifact (/content/wandb/run-20221012_070938-1ez4f3ip/files/model-best)... Done. 8.0s\n"
          ]
        },
        {
          "output_type": "stream",
          "name": "stdout",
          "text": [
            "\b\b\b\b\b\b\b\b\b\b\b\b\b\b\b\b\b\b\b\b\b\b\b\b\b\b\b\b\b\b\b\b\b\b\b\b\b\b\b\b\b\b\b\b\b\b\b\b\b\b\b\b\b\b\b\b\b\b\b\b\b\b\b\b\b\b\b\b\b\b\b\b\b\b\b\b\b\b\b\b\b\b\r19/19 [==============================] - 45s 2s/step - loss: 0.3554 - accuracy: 0.9054 - val_loss: 0.3699 - val_accuracy: 0.8378\n",
            "Epoch 13/40\n",
            "19/19 [==============================] - 4s 178ms/step - loss: 0.3624 - accuracy: 0.8699 - val_loss: 0.4520 - val_accuracy: 0.8041\n",
            "Epoch 14/40\n",
            "19/19 [==============================] - 4s 180ms/step - loss: 0.4889 - accuracy: 0.8108 - val_loss: 0.5571 - val_accuracy: 0.7568\n",
            "Epoch 15/40\n",
            "19/19 [==============================] - 4s 181ms/step - loss: 0.4928 - accuracy: 0.8193 - val_loss: 1.1482 - val_accuracy: 0.5068\n",
            "Epoch 16/40\n",
            "19/19 [==============================] - 4s 182ms/step - loss: 0.4784 - accuracy: 0.8176 - val_loss: 0.4300 - val_accuracy: 0.8446\n",
            "Epoch 17/40\n",
            "19/19 [==============================] - ETA: 0s - loss: 0.3107 - accuracy: 0.8801"
          ]
        },
        {
          "output_type": "stream",
          "name": "stderr",
          "text": [
            "\u001b[34m\u001b[1mwandb\u001b[0m: Adding directory to artifact (/content/wandb/run-20221012_070938-1ez4f3ip/files/model-best)... Done. 7.8s\n"
          ]
        },
        {
          "output_type": "stream",
          "name": "stdout",
          "text": [
            "\b\b\b\b\b\b\b\b\b\b\b\b\b\b\b\b\b\b\b\b\b\b\b\b\b\b\b\b\b\b\b\b\b\b\b\b\b\b\b\b\b\b\b\b\b\b\b\b\b\b\b\b\b\b\b\b\b\b\b\b\b\b\b\b\b\b\b\b\b\b\b\b\b\b\b\b\b\b\b\b\b\b\r19/19 [==============================] - 43s 2s/step - loss: 0.3107 - accuracy: 0.8801 - val_loss: 0.3238 - val_accuracy: 0.8986\n",
            "Epoch 18/40\n",
            "19/19 [==============================] - 5s 193ms/step - loss: 0.2840 - accuracy: 0.9172 - val_loss: 0.3241 - val_accuracy: 0.8514\n",
            "Epoch 19/40\n",
            "19/19 [==============================] - 4s 183ms/step - loss: 0.3639 - accuracy: 0.8885 - val_loss: 0.4343 - val_accuracy: 0.8108\n",
            "Epoch 20/40\n",
            "19/19 [==============================] - 4s 182ms/step - loss: 0.3925 - accuracy: 0.8463 - val_loss: 0.4247 - val_accuracy: 0.8378\n",
            "Epoch 21/40\n",
            "19/19 [==============================] - 4s 182ms/step - loss: 0.4023 - accuracy: 0.8530 - val_loss: 0.3895 - val_accuracy: 0.8649\n",
            "Epoch 22/40\n",
            "19/19 [==============================] - ETA: 0s - loss: 0.3505 - accuracy: 0.8632"
          ]
        },
        {
          "output_type": "stream",
          "name": "stderr",
          "text": [
            "\u001b[34m\u001b[1mwandb\u001b[0m: Adding directory to artifact (/content/wandb/run-20221012_070938-1ez4f3ip/files/model-best)... Done. 7.9s\n"
          ]
        },
        {
          "output_type": "stream",
          "name": "stdout",
          "text": [
            "\b\b\b\b\b\b\b\b\b\b\b\b\b\b\b\b\b\b\b\b\b\b\b\b\b\b\b\b\b\b\b\b\b\b\b\b\b\b\b\b\b\b\b\b\b\b\b\b\b\b\b\b\b\b\b\b\b\b\b\b\b\b\b\b\b\b\b\b\b\b\b\b\b\b\b\b\b\b\b\b\b\b\r19/19 [==============================] - 44s 2s/step - loss: 0.3505 - accuracy: 0.8632 - val_loss: 0.3081 - val_accuracy: 0.8784\n",
            "Epoch 23/40\n",
            "19/19 [==============================] - 4s 177ms/step - loss: 0.3658 - accuracy: 0.8666 - val_loss: 0.5393 - val_accuracy: 0.8108\n",
            "Epoch 24/40\n",
            "19/19 [==============================] - ETA: 0s - loss: 0.2874 - accuracy: 0.9054"
          ]
        },
        {
          "output_type": "stream",
          "name": "stderr",
          "text": [
            "\u001b[34m\u001b[1mwandb\u001b[0m: Adding directory to artifact (/content/wandb/run-20221012_070938-1ez4f3ip/files/model-best)... Done. 7.9s\n"
          ]
        },
        {
          "output_type": "stream",
          "name": "stdout",
          "text": [
            "\b\b\b\b\b\b\b\b\b\b\b\b\b\b\b\b\b\b\b\b\b\b\b\b\b\b\b\b\b\b\b\b\b\b\b\b\b\b\b\b\b\b\b\b\b\b\b\b\b\b\b\b\b\b\b\b\b\b\b\b\b\b\b\b\b\b\b\b\b\b\b\b\b\b\b\b\b\b\b\b\b\b\r19/19 [==============================] - 52s 3s/step - loss: 0.2874 - accuracy: 0.9054 - val_loss: 0.2565 - val_accuracy: 0.9122\n",
            "Epoch 25/40\n",
            "19/19 [==============================] - 5s 200ms/step - loss: 0.2096 - accuracy: 0.9392 - val_loss: 0.3114 - val_accuracy: 0.8851\n",
            "Epoch 26/40\n",
            "19/19 [==============================] - 5s 183ms/step - loss: 0.3333 - accuracy: 0.8784 - val_loss: 0.3547 - val_accuracy: 0.8716\n",
            "Epoch 27/40\n",
            "19/19 [==============================] - 4s 180ms/step - loss: 0.2802 - accuracy: 0.9088 - val_loss: 0.3436 - val_accuracy: 0.8514\n",
            "Epoch 28/40\n",
            "19/19 [==============================] - 4s 182ms/step - loss: 0.2743 - accuracy: 0.9172 - val_loss: 0.4228 - val_accuracy: 0.8378\n",
            "Epoch 29/40\n",
            "19/19 [==============================] - 4s 172ms/step - loss: 0.2704 - accuracy: 0.9223 - val_loss: 0.4955 - val_accuracy: 0.7905\n",
            "Epoch 30/40\n",
            "19/19 [==============================] - 4s 183ms/step - loss: 0.2994 - accuracy: 0.8834 - val_loss: 0.7865 - val_accuracy: 0.6824\n",
            "Epoch 31/40\n",
            "19/19 [==============================] - 4s 183ms/step - loss: 0.3856 - accuracy: 0.8514 - val_loss: 0.3350 - val_accuracy: 0.8784\n",
            "Epoch 32/40\n",
            "19/19 [==============================] - ETA: 0s - loss: 0.2513 - accuracy: 0.9206"
          ]
        },
        {
          "output_type": "stream",
          "name": "stderr",
          "text": [
            "\u001b[34m\u001b[1mwandb\u001b[0m: Adding directory to artifact (/content/wandb/run-20221012_070938-1ez4f3ip/files/model-best)... Done. 7.8s\n"
          ]
        },
        {
          "output_type": "stream",
          "name": "stdout",
          "text": [
            "\b\b\b\b\b\b\b\b\b\b\b\b\b\b\b\b\b\b\b\b\b\b\b\b\b\b\b\b\b\b\b\b\b\b\b\b\b\b\b\b\b\b\b\b\b\b\b\b\b\b\b\b\b\b\b\b\b\b\b\b\b\b\b\b\b\b\b\b\b\b\b\b\b\b\b\b\b\b\b\b\b\b\r19/19 [==============================] - 44s 2s/step - loss: 0.2513 - accuracy: 0.9206 - val_loss: 0.2461 - val_accuracy: 0.8986\n",
            "Epoch 33/40\n",
            "19/19 [==============================] - 5s 209ms/step - loss: 0.2299 - accuracy: 0.9122 - val_loss: 0.5581 - val_accuracy: 0.8041\n",
            "Epoch 34/40\n",
            "19/19 [==============================] - 5s 206ms/step - loss: 0.3292 - accuracy: 0.8767 - val_loss: 0.2757 - val_accuracy: 0.9054\n",
            "Epoch 35/40\n",
            "19/19 [==============================] - ETA: 0s - loss: 0.2787 - accuracy: 0.8936"
          ]
        },
        {
          "output_type": "stream",
          "name": "stderr",
          "text": [
            "\u001b[34m\u001b[1mwandb\u001b[0m: Adding directory to artifact (/content/wandb/run-20221012_070938-1ez4f3ip/files/model-best)... Done. 7.9s\n"
          ]
        },
        {
          "output_type": "stream",
          "name": "stdout",
          "text": [
            "\b\b\b\b\b\b\b\b\b\b\b\b\b\b\b\b\b\b\b\b\b\b\b\b\b\b\b\b\b\b\b\b\b\b\b\b\b\b\b\b\b\b\b\b\b\b\b\b\b\b\b\b\b\b\b\b\b\b\b\b\b\b\b\b\b\b\b\b\b\b\b\b\b\b\b\b\b\b\b\b\b\b\r19/19 [==============================] - 42s 2s/step - loss: 0.2787 - accuracy: 0.8936 - val_loss: 0.2406 - val_accuracy: 0.9122\n",
            "Epoch 36/40\n",
            "19/19 [==============================] - 4s 178ms/step - loss: 0.2438 - accuracy: 0.9122 - val_loss: 0.4946 - val_accuracy: 0.8176\n",
            "Epoch 37/40\n",
            "19/19 [==============================] - ETA: 0s - loss: 0.3136 - accuracy: 0.8936"
          ]
        },
        {
          "output_type": "stream",
          "name": "stderr",
          "text": [
            "\u001b[34m\u001b[1mwandb\u001b[0m: Adding directory to artifact (/content/wandb/run-20221012_070938-1ez4f3ip/files/model-best)... Done. 7.8s\n"
          ]
        },
        {
          "output_type": "stream",
          "name": "stdout",
          "text": [
            "\b\b\b\b\b\b\b\b\b\b\b\b\b\b\b\b\b\b\b\b\b\b\b\b\b\b\b\b\b\b\b\b\b\b\b\b\b\b\b\b\b\b\b\b\b\b\b\b\b\b\b\b\b\b\b\b\b\b\b\b\b\b\b\b\b\b\b\b\b\b\b\b\b\b\b\b\b\b\b\b\b\b\r19/19 [==============================] - 43s 2s/step - loss: 0.3136 - accuracy: 0.8936 - val_loss: 0.2163 - val_accuracy: 0.9122\n",
            "Epoch 38/40\n",
            "19/19 [==============================] - 5s 214ms/step - loss: 0.2251 - accuracy: 0.9274 - val_loss: 0.3003 - val_accuracy: 0.8851\n",
            "Epoch 39/40\n",
            "19/19 [==============================] - 5s 204ms/step - loss: 0.2611 - accuracy: 0.9037 - val_loss: 0.2627 - val_accuracy: 0.8851\n",
            "Epoch 40/40\n",
            "19/19 [==============================] - 4s 181ms/step - loss: 0.3129 - accuracy: 0.8801 - val_loss: 0.6455 - val_accuracy: 0.7162\n",
            "CPU times: user 6min 59s, sys: 1min 56s, total: 8min 55s\n",
            "Wall time: 17min\n"
          ]
        }
      ]
    },
    {
      "cell_type": "code",
      "source": [
        "wandb.finish()"
      ],
      "metadata": {
        "colab": {
          "base_uri": "https://localhost:8080/",
          "height": 397,
          "referenced_widgets": [
            "52154749d2f54ac59296bc004edb5b78",
            "d521962f129f49ce84110b81edd46429",
            "6794d28bee274f12aa5f3e0b0409050b",
            "190f5e06bd854258a3f020202662b0a2",
            "af0195aeffbb48f6af5aec004b166fc3",
            "1d37d544b56b414780f0871ac1e41fe1",
            "eda8ea458fc64f7d8f34743ae2904296",
            "8d36c8b82a4f448d81e26f20eeb584bb"
          ]
        },
        "id": "WaZ2tnFeETsF",
        "outputId": "f422c417-986e-48cc-c972-13a9bbbc907e"
      },
      "execution_count": 9,
      "outputs": [
        {
          "output_type": "display_data",
          "data": {
            "text/plain": [
              "<IPython.core.display.HTML object>"
            ],
            "text/html": [
              "Waiting for W&B process to finish... <strong style=\"color:green\">(success).</strong>"
            ]
          },
          "metadata": {}
        },
        {
          "output_type": "display_data",
          "data": {
            "text/plain": [
              "VBox(children=(Label(value='17836.453 MB of 17836.453 MB uploaded (0.532 MB deduped)\\r'), FloatProgress(value=…"
            ],
            "application/vnd.jupyter.widget-view+json": {
              "version_major": 2,
              "version_minor": 0,
              "model_id": "52154749d2f54ac59296bc004edb5b78"
            }
          },
          "metadata": {}
        },
        {
          "output_type": "display_data",
          "data": {
            "text/plain": [
              "<IPython.core.display.HTML object>"
            ],
            "text/html": [
              "<style>\n",
              "    table.wandb td:nth-child(1) { padding: 0 10px; text-align: left ; width: auto;} td:nth-child(2) {text-align: left ; width: 100%}\n",
              "    .wandb-row { display: flex; flex-direction: row; flex-wrap: wrap; justify-content: flex-start; width: 100% }\n",
              "    .wandb-col { display: flex; flex-direction: column; flex-basis: 100%; flex: 1; padding: 10px; }\n",
              "    </style>\n",
              "<div class=\"wandb-row\"><div class=\"wandb-col\"><h3>Run history:</h3><br/><table class=\"wandb\"><tr><td>accuracy</td><td>▁▂▄▆▅▅▆▆▇▆▇█▇▆▆▆▇█▇▇▇▇▇██▇███▇▇██▇▇█▇██▇</td></tr><tr><td>epoch</td><td>▁▁▁▂▂▂▂▂▂▃▃▃▃▃▄▄▄▄▄▄▅▅▅▅▅▅▆▆▆▆▆▇▇▇▇▇▇███</td></tr><tr><td>loss</td><td>█▂▁▁▁▁▁▁▁▁▁▁▁▁▁▁▁▁▁▁▁▁▁▁▁▁▁▁▁▁▁▁▁▁▁▁▁▁▁▁</td></tr><tr><td>val_accuracy</td><td>▁▁▅▃▄▅▅▇▆▅▇▇▆▆▂▇█▇▆▇▇▇▆██▇▇▇▆▄▇█▆██▇███▅</td></tr><tr><td>val_loss</td><td>█▃▁▂▂▁▂▁▁▂▁▁▁▁▂▁▁▁▁▁▁▁▁▁▁▁▁▁▁▂▁▁▁▁▁▁▁▁▁▁</td></tr></table><br/></div><div class=\"wandb-col\"><h3>Run summary:</h3><br/><table class=\"wandb\"><tr><td>accuracy</td><td>0.88007</td></tr><tr><td>best_epoch</td><td>36</td></tr><tr><td>best_val_loss</td><td>0.21628</td></tr><tr><td>epoch</td><td>39</td></tr><tr><td>loss</td><td>0.3129</td></tr><tr><td>val_accuracy</td><td>0.71622</td></tr><tr><td>val_loss</td><td>0.64551</td></tr></table><br/></div></div>"
            ]
          },
          "metadata": {}
        },
        {
          "output_type": "display_data",
          "data": {
            "text/plain": [
              "<IPython.core.display.HTML object>"
            ],
            "text/html": [
              "Synced <strong style=\"color:#cdcd00\">resnet50</strong>: <a href=\"https://wandb.ai/vedmanivaidya/Transfer_learning/runs/1ez4f3ip\" target=\"_blank\">https://wandb.ai/vedmanivaidya/Transfer_learning/runs/1ez4f3ip</a><br/>Synced 5 W&B file(s), 1 media file(s), 40 artifact file(s) and 1 other file(s)"
            ]
          },
          "metadata": {}
        },
        {
          "output_type": "display_data",
          "data": {
            "text/plain": [
              "<IPython.core.display.HTML object>"
            ],
            "text/html": [
              "Find logs at: <code>./wandb/run-20221012_070938-1ez4f3ip/logs</code>"
            ]
          },
          "metadata": {}
        }
      ]
    },
    {
      "cell_type": "code",
      "source": [],
      "metadata": {
        "id": "qxIgXkM_FFiK"
      },
      "execution_count": null,
      "outputs": []
    }
  ],
  "metadata": {
    "kernelspec": {
      "display_name": "Python 3",
      "language": "python",
      "name": "python3"
    },
    "language_info": {
      "codemirror_mode": {
        "name": "ipython",
        "version": 2
      },
      "file_extension": ".py",
      "mimetype": "text/x-python",
      "name": "python",
      "nbconvert_exporter": "python",
      "pygments_lexer": "ipython2",
      "version": "2.7.6"
    },
    "colab": {
      "provenance": []
    },
    "accelerator": "GPU",
    "widgets": {
      "application/vnd.jupyter.widget-state+json": {
        "52154749d2f54ac59296bc004edb5b78": {
          "model_module": "@jupyter-widgets/controls",
          "model_name": "VBoxModel",
          "model_module_version": "1.5.0",
          "state": {
            "_dom_classes": [],
            "_model_module": "@jupyter-widgets/controls",
            "_model_module_version": "1.5.0",
            "_model_name": "VBoxModel",
            "_view_count": null,
            "_view_module": "@jupyter-widgets/controls",
            "_view_module_version": "1.5.0",
            "_view_name": "VBoxView",
            "box_style": "",
            "children": [
              "IPY_MODEL_d521962f129f49ce84110b81edd46429",
              "IPY_MODEL_6794d28bee274f12aa5f3e0b0409050b"
            ],
            "layout": "IPY_MODEL_190f5e06bd854258a3f020202662b0a2"
          }
        },
        "d521962f129f49ce84110b81edd46429": {
          "model_module": "@jupyter-widgets/controls",
          "model_name": "LabelModel",
          "model_module_version": "1.5.0",
          "state": {
            "_dom_classes": [],
            "_model_module": "@jupyter-widgets/controls",
            "_model_module_version": "1.5.0",
            "_model_name": "LabelModel",
            "_view_count": null,
            "_view_module": "@jupyter-widgets/controls",
            "_view_module_version": "1.5.0",
            "_view_name": "LabelView",
            "description": "",
            "description_tooltip": null,
            "layout": "IPY_MODEL_af0195aeffbb48f6af5aec004b166fc3",
            "placeholder": "​",
            "style": "IPY_MODEL_1d37d544b56b414780f0871ac1e41fe1",
            "value": "17795.630 MB of 17836.468 MB uploaded (0.532 MB deduped)\r"
          }
        },
        "6794d28bee274f12aa5f3e0b0409050b": {
          "model_module": "@jupyter-widgets/controls",
          "model_name": "FloatProgressModel",
          "model_module_version": "1.5.0",
          "state": {
            "_dom_classes": [],
            "_model_module": "@jupyter-widgets/controls",
            "_model_module_version": "1.5.0",
            "_model_name": "FloatProgressModel",
            "_view_count": null,
            "_view_module": "@jupyter-widgets/controls",
            "_view_module_version": "1.5.0",
            "_view_name": "ProgressView",
            "bar_style": "",
            "description": "",
            "description_tooltip": null,
            "layout": "IPY_MODEL_eda8ea458fc64f7d8f34743ae2904296",
            "max": 1,
            "min": 0,
            "orientation": "horizontal",
            "style": "IPY_MODEL_8d36c8b82a4f448d81e26f20eeb584bb",
            "value": 0.9977104020644272
          }
        },
        "190f5e06bd854258a3f020202662b0a2": {
          "model_module": "@jupyter-widgets/base",
          "model_name": "LayoutModel",
          "model_module_version": "1.2.0",
          "state": {
            "_model_module": "@jupyter-widgets/base",
            "_model_module_version": "1.2.0",
            "_model_name": "LayoutModel",
            "_view_count": null,
            "_view_module": "@jupyter-widgets/base",
            "_view_module_version": "1.2.0",
            "_view_name": "LayoutView",
            "align_content": null,
            "align_items": null,
            "align_self": null,
            "border": null,
            "bottom": null,
            "display": null,
            "flex": null,
            "flex_flow": null,
            "grid_area": null,
            "grid_auto_columns": null,
            "grid_auto_flow": null,
            "grid_auto_rows": null,
            "grid_column": null,
            "grid_gap": null,
            "grid_row": null,
            "grid_template_areas": null,
            "grid_template_columns": null,
            "grid_template_rows": null,
            "height": null,
            "justify_content": null,
            "justify_items": null,
            "left": null,
            "margin": null,
            "max_height": null,
            "max_width": null,
            "min_height": null,
            "min_width": null,
            "object_fit": null,
            "object_position": null,
            "order": null,
            "overflow": null,
            "overflow_x": null,
            "overflow_y": null,
            "padding": null,
            "right": null,
            "top": null,
            "visibility": null,
            "width": null
          }
        },
        "af0195aeffbb48f6af5aec004b166fc3": {
          "model_module": "@jupyter-widgets/base",
          "model_name": "LayoutModel",
          "model_module_version": "1.2.0",
          "state": {
            "_model_module": "@jupyter-widgets/base",
            "_model_module_version": "1.2.0",
            "_model_name": "LayoutModel",
            "_view_count": null,
            "_view_module": "@jupyter-widgets/base",
            "_view_module_version": "1.2.0",
            "_view_name": "LayoutView",
            "align_content": null,
            "align_items": null,
            "align_self": null,
            "border": null,
            "bottom": null,
            "display": null,
            "flex": null,
            "flex_flow": null,
            "grid_area": null,
            "grid_auto_columns": null,
            "grid_auto_flow": null,
            "grid_auto_rows": null,
            "grid_column": null,
            "grid_gap": null,
            "grid_row": null,
            "grid_template_areas": null,
            "grid_template_columns": null,
            "grid_template_rows": null,
            "height": null,
            "justify_content": null,
            "justify_items": null,
            "left": null,
            "margin": null,
            "max_height": null,
            "max_width": null,
            "min_height": null,
            "min_width": null,
            "object_fit": null,
            "object_position": null,
            "order": null,
            "overflow": null,
            "overflow_x": null,
            "overflow_y": null,
            "padding": null,
            "right": null,
            "top": null,
            "visibility": null,
            "width": null
          }
        },
        "1d37d544b56b414780f0871ac1e41fe1": {
          "model_module": "@jupyter-widgets/controls",
          "model_name": "DescriptionStyleModel",
          "model_module_version": "1.5.0",
          "state": {
            "_model_module": "@jupyter-widgets/controls",
            "_model_module_version": "1.5.0",
            "_model_name": "DescriptionStyleModel",
            "_view_count": null,
            "_view_module": "@jupyter-widgets/base",
            "_view_module_version": "1.2.0",
            "_view_name": "StyleView",
            "description_width": ""
          }
        },
        "eda8ea458fc64f7d8f34743ae2904296": {
          "model_module": "@jupyter-widgets/base",
          "model_name": "LayoutModel",
          "model_module_version": "1.2.0",
          "state": {
            "_model_module": "@jupyter-widgets/base",
            "_model_module_version": "1.2.0",
            "_model_name": "LayoutModel",
            "_view_count": null,
            "_view_module": "@jupyter-widgets/base",
            "_view_module_version": "1.2.0",
            "_view_name": "LayoutView",
            "align_content": null,
            "align_items": null,
            "align_self": null,
            "border": null,
            "bottom": null,
            "display": null,
            "flex": null,
            "flex_flow": null,
            "grid_area": null,
            "grid_auto_columns": null,
            "grid_auto_flow": null,
            "grid_auto_rows": null,
            "grid_column": null,
            "grid_gap": null,
            "grid_row": null,
            "grid_template_areas": null,
            "grid_template_columns": null,
            "grid_template_rows": null,
            "height": null,
            "justify_content": null,
            "justify_items": null,
            "left": null,
            "margin": null,
            "max_height": null,
            "max_width": null,
            "min_height": null,
            "min_width": null,
            "object_fit": null,
            "object_position": null,
            "order": null,
            "overflow": null,
            "overflow_x": null,
            "overflow_y": null,
            "padding": null,
            "right": null,
            "top": null,
            "visibility": null,
            "width": null
          }
        },
        "8d36c8b82a4f448d81e26f20eeb584bb": {
          "model_module": "@jupyter-widgets/controls",
          "model_name": "ProgressStyleModel",
          "model_module_version": "1.5.0",
          "state": {
            "_model_module": "@jupyter-widgets/controls",
            "_model_module_version": "1.5.0",
            "_model_name": "ProgressStyleModel",
            "_view_count": null,
            "_view_module": "@jupyter-widgets/base",
            "_view_module_version": "1.2.0",
            "_view_name": "StyleView",
            "bar_color": null,
            "description_width": ""
          }
        }
      }
    }
  },
  "nbformat": 4,
  "nbformat_minor": 0
}