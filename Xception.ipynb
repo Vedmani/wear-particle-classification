{
  "cells": [
    {
      "cell_type": "markdown",
      "metadata": {
        "id": "view-in-github",
        "colab_type": "text"
      },
      "source": [
        "<a href=\"https://colab.research.google.com/github/Vedmani/wear-particle-classification/blob/main/Xception.ipynb\" target=\"_parent\"><img src=\"https://colab.research.google.com/assets/colab-badge.svg\" alt=\"Open In Colab\"/></a>"
      ]
    },
    {
      "cell_type": "code",
      "source": [
        "from google.colab import drive\n",
        "drive.mount('/content/drive')"
      ],
      "metadata": {
        "colab": {
          "base_uri": "https://localhost:8080/"
        },
        "id": "hZxsQnPoFFCQ",
        "outputId": "d2b4351c-871f-44c4-f7ff-5606b3c9af37"
      },
      "execution_count": 1,
      "outputs": [
        {
          "output_type": "stream",
          "name": "stdout",
          "text": [
            "Drive already mounted at /content/drive; to attempt to forcibly remount, call drive.mount(\"/content/drive\", force_remount=True).\n"
          ]
        }
      ]
    },
    {
      "cell_type": "code",
      "execution_count": 2,
      "outputs": [
        {
          "output_type": "stream",
          "name": "stdout",
          "text": [
            "\u001b[34m\u001b[1mwandb\u001b[0m: Appending key for api.wandb.ai to your netrc file: /root/.netrc\n"
          ]
        }
      ],
      "source": [
        "!pip install wandb -qU\n",
        "!wandb login"
      ],
      "metadata": {
        "pycharm": {
          "name": "#%%\n"
        },
        "colab": {
          "base_uri": "https://localhost:8080/"
        },
        "id": "nzVPsk5i2f6k",
        "outputId": "f3a7b122-e6d0-43dc-c4f0-6f5d1f190b7d"
      }
    },
    {
      "cell_type": "code",
      "execution_count": 3,
      "outputs": [],
      "source": [
        "import tensorflow as tf\n",
        "from tensorflow import keras\n",
        "from tensorflow.keras import layers\n",
        "from tensorflow.keras.models import Sequential\n",
        "import wandb\n",
        "from wandb.keras import WandbCallback"
      ],
      "metadata": {
        "pycharm": {
          "name": "#%%\n"
        },
        "id": "acoOtOXx2f6z"
      }
    },
    {
      "cell_type": "code",
      "execution_count": 4,
      "outputs": [],
      "source": [
        "tf.keras.utils.set_random_seed(123)\n",
        "tf.config.experimental.enable_op_determinism()"
      ],
      "metadata": {
        "pycharm": {
          "name": "#%%\n"
        },
        "id": "vhcPFfST2f62"
      }
    },
    {
      "cell_type": "code",
      "source": [
        "PATH = '/content/drive/MyDrive/Research Internship/wear particles'\n",
        "batch_size = 32\n",
        "img_height = 224\n",
        "img_width = 224\n",
        "\n",
        "train_ds = tf.keras.utils.image_dataset_from_directory(\n",
        "  PATH,\n",
        "  validation_split=0.2,\n",
        "  subset=\"training\",\n",
        "  seed=123,\n",
        "  image_size=(img_height, img_width),\n",
        "  batch_size=batch_size)\n",
        "\n",
        "val_ds = tf.keras.utils.image_dataset_from_directory(\n",
        "  PATH,\n",
        "  validation_split=0.2,\n",
        "  subset=\"validation\",\n",
        "  seed=123,\n",
        "  image_size=(img_height, img_width),\n",
        "  batch_size=batch_size)\n",
        "\n",
        "class_names = train_ds.class_names\n",
        "print(class_names)\n",
        "num_classes = len(class_names)"
      ],
      "metadata": {
        "colab": {
          "base_uri": "https://localhost:8080/"
        },
        "id": "CiW-AljoCyRN",
        "outputId": "2ad3ec4c-7681-4c29-e370-2cbdd0f5d14b"
      },
      "execution_count": 5,
      "outputs": [
        {
          "output_type": "stream",
          "name": "stdout",
          "text": [
            "Found 740 files belonging to 5 classes.\n",
            "Using 592 files for training.\n",
            "Found 740 files belonging to 5 classes.\n",
            "Using 148 files for validation.\n",
            "['cutting wear', 'normal rubbing and cutting wear combined', 'normal rubbing wear', 'red oxide', 'severe sliding wear']\n"
          ]
        }
      ]
    },
    {
      "cell_type": "code",
      "source": [
        "xception = tf.keras.applications.Xception(\n",
        "    include_top=False,\n",
        "    weights=\"imagenet\",\n",
        "    input_tensor=None,\n",
        "    input_shape=None,\n",
        "    pooling=None)\n",
        "data_augmentation = tf.keras.Sequential([layers.RandomFlip(\"horizontal_and_vertical\"),layers.RandomRotation(0.2),])\n",
        "model_xception=Sequential([\n",
        "  #data_augmentation,\n",
        "  layers.Rescaling(1./255, input_shape=(img_height, img_width, 3)),\n",
        "  xception,\n",
        "  layers.Flatten(),\n",
        "  layers.Dense(32, activation='relu'),\n",
        "  #layers.Dropout(0.5), \n",
        "  layers.Dense(num_classes, activation='softmax')\n",
        "])\n",
        "xception.trainable=False\n",
        "model_xception.summary()"
      ],
      "metadata": {
        "colab": {
          "base_uri": "https://localhost:8080/"
        },
        "id": "qTLja-HJCy79",
        "outputId": "c48af044-395f-4da3-8340-8a600928b619"
      },
      "execution_count": 6,
      "outputs": [
        {
          "output_type": "stream",
          "name": "stdout",
          "text": [
            "Model: \"sequential_1\"\n",
            "_________________________________________________________________\n",
            " Layer (type)                Output Shape              Param #   \n",
            "=================================================================\n",
            " rescaling (Rescaling)       (None, 224, 224, 3)       0         \n",
            "                                                                 \n",
            " xception (Functional)       (None, None, None, 2048)  20861480  \n",
            "                                                                 \n",
            " flatten (Flatten)           (None, 100352)            0         \n",
            "                                                                 \n",
            " dense (Dense)               (None, 32)                3211296   \n",
            "                                                                 \n",
            " dense_1 (Dense)             (None, 5)                 165       \n",
            "                                                                 \n",
            "=================================================================\n",
            "Total params: 24,072,941\n",
            "Trainable params: 3,211,461\n",
            "Non-trainable params: 20,861,480\n",
            "_________________________________________________________________\n"
          ]
        }
      ]
    },
    {
      "cell_type": "code",
      "source": [
        "model_xception.compile(\n",
        "              optimizer= tf.keras.optimizers.Adam(learning_rate=0.001, beta_1=0.9, beta_2=0.999, epsilon=1e-07, amsgrad=False, name='Adam'),\n",
        "              loss=tf.keras.losses.SparseCategoricalCrossentropy(from_logits=False),\n",
        "              metrics=['accuracy']\n",
        "              )"
      ],
      "metadata": {
        "id": "UKCoWlAWD1XP"
      },
      "execution_count": 7,
      "outputs": []
    },
    {
      "cell_type": "code",
      "source": [
        "wandb.init(\n",
        "      # Set the project where this run will be logged\n",
        "      project=\"Transfer_learning\", \n",
        "      name = \"Xception_final\",\n",
        "      notes = \"flatten ?\"\n",
        ")"
      ],
      "metadata": {
        "colab": {
          "base_uri": "https://localhost:8080/",
          "height": 125
        },
        "id": "v7gcv8AMD9Vv",
        "outputId": "682c86cb-4e17-4615-f322-7ac560a0474d"
      },
      "execution_count": 8,
      "outputs": [
        {
          "output_type": "stream",
          "name": "stderr",
          "text": [
            "ERROR:wandb.jupyter:Failed to detect the name of this notebook, you can set it manually with the WANDB_NOTEBOOK_NAME environment variable to enable code saving.\n",
            "\u001b[34m\u001b[1mwandb\u001b[0m: Currently logged in as: \u001b[33mvedmanivaidya\u001b[0m. Use \u001b[1m`wandb login --relogin`\u001b[0m to force relogin\n"
          ]
        },
        {
          "output_type": "display_data",
          "data": {
            "text/plain": [
              "<IPython.core.display.HTML object>"
            ],
            "text/html": [
              "Tracking run with wandb version 0.13.4"
            ]
          },
          "metadata": {}
        },
        {
          "output_type": "display_data",
          "data": {
            "text/plain": [
              "<IPython.core.display.HTML object>"
            ],
            "text/html": [
              "Run data is saved locally in <code>/content/wandb/run-20221018_075901-2q6ayjw9</code>"
            ]
          },
          "metadata": {}
        },
        {
          "output_type": "display_data",
          "data": {
            "text/plain": [
              "<IPython.core.display.HTML object>"
            ],
            "text/html": [
              "Syncing run <strong><a href=\"https://wandb.ai/vedmanivaidya/Transfer_learning/runs/2q6ayjw9\" target=\"_blank\">Xception_final</a></strong> to <a href=\"https://wandb.ai/vedmanivaidya/Transfer_learning\" target=\"_blank\">Weights & Biases</a> (<a href=\"https://wandb.me/run\" target=\"_blank\">docs</a>)<br/>"
            ]
          },
          "metadata": {}
        },
        {
          "output_type": "execute_result",
          "data": {
            "text/html": [
              "<button onClick=\"this.nextSibling.style.display='block';this.style.display='none';\">Display W&B run</button><iframe src=\"https://wandb.ai/vedmanivaidya/Transfer_learning/runs/2q6ayjw9?jupyter=true\" style=\"border:none;width:100%;height:420px;display:none;\"></iframe>"
            ],
            "text/plain": [
              "<wandb.sdk.wandb_run.Run at 0x7f27f4791fd0>"
            ]
          },
          "metadata": {},
          "execution_count": 8
        }
      ]
    },
    {
      "cell_type": "code",
      "source": [
        "%%time\n",
        "epochs=40\n",
        "history = model_xception.fit(\n",
        "  train_ds,\n",
        "  validation_data=val_ds,\n",
        "  epochs=epochs,\n",
        "callbacks=[WandbCallback()]\n",
        ")"
      ],
      "metadata": {
        "colab": {
          "base_uri": "https://localhost:8080/"
        },
        "id": "yQ50kAkQEOBS",
        "outputId": "5d709e69-0a9b-4086-94f6-2d67659e2914"
      },
      "execution_count": 9,
      "outputs": [
        {
          "output_type": "stream",
          "name": "stderr",
          "text": [
            "\u001b[34m\u001b[1mwandb\u001b[0m: \u001b[33mWARNING\u001b[0m The save_model argument by default saves the model in the HDF5 format that cannot save custom objects like subclassed models and custom layers. This behavior will be deprecated in a future release in favor of the SavedModel format. Meanwhile, the HDF5 model is saved as W&B files and the SavedModel as W&B Artifacts.\n"
          ]
        },
        {
          "output_type": "stream",
          "name": "stdout",
          "text": [
            "Epoch 1/40\n",
            "19/19 [==============================] - ETA: 0s - loss: 0.9153 - accuracy: 0.8209"
          ]
        },
        {
          "output_type": "stream",
          "name": "stderr",
          "text": [
            "WARNING:absl:Found untraced functions such as _jit_compiled_convolution_op, _jit_compiled_convolution_op, _jit_compiled_convolution_op, _jit_compiled_convolution_op, _jit_compiled_convolution_op while saving (showing 5 of 40). These functions will not be directly callable after loading.\n",
            "\u001b[34m\u001b[1mwandb\u001b[0m: Adding directory to artifact (/content/wandb/run-20221018_075901-2q6ayjw9/files/model-best)... Done. 1.0s\n"
          ]
        },
        {
          "output_type": "stream",
          "name": "stdout",
          "text": [
            "\b\b\b\b\b\b\b\b\b\b\b\b\b\b\b\b\b\b\b\b\b\b\b\b\b\b\b\b\b\b\b\b\b\b\b\b\b\b\b\b\b\b\b\b\b\b\b\b\b\b\b\b\b\b\b\b\b\b\b\b\b\b\b\b\b\b\b\b\b\b\b\b\b\b\b\b\b\b\b\b\b\b\r19/19 [==============================] - 199s 6s/step - loss: 0.9153 - accuracy: 0.8209 - val_loss: 0.2296 - val_accuracy: 0.9595\n",
            "Epoch 2/40\n",
            "19/19 [==============================] - ETA: 0s - loss: 0.0519 - accuracy: 0.9899"
          ]
        },
        {
          "output_type": "stream",
          "name": "stderr",
          "text": [
            "WARNING:absl:Found untraced functions such as _jit_compiled_convolution_op, _jit_compiled_convolution_op, _jit_compiled_convolution_op, _jit_compiled_convolution_op, _jit_compiled_convolution_op while saving (showing 5 of 40). These functions will not be directly callable after loading.\n",
            "\u001b[34m\u001b[1mwandb\u001b[0m: Adding directory to artifact (/content/wandb/run-20221018_075901-2q6ayjw9/files/model-best)... Done. 1.0s\n"
          ]
        },
        {
          "output_type": "stream",
          "name": "stdout",
          "text": [
            "\b\b\b\b\b\b\b\b\b\b\b\b\b\b\b\b\b\b\b\b\b\b\b\b\b\b\b\b\b\b\b\b\b\b\b\b\b\b\b\b\b\b\b\b\b\b\b\b\b\b\b\b\b\b\b\b\b\b\b\b\b\b\b\b\b\b\b\b\b\b\b\b\b\b\b\b\b\b\b\b\b\b\r19/19 [==============================] - 22s 1s/step - loss: 0.0519 - accuracy: 0.9899 - val_loss: 0.1157 - val_accuracy: 0.9797\n",
            "Epoch 3/40\n",
            "19/19 [==============================] - 4s 184ms/step - loss: 0.0068 - accuracy: 0.9983 - val_loss: 0.1549 - val_accuracy: 0.9797\n",
            "Epoch 4/40\n",
            "19/19 [==============================] - 4s 184ms/step - loss: 0.0013 - accuracy: 1.0000 - val_loss: 0.1668 - val_accuracy: 0.9730\n",
            "Epoch 5/40\n",
            "19/19 [==============================] - 4s 186ms/step - loss: 2.8748e-04 - accuracy: 1.0000 - val_loss: 0.1504 - val_accuracy: 0.9797\n",
            "Epoch 6/40\n",
            "19/19 [==============================] - 4s 185ms/step - loss: 1.8465e-04 - accuracy: 1.0000 - val_loss: 0.1442 - val_accuracy: 0.9865\n",
            "Epoch 7/40\n",
            "19/19 [==============================] - 4s 185ms/step - loss: 1.4852e-04 - accuracy: 1.0000 - val_loss: 0.1423 - val_accuracy: 0.9865\n",
            "Epoch 8/40\n",
            "19/19 [==============================] - 4s 187ms/step - loss: 1.3042e-04 - accuracy: 1.0000 - val_loss: 0.1407 - val_accuracy: 0.9865\n",
            "Epoch 9/40\n",
            "19/19 [==============================] - 4s 188ms/step - loss: 1.1857e-04 - accuracy: 1.0000 - val_loss: 0.1394 - val_accuracy: 0.9865\n",
            "Epoch 10/40\n",
            "19/19 [==============================] - 4s 189ms/step - loss: 1.0842e-04 - accuracy: 1.0000 - val_loss: 0.1385 - val_accuracy: 0.9865\n",
            "Epoch 11/40\n",
            "19/19 [==============================] - 4s 191ms/step - loss: 1.0006e-04 - accuracy: 1.0000 - val_loss: 0.1372 - val_accuracy: 0.9865\n",
            "Epoch 12/40\n",
            "19/19 [==============================] - 4s 193ms/step - loss: 9.3072e-05 - accuracy: 1.0000 - val_loss: 0.1371 - val_accuracy: 0.9865\n",
            "Epoch 13/40\n",
            "19/19 [==============================] - 4s 194ms/step - loss: 8.6123e-05 - accuracy: 1.0000 - val_loss: 0.1363 - val_accuracy: 0.9865\n",
            "Epoch 14/40\n",
            "19/19 [==============================] - 4s 196ms/step - loss: 8.1272e-05 - accuracy: 1.0000 - val_loss: 0.1363 - val_accuracy: 0.9865\n",
            "Epoch 15/40\n",
            "19/19 [==============================] - 4s 195ms/step - loss: 7.5973e-05 - accuracy: 1.0000 - val_loss: 0.1355 - val_accuracy: 0.9865\n",
            "Epoch 16/40\n",
            "19/19 [==============================] - 4s 195ms/step - loss: 7.1182e-05 - accuracy: 1.0000 - val_loss: 0.1352 - val_accuracy: 0.9865\n",
            "Epoch 17/40\n",
            "19/19 [==============================] - 4s 195ms/step - loss: 6.7547e-05 - accuracy: 1.0000 - val_loss: 0.1350 - val_accuracy: 0.9865\n",
            "Epoch 18/40\n",
            "19/19 [==============================] - 4s 195ms/step - loss: 6.4100e-05 - accuracy: 1.0000 - val_loss: 0.1345 - val_accuracy: 0.9865\n",
            "Epoch 19/40\n",
            "19/19 [==============================] - 4s 193ms/step - loss: 6.0731e-05 - accuracy: 1.0000 - val_loss: 0.1341 - val_accuracy: 0.9865\n",
            "Epoch 20/40\n",
            "19/19 [==============================] - 4s 192ms/step - loss: 5.7706e-05 - accuracy: 1.0000 - val_loss: 0.1340 - val_accuracy: 0.9865\n",
            "Epoch 21/40\n",
            "19/19 [==============================] - 4s 191ms/step - loss: 5.4976e-05 - accuracy: 1.0000 - val_loss: 0.1338 - val_accuracy: 0.9865\n",
            "Epoch 22/40\n",
            "19/19 [==============================] - 4s 191ms/step - loss: 5.2689e-05 - accuracy: 1.0000 - val_loss: 0.1336 - val_accuracy: 0.9865\n",
            "Epoch 23/40\n",
            "19/19 [==============================] - 4s 189ms/step - loss: 5.0161e-05 - accuracy: 1.0000 - val_loss: 0.1332 - val_accuracy: 0.9865\n",
            "Epoch 24/40\n",
            "19/19 [==============================] - 4s 191ms/step - loss: 4.8130e-05 - accuracy: 1.0000 - val_loss: 0.1330 - val_accuracy: 0.9865\n",
            "Epoch 25/40\n",
            "19/19 [==============================] - 4s 191ms/step - loss: 4.5909e-05 - accuracy: 1.0000 - val_loss: 0.1325 - val_accuracy: 0.9865\n",
            "Epoch 26/40\n",
            "19/19 [==============================] - 4s 191ms/step - loss: 4.4172e-05 - accuracy: 1.0000 - val_loss: 0.1322 - val_accuracy: 0.9865\n",
            "Epoch 27/40\n",
            "19/19 [==============================] - 4s 191ms/step - loss: 4.2355e-05 - accuracy: 1.0000 - val_loss: 0.1319 - val_accuracy: 0.9865\n",
            "Epoch 28/40\n",
            "19/19 [==============================] - 4s 189ms/step - loss: 4.0809e-05 - accuracy: 1.0000 - val_loss: 0.1315 - val_accuracy: 0.9865\n",
            "Epoch 29/40\n",
            "19/19 [==============================] - 4s 191ms/step - loss: 3.8765e-05 - accuracy: 1.0000 - val_loss: 0.1318 - val_accuracy: 0.9865\n",
            "Epoch 30/40\n",
            "19/19 [==============================] - 4s 192ms/step - loss: 3.7643e-05 - accuracy: 1.0000 - val_loss: 0.1314 - val_accuracy: 0.9865\n",
            "Epoch 31/40\n",
            "19/19 [==============================] - 4s 191ms/step - loss: 3.6141e-05 - accuracy: 1.0000 - val_loss: 0.1313 - val_accuracy: 0.9865\n",
            "Epoch 32/40\n",
            "19/19 [==============================] - 4s 191ms/step - loss: 3.4947e-05 - accuracy: 1.0000 - val_loss: 0.1309 - val_accuracy: 0.9865\n",
            "Epoch 33/40\n",
            "19/19 [==============================] - 4s 192ms/step - loss: 3.3750e-05 - accuracy: 1.0000 - val_loss: 0.1305 - val_accuracy: 0.9865\n",
            "Epoch 34/40\n",
            "19/19 [==============================] - 4s 192ms/step - loss: 3.2647e-05 - accuracy: 1.0000 - val_loss: 0.1306 - val_accuracy: 0.9865\n",
            "Epoch 35/40\n",
            "19/19 [==============================] - 4s 193ms/step - loss: 3.1628e-05 - accuracy: 1.0000 - val_loss: 0.1304 - val_accuracy: 0.9865\n",
            "Epoch 36/40\n",
            "19/19 [==============================] - 4s 192ms/step - loss: 3.0499e-05 - accuracy: 1.0000 - val_loss: 0.1303 - val_accuracy: 0.9865\n",
            "Epoch 37/40\n",
            "19/19 [==============================] - 4s 193ms/step - loss: 2.9572e-05 - accuracy: 1.0000 - val_loss: 0.1303 - val_accuracy: 0.9865\n",
            "Epoch 38/40\n",
            "19/19 [==============================] - 4s 192ms/step - loss: 2.8549e-05 - accuracy: 1.0000 - val_loss: 0.1301 - val_accuracy: 0.9865\n",
            "Epoch 39/40\n",
            "19/19 [==============================] - 4s 192ms/step - loss: 2.7714e-05 - accuracy: 1.0000 - val_loss: 0.1299 - val_accuracy: 0.9865\n",
            "Epoch 40/40\n",
            "19/19 [==============================] - 5s 213ms/step - loss: 2.6910e-05 - accuracy: 1.0000 - val_loss: 0.1297 - val_accuracy: 0.9865\n",
            "CPU times: user 1min 50s, sys: 27.3 s, total: 2min 17s\n",
            "Wall time: 6min 35s\n"
          ]
        }
      ]
    },
    {
      "cell_type": "code",
      "source": [
        "wandb.finish()"
      ],
      "metadata": {
        "colab": {
          "base_uri": "https://localhost:8080/",
          "height": 397,
          "referenced_widgets": [
            "f30cd5e88d4349138775141e8503118c",
            "c1f0a93f83944040928ee16df3d143da",
            "731edf4733e340c2ac616eca8e08094e",
            "1a71d4bc3de44e3a8a2276cbb008e303",
            "86110bbfba4749499cc35080e44d9cee",
            "1502af6e15cf4d3e85c5d4f8e06072f3",
            "3bd16589d8c747ca924d985c221ec6b5",
            "c3a1ff88d2014454a27a53b2145da9c9"
          ]
        },
        "id": "WaZ2tnFeETsF",
        "outputId": "caf158d5-229c-4a38-9da3-bb14e8cd2078"
      },
      "execution_count": 10,
      "outputs": [
        {
          "output_type": "display_data",
          "data": {
            "text/plain": [
              "<IPython.core.display.HTML object>"
            ],
            "text/html": [
              "Waiting for W&B process to finish... <strong style=\"color:green\">(success).</strong>"
            ]
          },
          "metadata": {}
        },
        {
          "output_type": "display_data",
          "data": {
            "text/plain": [
              "VBox(children=(Label(value='239.010 MB of 355.624 MB uploaded (0.458 MB deduped)\\r'), FloatProgress(value=0.67…"
            ],
            "application/vnd.jupyter.widget-view+json": {
              "version_major": 2,
              "version_minor": 0,
              "model_id": "f30cd5e88d4349138775141e8503118c"
            }
          },
          "metadata": {}
        },
        {
          "output_type": "display_data",
          "data": {
            "text/plain": [
              "<IPython.core.display.HTML object>"
            ],
            "text/html": [
              "<style>\n",
              "    table.wandb td:nth-child(1) { padding: 0 10px; text-align: left ; width: auto;} td:nth-child(2) {text-align: left ; width: 100%}\n",
              "    .wandb-row { display: flex; flex-direction: row; flex-wrap: wrap; justify-content: flex-start; width: 100% }\n",
              "    .wandb-col { display: flex; flex-direction: column; flex-basis: 100%; flex: 1; padding: 10px; }\n",
              "    </style>\n",
              "<div class=\"wandb-row\"><div class=\"wandb-col\"><h3>Run history:</h3><br/><table class=\"wandb\"><tr><td>accuracy</td><td>▁███████████████████████████████████████</td></tr><tr><td>epoch</td><td>▁▁▁▂▂▂▂▂▂▃▃▃▃▃▄▄▄▄▄▄▅▅▅▅▅▅▆▆▆▆▆▇▇▇▇▇▇███</td></tr><tr><td>loss</td><td>█▁▁▁▁▁▁▁▁▁▁▁▁▁▁▁▁▁▁▁▁▁▁▁▁▁▁▁▁▁▁▁▁▁▁▁▁▁▁▁</td></tr><tr><td>val_accuracy</td><td>▁▆▆▅▆███████████████████████████████████</td></tr><tr><td>val_loss</td><td>█▁▃▄▃▃▃▃▂▂▂▂▂▂▂▂▂▂▂▂▂▂▂▂▂▂▂▂▂▂▂▂▂▂▂▂▂▂▂▂</td></tr></table><br/></div><div class=\"wandb-col\"><h3>Run summary:</h3><br/><table class=\"wandb\"><tr><td>accuracy</td><td>1.0</td></tr><tr><td>best_epoch</td><td>1</td></tr><tr><td>best_val_loss</td><td>0.11572</td></tr><tr><td>epoch</td><td>39</td></tr><tr><td>loss</td><td>3e-05</td></tr><tr><td>val_accuracy</td><td>0.98649</td></tr><tr><td>val_loss</td><td>0.12966</td></tr></table><br/></div></div>"
            ]
          },
          "metadata": {}
        },
        {
          "output_type": "display_data",
          "data": {
            "text/plain": [
              "<IPython.core.display.HTML object>"
            ],
            "text/html": [
              "Synced <strong style=\"color:#cdcd00\">Xception_final</strong>: <a href=\"https://wandb.ai/vedmanivaidya/Transfer_learning/runs/2q6ayjw9\" target=\"_blank\">https://wandb.ai/vedmanivaidya/Transfer_learning/runs/2q6ayjw9</a><br/>Synced 5 W&B file(s), 1 media file(s), 7 artifact file(s) and 1 other file(s)"
            ]
          },
          "metadata": {}
        },
        {
          "output_type": "display_data",
          "data": {
            "text/plain": [
              "<IPython.core.display.HTML object>"
            ],
            "text/html": [
              "Find logs at: <code>./wandb/run-20221018_075901-2q6ayjw9/logs</code>"
            ]
          },
          "metadata": {}
        }
      ]
    }
  ],
  "metadata": {
    "kernelspec": {
      "display_name": "Python 3",
      "language": "python",
      "name": "python3"
    },
    "language_info": {
      "codemirror_mode": {
        "name": "ipython",
        "version": 2
      },
      "file_extension": ".py",
      "mimetype": "text/x-python",
      "name": "python",
      "nbconvert_exporter": "python",
      "pygments_lexer": "ipython2",
      "version": "2.7.6"
    },
    "colab": {
      "provenance": [],
      "include_colab_link": true
    },
    "accelerator": "GPU",
    "widgets": {
      "application/vnd.jupyter.widget-state+json": {
        "f30cd5e88d4349138775141e8503118c": {
          "model_module": "@jupyter-widgets/controls",
          "model_name": "VBoxModel",
          "model_module_version": "1.5.0",
          "state": {
            "_dom_classes": [],
            "_model_module": "@jupyter-widgets/controls",
            "_model_module_version": "1.5.0",
            "_model_name": "VBoxModel",
            "_view_count": null,
            "_view_module": "@jupyter-widgets/controls",
            "_view_module_version": "1.5.0",
            "_view_name": "VBoxView",
            "box_style": "",
            "children": [
              "IPY_MODEL_c1f0a93f83944040928ee16df3d143da",
              "IPY_MODEL_731edf4733e340c2ac616eca8e08094e"
            ],
            "layout": "IPY_MODEL_1a71d4bc3de44e3a8a2276cbb008e303"
          }
        },
        "c1f0a93f83944040928ee16df3d143da": {
          "model_module": "@jupyter-widgets/controls",
          "model_name": "LabelModel",
          "model_module_version": "1.5.0",
          "state": {
            "_dom_classes": [],
            "_model_module": "@jupyter-widgets/controls",
            "_model_module_version": "1.5.0",
            "_model_name": "LabelModel",
            "_view_count": null,
            "_view_module": "@jupyter-widgets/controls",
            "_view_module_version": "1.5.0",
            "_view_name": "LabelView",
            "description": "",
            "description_tooltip": null,
            "layout": "IPY_MODEL_86110bbfba4749499cc35080e44d9cee",
            "placeholder": "​",
            "style": "IPY_MODEL_1502af6e15cf4d3e85c5d4f8e06072f3",
            "value": "355.624 MB of 355.624 MB uploaded (0.458 MB deduped)\r"
          }
        },
        "731edf4733e340c2ac616eca8e08094e": {
          "model_module": "@jupyter-widgets/controls",
          "model_name": "FloatProgressModel",
          "model_module_version": "1.5.0",
          "state": {
            "_dom_classes": [],
            "_model_module": "@jupyter-widgets/controls",
            "_model_module_version": "1.5.0",
            "_model_name": "FloatProgressModel",
            "_view_count": null,
            "_view_module": "@jupyter-widgets/controls",
            "_view_module_version": "1.5.0",
            "_view_name": "ProgressView",
            "bar_style": "",
            "description": "",
            "description_tooltip": null,
            "layout": "IPY_MODEL_3bd16589d8c747ca924d985c221ec6b5",
            "max": 1,
            "min": 0,
            "orientation": "horizontal",
            "style": "IPY_MODEL_c3a1ff88d2014454a27a53b2145da9c9",
            "value": 1
          }
        },
        "1a71d4bc3de44e3a8a2276cbb008e303": {
          "model_module": "@jupyter-widgets/base",
          "model_name": "LayoutModel",
          "model_module_version": "1.2.0",
          "state": {
            "_model_module": "@jupyter-widgets/base",
            "_model_module_version": "1.2.0",
            "_model_name": "LayoutModel",
            "_view_count": null,
            "_view_module": "@jupyter-widgets/base",
            "_view_module_version": "1.2.0",
            "_view_name": "LayoutView",
            "align_content": null,
            "align_items": null,
            "align_self": null,
            "border": null,
            "bottom": null,
            "display": null,
            "flex": null,
            "flex_flow": null,
            "grid_area": null,
            "grid_auto_columns": null,
            "grid_auto_flow": null,
            "grid_auto_rows": null,
            "grid_column": null,
            "grid_gap": null,
            "grid_row": null,
            "grid_template_areas": null,
            "grid_template_columns": null,
            "grid_template_rows": null,
            "height": null,
            "justify_content": null,
            "justify_items": null,
            "left": null,
            "margin": null,
            "max_height": null,
            "max_width": null,
            "min_height": null,
            "min_width": null,
            "object_fit": null,
            "object_position": null,
            "order": null,
            "overflow": null,
            "overflow_x": null,
            "overflow_y": null,
            "padding": null,
            "right": null,
            "top": null,
            "visibility": null,
            "width": null
          }
        },
        "86110bbfba4749499cc35080e44d9cee": {
          "model_module": "@jupyter-widgets/base",
          "model_name": "LayoutModel",
          "model_module_version": "1.2.0",
          "state": {
            "_model_module": "@jupyter-widgets/base",
            "_model_module_version": "1.2.0",
            "_model_name": "LayoutModel",
            "_view_count": null,
            "_view_module": "@jupyter-widgets/base",
            "_view_module_version": "1.2.0",
            "_view_name": "LayoutView",
            "align_content": null,
            "align_items": null,
            "align_self": null,
            "border": null,
            "bottom": null,
            "display": null,
            "flex": null,
            "flex_flow": null,
            "grid_area": null,
            "grid_auto_columns": null,
            "grid_auto_flow": null,
            "grid_auto_rows": null,
            "grid_column": null,
            "grid_gap": null,
            "grid_row": null,
            "grid_template_areas": null,
            "grid_template_columns": null,
            "grid_template_rows": null,
            "height": null,
            "justify_content": null,
            "justify_items": null,
            "left": null,
            "margin": null,
            "max_height": null,
            "max_width": null,
            "min_height": null,
            "min_width": null,
            "object_fit": null,
            "object_position": null,
            "order": null,
            "overflow": null,
            "overflow_x": null,
            "overflow_y": null,
            "padding": null,
            "right": null,
            "top": null,
            "visibility": null,
            "width": null
          }
        },
        "1502af6e15cf4d3e85c5d4f8e06072f3": {
          "model_module": "@jupyter-widgets/controls",
          "model_name": "DescriptionStyleModel",
          "model_module_version": "1.5.0",
          "state": {
            "_model_module": "@jupyter-widgets/controls",
            "_model_module_version": "1.5.0",
            "_model_name": "DescriptionStyleModel",
            "_view_count": null,
            "_view_module": "@jupyter-widgets/base",
            "_view_module_version": "1.2.0",
            "_view_name": "StyleView",
            "description_width": ""
          }
        },
        "3bd16589d8c747ca924d985c221ec6b5": {
          "model_module": "@jupyter-widgets/base",
          "model_name": "LayoutModel",
          "model_module_version": "1.2.0",
          "state": {
            "_model_module": "@jupyter-widgets/base",
            "_model_module_version": "1.2.0",
            "_model_name": "LayoutModel",
            "_view_count": null,
            "_view_module": "@jupyter-widgets/base",
            "_view_module_version": "1.2.0",
            "_view_name": "LayoutView",
            "align_content": null,
            "align_items": null,
            "align_self": null,
            "border": null,
            "bottom": null,
            "display": null,
            "flex": null,
            "flex_flow": null,
            "grid_area": null,
            "grid_auto_columns": null,
            "grid_auto_flow": null,
            "grid_auto_rows": null,
            "grid_column": null,
            "grid_gap": null,
            "grid_row": null,
            "grid_template_areas": null,
            "grid_template_columns": null,
            "grid_template_rows": null,
            "height": null,
            "justify_content": null,
            "justify_items": null,
            "left": null,
            "margin": null,
            "max_height": null,
            "max_width": null,
            "min_height": null,
            "min_width": null,
            "object_fit": null,
            "object_position": null,
            "order": null,
            "overflow": null,
            "overflow_x": null,
            "overflow_y": null,
            "padding": null,
            "right": null,
            "top": null,
            "visibility": null,
            "width": null
          }
        },
        "c3a1ff88d2014454a27a53b2145da9c9": {
          "model_module": "@jupyter-widgets/controls",
          "model_name": "ProgressStyleModel",
          "model_module_version": "1.5.0",
          "state": {
            "_model_module": "@jupyter-widgets/controls",
            "_model_module_version": "1.5.0",
            "_model_name": "ProgressStyleModel",
            "_view_count": null,
            "_view_module": "@jupyter-widgets/base",
            "_view_module_version": "1.2.0",
            "_view_name": "StyleView",
            "bar_color": null,
            "description_width": ""
          }
        }
      }
    }
  },
  "nbformat": 4,
  "nbformat_minor": 0
}