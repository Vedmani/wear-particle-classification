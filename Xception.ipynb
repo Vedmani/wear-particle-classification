{
  "cells": [
    {
      "cell_type": "markdown",
      "metadata": {
        "id": "view-in-github",
        "colab_type": "text"
      },
      "source": [
        "<a href=\"https://colab.research.google.com/github/Vedmani/wear-particle-classification/blob/main/Xception.ipynb\" target=\"_parent\"><img src=\"https://colab.research.google.com/assets/colab-badge.svg\" alt=\"Open In Colab\"/></a>"
      ]
    },
    {
      "cell_type": "code",
      "source": [
        "from google.colab import drive\n",
        "drive.mount('/content/drive')"
      ],
      "metadata": {
        "colab": {
          "base_uri": "https://localhost:8080/"
        },
        "id": "hZxsQnPoFFCQ",
        "outputId": "4cd53019-36c2-421c-e306-67f0c99efb6c"
      },
      "execution_count": 1,
      "outputs": [
        {
          "output_type": "stream",
          "name": "stdout",
          "text": [
            "Mounted at /content/drive\n"
          ]
        }
      ]
    },
    {
      "cell_type": "code",
      "execution_count": 2,
      "outputs": [
        {
          "output_type": "stream",
          "name": "stdout",
          "text": [
            "\u001b[K     |████████████████████████████████| 1.9 MB 7.7 MB/s \n",
            "\u001b[K     |████████████████████████████████| 166 kB 64.5 MB/s \n",
            "\u001b[K     |████████████████████████████████| 182 kB 48.8 MB/s \n",
            "\u001b[K     |████████████████████████████████| 63 kB 1.8 MB/s \n",
            "\u001b[K     |████████████████████████████████| 166 kB 50.0 MB/s \n",
            "\u001b[K     |████████████████████████████████| 162 kB 66.6 MB/s \n",
            "\u001b[K     |████████████████████████████████| 162 kB 70.4 MB/s \n",
            "\u001b[K     |████████████████████████████████| 158 kB 72.3 MB/s \n",
            "\u001b[K     |████████████████████████████████| 157 kB 64.1 MB/s \n",
            "\u001b[K     |████████████████████████████████| 157 kB 72.8 MB/s \n",
            "\u001b[K     |████████████████████████████████| 157 kB 76.9 MB/s \n",
            "\u001b[K     |████████████████████████████████| 157 kB 70.6 MB/s \n",
            "\u001b[K     |████████████████████████████████| 157 kB 74.4 MB/s \n",
            "\u001b[K     |████████████████████████████████| 157 kB 77.1 MB/s \n",
            "\u001b[K     |████████████████████████████████| 157 kB 68.6 MB/s \n",
            "\u001b[K     |████████████████████████████████| 156 kB 72.3 MB/s \n",
            "\u001b[?25h  Building wheel for pathtools (setup.py) ... \u001b[?25l\u001b[?25hdone\n",
            "\u001b[34m\u001b[1mwandb\u001b[0m: Logging into wandb.ai. (Learn how to deploy a W&B server locally: https://wandb.me/wandb-server)\n",
            "\u001b[34m\u001b[1mwandb\u001b[0m: You can find your API key in your browser here: https://wandb.ai/authorize\n",
            "\u001b[34m\u001b[1mwandb\u001b[0m: Paste an API key from your profile and hit enter, or press ctrl+c to quit: \n",
            "\u001b[34m\u001b[1mwandb\u001b[0m: Appending key for api.wandb.ai to your netrc file: /root/.netrc\n"
          ]
        }
      ],
      "source": [
        "!pip install wandb -qU\n",
        "!wandb login"
      ],
      "metadata": {
        "pycharm": {
          "name": "#%%\n"
        },
        "colab": {
          "base_uri": "https://localhost:8080/"
        },
        "id": "nzVPsk5i2f6k",
        "outputId": "2393980c-2e6c-4895-e26b-c1993fd4002d"
      }
    },
    {
      "cell_type": "code",
      "execution_count": 3,
      "outputs": [],
      "source": [
        "import tensorflow as tf\n",
        "from tensorflow import keras\n",
        "from tensorflow.keras import layers\n",
        "from tensorflow.keras.models import Sequential\n",
        "import wandb\n",
        "from wandb.keras import WandbCallback"
      ],
      "metadata": {
        "pycharm": {
          "name": "#%%\n"
        },
        "id": "acoOtOXx2f6z"
      }
    },
    {
      "cell_type": "code",
      "execution_count": 4,
      "outputs": [],
      "source": [
        "tf.keras.utils.set_random_seed(1)\n",
        "tf.config.experimental.enable_op_determinism()"
      ],
      "metadata": {
        "pycharm": {
          "name": "#%%\n"
        },
        "id": "vhcPFfST2f62"
      }
    },
    {
      "cell_type": "code",
      "source": [
        "PATH = '/content/drive/MyDrive/Research Internship/final data/wear particles/Train'\n",
        "test_path = '/content/drive/MyDrive/Research Internship/final data/wear particles/Test'\n",
        "batch_size = 32\n",
        "img_height = 224\n",
        "img_width = 224"
      ],
      "metadata": {
        "id": "ppr2KqlHbr-t"
      },
      "execution_count": 5,
      "outputs": []
    },
    {
      "cell_type": "code",
      "source": [
        "train_ds = tf.keras.utils.image_dataset_from_directory(\n",
        "  PATH,\n",
        "  validation_split=0.2,\n",
        "  subset=\"training\",\n",
        "  seed=42,\n",
        "  image_size=(img_height, img_width),\n",
        "  batch_size=batch_size)\n",
        "\n",
        "val_ds = tf.keras.utils.image_dataset_from_directory(\n",
        "  PATH,\n",
        "  validation_split=0.2,\n",
        "  subset=\"validation\",\n",
        "  seed=42,\n",
        "  image_size=(img_height, img_width),\n",
        "  batch_size=batch_size)\n",
        "\n",
        "test_ds = tf.keras.utils.image_dataset_from_directory(\n",
        "  test_path,\n",
        "  seed = 42,\n",
        "  image_size=(img_height, img_width))"
      ],
      "metadata": {
        "colab": {
          "base_uri": "https://localhost:8080/"
        },
        "id": "CiW-AljoCyRN",
        "outputId": "0b509cb7-c11e-4d11-bab6-287ab78f8378"
      },
      "execution_count": 6,
      "outputs": [
        {
          "output_type": "stream",
          "name": "stdout",
          "text": [
            "Found 879 files belonging to 5 classes.\n",
            "Using 704 files for training.\n",
            "Found 879 files belonging to 5 classes.\n",
            "Using 175 files for validation.\n",
            "Found 94 files belonging to 5 classes.\n"
          ]
        }
      ]
    },
    {
      "cell_type": "code",
      "source": [
        "class_names = train_ds.class_names\n",
        "test_class_names = test_ds.class_names\n",
        "class_names == test_class_names\n",
        "print(class_names)\n",
        "num_classes = len(class_names)"
      ],
      "metadata": {
        "colab": {
          "base_uri": "https://localhost:8080/"
        },
        "id": "qWg6EYLNc9X7",
        "outputId": "48967817-1787-4dfb-a951-cb17c5fb2916"
      },
      "execution_count": 11,
      "outputs": [
        {
          "output_type": "stream",
          "name": "stdout",
          "text": [
            "['cutting wear', 'normal rubbing and cutting wear combined', 'normal rubbing wear', 'red oxide', 'severe sliding wear']\n"
          ]
        }
      ]
    },
    {
      "cell_type": "code",
      "source": [
        "xception = tf.keras.applications.Xception(\n",
        "    include_top=False,\n",
        "    weights=\"imagenet\",\n",
        "    input_tensor=None,\n",
        "    input_shape=None,\n",
        "    pooling=None)\n",
        "data_augmentation = tf.keras.Sequential([layers.RandomFlip(\"horizontal_and_vertical\"),layers.RandomRotation(0.2),])\n",
        "model_xception=Sequential([\n",
        "  layers.Rescaling(1./255, input_shape=(img_height, img_width, 3)),\n",
        "  xception,\n",
        "  layers.Flatten(),\n",
        "  layers.Dense(32, activation='relu'),\n",
        "  layers.Dropout(0.2), \n",
        "  layers.Dense(num_classes, activation='softmax')\n",
        "])\n",
        "xception.trainable=False\n",
        "model_xception.summary()"
      ],
      "metadata": {
        "colab": {
          "base_uri": "https://localhost:8080/"
        },
        "id": "qTLja-HJCy79",
        "outputId": "cb3c1017-0e68-43d8-c6b2-ca4bbecd94d5"
      },
      "execution_count": 12,
      "outputs": [
        {
          "output_type": "stream",
          "name": "stdout",
          "text": [
            "Model: \"sequential_4\"\n",
            "_________________________________________________________________\n",
            " Layer (type)                Output Shape              Param #   \n",
            "=================================================================\n",
            " rescaling_3 (Rescaling)     (None, 224, 224, 3)       0         \n",
            "                                                                 \n",
            " xception (Functional)       (None, None, None, 2048)  20861480  \n",
            "                                                                 \n",
            " flatten_3 (Flatten)         (None, 100352)            0         \n",
            "                                                                 \n",
            " dense_3 (Dense)             (None, 32)                3211296   \n",
            "                                                                 \n",
            " dropout_3 (Dropout)         (None, 32)                0         \n",
            "                                                                 \n",
            " dense_4 (Dense)             (None, 5)                 165       \n",
            "                                                                 \n",
            "=================================================================\n",
            "Total params: 24,072,941\n",
            "Trainable params: 3,211,461\n",
            "Non-trainable params: 20,861,480\n",
            "_________________________________________________________________\n"
          ]
        }
      ]
    },
    {
      "cell_type": "code",
      "source": [
        "model_xception.compile(\n",
        "              optimizer= tf.keras.optimizers.Adam(learning_rate=0.001, beta_1=0.9, beta_2=0.999, epsilon=1e-07, amsgrad=False, name='Adam'),\n",
        "              loss=tf.keras.losses.SparseCategoricalCrossentropy(from_logits=False),\n",
        "              metrics=['accuracy']\n",
        "              )"
      ],
      "metadata": {
        "id": "UKCoWlAWD1XP"
      },
      "execution_count": 13,
      "outputs": []
    },
    {
      "cell_type": "code",
      "source": [
        "wandb.init(\n",
        "      # Set the project where this run will be logged\n",
        "      project=\"Transfer_Learning_New\", \n",
        "      name = \"Xception\",\n",
        ")"
      ],
      "metadata": {
        "colab": {
          "base_uri": "https://localhost:8080/",
          "height": 125
        },
        "id": "v7gcv8AMD9Vv",
        "outputId": "6bf351c2-b3fa-47f8-cd9e-5d0caeac322a"
      },
      "execution_count": 14,
      "outputs": [
        {
          "output_type": "stream",
          "name": "stderr",
          "text": [
            "ERROR:wandb.jupyter:Failed to detect the name of this notebook, you can set it manually with the WANDB_NOTEBOOK_NAME environment variable to enable code saving.\n",
            "\u001b[34m\u001b[1mwandb\u001b[0m: Currently logged in as: \u001b[33mvedmanivaidya\u001b[0m. Use \u001b[1m`wandb login --relogin`\u001b[0m to force relogin\n"
          ]
        },
        {
          "output_type": "display_data",
          "data": {
            "text/plain": [
              "<IPython.core.display.HTML object>"
            ],
            "text/html": [
              "Tracking run with wandb version 0.13.5"
            ]
          },
          "metadata": {}
        },
        {
          "output_type": "display_data",
          "data": {
            "text/plain": [
              "<IPython.core.display.HTML object>"
            ],
            "text/html": [
              "Run data is saved locally in <code>/content/wandb/run-20221104_114436-3kwa6ehy</code>"
            ]
          },
          "metadata": {}
        },
        {
          "output_type": "display_data",
          "data": {
            "text/plain": [
              "<IPython.core.display.HTML object>"
            ],
            "text/html": [
              "Syncing run <strong><a href=\"https://wandb.ai/vedmanivaidya/Transfer_Learning_New/runs/3kwa6ehy\" target=\"_blank\">Xception</a></strong> to <a href=\"https://wandb.ai/vedmanivaidya/Transfer_Learning_New\" target=\"_blank\">Weights & Biases</a> (<a href=\"https://wandb.me/run\" target=\"_blank\">docs</a>)<br/>"
            ]
          },
          "metadata": {}
        },
        {
          "output_type": "execute_result",
          "data": {
            "text/html": [
              "<button onClick=\"this.nextSibling.style.display='block';this.style.display='none';\">Display W&B run</button><iframe src=\"https://wandb.ai/vedmanivaidya/Transfer_Learning_New/runs/3kwa6ehy?jupyter=true\" style=\"border:none;width:100%;height:420px;display:none;\"></iframe>"
            ],
            "text/plain": [
              "<wandb.sdk.wandb_run.Run at 0x7fabc627bf10>"
            ]
          },
          "metadata": {},
          "execution_count": 14
        }
      ]
    },
    {
      "cell_type": "code",
      "source": [
        "%%time\n",
        "epochs=40\n",
        "history = model_xception.fit(\n",
        "  train_ds,\n",
        "  validation_data=val_ds,\n",
        "  epochs=epochs,\n",
        "callbacks=[WandbCallback()]\n",
        ")"
      ],
      "metadata": {
        "colab": {
          "base_uri": "https://localhost:8080/"
        },
        "id": "yQ50kAkQEOBS",
        "outputId": "b5de4610-7e57-49eb-d4b4-b2f55c534481"
      },
      "execution_count": 15,
      "outputs": [
        {
          "output_type": "stream",
          "name": "stderr",
          "text": [
            "\u001b[34m\u001b[1mwandb\u001b[0m: \u001b[33mWARNING\u001b[0m The save_model argument by default saves the model in the HDF5 format that cannot save custom objects like subclassed models and custom layers. This behavior will be deprecated in a future release in favor of the SavedModel format. Meanwhile, the HDF5 model is saved as W&B files and the SavedModel as W&B Artifacts.\n"
          ]
        },
        {
          "output_type": "stream",
          "name": "stdout",
          "text": [
            "Epoch 1/40\n",
            "22/22 [==============================] - ETA: 0s - loss: 0.8185 - accuracy: 0.7614"
          ]
        },
        {
          "output_type": "stream",
          "name": "stderr",
          "text": [
            "WARNING:absl:Found untraced functions such as _jit_compiled_convolution_op, _jit_compiled_convolution_op, _jit_compiled_convolution_op, _jit_compiled_convolution_op, _jit_compiled_convolution_op while saving (showing 5 of 40). These functions will not be directly callable after loading.\n",
            "\u001b[34m\u001b[1mwandb\u001b[0m: Adding directory to artifact (/content/wandb/run-20221104_114436-3kwa6ehy/files/model-best)... Done. 1.1s\n"
          ]
        },
        {
          "output_type": "stream",
          "name": "stdout",
          "text": [
            "\b\b\b\b\b\b\b\b\b\b\b\b\b\b\b\b\b\b\b\b\b\b\b\b\b\b\b\b\b\b\b\b\b\b\b\b\b\b\b\b\b\b\b\b\b\b\b\b\b\b\b\b\b\b\b\b\b\b\b\b\b\b\b\b\b\b\b\b\b\b\b\b\b\b\b\b\b\b\b\b\b\b\r22/22 [==============================] - 166s 5s/step - loss: 0.8185 - accuracy: 0.7614 - val_loss: 0.2851 - val_accuracy: 0.8971\n",
            "Epoch 2/40\n",
            "22/22 [==============================] - ETA: 0s - loss: 0.2380 - accuracy: 0.9375"
          ]
        },
        {
          "output_type": "stream",
          "name": "stderr",
          "text": [
            "WARNING:absl:Found untraced functions such as _jit_compiled_convolution_op, _jit_compiled_convolution_op, _jit_compiled_convolution_op, _jit_compiled_convolution_op, _jit_compiled_convolution_op while saving (showing 5 of 40). These functions will not be directly callable after loading.\n",
            "\u001b[34m\u001b[1mwandb\u001b[0m: Adding directory to artifact (/content/wandb/run-20221104_114436-3kwa6ehy/files/model-best)... Done. 1.0s\n"
          ]
        },
        {
          "output_type": "stream",
          "name": "stdout",
          "text": [
            "\b\b\b\b\b\b\b\b\b\b\b\b\b\b\b\b\b\b\b\b\b\b\b\b\b\b\b\b\b\b\b\b\b\b\b\b\b\b\b\b\b\b\b\b\b\b\b\b\b\b\b\b\b\b\b\b\b\b\b\b\b\b\b\b\b\b\b\b\b\b\b\b\b\b\b\b\b\b\b\b\b\b\r22/22 [==============================] - 22s 1s/step - loss: 0.2380 - accuracy: 0.9375 - val_loss: 0.1323 - val_accuracy: 0.9429\n",
            "Epoch 3/40\n",
            "22/22 [==============================] - 5s 186ms/step - loss: 0.1621 - accuracy: 0.9574 - val_loss: 0.1653 - val_accuracy: 0.9486\n",
            "Epoch 4/40\n",
            "22/22 [==============================] - 5s 188ms/step - loss: 0.1114 - accuracy: 0.9631 - val_loss: 0.2405 - val_accuracy: 0.9200\n",
            "Epoch 5/40\n",
            "22/22 [==============================] - 5s 188ms/step - loss: 0.0782 - accuracy: 0.9673 - val_loss: 0.1824 - val_accuracy: 0.9486\n",
            "Epoch 6/40\n",
            "22/22 [==============================] - ETA: 0s - loss: 0.0740 - accuracy: 0.9787"
          ]
        },
        {
          "output_type": "stream",
          "name": "stderr",
          "text": [
            "WARNING:absl:Found untraced functions such as _jit_compiled_convolution_op, _jit_compiled_convolution_op, _jit_compiled_convolution_op, _jit_compiled_convolution_op, _jit_compiled_convolution_op while saving (showing 5 of 40). These functions will not be directly callable after loading.\n",
            "\u001b[34m\u001b[1mwandb\u001b[0m: Adding directory to artifact (/content/wandb/run-20221104_114436-3kwa6ehy/files/model-best)... Done. 1.0s\n"
          ]
        },
        {
          "output_type": "stream",
          "name": "stdout",
          "text": [
            "\b\b\b\b\b\b\b\b\b\b\b\b\b\b\b\b\b\b\b\b\b\b\b\b\b\b\b\b\b\b\b\b\b\b\b\b\b\b\b\b\b\b\b\b\b\b\b\b\b\b\b\b\b\b\b\b\b\b\b\b\b\b\b\b\b\b\b\b\b\b\b\b\b\b\b\b\b\b\b\b\b\b\r22/22 [==============================] - 22s 1s/step - loss: 0.0740 - accuracy: 0.9787 - val_loss: 0.1007 - val_accuracy: 0.9429\n",
            "Epoch 7/40\n",
            "22/22 [==============================] - ETA: 0s - loss: 0.0795 - accuracy: 0.9759"
          ]
        },
        {
          "output_type": "stream",
          "name": "stderr",
          "text": [
            "WARNING:absl:Found untraced functions such as _jit_compiled_convolution_op, _jit_compiled_convolution_op, _jit_compiled_convolution_op, _jit_compiled_convolution_op, _jit_compiled_convolution_op while saving (showing 5 of 40). These functions will not be directly callable after loading.\n",
            "\u001b[34m\u001b[1mwandb\u001b[0m: Adding directory to artifact (/content/wandb/run-20221104_114436-3kwa6ehy/files/model-best)... Done. 1.0s\n"
          ]
        },
        {
          "output_type": "stream",
          "name": "stdout",
          "text": [
            "\b\b\b\b\b\b\b\b\b\b\b\b\b\b\b\b\b\b\b\b\b\b\b\b\b\b\b\b\b\b\b\b\b\b\b\b\b\b\b\b\b\b\b\b\b\b\b\b\b\b\b\b\b\b\b\b\b\b\b\b\b\b\b\b\b\b\b\b\b\b\b\b\b\b\b\b\b\b\b\b\b\b\r22/22 [==============================] - 22s 1s/step - loss: 0.0795 - accuracy: 0.9759 - val_loss: 0.0821 - val_accuracy: 0.9600\n",
            "Epoch 8/40\n",
            "22/22 [==============================] - 5s 189ms/step - loss: 0.0504 - accuracy: 0.9815 - val_loss: 0.1132 - val_accuracy: 0.9657\n",
            "Epoch 9/40\n",
            "22/22 [==============================] - ETA: 0s - loss: 0.0479 - accuracy: 0.9773"
          ]
        },
        {
          "output_type": "stream",
          "name": "stderr",
          "text": [
            "WARNING:absl:Found untraced functions such as _jit_compiled_convolution_op, _jit_compiled_convolution_op, _jit_compiled_convolution_op, _jit_compiled_convolution_op, _jit_compiled_convolution_op while saving (showing 5 of 40). These functions will not be directly callable after loading.\n",
            "\u001b[34m\u001b[1mwandb\u001b[0m: Adding directory to artifact (/content/wandb/run-20221104_114436-3kwa6ehy/files/model-best)... Done. 1.0s\n"
          ]
        },
        {
          "output_type": "stream",
          "name": "stdout",
          "text": [
            "\b\b\b\b\b\b\b\b\b\b\b\b\b\b\b\b\b\b\b\b\b\b\b\b\b\b\b\b\b\b\b\b\b\b\b\b\b\b\b\b\b\b\b\b\b\b\b\b\b\b\b\b\b\b\b\b\b\b\b\b\b\b\b\b\b\b\b\b\b\b\b\b\b\b\b\b\b\b\b\b\b\b\r22/22 [==============================] - 22s 1s/step - loss: 0.0479 - accuracy: 0.9773 - val_loss: 0.0632 - val_accuracy: 0.9771\n",
            "Epoch 10/40\n",
            "22/22 [==============================] - 5s 189ms/step - loss: 0.0358 - accuracy: 0.9858 - val_loss: 0.0699 - val_accuracy: 0.9771\n",
            "Epoch 11/40\n",
            "22/22 [==============================] - 5s 189ms/step - loss: 0.0405 - accuracy: 0.9858 - val_loss: 0.1285 - val_accuracy: 0.9543\n",
            "Epoch 12/40\n",
            "22/22 [==============================] - 5s 192ms/step - loss: 0.0560 - accuracy: 0.9787 - val_loss: 0.0959 - val_accuracy: 0.9714\n",
            "Epoch 13/40\n",
            "22/22 [==============================] - 5s 191ms/step - loss: 0.0341 - accuracy: 0.9886 - val_loss: 0.0705 - val_accuracy: 0.9714\n",
            "Epoch 14/40\n",
            "22/22 [==============================] - 5s 192ms/step - loss: 0.0466 - accuracy: 0.9830 - val_loss: 0.0782 - val_accuracy: 0.9829\n",
            "Epoch 15/40\n",
            "22/22 [==============================] - 5s 193ms/step - loss: 0.0292 - accuracy: 0.9872 - val_loss: 0.1433 - val_accuracy: 0.9714\n",
            "Epoch 16/40\n",
            "22/22 [==============================] - 5s 191ms/step - loss: 0.0140 - accuracy: 0.9943 - val_loss: 0.1076 - val_accuracy: 0.9771\n",
            "Epoch 17/40\n",
            "22/22 [==============================] - 5s 190ms/step - loss: 0.0286 - accuracy: 0.9901 - val_loss: 0.2277 - val_accuracy: 0.9600\n",
            "Epoch 18/40\n",
            "22/22 [==============================] - ETA: 0s - loss: 0.0575 - accuracy: 0.9915"
          ]
        },
        {
          "output_type": "stream",
          "name": "stderr",
          "text": [
            "WARNING:absl:Found untraced functions such as _jit_compiled_convolution_op, _jit_compiled_convolution_op, _jit_compiled_convolution_op, _jit_compiled_convolution_op, _jit_compiled_convolution_op while saving (showing 5 of 40). These functions will not be directly callable after loading.\n",
            "\u001b[34m\u001b[1mwandb\u001b[0m: Adding directory to artifact (/content/wandb/run-20221104_114436-3kwa6ehy/files/model-best)... Done. 1.0s\n"
          ]
        },
        {
          "output_type": "stream",
          "name": "stdout",
          "text": [
            "\b\b\b\b\b\b\b\b\b\b\b\b\b\b\b\b\b\b\b\b\b\b\b\b\b\b\b\b\b\b\b\b\b\b\b\b\b\b\b\b\b\b\b\b\b\b\b\b\b\b\b\b\b\b\b\b\b\b\b\b\b\b\b\b\b\b\b\b\b\b\b\b\b\b\b\b\b\b\b\b\b\b\r22/22 [==============================] - 22s 1s/step - loss: 0.0575 - accuracy: 0.9915 - val_loss: 0.0336 - val_accuracy: 0.9829\n",
            "Epoch 19/40\n",
            "22/22 [==============================] - 5s 192ms/step - loss: 0.0324 - accuracy: 0.9872 - val_loss: 0.1147 - val_accuracy: 0.9714\n",
            "Epoch 20/40\n",
            "22/22 [==============================] - 5s 219ms/step - loss: 0.0165 - accuracy: 0.9972 - val_loss: 0.0788 - val_accuracy: 0.9829\n",
            "Epoch 21/40\n",
            "22/22 [==============================] - 5s 198ms/step - loss: 0.0170 - accuracy: 0.9901 - val_loss: 0.0717 - val_accuracy: 0.9829\n",
            "Epoch 22/40\n",
            "22/22 [==============================] - 5s 190ms/step - loss: 0.0187 - accuracy: 0.9901 - val_loss: 0.1026 - val_accuracy: 0.9829\n",
            "Epoch 23/40\n",
            "22/22 [==============================] - 5s 189ms/step - loss: 0.0680 - accuracy: 0.9815 - val_loss: 0.2423 - val_accuracy: 0.9486\n",
            "Epoch 24/40\n",
            "22/22 [==============================] - 5s 191ms/step - loss: 0.0749 - accuracy: 0.9815 - val_loss: 0.2159 - val_accuracy: 0.9657\n",
            "Epoch 25/40\n",
            "22/22 [==============================] - 5s 192ms/step - loss: 0.0851 - accuracy: 0.9801 - val_loss: 0.1625 - val_accuracy: 0.9543\n",
            "Epoch 26/40\n",
            "22/22 [==============================] - 5s 193ms/step - loss: 0.0813 - accuracy: 0.9688 - val_loss: 0.2291 - val_accuracy: 0.9543\n",
            "Epoch 27/40\n",
            "22/22 [==============================] - 5s 192ms/step - loss: 0.0741 - accuracy: 0.9759 - val_loss: 0.1046 - val_accuracy: 0.9657\n",
            "Epoch 28/40\n",
            "22/22 [==============================] - 5s 192ms/step - loss: 0.0396 - accuracy: 0.9858 - val_loss: 0.1101 - val_accuracy: 0.9771\n",
            "Epoch 29/40\n",
            "22/22 [==============================] - 5s 192ms/step - loss: 0.0512 - accuracy: 0.9872 - val_loss: 0.1960 - val_accuracy: 0.9829\n",
            "Epoch 30/40\n",
            "22/22 [==============================] - 5s 190ms/step - loss: 0.0329 - accuracy: 0.9844 - val_loss: 0.2115 - val_accuracy: 0.9657\n",
            "Epoch 31/40\n",
            "22/22 [==============================] - 5s 190ms/step - loss: 0.0277 - accuracy: 0.9886 - val_loss: 0.1813 - val_accuracy: 0.9714\n",
            "Epoch 32/40\n",
            "22/22 [==============================] - 5s 190ms/step - loss: 0.0342 - accuracy: 0.9915 - val_loss: 0.1314 - val_accuracy: 0.9543\n",
            "Epoch 33/40\n",
            "22/22 [==============================] - 5s 188ms/step - loss: 0.0239 - accuracy: 0.9915 - val_loss: 0.1054 - val_accuracy: 0.9657\n",
            "Epoch 34/40\n",
            "22/22 [==============================] - 5s 189ms/step - loss: 0.0097 - accuracy: 0.9957 - val_loss: 0.1260 - val_accuracy: 0.9543\n",
            "Epoch 35/40\n",
            "22/22 [==============================] - 5s 189ms/step - loss: 0.0184 - accuracy: 0.9915 - val_loss: 0.1658 - val_accuracy: 0.9600\n",
            "Epoch 36/40\n",
            "22/22 [==============================] - 5s 189ms/step - loss: 0.0237 - accuracy: 0.9901 - val_loss: 0.4354 - val_accuracy: 0.9314\n",
            "Epoch 37/40\n",
            "22/22 [==============================] - 5s 190ms/step - loss: 0.0192 - accuracy: 0.9915 - val_loss: 0.1719 - val_accuracy: 0.9543\n",
            "Epoch 38/40\n",
            "22/22 [==============================] - 5s 214ms/step - loss: 0.0403 - accuracy: 0.9872 - val_loss: 0.1969 - val_accuracy: 0.9543\n",
            "Epoch 39/40\n",
            "22/22 [==============================] - 5s 191ms/step - loss: 0.0340 - accuracy: 0.9901 - val_loss: 0.2271 - val_accuracy: 0.9600\n",
            "Epoch 40/40\n",
            "22/22 [==============================] - 5s 190ms/step - loss: 0.0302 - accuracy: 0.9901 - val_loss: 0.2612 - val_accuracy: 0.9600\n",
            "CPU times: user 3min 9s, sys: 33.1 s, total: 3min 42s\n",
            "Wall time: 9min 5s\n"
          ]
        }
      ]
    },
    {
      "cell_type": "code",
      "source": [
        "wandb.finish()"
      ],
      "metadata": {
        "colab": {
          "base_uri": "https://localhost:8080/",
          "height": 397,
          "referenced_widgets": [
            "dbc1ec21884e4349b4baa910d3e5a3ee",
            "6081acbd4e1741e48bc656c4da1863e4",
            "8d47f9fa71b54a5dbba218d8f5063838",
            "266c1dd2c0ce4af9bc79f252ee804c32",
            "b2406b32faa8438f8c3e323d54b53b2d",
            "4549aeb644b140c5b64342c44dfe06ab",
            "360657983e9f4b188e70632bb3f7b207",
            "bde150de01a34cf4b6bb730ece6dd82f"
          ]
        },
        "id": "WaZ2tnFeETsF",
        "outputId": "a4af6a4c-37b2-493a-b699-4a882cadbe13"
      },
      "execution_count": 16,
      "outputs": [
        {
          "output_type": "display_data",
          "data": {
            "text/plain": [
              "<IPython.core.display.HTML object>"
            ],
            "text/html": [
              "Waiting for W&B process to finish... <strong style=\"color:green\">(success).</strong>"
            ]
          },
          "metadata": {}
        },
        {
          "output_type": "display_data",
          "data": {
            "text/plain": [
              "VBox(children=(Label(value='832.822 MB of 832.838 MB uploaded (0.460 MB deduped)\\r'), FloatProgress(value=0.99…"
            ],
            "application/vnd.jupyter.widget-view+json": {
              "version_major": 2,
              "version_minor": 0,
              "model_id": "dbc1ec21884e4349b4baa910d3e5a3ee"
            }
          },
          "metadata": {}
        },
        {
          "output_type": "display_data",
          "data": {
            "text/plain": [
              "<IPython.core.display.HTML object>"
            ],
            "text/html": [
              "<style>\n",
              "    table.wandb td:nth-child(1) { padding: 0 10px; text-align: left ; width: auto;} td:nth-child(2) {text-align: left ; width: 100%}\n",
              "    .wandb-row { display: flex; flex-direction: row; flex-wrap: wrap; justify-content: flex-start; width: 100% }\n",
              "    .wandb-col { display: flex; flex-direction: column; flex-basis: 100%; flex: 1; padding: 10px; }\n",
              "    </style>\n",
              "<div class=\"wandb-row\"><div class=\"wandb-col\"><h3>Run history:</h3><br/><table class=\"wandb\"><tr><td>accuracy</td><td>▁▆▇▇▇▇▇█▇██▇████████████▇▇▇█████████████</td></tr><tr><td>epoch</td><td>▁▁▁▂▂▂▂▂▂▃▃▃▃▃▄▄▄▄▄▄▅▅▅▅▅▅▆▆▆▆▆▇▇▇▇▇▇███</td></tr><tr><td>loss</td><td>█▃▂▂▂▂▂▁▁▁▁▁▁▁▁▁▁▁▁▁▁▁▂▂▂▂▂▁▁▁▁▁▁▁▁▁▁▁▁▁</td></tr><tr><td>val_accuracy</td><td>▁▅▅▃▅▅▆▇██▆▇▇█▇█▆█▇███▅▇▆▆▇██▇▇▆▇▆▆▄▆▆▆▆</td></tr><tr><td>val_loss</td><td>▅▃▃▅▄▂▂▂▂▂▃▂▂▂▃▂▄▁▂▂▂▂▅▄▃▄▂▂▄▄▄▃▂▃▃█▃▄▄▅</td></tr></table><br/></div><div class=\"wandb-col\"><h3>Run summary:</h3><br/><table class=\"wandb\"><tr><td>accuracy</td><td>0.99006</td></tr><tr><td>best_epoch</td><td>17</td></tr><tr><td>best_val_loss</td><td>0.03355</td></tr><tr><td>epoch</td><td>39</td></tr><tr><td>loss</td><td>0.03017</td></tr><tr><td>val_accuracy</td><td>0.96</td></tr><tr><td>val_loss</td><td>0.26117</td></tr></table><br/></div></div>"
            ]
          },
          "metadata": {}
        },
        {
          "output_type": "display_data",
          "data": {
            "text/plain": [
              "<IPython.core.display.HTML object>"
            ],
            "text/html": [
              "Synced <strong style=\"color:#cdcd00\">Xception</strong>: <a href=\"https://wandb.ai/vedmanivaidya/Transfer_Learning_New/runs/3kwa6ehy\" target=\"_blank\">https://wandb.ai/vedmanivaidya/Transfer_Learning_New/runs/3kwa6ehy</a><br/>Synced 5 W&B file(s), 1 media file(s), 19 artifact file(s) and 1 other file(s)"
            ]
          },
          "metadata": {}
        },
        {
          "output_type": "display_data",
          "data": {
            "text/plain": [
              "<IPython.core.display.HTML object>"
            ],
            "text/html": [
              "Find logs at: <code>./wandb/run-20221104_114436-3kwa6ehy/logs</code>"
            ]
          },
          "metadata": {}
        }
      ]
    }
  ],
  "metadata": {
    "kernelspec": {
      "display_name": "Python 3",
      "language": "python",
      "name": "python3"
    },
    "language_info": {
      "codemirror_mode": {
        "name": "ipython",
        "version": 2
      },
      "file_extension": ".py",
      "mimetype": "text/x-python",
      "name": "python",
      "nbconvert_exporter": "python",
      "pygments_lexer": "ipython2",
      "version": "2.7.6"
    },
    "colab": {
      "provenance": [],
      "include_colab_link": true
    },
    "accelerator": "GPU",
    "widgets": {
      "application/vnd.jupyter.widget-state+json": {
        "dbc1ec21884e4349b4baa910d3e5a3ee": {
          "model_module": "@jupyter-widgets/controls",
          "model_name": "VBoxModel",
          "model_module_version": "1.5.0",
          "state": {
            "_dom_classes": [],
            "_model_module": "@jupyter-widgets/controls",
            "_model_module_version": "1.5.0",
            "_model_name": "VBoxModel",
            "_view_count": null,
            "_view_module": "@jupyter-widgets/controls",
            "_view_module_version": "1.5.0",
            "_view_name": "VBoxView",
            "box_style": "",
            "children": [
              "IPY_MODEL_6081acbd4e1741e48bc656c4da1863e4",
              "IPY_MODEL_8d47f9fa71b54a5dbba218d8f5063838"
            ],
            "layout": "IPY_MODEL_266c1dd2c0ce4af9bc79f252ee804c32"
          }
        },
        "6081acbd4e1741e48bc656c4da1863e4": {
          "model_module": "@jupyter-widgets/controls",
          "model_name": "LabelModel",
          "model_module_version": "1.5.0",
          "state": {
            "_dom_classes": [],
            "_model_module": "@jupyter-widgets/controls",
            "_model_module_version": "1.5.0",
            "_model_name": "LabelModel",
            "_view_count": null,
            "_view_module": "@jupyter-widgets/controls",
            "_view_module_version": "1.5.0",
            "_view_name": "LabelView",
            "description": "",
            "description_tooltip": null,
            "layout": "IPY_MODEL_b2406b32faa8438f8c3e323d54b53b2d",
            "placeholder": "​",
            "style": "IPY_MODEL_4549aeb644b140c5b64342c44dfe06ab",
            "value": "777.182 MB of 832.838 MB uploaded (0.460 MB deduped)\r"
          }
        },
        "8d47f9fa71b54a5dbba218d8f5063838": {
          "model_module": "@jupyter-widgets/controls",
          "model_name": "FloatProgressModel",
          "model_module_version": "1.5.0",
          "state": {
            "_dom_classes": [],
            "_model_module": "@jupyter-widgets/controls",
            "_model_module_version": "1.5.0",
            "_model_name": "FloatProgressModel",
            "_view_count": null,
            "_view_module": "@jupyter-widgets/controls",
            "_view_module_version": "1.5.0",
            "_view_name": "ProgressView",
            "bar_style": "",
            "description": "",
            "description_tooltip": null,
            "layout": "IPY_MODEL_360657983e9f4b188e70632bb3f7b207",
            "max": 1,
            "min": 0,
            "orientation": "horizontal",
            "style": "IPY_MODEL_bde150de01a34cf4b6bb730ece6dd82f",
            "value": 0.9331737044452927
          }
        },
        "266c1dd2c0ce4af9bc79f252ee804c32": {
          "model_module": "@jupyter-widgets/base",
          "model_name": "LayoutModel",
          "model_module_version": "1.2.0",
          "state": {
            "_model_module": "@jupyter-widgets/base",
            "_model_module_version": "1.2.0",
            "_model_name": "LayoutModel",
            "_view_count": null,
            "_view_module": "@jupyter-widgets/base",
            "_view_module_version": "1.2.0",
            "_view_name": "LayoutView",
            "align_content": null,
            "align_items": null,
            "align_self": null,
            "border": null,
            "bottom": null,
            "display": null,
            "flex": null,
            "flex_flow": null,
            "grid_area": null,
            "grid_auto_columns": null,
            "grid_auto_flow": null,
            "grid_auto_rows": null,
            "grid_column": null,
            "grid_gap": null,
            "grid_row": null,
            "grid_template_areas": null,
            "grid_template_columns": null,
            "grid_template_rows": null,
            "height": null,
            "justify_content": null,
            "justify_items": null,
            "left": null,
            "margin": null,
            "max_height": null,
            "max_width": null,
            "min_height": null,
            "min_width": null,
            "object_fit": null,
            "object_position": null,
            "order": null,
            "overflow": null,
            "overflow_x": null,
            "overflow_y": null,
            "padding": null,
            "right": null,
            "top": null,
            "visibility": null,
            "width": null
          }
        },
        "b2406b32faa8438f8c3e323d54b53b2d": {
          "model_module": "@jupyter-widgets/base",
          "model_name": "LayoutModel",
          "model_module_version": "1.2.0",
          "state": {
            "_model_module": "@jupyter-widgets/base",
            "_model_module_version": "1.2.0",
            "_model_name": "LayoutModel",
            "_view_count": null,
            "_view_module": "@jupyter-widgets/base",
            "_view_module_version": "1.2.0",
            "_view_name": "LayoutView",
            "align_content": null,
            "align_items": null,
            "align_self": null,
            "border": null,
            "bottom": null,
            "display": null,
            "flex": null,
            "flex_flow": null,
            "grid_area": null,
            "grid_auto_columns": null,
            "grid_auto_flow": null,
            "grid_auto_rows": null,
            "grid_column": null,
            "grid_gap": null,
            "grid_row": null,
            "grid_template_areas": null,
            "grid_template_columns": null,
            "grid_template_rows": null,
            "height": null,
            "justify_content": null,
            "justify_items": null,
            "left": null,
            "margin": null,
            "max_height": null,
            "max_width": null,
            "min_height": null,
            "min_width": null,
            "object_fit": null,
            "object_position": null,
            "order": null,
            "overflow": null,
            "overflow_x": null,
            "overflow_y": null,
            "padding": null,
            "right": null,
            "top": null,
            "visibility": null,
            "width": null
          }
        },
        "4549aeb644b140c5b64342c44dfe06ab": {
          "model_module": "@jupyter-widgets/controls",
          "model_name": "DescriptionStyleModel",
          "model_module_version": "1.5.0",
          "state": {
            "_model_module": "@jupyter-widgets/controls",
            "_model_module_version": "1.5.0",
            "_model_name": "DescriptionStyleModel",
            "_view_count": null,
            "_view_module": "@jupyter-widgets/base",
            "_view_module_version": "1.2.0",
            "_view_name": "StyleView",
            "description_width": ""
          }
        },
        "360657983e9f4b188e70632bb3f7b207": {
          "model_module": "@jupyter-widgets/base",
          "model_name": "LayoutModel",
          "model_module_version": "1.2.0",
          "state": {
            "_model_module": "@jupyter-widgets/base",
            "_model_module_version": "1.2.0",
            "_model_name": "LayoutModel",
            "_view_count": null,
            "_view_module": "@jupyter-widgets/base",
            "_view_module_version": "1.2.0",
            "_view_name": "LayoutView",
            "align_content": null,
            "align_items": null,
            "align_self": null,
            "border": null,
            "bottom": null,
            "display": null,
            "flex": null,
            "flex_flow": null,
            "grid_area": null,
            "grid_auto_columns": null,
            "grid_auto_flow": null,
            "grid_auto_rows": null,
            "grid_column": null,
            "grid_gap": null,
            "grid_row": null,
            "grid_template_areas": null,
            "grid_template_columns": null,
            "grid_template_rows": null,
            "height": null,
            "justify_content": null,
            "justify_items": null,
            "left": null,
            "margin": null,
            "max_height": null,
            "max_width": null,
            "min_height": null,
            "min_width": null,
            "object_fit": null,
            "object_position": null,
            "order": null,
            "overflow": null,
            "overflow_x": null,
            "overflow_y": null,
            "padding": null,
            "right": null,
            "top": null,
            "visibility": null,
            "width": null
          }
        },
        "bde150de01a34cf4b6bb730ece6dd82f": {
          "model_module": "@jupyter-widgets/controls",
          "model_name": "ProgressStyleModel",
          "model_module_version": "1.5.0",
          "state": {
            "_model_module": "@jupyter-widgets/controls",
            "_model_module_version": "1.5.0",
            "_model_name": "ProgressStyleModel",
            "_view_count": null,
            "_view_module": "@jupyter-widgets/base",
            "_view_module_version": "1.2.0",
            "_view_name": "StyleView",
            "bar_color": null,
            "description_width": ""
          }
        }
      }
    }
  },
  "nbformat": 4,
  "nbformat_minor": 0
}