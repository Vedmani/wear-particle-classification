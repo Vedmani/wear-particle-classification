{
  "cells": [
    {
      "cell_type": "markdown",
      "metadata": {
        "id": "view-in-github",
        "colab_type": "text"
      },
      "source": [
        "<a href=\"https://colab.research.google.com/github/Vedmani/wear-particle-classification/blob/main/Xception.ipynb\" target=\"_parent\"><img src=\"https://colab.research.google.com/assets/colab-badge.svg\" alt=\"Open In Colab\"/></a>"
      ]
    },
    {
      "cell_type": "code",
      "source": [
        "from google.colab import drive\n",
        "drive.mount('/content/drive')"
      ],
      "metadata": {
        "colab": {
          "base_uri": "https://localhost:8080/"
        },
        "id": "hZxsQnPoFFCQ",
        "outputId": "7b780f2e-3472-4514-9933-91af971ed26b"
      },
      "execution_count": 1,
      "outputs": [
        {
          "output_type": "stream",
          "name": "stdout",
          "text": [
            "Mounted at /content/drive\n"
          ]
        }
      ]
    },
    {
      "cell_type": "code",
      "execution_count": 2,
      "outputs": [
        {
          "output_type": "stream",
          "name": "stdout",
          "text": [
            "\u001b[K     |████████████████████████████████| 1.9 MB 38.7 MB/s \n",
            "\u001b[K     |████████████████████████████████| 162 kB 68.5 MB/s \n",
            "\u001b[K     |████████████████████████████████| 182 kB 69.8 MB/s \n",
            "\u001b[K     |████████████████████████████████| 63 kB 1.3 MB/s \n",
            "\u001b[K     |████████████████████████████████| 162 kB 73.2 MB/s \n",
            "\u001b[K     |████████████████████████████████| 158 kB 64.3 MB/s \n",
            "\u001b[K     |████████████████████████████████| 157 kB 74.5 MB/s \n",
            "\u001b[K     |████████████████████████████████| 157 kB 77.7 MB/s \n",
            "\u001b[K     |████████████████████████████████| 157 kB 77.8 MB/s \n",
            "\u001b[K     |████████████████████████████████| 157 kB 79.7 MB/s \n",
            "\u001b[K     |████████████████████████████████| 157 kB 72.4 MB/s \n",
            "\u001b[K     |████████████████████████████████| 157 kB 72.3 MB/s \n",
            "\u001b[K     |████████████████████████████████| 157 kB 64.2 MB/s \n",
            "\u001b[K     |████████████████████████████████| 156 kB 68.7 MB/s \n",
            "\u001b[?25h  Building wheel for pathtools (setup.py) ... \u001b[?25l\u001b[?25hdone\n",
            "\u001b[34m\u001b[1mwandb\u001b[0m: Logging into wandb.ai. (Learn how to deploy a W&B server locally: https://wandb.me/wandb-server)\n",
            "\u001b[34m\u001b[1mwandb\u001b[0m: You can find your API key in your browser here: https://wandb.ai/authorize\n",
            "\u001b[34m\u001b[1mwandb\u001b[0m: Paste an API key from your profile and hit enter, or press ctrl+c to quit: \n",
            "\u001b[34m\u001b[1mwandb\u001b[0m: Appending key for api.wandb.ai to your netrc file: /root/.netrc\n"
          ]
        }
      ],
      "source": [
        "!pip install wandb -qU\n",
        "!wandb login"
      ],
      "metadata": {
        "pycharm": {
          "name": "#%%\n"
        },
        "colab": {
          "base_uri": "https://localhost:8080/"
        },
        "id": "nzVPsk5i2f6k",
        "outputId": "933b6711-8243-4bdb-dd86-a6f73a55fa42"
      }
    },
    {
      "cell_type": "code",
      "execution_count": 3,
      "outputs": [],
      "source": [
        "import tensorflow as tf\n",
        "from tensorflow import keras\n",
        "from tensorflow.keras import layers\n",
        "from tensorflow.keras.models import Sequential\n",
        "import wandb\n",
        "from wandb.keras import WandbCallback"
      ],
      "metadata": {
        "pycharm": {
          "name": "#%%\n"
        },
        "id": "acoOtOXx2f6z"
      }
    },
    {
      "cell_type": "code",
      "execution_count": 4,
      "outputs": [],
      "source": [
        "tf.keras.utils.set_random_seed(123)\n",
        "tf.config.experimental.enable_op_determinism()"
      ],
      "metadata": {
        "pycharm": {
          "name": "#%%\n"
        },
        "id": "vhcPFfST2f62"
      }
    },
    {
      "cell_type": "code",
      "source": [
        "PATH = '/content/drive/MyDrive/Research Internship/wear particles'\n",
        "batch_size = 32\n",
        "img_height = 224\n",
        "img_width = 224\n",
        "\n",
        "train_ds = tf.keras.utils.image_dataset_from_directory(\n",
        "  PATH,\n",
        "  validation_split=0.2,\n",
        "  subset=\"training\",\n",
        "  seed=123,\n",
        "  image_size=(img_height, img_width),\n",
        "  batch_size=batch_size)\n",
        "\n",
        "val_ds = tf.keras.utils.image_dataset_from_directory(\n",
        "  PATH,\n",
        "  validation_split=0.2,\n",
        "  subset=\"validation\",\n",
        "  seed=123,\n",
        "  image_size=(img_height, img_width),\n",
        "  batch_size=batch_size)\n",
        "\n",
        "class_names = train_ds.class_names\n",
        "print(class_names)\n",
        "num_classes = len(class_names)"
      ],
      "metadata": {
        "colab": {
          "base_uri": "https://localhost:8080/"
        },
        "id": "CiW-AljoCyRN",
        "outputId": "c912c3e8-845f-4842-b449-de81a311414c"
      },
      "execution_count": 5,
      "outputs": [
        {
          "output_type": "stream",
          "name": "stdout",
          "text": [
            "Found 740 files belonging to 5 classes.\n",
            "Using 592 files for training.\n",
            "Found 740 files belonging to 5 classes.\n",
            "Using 148 files for validation.\n",
            "['cutting wear', 'normal rubbing and cutting wear combined', 'normal rubbing wear', 'red oxide', 'severe sliding wear']\n"
          ]
        }
      ]
    },
    {
      "cell_type": "code",
      "source": [
        "xception = tf.keras.applications.Xception(\n",
        "    include_top=False,\n",
        "    weights=\"imagenet\",\n",
        "    input_tensor=None,\n",
        "    input_shape=None,\n",
        "    pooling=None)\n",
        "data_augmentation = tf.keras.Sequential([layers.RandomFlip(\"horizontal_and_vertical\"),layers.RandomRotation(0.2),])\n",
        "model_xception=Sequential([\n",
        "  #data_augmentation,\n",
        "  layers.Rescaling(1./255, input_shape=(img_height, img_width, 3)),\n",
        "  xception,\n",
        "  layers.Flatten(),\n",
        "  layers.Dense(32, activation='relu'),\n",
        "  #layers.Dropout(0.5), \n",
        "  layers.Dense(num_classes, activation='softmax')\n",
        "])\n",
        "xception.trainable=False\n",
        "model_xception.summary()"
      ],
      "metadata": {
        "colab": {
          "base_uri": "https://localhost:8080/"
        },
        "id": "qTLja-HJCy79",
        "outputId": "81d8b64f-6b15-491d-c647-fdd79cccaa3b"
      },
      "execution_count": 6,
      "outputs": [
        {
          "output_type": "stream",
          "name": "stdout",
          "text": [
            "Downloading data from https://storage.googleapis.com/tensorflow/keras-applications/xception/xception_weights_tf_dim_ordering_tf_kernels_notop.h5\n",
            "83683744/83683744 [==============================] - 0s 0us/step\n",
            "Model: \"sequential_1\"\n",
            "_________________________________________________________________\n",
            " Layer (type)                Output Shape              Param #   \n",
            "=================================================================\n",
            " rescaling (Rescaling)       (None, 224, 224, 3)       0         \n",
            "                                                                 \n",
            " xception (Functional)       (None, None, None, 2048)  20861480  \n",
            "                                                                 \n",
            " flatten (Flatten)           (None, 100352)            0         \n",
            "                                                                 \n",
            " dense (Dense)               (None, 32)                3211296   \n",
            "                                                                 \n",
            " dense_1 (Dense)             (None, 5)                 165       \n",
            "                                                                 \n",
            "=================================================================\n",
            "Total params: 24,072,941\n",
            "Trainable params: 3,211,461\n",
            "Non-trainable params: 20,861,480\n",
            "_________________________________________________________________\n"
          ]
        }
      ]
    },
    {
      "cell_type": "code",
      "source": [
        "model_xception.compile(\n",
        "              optimizer= tf.keras.optimizers.Adam(learning_rate=0.001, beta_1=0.9, beta_2=0.999, epsilon=1e-07, amsgrad=False, name='Adam'),\n",
        "              loss=tf.keras.losses.SparseCategoricalCrossentropy(from_logits=False),\n",
        "              metrics=['accuracy']\n",
        "              )"
      ],
      "metadata": {
        "id": "UKCoWlAWD1XP"
      },
      "execution_count": 7,
      "outputs": []
    },
    {
      "cell_type": "code",
      "source": [
        "wandb.init(\n",
        "      # Set the project where this run will be logged\n",
        "      project=\"Transfer_learning\", \n",
        "      name = \"Xception\",\n",
        "      notes = \"without augment and without dropout\"\n",
        ")"
      ],
      "metadata": {
        "colab": {
          "base_uri": "https://localhost:8080/",
          "height": 125
        },
        "id": "v7gcv8AMD9Vv",
        "outputId": "68ba2fa0-eb37-4d02-ede4-62abcb4b4337"
      },
      "execution_count": 8,
      "outputs": [
        {
          "output_type": "stream",
          "name": "stderr",
          "text": [
            "ERROR:wandb.jupyter:Failed to detect the name of this notebook, you can set it manually with the WANDB_NOTEBOOK_NAME environment variable to enable code saving.\n",
            "\u001b[34m\u001b[1mwandb\u001b[0m: Currently logged in as: \u001b[33mvedmanivaidya\u001b[0m. Use \u001b[1m`wandb login --relogin`\u001b[0m to force relogin\n"
          ]
        },
        {
          "output_type": "display_data",
          "data": {
            "text/plain": [
              "<IPython.core.display.HTML object>"
            ],
            "text/html": [
              "Tracking run with wandb version 0.13.4"
            ]
          },
          "metadata": {}
        },
        {
          "output_type": "display_data",
          "data": {
            "text/plain": [
              "<IPython.core.display.HTML object>"
            ],
            "text/html": [
              "Run data is saved locally in <code>/content/wandb/run-20221018_055316-3ndxkssy</code>"
            ]
          },
          "metadata": {}
        },
        {
          "output_type": "display_data",
          "data": {
            "text/plain": [
              "<IPython.core.display.HTML object>"
            ],
            "text/html": [
              "Syncing run <strong><a href=\"https://wandb.ai/vedmanivaidya/Transfer_learning/runs/3ndxkssy\" target=\"_blank\">Xception</a></strong> to <a href=\"https://wandb.ai/vedmanivaidya/Transfer_learning\" target=\"_blank\">Weights & Biases</a> (<a href=\"https://wandb.me/run\" target=\"_blank\">docs</a>)<br/>"
            ]
          },
          "metadata": {}
        },
        {
          "output_type": "execute_result",
          "data": {
            "text/html": [
              "<button onClick=\"this.nextSibling.style.display='block';this.style.display='none';\">Display W&B run</button><iframe src=\"https://wandb.ai/vedmanivaidya/Transfer_learning/runs/3ndxkssy?jupyter=true\" style=\"border:none;width:100%;height:420px;display:none;\"></iframe>"
            ],
            "text/plain": [
              "<wandb.sdk.wandb_run.Run at 0x7efc11b58a50>"
            ]
          },
          "metadata": {},
          "execution_count": 8
        }
      ]
    },
    {
      "cell_type": "code",
      "source": [
        "%%time\n",
        "epochs=40\n",
        "history = model_xception.fit(\n",
        "  train_ds,\n",
        "  validation_data=val_ds,\n",
        "  epochs=epochs,\n",
        "callbacks=[WandbCallback()]\n",
        ")"
      ],
      "metadata": {
        "colab": {
          "base_uri": "https://localhost:8080/"
        },
        "id": "yQ50kAkQEOBS",
        "outputId": "a3b4e692-2c1a-4a94-ac73-0d2202097b70"
      },
      "execution_count": 9,
      "outputs": [
        {
          "output_type": "stream",
          "name": "stderr",
          "text": [
            "\u001b[34m\u001b[1mwandb\u001b[0m: \u001b[33mWARNING\u001b[0m The save_model argument by default saves the model in the HDF5 format that cannot save custom objects like subclassed models and custom layers. This behavior will be deprecated in a future release in favor of the SavedModel format. Meanwhile, the HDF5 model is saved as W&B files and the SavedModel as W&B Artifacts.\n"
          ]
        },
        {
          "output_type": "stream",
          "name": "stdout",
          "text": [
            "Epoch 1/40\n",
            "19/19 [==============================] - ETA: 0s - loss: 0.5591 - accuracy: 0.8361"
          ]
        },
        {
          "output_type": "stream",
          "name": "stderr",
          "text": [
            "WARNING:absl:Found untraced functions such as _jit_compiled_convolution_op, _jit_compiled_convolution_op, _jit_compiled_convolution_op, _jit_compiled_convolution_op, _jit_compiled_convolution_op while saving (showing 5 of 40). These functions will not be directly callable after loading.\n",
            "\u001b[34m\u001b[1mwandb\u001b[0m: Adding directory to artifact (/content/wandb/run-20221018_055316-3ndxkssy/files/model-best)... Done. 1.0s\n"
          ]
        },
        {
          "output_type": "stream",
          "name": "stdout",
          "text": [
            "\b\b\b\b\b\b\b\b\b\b\b\b\b\b\b\b\b\b\b\b\b\b\b\b\b\b\b\b\b\b\b\b\b\b\b\b\b\b\b\b\b\b\b\b\b\b\b\b\b\b\b\b\b\b\b\b\b\b\b\b\b\b\b\b\b\b\b\b\b\b\b\b\b\b\b\b\b\b\b\b\b\b\r19/19 [==============================] - 196s 5s/step - loss: 0.5591 - accuracy: 0.8361 - val_loss: 0.2152 - val_accuracy: 0.9392\n",
            "Epoch 2/40\n",
            "19/19 [==============================] - ETA: 0s - loss: 0.0185 - accuracy: 0.9932"
          ]
        },
        {
          "output_type": "stream",
          "name": "stderr",
          "text": [
            "WARNING:absl:Found untraced functions such as _jit_compiled_convolution_op, _jit_compiled_convolution_op, _jit_compiled_convolution_op, _jit_compiled_convolution_op, _jit_compiled_convolution_op while saving (showing 5 of 40). These functions will not be directly callable after loading.\n",
            "\u001b[34m\u001b[1mwandb\u001b[0m: Adding directory to artifact (/content/wandb/run-20221018_055316-3ndxkssy/files/model-best)... Done. 1.0s\n"
          ]
        },
        {
          "output_type": "stream",
          "name": "stdout",
          "text": [
            "\b\b\b\b\b\b\b\b\b\b\b\b\b\b\b\b\b\b\b\b\b\b\b\b\b\b\b\b\b\b\b\b\b\b\b\b\b\b\b\b\b\b\b\b\b\b\b\b\b\b\b\b\b\b\b\b\b\b\b\b\b\b\b\b\b\b\b\b\b\b\b\b\b\b\b\b\b\b\b\b\b\b\r19/19 [==============================] - 22s 1s/step - loss: 0.0185 - accuracy: 0.9932 - val_loss: 0.1691 - val_accuracy: 0.9527\n",
            "Epoch 3/40\n",
            "19/19 [==============================] - 4s 192ms/step - loss: 0.0085 - accuracy: 0.9966 - val_loss: 0.1976 - val_accuracy: 0.9595\n",
            "Epoch 4/40\n",
            "19/19 [==============================] - ETA: 0s - loss: 0.0012 - accuracy: 1.0000"
          ]
        },
        {
          "output_type": "stream",
          "name": "stderr",
          "text": [
            "WARNING:absl:Found untraced functions such as _jit_compiled_convolution_op, _jit_compiled_convolution_op, _jit_compiled_convolution_op, _jit_compiled_convolution_op, _jit_compiled_convolution_op while saving (showing 5 of 40). These functions will not be directly callable after loading.\n",
            "\u001b[34m\u001b[1mwandb\u001b[0m: Adding directory to artifact (/content/wandb/run-20221018_055316-3ndxkssy/files/model-best)... Done. 1.0s\n"
          ]
        },
        {
          "output_type": "stream",
          "name": "stdout",
          "text": [
            "\b\b\b\b\b\b\b\b\b\b\b\b\b\b\b\b\b\b\b\b\b\b\b\b\b\b\b\b\b\b\b\b\b\b\b\b\b\b\b\b\b\b\b\b\b\b\b\b\b\b\b\b\b\b\b\b\b\b\b\b\b\b\b\b\b\b\b\b\b\b\b\b\b\b\b\b\b\b\b\b\b\b\r19/19 [==============================] - 22s 1s/step - loss: 0.0012 - accuracy: 1.0000 - val_loss: 0.1225 - val_accuracy: 0.9730\n",
            "Epoch 5/40\n",
            "19/19 [==============================] - ETA: 0s - loss: 4.9289e-04 - accuracy: 1.0000"
          ]
        },
        {
          "output_type": "stream",
          "name": "stderr",
          "text": [
            "WARNING:absl:Found untraced functions such as _jit_compiled_convolution_op, _jit_compiled_convolution_op, _jit_compiled_convolution_op, _jit_compiled_convolution_op, _jit_compiled_convolution_op while saving (showing 5 of 40). These functions will not be directly callable after loading.\n",
            "\u001b[34m\u001b[1mwandb\u001b[0m: Adding directory to artifact (/content/wandb/run-20221018_055316-3ndxkssy/files/model-best)... Done. 1.0s\n"
          ]
        },
        {
          "output_type": "stream",
          "name": "stdout",
          "text": [
            "\b\b\b\b\b\b\b\b\b\b\b\b\b\b\b\b\b\b\b\b\b\b\b\b\b\b\b\b\b\b\b\b\b\b\b\b\b\b\b\b\b\b\b\b\b\b\b\b\b\b\b\b\b\b\b\b\b\b\b\b\b\b\b\b\b\b\b\b\b\b\b\b\b\b\b\b\b\b\b\b\b\b\b\b\b\b\r19/19 [==============================] - 22s 1s/step - loss: 4.9289e-04 - accuracy: 1.0000 - val_loss: 0.1181 - val_accuracy: 0.9730\n",
            "Epoch 6/40\n",
            "19/19 [==============================] - 4s 197ms/step - loss: 3.7556e-04 - accuracy: 1.0000 - val_loss: 0.1236 - val_accuracy: 0.9730\n",
            "Epoch 7/40\n",
            "19/19 [==============================] - 4s 196ms/step - loss: 3.1766e-04 - accuracy: 1.0000 - val_loss: 0.1289 - val_accuracy: 0.9730\n",
            "Epoch 8/40\n",
            "19/19 [==============================] - 4s 197ms/step - loss: 2.7429e-04 - accuracy: 1.0000 - val_loss: 0.1321 - val_accuracy: 0.9730\n",
            "Epoch 9/40\n",
            "19/19 [==============================] - 4s 196ms/step - loss: 2.4905e-04 - accuracy: 1.0000 - val_loss: 0.1359 - val_accuracy: 0.9730\n",
            "Epoch 10/40\n",
            "19/19 [==============================] - 4s 198ms/step - loss: 2.2487e-04 - accuracy: 1.0000 - val_loss: 0.1375 - val_accuracy: 0.9730\n",
            "Epoch 11/40\n",
            "19/19 [==============================] - 4s 198ms/step - loss: 2.0621e-04 - accuracy: 1.0000 - val_loss: 0.1386 - val_accuracy: 0.9730\n",
            "Epoch 12/40\n",
            "19/19 [==============================] - 4s 201ms/step - loss: 1.8707e-04 - accuracy: 1.0000 - val_loss: 0.1408 - val_accuracy: 0.9730\n",
            "Epoch 13/40\n",
            "19/19 [==============================] - 4s 203ms/step - loss: 1.7400e-04 - accuracy: 1.0000 - val_loss: 0.1423 - val_accuracy: 0.9730\n",
            "Epoch 14/40\n",
            "19/19 [==============================] - 4s 204ms/step - loss: 1.6392e-04 - accuracy: 1.0000 - val_loss: 0.1424 - val_accuracy: 0.9730\n",
            "Epoch 15/40\n",
            "19/19 [==============================] - 4s 203ms/step - loss: 1.5403e-04 - accuracy: 1.0000 - val_loss: 0.1431 - val_accuracy: 0.9730\n",
            "Epoch 16/40\n",
            "19/19 [==============================] - 5s 222ms/step - loss: 1.3351e-04 - accuracy: 1.0000 - val_loss: 0.1446 - val_accuracy: 0.9730\n",
            "Epoch 17/40\n",
            "19/19 [==============================] - 5s 210ms/step - loss: 1.2069e-04 - accuracy: 1.0000 - val_loss: 0.1445 - val_accuracy: 0.9730\n",
            "Epoch 18/40\n",
            "19/19 [==============================] - 4s 205ms/step - loss: 1.1328e-04 - accuracy: 1.0000 - val_loss: 0.1456 - val_accuracy: 0.9730\n",
            "Epoch 19/40\n",
            "19/19 [==============================] - 4s 208ms/step - loss: 1.0648e-04 - accuracy: 1.0000 - val_loss: 0.1462 - val_accuracy: 0.9730\n",
            "Epoch 20/40\n",
            "19/19 [==============================] - 4s 206ms/step - loss: 1.0051e-04 - accuracy: 1.0000 - val_loss: 0.1466 - val_accuracy: 0.9730\n",
            "Epoch 21/40\n",
            "19/19 [==============================] - 4s 204ms/step - loss: 9.4988e-05 - accuracy: 1.0000 - val_loss: 0.1469 - val_accuracy: 0.9730\n",
            "Epoch 22/40\n",
            "19/19 [==============================] - 4s 204ms/step - loss: 9.0910e-05 - accuracy: 1.0000 - val_loss: 0.1477 - val_accuracy: 0.9730\n",
            "Epoch 23/40\n",
            "19/19 [==============================] - 4s 202ms/step - loss: 8.6175e-05 - accuracy: 1.0000 - val_loss: 0.1495 - val_accuracy: 0.9730\n",
            "Epoch 24/40\n",
            "19/19 [==============================] - 4s 202ms/step - loss: 8.1809e-05 - accuracy: 1.0000 - val_loss: 0.1505 - val_accuracy: 0.9730\n",
            "Epoch 25/40\n",
            "19/19 [==============================] - 4s 201ms/step - loss: 7.7904e-05 - accuracy: 1.0000 - val_loss: 0.1501 - val_accuracy: 0.9730\n",
            "Epoch 26/40\n",
            "19/19 [==============================] - 4s 202ms/step - loss: 7.4230e-05 - accuracy: 1.0000 - val_loss: 0.1512 - val_accuracy: 0.9730\n",
            "Epoch 27/40\n",
            "19/19 [==============================] - 4s 201ms/step - loss: 7.0936e-05 - accuracy: 1.0000 - val_loss: 0.1518 - val_accuracy: 0.9730\n",
            "Epoch 28/40\n",
            "19/19 [==============================] - 4s 202ms/step - loss: 6.7028e-05 - accuracy: 1.0000 - val_loss: 0.1534 - val_accuracy: 0.9730\n",
            "Epoch 29/40\n",
            "19/19 [==============================] - 4s 204ms/step - loss: 6.3928e-05 - accuracy: 1.0000 - val_loss: 0.1526 - val_accuracy: 0.9730\n",
            "Epoch 30/40\n",
            "19/19 [==============================] - 4s 203ms/step - loss: 6.1053e-05 - accuracy: 1.0000 - val_loss: 0.1541 - val_accuracy: 0.9730\n",
            "Epoch 31/40\n",
            "19/19 [==============================] - 4s 202ms/step - loss: 5.8393e-05 - accuracy: 1.0000 - val_loss: 0.1538 - val_accuracy: 0.9730\n",
            "Epoch 32/40\n",
            "19/19 [==============================] - 4s 204ms/step - loss: 5.6152e-05 - accuracy: 1.0000 - val_loss: 0.1545 - val_accuracy: 0.9730\n",
            "Epoch 33/40\n",
            "19/19 [==============================] - 4s 205ms/step - loss: 5.3883e-05 - accuracy: 1.0000 - val_loss: 0.1558 - val_accuracy: 0.9730\n",
            "Epoch 34/40\n",
            "19/19 [==============================] - 4s 203ms/step - loss: 5.1871e-05 - accuracy: 1.0000 - val_loss: 0.1560 - val_accuracy: 0.9730\n",
            "Epoch 35/40\n",
            "19/19 [==============================] - 4s 204ms/step - loss: 4.9900e-05 - accuracy: 1.0000 - val_loss: 0.1557 - val_accuracy: 0.9730\n",
            "Epoch 36/40\n",
            "19/19 [==============================] - 4s 203ms/step - loss: 4.8231e-05 - accuracy: 1.0000 - val_loss: 0.1567 - val_accuracy: 0.9730\n",
            "Epoch 37/40\n",
            "19/19 [==============================] - 4s 204ms/step - loss: 4.6265e-05 - accuracy: 1.0000 - val_loss: 0.1571 - val_accuracy: 0.9730\n",
            "Epoch 38/40\n",
            "19/19 [==============================] - 4s 205ms/step - loss: 4.4708e-05 - accuracy: 1.0000 - val_loss: 0.1576 - val_accuracy: 0.9730\n",
            "Epoch 39/40\n",
            "19/19 [==============================] - 4s 202ms/step - loss: 4.3165e-05 - accuracy: 1.0000 - val_loss: 0.1580 - val_accuracy: 0.9730\n",
            "Epoch 40/40\n",
            "19/19 [==============================] - 4s 202ms/step - loss: 4.1808e-05 - accuracy: 1.0000 - val_loss: 0.1588 - val_accuracy: 0.9730\n",
            "CPU times: user 2min 22s, sys: 28.4 s, total: 2min 50s\n",
            "Wall time: 7min 8s\n"
          ]
        }
      ]
    },
    {
      "cell_type": "code",
      "source": [
        "wandb.finish()"
      ],
      "metadata": {
        "colab": {
          "base_uri": "https://localhost:8080/",
          "height": 333
        },
        "id": "WaZ2tnFeETsF",
        "outputId": "40ad0e92-cbaa-4665-9b46-a0099f083b59"
      },
      "execution_count": 10,
      "outputs": [
        {
          "output_type": "display_data",
          "data": {
            "text/plain": [
              "<IPython.core.display.HTML object>"
            ],
            "text/html": [
              "Waiting for W&B process to finish... <strong style=\"color:green\">(success).</strong>"
            ]
          },
          "metadata": {}
        },
        {
          "output_type": "display_data",
          "data": {
            "text/plain": [
              "<IPython.core.display.HTML object>"
            ],
            "text/html": [
              "<style>\n",
              "    table.wandb td:nth-child(1) { padding: 0 10px; text-align: left ; width: auto;} td:nth-child(2) {text-align: left ; width: 100%}\n",
              "    .wandb-row { display: flex; flex-direction: row; flex-wrap: wrap; justify-content: flex-start; width: 100% }\n",
              "    .wandb-col { display: flex; flex-direction: column; flex-basis: 100%; flex: 1; padding: 10px; }\n",
              "    </style>\n",
              "<div class=\"wandb-row\"><div class=\"wandb-col\"><h3>Run history:</h3><br/><table class=\"wandb\"><tr><td>accuracy</td><td>▁███████████████████████████████████████</td></tr><tr><td>epoch</td><td>▁▁▁▂▂▂▂▂▂▃▃▃▃▃▄▄▄▄▄▄▅▅▅▅▅▅▆▆▆▆▆▇▇▇▇▇▇███</td></tr><tr><td>loss</td><td>█▁▁▁▁▁▁▁▁▁▁▁▁▁▁▁▁▁▁▁▁▁▁▁▁▁▁▁▁▁▁▁▁▁▁▁▁▁▁▁</td></tr><tr><td>val_accuracy</td><td>▁▄▅█████████████████████████████████████</td></tr><tr><td>val_loss</td><td>█▅▇▁▁▁▂▂▂▂▂▃▃▃▃▃▃▃▃▃▃▃▃▃▃▃▃▄▃▄▄▄▄▄▄▄▄▄▄▄</td></tr></table><br/></div><div class=\"wandb-col\"><h3>Run summary:</h3><br/><table class=\"wandb\"><tr><td>accuracy</td><td>1.0</td></tr><tr><td>best_epoch</td><td>4</td></tr><tr><td>best_val_loss</td><td>0.11806</td></tr><tr><td>epoch</td><td>39</td></tr><tr><td>loss</td><td>4e-05</td></tr><tr><td>val_accuracy</td><td>0.97297</td></tr><tr><td>val_loss</td><td>0.15884</td></tr></table><br/></div></div>"
            ]
          },
          "metadata": {}
        },
        {
          "output_type": "display_data",
          "data": {
            "text/plain": [
              "<IPython.core.display.HTML object>"
            ],
            "text/html": [
              "Synced <strong style=\"color:#cdcd00\">Xception</strong>: <a href=\"https://wandb.ai/vedmanivaidya/Transfer_learning/runs/3ndxkssy\" target=\"_blank\">https://wandb.ai/vedmanivaidya/Transfer_learning/runs/3ndxkssy</a><br/>Synced 5 W&B file(s), 1 media file(s), 13 artifact file(s) and 1 other file(s)"
            ]
          },
          "metadata": {}
        },
        {
          "output_type": "display_data",
          "data": {
            "text/plain": [
              "<IPython.core.display.HTML object>"
            ],
            "text/html": [
              "Find logs at: <code>./wandb/run-20221018_055316-3ndxkssy/logs</code>"
            ]
          },
          "metadata": {}
        }
      ]
    },
    {
      "cell_type": "code",
      "source": [],
      "metadata": {
        "id": "evsoqZlgK-dc"
      },
      "execution_count": 10,
      "outputs": []
    }
  ],
  "metadata": {
    "kernelspec": {
      "display_name": "Python 3",
      "language": "python",
      "name": "python3"
    },
    "language_info": {
      "codemirror_mode": {
        "name": "ipython",
        "version": 2
      },
      "file_extension": ".py",
      "mimetype": "text/x-python",
      "name": "python",
      "nbconvert_exporter": "python",
      "pygments_lexer": "ipython2",
      "version": "2.7.6"
    },
    "colab": {
      "provenance": [],
      "include_colab_link": true
    },
    "accelerator": "GPU"
  },
  "nbformat": 4,
  "nbformat_minor": 0
}