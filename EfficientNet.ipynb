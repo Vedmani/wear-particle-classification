{
  "nbformat": 4,
  "nbformat_minor": 0,
  "metadata": {
    "colab": {
      "provenance": [],
      "include_colab_link": true
    },
    "kernelspec": {
      "name": "python3",
      "display_name": "Python 3"
    },
    "language_info": {
      "name": "python"
    },
    "accelerator": "GPU"
  },
  "cells": [
    {
      "cell_type": "markdown",
      "metadata": {
        "id": "view-in-github",
        "colab_type": "text"
      },
      "source": [
        "<a href=\"https://colab.research.google.com/github/Vedmani/wear-particle-classification/blob/main/EfficientNet.ipynb\" target=\"_parent\"><img src=\"https://colab.research.google.com/assets/colab-badge.svg\" alt=\"Open In Colab\"/></a>"
      ]
    },
    {
      "cell_type": "code",
      "source": [
        "from google.colab import drive\n",
        "drive.mount('/content/drive')"
      ],
      "metadata": {
        "colab": {
          "base_uri": "https://localhost:8080/"
        },
        "id": "ZR7-aOAQ31Ar",
        "outputId": "1454eb06-e142-49d5-b907-e514cc21f364"
      },
      "execution_count": 1,
      "outputs": [
        {
          "output_type": "stream",
          "name": "stdout",
          "text": [
            "Mounted at /content/drive\n"
          ]
        }
      ]
    },
    {
      "cell_type": "code",
      "execution_count": 2,
      "metadata": {
        "colab": {
          "base_uri": "https://localhost:8080/"
        },
        "id": "QxiItsQzRwSe",
        "outputId": "f6d43cc3-b57a-4cbb-901e-06ca1e60d91e"
      },
      "outputs": [
        {
          "output_type": "stream",
          "name": "stdout",
          "text": [
            "\u001b[K     |████████████████████████████████| 1.9 MB 15.2 MB/s \n",
            "\u001b[K     |████████████████████████████████| 182 kB 79.2 MB/s \n",
            "\u001b[K     |████████████████████████████████| 168 kB 70.4 MB/s \n",
            "\u001b[K     |████████████████████████████████| 62 kB 1.7 MB/s \n",
            "\u001b[K     |████████████████████████████████| 168 kB 80.7 MB/s \n",
            "\u001b[K     |████████████████████████████████| 166 kB 79.7 MB/s \n",
            "\u001b[K     |████████████████████████████████| 166 kB 86.2 MB/s \n",
            "\u001b[K     |████████████████████████████████| 162 kB 85.5 MB/s \n",
            "\u001b[K     |████████████████████████████████| 162 kB 69.9 MB/s \n",
            "\u001b[K     |████████████████████████████████| 158 kB 69.0 MB/s \n",
            "\u001b[K     |████████████████████████████████| 157 kB 82.0 MB/s \n",
            "\u001b[K     |████████████████████████████████| 157 kB 80.6 MB/s \n",
            "\u001b[K     |████████████████████████████████| 157 kB 81.2 MB/s \n",
            "\u001b[K     |████████████████████████████████| 157 kB 86.2 MB/s \n",
            "\u001b[K     |████████████████████████████████| 157 kB 54.2 MB/s \n",
            "\u001b[K     |████████████████████████████████| 157 kB 87.1 MB/s \n",
            "\u001b[K     |████████████████████████████████| 157 kB 82.9 MB/s \n",
            "\u001b[K     |████████████████████████████████| 156 kB 86.8 MB/s \n",
            "\u001b[?25h  Building wheel for pathtools (setup.py) ... \u001b[?25l\u001b[?25hdone\n",
            "\u001b[34m\u001b[1mwandb\u001b[0m: Logging into wandb.ai. (Learn how to deploy a W&B server locally: https://wandb.me/wandb-server)\n",
            "\u001b[34m\u001b[1mwandb\u001b[0m: You can find your API key in your browser here: https://wandb.ai/authorize\n",
            "\u001b[34m\u001b[1mwandb\u001b[0m: Paste an API key from your profile and hit enter, or press ctrl+c to quit: \n",
            "\u001b[34m\u001b[1mwandb\u001b[0m: Appending key for api.wandb.ai to your netrc file: /root/.netrc\n"
          ]
        }
      ],
      "source": [
        "!pip install wandb -qU\n",
        "!wandb login"
      ]
    },
    {
      "cell_type": "code",
      "source": [
        "import tensorflow as tf\n",
        "from tensorflow import keras\n",
        "from tensorflow.keras import layers\n",
        "from tensorflow.keras.models import Sequential\n",
        "import wandb\n",
        "from wandb.keras import WandbCallback"
      ],
      "metadata": {
        "id": "UoTcwc81Sbn_"
      },
      "execution_count": 3,
      "outputs": []
    },
    {
      "cell_type": "code",
      "source": [
        "tf.keras.utils.set_random_seed(1)\n",
        "tf.config.experimental.enable_op_determinism()"
      ],
      "metadata": {
        "id": "oduQZFwfShFr"
      },
      "execution_count": 4,
      "outputs": []
    },
    {
      "cell_type": "code",
      "source": [
        "PATH = '/content/drive/MyDrive/Research Internship/final data/wear particles/Train'\n",
        "test_path = '/content/drive/MyDrive/Research Internship/final data/wear particles/Test'\n",
        "batch_size = 32\n",
        "img_height = 224\n",
        "img_width = 224\n",
        "\n",
        "train_ds = tf.keras.utils.image_dataset_from_directory(\n",
        "  PATH,\n",
        "  validation_split=0.2,\n",
        "  subset=\"training\",\n",
        "  seed=42,\n",
        "  image_size=(img_height, img_width),\n",
        "  batch_size=batch_size)\n",
        "\n",
        "val_ds = tf.keras.utils.image_dataset_from_directory(\n",
        "  PATH,\n",
        "  validation_split=0.2,\n",
        "  subset=\"validation\",\n",
        "  seed=42,\n",
        "  image_size=(img_height, img_width),\n",
        "  batch_size=batch_size)\n",
        "\n",
        "test_ds = tf.keras.utils.image_dataset_from_directory(\n",
        "  test_path,\n",
        "  seed = 42,\n",
        "  image_size=(img_height, img_width))\n",
        "\n",
        "class_names = train_ds.class_names\n",
        "test_class_names = test_ds.class_names\n",
        "num_classes = len(class_names)\n",
        "print(class_names)"
      ],
      "metadata": {
        "colab": {
          "base_uri": "https://localhost:8080/"
        },
        "id": "0E-XLtG3SlC8",
        "outputId": "8416a98e-d2e4-489d-a050-5664cc038b2b"
      },
      "execution_count": 5,
      "outputs": [
        {
          "output_type": "stream",
          "name": "stdout",
          "text": [
            "Found 879 files belonging to 5 classes.\n",
            "Using 704 files for training.\n",
            "Found 879 files belonging to 5 classes.\n",
            "Using 175 files for validation.\n",
            "Found 100 files belonging to 5 classes.\n",
            "['cutting wear', 'normal rubbing and cutting wear combined', 'normal rubbing wear', 'red oxide', 'severe sliding wear']\n"
          ]
        }
      ]
    },
    {
      "cell_type": "code",
      "source": [
        "efficientnet = tf.keras.applications.EfficientNetB0(\n",
        "    include_top=False,\n",
        "    weights=\"imagenet\",\n",
        "    input_tensor=None,\n",
        "    input_shape=None,\n",
        "    pooling='avg',\n",
        "    classes=1000,\n",
        "    classifier_activation=\"softmax\"\n",
        "    )\n",
        "\n",
        "model_efficientnet=Sequential([\n",
        "  layers.Rescaling(1./255, input_shape=(img_height, img_width, 3)),\n",
        "  efficientnet,\n",
        "  #layers.Flatten(),\n",
        "  #layers.Dense(32, activation='relu'),\n",
        "  layers.Dropout(0.2), \n",
        "  layers.Dense(num_classes, activation='softmax')\n",
        "])\n",
        "efficientnet.trainable=False\n",
        "model_efficientnet.summary()"
      ],
      "metadata": {
        "colab": {
          "base_uri": "https://localhost:8080/"
        },
        "id": "d8Z_aGpGSxJL",
        "outputId": "b6072cbf-9847-4cb2-d596-a729ed04aed0"
      },
      "execution_count": 6,
      "outputs": [
        {
          "output_type": "stream",
          "name": "stdout",
          "text": [
            "Downloading data from https://storage.googleapis.com/keras-applications/efficientnetb0_notop.h5\n",
            "16705208/16705208 [==============================] - 1s 0us/step\n",
            "Model: \"sequential\"\n",
            "_________________________________________________________________\n",
            " Layer (type)                Output Shape              Param #   \n",
            "=================================================================\n",
            " rescaling_1 (Rescaling)     (None, 224, 224, 3)       0         \n",
            "                                                                 \n",
            " efficientnetb0 (Functional)  (None, 1280)             4049571   \n",
            "                                                                 \n",
            " dropout (Dropout)           (None, 1280)              0         \n",
            "                                                                 \n",
            " dense (Dense)               (None, 5)                 6405      \n",
            "                                                                 \n",
            "=================================================================\n",
            "Total params: 4,055,976\n",
            "Trainable params: 6,405\n",
            "Non-trainable params: 4,049,571\n",
            "_________________________________________________________________\n"
          ]
        }
      ]
    },
    {
      "cell_type": "code",
      "source": [
        "model_efficientnet.compile(\n",
        "              optimizer= tf.keras.optimizers.Adam(learning_rate=0.001, beta_1=0.9, beta_2=0.999, epsilon=1e-07, amsgrad=False, name='Adam'),\n",
        "              loss=tf.keras.losses.SparseCategoricalCrossentropy(from_logits=False),\n",
        "              metrics=['accuracy']\n",
        "              )"
      ],
      "metadata": {
        "id": "7hfWBYVYUtws"
      },
      "execution_count": 7,
      "outputs": []
    },
    {
      "cell_type": "code",
      "source": [
        "wandb.init(\n",
        "      # Set the project where this run will be logged\n",
        "      project=\"Transfer_Learning_New\", \n",
        "      name = \"EfficientnetB0\"\n",
        ")"
      ],
      "metadata": {
        "colab": {
          "base_uri": "https://localhost:8080/",
          "height": 147
        },
        "id": "W6ma9xyCUwJb",
        "outputId": "6a7d4cad-5e3d-40d0-a571-09238bb01698"
      },
      "execution_count": 8,
      "outputs": [
        {
          "output_type": "stream",
          "name": "stderr",
          "text": [
            "ERROR:wandb.jupyter:Failed to detect the name of this notebook, you can set it manually with the WANDB_NOTEBOOK_NAME environment variable to enable code saving.\n",
            "\u001b[34m\u001b[1mwandb\u001b[0m: Currently logged in as: \u001b[33mvedmanivaidya\u001b[0m. Use \u001b[1m`wandb login --relogin`\u001b[0m to force relogin\n"
          ]
        },
        {
          "output_type": "display_data",
          "data": {
            "text/plain": [
              "<IPython.core.display.HTML object>"
            ],
            "text/html": [
              "Tracking run with wandb version 0.13.6"
            ]
          },
          "metadata": {}
        },
        {
          "output_type": "display_data",
          "data": {
            "text/plain": [
              "<IPython.core.display.HTML object>"
            ],
            "text/html": [
              "Run data is saved locally in <code>/content/wandb/run-20221213_110705-1x2t4mwv</code>"
            ]
          },
          "metadata": {}
        },
        {
          "output_type": "display_data",
          "data": {
            "text/plain": [
              "<IPython.core.display.HTML object>"
            ],
            "text/html": [
              "Syncing run <strong><a href=\"https://wandb.ai/vedmanivaidya/Transfer_Learning_New/runs/1x2t4mwv\" target=\"_blank\">EfficientnetB0</a></strong> to <a href=\"https://wandb.ai/vedmanivaidya/Transfer_Learning_New\" target=\"_blank\">Weights & Biases</a> (<a href=\"https://wandb.me/run\" target=\"_blank\">docs</a>)<br/>"
            ]
          },
          "metadata": {}
        },
        {
          "output_type": "execute_result",
          "data": {
            "text/html": [
              "<button onClick=\"this.nextSibling.style.display='block';this.style.display='none';\">Display W&B run</button><iframe src=\"https://wandb.ai/vedmanivaidya/Transfer_Learning_New/runs/1x2t4mwv?jupyter=true\" style=\"border:none;width:100%;height:420px;display:none;\"></iframe>"
            ],
            "text/plain": [
              "<wandb.sdk.wandb_run.Run at 0x7fe89a37aaf0>"
            ]
          },
          "metadata": {},
          "execution_count": 8
        }
      ]
    },
    {
      "cell_type": "code",
      "source": [
        "%%time\n",
        "epochs=40\n",
        "history = model_efficientnet.fit(\n",
        "  train_ds,\n",
        "  validation_data=val_ds,\n",
        "  epochs=epochs,\n",
        "callbacks=[WandbCallback()]\n",
        ")"
      ],
      "metadata": {
        "colab": {
          "base_uri": "https://localhost:8080/"
        },
        "id": "YpSkp0yBUyPw",
        "outputId": "946a145e-f29d-47b7-f4ac-2cb24b11fcf9"
      },
      "execution_count": 9,
      "outputs": [
        {
          "output_type": "stream",
          "name": "stderr",
          "text": [
            "\u001b[34m\u001b[1mwandb\u001b[0m: \u001b[33mWARNING\u001b[0m The save_model argument by default saves the model in the HDF5 format that cannot save custom objects like subclassed models and custom layers. This behavior will be deprecated in a future release in favor of the SavedModel format. Meanwhile, the HDF5 model is saved as W&B files and the SavedModel as W&B Artifacts.\n"
          ]
        },
        {
          "output_type": "stream",
          "name": "stdout",
          "text": [
            "Epoch 1/40\n",
            "22/22 [==============================] - ETA: 0s - loss: 1.4513 - accuracy: 0.3622"
          ]
        },
        {
          "output_type": "stream",
          "name": "stderr",
          "text": [
            "WARNING:absl:Found untraced functions such as _jit_compiled_convolution_op, _jit_compiled_convolution_op, _jit_compiled_convolution_op, _jit_compiled_convolution_op, _jit_compiled_convolution_op while saving (showing 5 of 81). These functions will not be directly callable after loading.\n",
            "\u001b[34m\u001b[1mwandb\u001b[0m: Adding directory to artifact (/content/wandb/run-20221213_110705-1x2t4mwv/files/model-best)... Done. 0.1s\n"
          ]
        },
        {
          "output_type": "stream",
          "name": "stdout",
          "text": [
            "\b\b\b\b\b\b\b\b\b\b\b\b\b\b\b\b\b\b\b\b\b\b\b\b\b\b\b\b\b\b\b\b\b\b\b\b\b\b\b\b\b\b\b\b\b\b\b\b\b\b\b\b\b\b\b\b\b\b\b\b\b\b\b\b\b\b\b\b\b\b\b\b\b\b\b\b\b\b\b\b\b\b\r22/22 [==============================] - 228s 7s/step - loss: 1.4513 - accuracy: 0.3622 - val_loss: 1.4410 - val_accuracy: 0.3886\n",
            "Epoch 2/40\n",
            "22/22 [==============================] - ETA: 0s - loss: 1.4017 - accuracy: 0.3636"
          ]
        },
        {
          "output_type": "stream",
          "name": "stderr",
          "text": [
            "WARNING:absl:Found untraced functions such as _jit_compiled_convolution_op, _jit_compiled_convolution_op, _jit_compiled_convolution_op, _jit_compiled_convolution_op, _jit_compiled_convolution_op while saving (showing 5 of 81). These functions will not be directly callable after loading.\n",
            "\u001b[34m\u001b[1mwandb\u001b[0m: Adding directory to artifact (/content/wandb/run-20221213_110705-1x2t4mwv/files/model-best)... Done. 0.1s\n"
          ]
        },
        {
          "output_type": "stream",
          "name": "stdout",
          "text": [
            "\b\b\b\b\b\b\b\b\b\b\b\b\b\b\b\b\b\b\b\b\b\b\b\b\b\b\b\b\b\b\b\b\b\b\b\b\b\b\b\b\b\b\b\b\b\b\b\b\b\b\b\b\b\b\b\b\b\b\b\b\b\b\b\b\b\b\b\b\b\b\b\b\b\b\b\b\b\b\b\b\b\b\r22/22 [==============================] - 37s 2s/step - loss: 1.4017 - accuracy: 0.3636 - val_loss: 1.4296 - val_accuracy: 0.3886\n",
            "Epoch 3/40\n",
            "22/22 [==============================] - 3s 118ms/step - loss: 1.4047 - accuracy: 0.3736 - val_loss: 1.4308 - val_accuracy: 0.3886\n",
            "Epoch 4/40\n",
            "22/22 [==============================] - 3s 116ms/step - loss: 1.3950 - accuracy: 0.3963 - val_loss: 1.4296 - val_accuracy: 0.3886\n",
            "Epoch 5/40\n",
            "22/22 [==============================] - ETA: 0s - loss: 1.4026 - accuracy: 0.3707"
          ]
        },
        {
          "output_type": "stream",
          "name": "stderr",
          "text": [
            "WARNING:absl:Found untraced functions such as _jit_compiled_convolution_op, _jit_compiled_convolution_op, _jit_compiled_convolution_op, _jit_compiled_convolution_op, _jit_compiled_convolution_op while saving (showing 5 of 81). These functions will not be directly callable after loading.\n",
            "\u001b[34m\u001b[1mwandb\u001b[0m: Adding directory to artifact (/content/wandb/run-20221213_110705-1x2t4mwv/files/model-best)... Done. 0.1s\n"
          ]
        },
        {
          "output_type": "stream",
          "name": "stdout",
          "text": [
            "\b\b\b\b\b\b\b\b\b\b\b\b\b\b\b\b\b\b\b\b\b\b\b\b\b\b\b\b\b\b\b\b\b\b\b\b\b\b\b\b\b\b\b\b\b\b\b\b\b\b\b\b\b\b\b\b\b\b\b\b\b\b\b\b\b\b\b\b\b\b\b\b\b\b\b\b\b\b\b\b\b\b\r22/22 [==============================] - 38s 2s/step - loss: 1.4026 - accuracy: 0.3707 - val_loss: 1.4248 - val_accuracy: 0.3886\n",
            "Epoch 6/40\n",
            "22/22 [==============================] - ETA: 0s - loss: 1.4057 - accuracy: 0.3679"
          ]
        },
        {
          "output_type": "stream",
          "name": "stderr",
          "text": [
            "WARNING:absl:Found untraced functions such as _jit_compiled_convolution_op, _jit_compiled_convolution_op, _jit_compiled_convolution_op, _jit_compiled_convolution_op, _jit_compiled_convolution_op while saving (showing 5 of 81). These functions will not be directly callable after loading.\n",
            "\u001b[34m\u001b[1mwandb\u001b[0m: Adding directory to artifact (/content/wandb/run-20221213_110705-1x2t4mwv/files/model-best)... Done. 0.1s\n"
          ]
        },
        {
          "output_type": "stream",
          "name": "stdout",
          "text": [
            "\b\b\b\b\b\b\b\b\b\b\b\b\b\b\b\b\b\b\b\b\b\b\b\b\b\b\b\b\b\b\b\b\b\b\b\b\b\b\b\b\b\b\b\b\b\b\b\b\b\b\b\b\b\b\b\b\b\b\b\b\b\b\b\b\b\b\b\b\b\b\b\b\b\b\b\b\b\b\b\b\b\b\r22/22 [==============================] - 38s 2s/step - loss: 1.4057 - accuracy: 0.3679 - val_loss: 1.4154 - val_accuracy: 0.3886\n",
            "Epoch 7/40\n",
            "22/22 [==============================] - 3s 118ms/step - loss: 1.4090 - accuracy: 0.3793 - val_loss: 1.4362 - val_accuracy: 0.3886\n",
            "Epoch 8/40\n",
            "22/22 [==============================] - ETA: 0s - loss: 1.4074 - accuracy: 0.3722"
          ]
        },
        {
          "output_type": "stream",
          "name": "stderr",
          "text": [
            "WARNING:absl:Found untraced functions such as _jit_compiled_convolution_op, _jit_compiled_convolution_op, _jit_compiled_convolution_op, _jit_compiled_convolution_op, _jit_compiled_convolution_op while saving (showing 5 of 81). These functions will not be directly callable after loading.\n",
            "\u001b[34m\u001b[1mwandb\u001b[0m: Adding directory to artifact (/content/wandb/run-20221213_110705-1x2t4mwv/files/model-best)... Done. 0.1s\n"
          ]
        },
        {
          "output_type": "stream",
          "name": "stdout",
          "text": [
            "\b\b\b\b\b\b\b\b\b\b\b\b\b\b\b\b\b\b\b\b\b\b\b\b\b\b\b\b\b\b\b\b\b\b\b\b\b\b\b\b\b\b\b\b\b\b\b\b\b\b\b\b\b\b\b\b\b\b\b\b\b\b\b\b\b\b\b\b\b\b\b\b\b\b\b\b\b\b\b\b\b\b\r22/22 [==============================] - 37s 2s/step - loss: 1.4074 - accuracy: 0.3722 - val_loss: 1.4107 - val_accuracy: 0.3886\n",
            "Epoch 9/40\n",
            "22/22 [==============================] - 3s 120ms/step - loss: 1.3945 - accuracy: 0.3693 - val_loss: 1.4205 - val_accuracy: 0.3886\n",
            "Epoch 10/40\n",
            "22/22 [==============================] - 3s 117ms/step - loss: 1.4020 - accuracy: 0.3878 - val_loss: 1.4181 - val_accuracy: 0.3886\n",
            "Epoch 11/40\n",
            "22/22 [==============================] - 3s 115ms/step - loss: 1.3896 - accuracy: 0.3949 - val_loss: 1.4152 - val_accuracy: 0.3886\n",
            "Epoch 12/40\n",
            "22/22 [==============================] - ETA: 0s - loss: 1.3899 - accuracy: 0.4091"
          ]
        },
        {
          "output_type": "stream",
          "name": "stderr",
          "text": [
            "WARNING:absl:Found untraced functions such as _jit_compiled_convolution_op, _jit_compiled_convolution_op, _jit_compiled_convolution_op, _jit_compiled_convolution_op, _jit_compiled_convolution_op while saving (showing 5 of 81). These functions will not be directly callable after loading.\n",
            "\u001b[34m\u001b[1mwandb\u001b[0m: Adding directory to artifact (/content/wandb/run-20221213_110705-1x2t4mwv/files/model-best)... Done. 0.1s\n"
          ]
        },
        {
          "output_type": "stream",
          "name": "stdout",
          "text": [
            "\b\b\b\b\b\b\b\b\b\b\b\b\b\b\b\b\b\b\b\b\b\b\b\b\b\b\b\b\b\b\b\b\b\b\b\b\b\b\b\b\b\b\b\b\b\b\b\b\b\b\b\b\b\b\b\b\b\b\b\b\b\b\b\b\b\b\b\b\b\b\b\b\b\b\b\b\b\b\b\b\b\b\r22/22 [==============================] - 37s 2s/step - loss: 1.3899 - accuracy: 0.4091 - val_loss: 1.4072 - val_accuracy: 0.3886\n",
            "Epoch 13/40\n",
            "22/22 [==============================] - 3s 115ms/step - loss: 1.3954 - accuracy: 0.3963 - val_loss: 1.4229 - val_accuracy: 0.3886\n",
            "Epoch 14/40\n",
            "22/22 [==============================] - ETA: 0s - loss: 1.3856 - accuracy: 0.4062"
          ]
        },
        {
          "output_type": "stream",
          "name": "stderr",
          "text": [
            "WARNING:absl:Found untraced functions such as _jit_compiled_convolution_op, _jit_compiled_convolution_op, _jit_compiled_convolution_op, _jit_compiled_convolution_op, _jit_compiled_convolution_op while saving (showing 5 of 81). These functions will not be directly callable after loading.\n",
            "\u001b[34m\u001b[1mwandb\u001b[0m: Adding directory to artifact (/content/wandb/run-20221213_110705-1x2t4mwv/files/model-best)... Done. 0.1s\n"
          ]
        },
        {
          "output_type": "stream",
          "name": "stdout",
          "text": [
            "\b\b\b\b\b\b\b\b\b\b\b\b\b\b\b\b\b\b\b\b\b\b\b\b\b\b\b\b\b\b\b\b\b\b\b\b\b\b\b\b\b\b\b\b\b\b\b\b\b\b\b\b\b\b\b\b\b\b\b\b\b\b\b\b\b\b\b\b\b\b\b\b\b\b\b\b\b\b\b\b\b\b\r22/22 [==============================] - 38s 2s/step - loss: 1.3856 - accuracy: 0.4062 - val_loss: 1.4013 - val_accuracy: 0.3886\n",
            "Epoch 15/40\n",
            "22/22 [==============================] - 3s 120ms/step - loss: 1.3907 - accuracy: 0.3835 - val_loss: 1.4102 - val_accuracy: 0.3886\n",
            "Epoch 16/40\n",
            "22/22 [==============================] - 3s 116ms/step - loss: 1.3862 - accuracy: 0.4006 - val_loss: 1.4176 - val_accuracy: 0.3886\n",
            "Epoch 17/40\n",
            "22/22 [==============================] - 3s 118ms/step - loss: 1.3953 - accuracy: 0.4077 - val_loss: 1.4064 - val_accuracy: 0.3886\n",
            "Epoch 18/40\n",
            "22/22 [==============================] - 3s 116ms/step - loss: 1.3693 - accuracy: 0.4233 - val_loss: 1.4075 - val_accuracy: 0.3886\n",
            "Epoch 19/40\n",
            "22/22 [==============================] - ETA: 0s - loss: 1.3917 - accuracy: 0.4006"
          ]
        },
        {
          "output_type": "stream",
          "name": "stderr",
          "text": [
            "WARNING:absl:Found untraced functions such as _jit_compiled_convolution_op, _jit_compiled_convolution_op, _jit_compiled_convolution_op, _jit_compiled_convolution_op, _jit_compiled_convolution_op while saving (showing 5 of 81). These functions will not be directly callable after loading.\n",
            "\u001b[34m\u001b[1mwandb\u001b[0m: Adding directory to artifact (/content/wandb/run-20221213_110705-1x2t4mwv/files/model-best)... Done. 0.1s\n"
          ]
        },
        {
          "output_type": "stream",
          "name": "stdout",
          "text": [
            "\b\b\b\b\b\b\b\b\b\b\b\b\b\b\b\b\b\b\b\b\b\b\b\b\b\b\b\b\b\b\b\b\b\b\b\b\b\b\b\b\b\b\b\b\b\b\b\b\b\b\b\b\b\b\b\b\b\b\b\b\b\b\b\b\b\b\b\b\b\b\b\b\b\b\b\b\b\b\b\b\b\b\r22/22 [==============================] - 39s 2s/step - loss: 1.3917 - accuracy: 0.4006 - val_loss: 1.3980 - val_accuracy: 0.3886\n",
            "Epoch 20/40\n",
            "22/22 [==============================] - ETA: 0s - loss: 1.3795 - accuracy: 0.4105"
          ]
        },
        {
          "output_type": "stream",
          "name": "stderr",
          "text": [
            "WARNING:absl:Found untraced functions such as _jit_compiled_convolution_op, _jit_compiled_convolution_op, _jit_compiled_convolution_op, _jit_compiled_convolution_op, _jit_compiled_convolution_op while saving (showing 5 of 81). These functions will not be directly callable after loading.\n",
            "\u001b[34m\u001b[1mwandb\u001b[0m: Adding directory to artifact (/content/wandb/run-20221213_110705-1x2t4mwv/files/model-best)... Done. 0.1s\n"
          ]
        },
        {
          "output_type": "stream",
          "name": "stdout",
          "text": [
            "\b\b\b\b\b\b\b\b\b\b\b\b\b\b\b\b\b\b\b\b\b\b\b\b\b\b\b\b\b\b\b\b\b\b\b\b\b\b\b\b\b\b\b\b\b\b\b\b\b\b\b\b\b\b\b\b\b\b\b\b\b\b\b\b\b\b\b\b\b\b\b\b\b\b\b\b\b\b\b\b\b\b\r22/22 [==============================] - 38s 2s/step - loss: 1.3795 - accuracy: 0.4105 - val_loss: 1.3935 - val_accuracy: 0.3886\n",
            "Epoch 21/40\n",
            "22/22 [==============================] - 3s 120ms/step - loss: 1.3783 - accuracy: 0.3949 - val_loss: 1.4135 - val_accuracy: 0.3886\n",
            "Epoch 22/40\n",
            "22/22 [==============================] - 3s 116ms/step - loss: 1.3814 - accuracy: 0.4134 - val_loss: 1.4044 - val_accuracy: 0.3886\n",
            "Epoch 23/40\n",
            "22/22 [==============================] - ETA: 0s - loss: 1.3759 - accuracy: 0.4318"
          ]
        },
        {
          "output_type": "stream",
          "name": "stderr",
          "text": [
            "WARNING:absl:Found untraced functions such as _jit_compiled_convolution_op, _jit_compiled_convolution_op, _jit_compiled_convolution_op, _jit_compiled_convolution_op, _jit_compiled_convolution_op while saving (showing 5 of 81). These functions will not be directly callable after loading.\n",
            "\u001b[34m\u001b[1mwandb\u001b[0m: Adding directory to artifact (/content/wandb/run-20221213_110705-1x2t4mwv/files/model-best)... Done. 0.1s\n"
          ]
        },
        {
          "output_type": "stream",
          "name": "stdout",
          "text": [
            "\b\b\b\b\b\b\b\b\b\b\b\b\b\b\b\b\b\b\b\b\b\b\b\b\b\b\b\b\b\b\b\b\b\b\b\b\b\b\b\b\b\b\b\b\b\b\b\b\b\b\b\b\b\b\b\b\b\b\b\b\b\b\b\b\b\b\b\b\b\b\b\b\b\b\b\b\b\b\b\b\b\b\r22/22 [==============================] - 38s 2s/step - loss: 1.3759 - accuracy: 0.4318 - val_loss: 1.3916 - val_accuracy: 0.3886\n",
            "Epoch 24/40\n",
            "22/22 [==============================] - 3s 119ms/step - loss: 1.3942 - accuracy: 0.3935 - val_loss: 1.4024 - val_accuracy: 0.3886\n",
            "Epoch 25/40\n",
            "22/22 [==============================] - 3s 116ms/step - loss: 1.3851 - accuracy: 0.4134 - val_loss: 1.4027 - val_accuracy: 0.3886\n",
            "Epoch 26/40\n",
            "22/22 [==============================] - 3s 117ms/step - loss: 1.3930 - accuracy: 0.3693 - val_loss: 1.3978 - val_accuracy: 0.3886\n",
            "Epoch 27/40\n",
            "22/22 [==============================] - ETA: 0s - loss: 1.3816 - accuracy: 0.4006"
          ]
        },
        {
          "output_type": "stream",
          "name": "stderr",
          "text": [
            "WARNING:absl:Found untraced functions such as _jit_compiled_convolution_op, _jit_compiled_convolution_op, _jit_compiled_convolution_op, _jit_compiled_convolution_op, _jit_compiled_convolution_op while saving (showing 5 of 81). These functions will not be directly callable after loading.\n",
            "\u001b[34m\u001b[1mwandb\u001b[0m: Adding directory to artifact (/content/wandb/run-20221213_110705-1x2t4mwv/files/model-best)... Done. 0.1s\n"
          ]
        },
        {
          "output_type": "stream",
          "name": "stdout",
          "text": [
            "\b\b\b\b\b\b\b\b\b\b\b\b\b\b\b\b\b\b\b\b\b\b\b\b\b\b\b\b\b\b\b\b\b\b\b\b\b\b\b\b\b\b\b\b\b\b\b\b\b\b\b\b\b\b\b\b\b\b\b\b\b\b\b\b\b\b\b\b\b\b\b\b\b\b\b\b\b\b\b\b\b\b\r22/22 [==============================] - 37s 2s/step - loss: 1.3816 - accuracy: 0.4006 - val_loss: 1.3818 - val_accuracy: 0.3886\n",
            "Epoch 28/40\n",
            "22/22 [==============================] - 3s 118ms/step - loss: 1.3791 - accuracy: 0.4190 - val_loss: 1.3960 - val_accuracy: 0.3886\n",
            "Epoch 29/40\n",
            "22/22 [==============================] - 3s 115ms/step - loss: 1.3751 - accuracy: 0.4219 - val_loss: 1.4077 - val_accuracy: 0.3886\n",
            "Epoch 30/40\n",
            "22/22 [==============================] - 3s 115ms/step - loss: 1.3987 - accuracy: 0.4162 - val_loss: 1.3825 - val_accuracy: 0.3886\n",
            "Epoch 31/40\n",
            "22/22 [==============================] - 3s 115ms/step - loss: 1.3735 - accuracy: 0.4148 - val_loss: 1.4036 - val_accuracy: 0.3886\n",
            "Epoch 32/40\n",
            "22/22 [==============================] - 3s 115ms/step - loss: 1.3676 - accuracy: 0.4247 - val_loss: 1.3980 - val_accuracy: 0.3886\n",
            "Epoch 33/40\n",
            "22/22 [==============================] - 3s 115ms/step - loss: 1.3791 - accuracy: 0.4134 - val_loss: 1.3877 - val_accuracy: 0.3886\n",
            "Epoch 34/40\n",
            "22/22 [==============================] - 3s 118ms/step - loss: 1.3737 - accuracy: 0.4247 - val_loss: 1.4021 - val_accuracy: 0.4800\n",
            "Epoch 35/40\n",
            "22/22 [==============================] - 3s 116ms/step - loss: 1.3654 - accuracy: 0.4318 - val_loss: 1.4050 - val_accuracy: 0.3886\n",
            "Epoch 36/40\n",
            "22/22 [==============================] - 3s 114ms/step - loss: 1.3900 - accuracy: 0.4020 - val_loss: 1.3837 - val_accuracy: 0.3886\n",
            "Epoch 37/40\n",
            "22/22 [==============================] - ETA: 0s - loss: 1.3782 - accuracy: 0.3991"
          ]
        },
        {
          "output_type": "stream",
          "name": "stderr",
          "text": [
            "WARNING:absl:Found untraced functions such as _jit_compiled_convolution_op, _jit_compiled_convolution_op, _jit_compiled_convolution_op, _jit_compiled_convolution_op, _jit_compiled_convolution_op while saving (showing 5 of 81). These functions will not be directly callable after loading.\n",
            "\u001b[34m\u001b[1mwandb\u001b[0m: Adding directory to artifact (/content/wandb/run-20221213_110705-1x2t4mwv/files/model-best)... Done. 0.1s\n"
          ]
        },
        {
          "output_type": "stream",
          "name": "stdout",
          "text": [
            "\b\b\b\b\b\b\b\b\b\b\b\b\b\b\b\b\b\b\b\b\b\b\b\b\b\b\b\b\b\b\b\b\b\b\b\b\b\b\b\b\b\b\b\b\b\b\b\b\b\b\b\b\b\b\b\b\b\b\b\b\b\b\b\b\b\b\b\b\b\b\b\b\b\b\b\b\b\b\b\b\b\b\r22/22 [==============================] - 39s 2s/step - loss: 1.3782 - accuracy: 0.3991 - val_loss: 1.3816 - val_accuracy: 0.3886\n",
            "Epoch 38/40\n",
            "22/22 [==============================] - 3s 116ms/step - loss: 1.3767 - accuracy: 0.4190 - val_loss: 1.4081 - val_accuracy: 0.3886\n",
            "Epoch 39/40\n",
            "22/22 [==============================] - ETA: 0s - loss: 1.3761 - accuracy: 0.4219"
          ]
        },
        {
          "output_type": "stream",
          "name": "stderr",
          "text": [
            "WARNING:absl:Found untraced functions such as _jit_compiled_convolution_op, _jit_compiled_convolution_op, _jit_compiled_convolution_op, _jit_compiled_convolution_op, _jit_compiled_convolution_op while saving (showing 5 of 81). These functions will not be directly callable after loading.\n",
            "\u001b[34m\u001b[1mwandb\u001b[0m: Adding directory to artifact (/content/wandb/run-20221213_110705-1x2t4mwv/files/model-best)... Done. 0.1s\n"
          ]
        },
        {
          "output_type": "stream",
          "name": "stdout",
          "text": [
            "\b\b\b\b\b\b\b\b\b\b\b\b\b\b\b\b\b\b\b\b\b\b\b\b\b\b\b\b\b\b\b\b\b\b\b\b\b\b\b\b\b\b\b\b\b\b\b\b\b\b\b\b\b\b\b\b\b\b\b\b\b\b\b\b\b\b\b\b\b\b\b\b\b\b\b\b\b\b\b\b\b\b\r22/22 [==============================] - 38s 2s/step - loss: 1.3761 - accuracy: 0.4219 - val_loss: 1.3787 - val_accuracy: 0.3886\n",
            "Epoch 40/40\n",
            "22/22 [==============================] - 3s 114ms/step - loss: 1.3798 - accuracy: 0.4290 - val_loss: 1.4018 - val_accuracy: 0.3886\n",
            "CPU times: user 8min 57s, sys: 29.1 s, total: 9min 27s\n",
            "Wall time: 13min 19s\n"
          ]
        }
      ]
    },
    {
      "cell_type": "code",
      "source": [
        "wandb.alert(title = \"Run finished\",\n",
        "            text = \"efficientnetb0\")"
      ],
      "metadata": {
        "id": "v2a-UuJUKt-e"
      },
      "execution_count": 10,
      "outputs": []
    },
    {
      "cell_type": "code",
      "source": [
        "wandb.finish()"
      ],
      "metadata": {
        "colab": {
          "base_uri": "https://localhost:8080/",
          "height": 299
        },
        "id": "h1HFmzLMU0vG",
        "outputId": "4e771ee5-abf8-4a22-8d5c-d102b1994c45"
      },
      "execution_count": 11,
      "outputs": [
        {
          "output_type": "display_data",
          "data": {
            "text/plain": [
              "<IPython.core.display.HTML object>"
            ],
            "text/html": [
              "Waiting for W&B process to finish... <strong style=\"color:green\">(success).</strong>"
            ]
          },
          "metadata": {}
        },
        {
          "output_type": "display_data",
          "data": {
            "text/plain": [
              "<IPython.core.display.HTML object>"
            ],
            "text/html": [
              "<style>\n",
              "    table.wandb td:nth-child(1) { padding: 0 10px; text-align: left ; width: auto;} td:nth-child(2) {text-align: left ; width: 100%}\n",
              "    .wandb-row { display: flex; flex-direction: row; flex-wrap: wrap; justify-content: flex-start; width: 100% }\n",
              "    .wandb-col { display: flex; flex-direction: column; flex-basis: 100%; flex: 1; padding: 10px; }\n",
              "    </style>\n",
              "<div class=\"wandb-row\"><div class=\"wandb-col\"><h3>Run history:</h3><br/><table class=\"wandb\"><tr><td>accuracy</td><td>▁▁▂▄▂▂▃▂▂▄▄▆▄▅▃▅▆▇▅▆▄▆█▄▆▂▅▇▇▆▆▇▆▇█▅▅▇▇█</td></tr><tr><td>epoch</td><td>▁▁▁▂▂▂▂▂▂▃▃▃▃▃▄▄▄▄▄▄▅▅▅▅▅▅▆▆▆▆▆▇▇▇▇▇▇███</td></tr><tr><td>loss</td><td>█▄▄▃▄▄▅▄▃▄▃▃▃▃▃▃▃▁▃▂▂▂▂▃▃▃▂▂▂▄▂▁▂▂▁▃▂▂▂▂</td></tr><tr><td>val_accuracy</td><td>▁▁▁▁▁▁▁▁▁▁▁▁▁▁▁▁▁▁▁▁▁▁▁▁▁▁▁▁▁▁▁▁▁█▁▁▁▁▁▁</td></tr><tr><td>val_loss</td><td>█▇▇▇▆▅▇▅▆▅▅▄▆▄▅▅▄▄▃▃▅▄▂▄▄▃▁▃▄▁▄▃▂▄▄▂▁▄▁▄</td></tr></table><br/></div><div class=\"wandb-col\"><h3>Run summary:</h3><br/><table class=\"wandb\"><tr><td>accuracy</td><td>0.42898</td></tr><tr><td>best_epoch</td><td>38</td></tr><tr><td>best_val_loss</td><td>1.37868</td></tr><tr><td>epoch</td><td>39</td></tr><tr><td>loss</td><td>1.37977</td></tr><tr><td>val_accuracy</td><td>0.38857</td></tr><tr><td>val_loss</td><td>1.40184</td></tr></table><br/></div></div>"
            ]
          },
          "metadata": {}
        },
        {
          "output_type": "display_data",
          "data": {
            "text/plain": [
              "<IPython.core.display.HTML object>"
            ],
            "text/html": [
              "Synced <strong style=\"color:#cdcd00\">EfficientnetB0</strong>: <a href=\"https://wandb.ai/vedmanivaidya/Transfer_Learning_New/runs/1x2t4mwv\" target=\"_blank\">https://wandb.ai/vedmanivaidya/Transfer_Learning_New/runs/1x2t4mwv</a><br/>Synced 5 W&B file(s), 1 media file(s), 45 artifact file(s) and 2 other file(s)"
            ]
          },
          "metadata": {}
        },
        {
          "output_type": "display_data",
          "data": {
            "text/plain": [
              "<IPython.core.display.HTML object>"
            ],
            "text/html": [
              "Find logs at: <code>./wandb/run-20221213_110705-1x2t4mwv/logs</code>"
            ]
          },
          "metadata": {}
        }
      ]
    },
    {
      "cell_type": "code",
      "source": [
        "!nvidia-smi --query-gpu=gpu_name --format=csv"
      ],
      "metadata": {
        "colab": {
          "base_uri": "https://localhost:8080/"
        },
        "id": "COrZ191e5xFK",
        "outputId": "d0dd649f-71ad-48c8-ebf0-1fdbaba15ba3"
      },
      "execution_count": null,
      "outputs": [
        {
          "output_type": "stream",
          "name": "stdout",
          "text": [
            "NVIDIA-SMI has failed because it couldn't communicate with the NVIDIA driver. Make sure that the latest NVIDIA driver is installed and running.\n",
            "\n"
          ]
        }
      ]
    },
    {
      "cell_type": "code",
      "source": [],
      "metadata": {
        "id": "SeyieU8mXh3u"
      },
      "execution_count": null,
      "outputs": []
    }
  ]
}