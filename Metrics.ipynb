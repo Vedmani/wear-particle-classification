{
  "nbformat": 4,
  "nbformat_minor": 0,
  "metadata": {
    "colab": {
      "provenance": [],
      "mount_file_id": "1sPqvKSS0pZCxYPJFCaeidtOlS5ouUL2w",
      "authorship_tag": "ABX9TyOqoTEmjHm81xig71jw0O5G",
      "include_colab_link": true
    },
    "kernelspec": {
      "name": "python3",
      "display_name": "Python 3"
    },
    "language_info": {
      "name": "python"
    },
    "accelerator": "GPU",
    "gpuClass": "standard"
  },
  "cells": [
    {
      "cell_type": "markdown",
      "metadata": {
        "id": "view-in-github",
        "colab_type": "text"
      },
      "source": [
        "<a href=\"https://colab.research.google.com/github/Vedmani/wear-particle-classification/blob/main/Metrics.ipynb\" target=\"_parent\"><img src=\"https://colab.research.google.com/assets/colab-badge.svg\" alt=\"Open In Colab\"/></a>"
      ]
    },
    {
      "cell_type": "code",
      "execution_count": 1,
      "metadata": {
        "colab": {
          "base_uri": "https://localhost:8080/"
        },
        "id": "ryAxz4HfcAAW",
        "outputId": "8ca507ab-f251-48a8-fe4c-11c4f567a7da"
      },
      "outputs": [
        {
          "output_type": "stream",
          "name": "stdout",
          "text": [
            "Drive already mounted at /content/drive; to attempt to forcibly remount, call drive.mount(\"/content/drive\", force_remount=True).\n"
          ]
        }
      ],
      "source": [
        "from google.colab import drive\n",
        "drive.mount('/content/drive')"
      ]
    },
    {
      "cell_type": "code",
      "source": [
        "!pip install wandb -qU\n",
        "!wandb login 617d80dc70f383d8ff9ef1c2b94a78ccc8d8db23"
      ],
      "metadata": {
        "colab": {
          "base_uri": "https://localhost:8080/"
        },
        "id": "H3Ln4dr4cPb3",
        "outputId": "9ccd08ea-7b11-402a-c167-1fdb173831c8"
      },
      "execution_count": 2,
      "outputs": [
        {
          "output_type": "stream",
          "name": "stdout",
          "text": [
            "\u001b[K     |████████████████████████████████| 1.9 MB 5.3 MB/s \n",
            "\u001b[K     |████████████████████████████████| 168 kB 47.4 MB/s \n",
            "\u001b[K     |████████████████████████████████| 182 kB 56.9 MB/s \n",
            "\u001b[K     |████████████████████████████████| 62 kB 1.3 MB/s \n",
            "\u001b[K     |████████████████████████████████| 168 kB 71.8 MB/s \n",
            "\u001b[K     |████████████████████████████████| 166 kB 72.6 MB/s \n",
            "\u001b[K     |████████████████████████████████| 166 kB 68.5 MB/s \n",
            "\u001b[K     |████████████████████████████████| 162 kB 69.0 MB/s \n",
            "\u001b[K     |████████████████████████████████| 162 kB 47.5 MB/s \n",
            "\u001b[K     |████████████████████████████████| 158 kB 64.7 MB/s \n",
            "\u001b[K     |████████████████████████████████| 157 kB 68.3 MB/s \n",
            "\u001b[K     |████████████████████████████████| 157 kB 45.1 MB/s \n",
            "\u001b[K     |████████████████████████████████| 157 kB 63.8 MB/s \n",
            "\u001b[K     |████████████████████████████████| 157 kB 69.5 MB/s \n",
            "\u001b[K     |████████████████████████████████| 157 kB 69.2 MB/s \n",
            "\u001b[K     |████████████████████████████████| 157 kB 69.6 MB/s \n",
            "\u001b[K     |████████████████████████████████| 157 kB 56.9 MB/s \n",
            "\u001b[K     |████████████████████████████████| 156 kB 55.4 MB/s \n",
            "\u001b[?25h  Building wheel for pathtools (setup.py) ... \u001b[?25l\u001b[?25hdone\n",
            "\u001b[34m\u001b[1mwandb\u001b[0m: Appending key for api.wandb.ai to your netrc file: /root/.netrc\n"
          ]
        }
      ]
    },
    {
      "cell_type": "code",
      "source": [
        "import tensorflow as tf\n",
        "from tensorflow import keras\n",
        "from tensorflow.keras import layers\n",
        "from tensorflow.keras.models import Sequential\n",
        "import wandb\n",
        "import numpy as np\n",
        "from sklearn.metrics import classification_report, f1_score"
      ],
      "metadata": {
        "id": "tnR8R3C6cjrl"
      },
      "execution_count": 3,
      "outputs": []
    },
    {
      "cell_type": "code",
      "source": [
        "tf.keras.utils.set_random_seed(1)\n",
        "tf.config.experimental.enable_op_determinism()"
      ],
      "metadata": {
        "id": "OWwOEtYGg484"
      },
      "execution_count": 4,
      "outputs": []
    },
    {
      "cell_type": "code",
      "source": [
        "PATH = '/content/drive/MyDrive/Research Internship/final data/wear particles/Train'\n",
        "test_path = '/content/drive/MyDrive/Research Internship/final data/wear particles/Test'\n",
        "batch_size = 32\n",
        "img_height = 224\n",
        "img_width = 224\n",
        "\n",
        "train_ds = tf.keras.utils.image_dataset_from_directory(\n",
        "  PATH,\n",
        "  validation_split=0.2,\n",
        "  subset=\"training\",\n",
        "  seed=42,\n",
        "  image_size=(img_height, img_width),\n",
        "  batch_size=batch_size)\n",
        "\n",
        "val_ds = tf.keras.utils.image_dataset_from_directory(\n",
        "  PATH,\n",
        "  validation_split=0.2,\n",
        "  subset=\"validation\",\n",
        "  seed=42,\n",
        "  image_size=(img_height, img_width),\n",
        "  batch_size=batch_size)\n",
        "\n",
        "test_ds = tf.keras.utils.image_dataset_from_directory(\n",
        "  test_path,\n",
        "  seed = 42,\n",
        "  shuffle = False,\n",
        "  image_size=(img_height, img_width))"
      ],
      "metadata": {
        "colab": {
          "base_uri": "https://localhost:8080/"
        },
        "id": "5q9NnyFlfRn6",
        "outputId": "dd762e56-ce40-4eed-a29a-ea880446ce5b"
      },
      "execution_count": 5,
      "outputs": [
        {
          "output_type": "stream",
          "name": "stdout",
          "text": [
            "Found 879 files belonging to 5 classes.\n",
            "Using 704 files for training.\n",
            "Found 879 files belonging to 5 classes.\n",
            "Using 175 files for validation.\n",
            "Found 100 files belonging to 5 classes.\n"
          ]
        }
      ]
    },
    {
      "cell_type": "code",
      "source": [
        "y = np.concatenate([y for x, y in test_ds], axis=0)\n",
        "y"
      ],
      "metadata": {
        "colab": {
          "base_uri": "https://localhost:8080/"
        },
        "id": "s1-c0-Bbq1id",
        "outputId": "6008f7e6-7948-4a91-caf5-51345107eaa7"
      },
      "execution_count": 6,
      "outputs": [
        {
          "output_type": "execute_result",
          "data": {
            "text/plain": [
              "array([0, 0, 0, 0, 0, 0, 0, 0, 0, 0, 0, 0, 1, 1, 1, 1, 1, 1, 1, 1, 1, 1,\n",
              "       2, 2, 2, 2, 2, 2, 2, 2, 2, 2, 2, 2, 2, 2, 2, 2, 2, 2, 2, 2, 2, 2,\n",
              "       2, 2, 2, 2, 2, 2, 2, 2, 2, 2, 2, 3, 3, 3, 3, 3, 3, 3, 3, 3, 4, 4,\n",
              "       4, 4, 4, 4, 4, 4, 4, 4, 4, 4, 4, 4, 4, 4, 4, 4, 4, 4, 4, 4, 4, 4,\n",
              "       4, 4, 4, 4, 4, 4, 4, 4, 4, 4, 4, 4], dtype=int32)"
            ]
          },
          "metadata": {},
          "execution_count": 6
        }
      ]
    },
    {
      "cell_type": "code",
      "source": [
        "labels = test_ds.class_names"
      ],
      "metadata": {
        "id": "vPoBhHP1q8yE"
      },
      "execution_count": 7,
      "outputs": []
    },
    {
      "cell_type": "code",
      "source": [
        "class argmax_layer(tf.keras.layers.Layer):\n",
        "  def __init__(self):\n",
        "    super(argmax_layer, self).__init__()\n",
        "\n",
        "  def call(self, inputs):\n",
        "    return tf.math.argmax(inputs, axis=1)"
      ],
      "metadata": {
        "id": "YoJpZtjae03e"
      },
      "execution_count": 8,
      "outputs": []
    },
    {
      "cell_type": "code",
      "source": [
        "#vgg16\n",
        "api = wandb.Api()\n",
        "artifact = api.artifact('vedmanivaidya/Transfer_Learning_New/model-Xception_with_avgpooling:v63', type='model')\n",
        "artifact.download()\n",
        "model = tf.keras.models.load_model(\"/content/artifacts/model-Xception_with_avgpooling:v63\")"
      ],
      "metadata": {
        "colab": {
          "base_uri": "https://localhost:8080/"
        },
        "id": "AUjC7dPLcvL-",
        "outputId": "47ae2efe-b215-4c7f-d48c-f4d74cc23a5e"
      },
      "execution_count": 18,
      "outputs": [
        {
          "output_type": "stream",
          "name": "stderr",
          "text": [
            "\u001b[34m\u001b[1mwandb\u001b[0m: Downloading large artifact model-Xception_with_avgpooling:v63, 83.10MB. 4 files... \n",
            "\u001b[34m\u001b[1mwandb\u001b[0m:   4 of 4 files downloaded.  \n",
            "Done. 0:0:1.4\n"
          ]
        }
      ]
    },
    {
      "cell_type": "code",
      "source": [
        "model.evaluate(test_ds)"
      ],
      "metadata": {
        "colab": {
          "base_uri": "https://localhost:8080/"
        },
        "id": "M7og2b4_-Ha8",
        "outputId": "21272207-33d9-49f1-e8a8-647a3275529f"
      },
      "execution_count": 19,
      "outputs": [
        {
          "output_type": "stream",
          "name": "stdout",
          "text": [
            "4/4 [==============================] - 20s 4s/step - loss: 0.1091 - accuracy: 0.9800\n"
          ]
        },
        {
          "output_type": "execute_result",
          "data": {
            "text/plain": [
              "[0.1090865358710289, 0.9800000190734863]"
            ]
          },
          "metadata": {},
          "execution_count": 19
        }
      ]
    },
    {
      "cell_type": "code",
      "source": [
        "seq = tf.keras.Sequential()\n",
        "seq.add(model)\n",
        "seq.add(argmax_layer())\n",
        "preds = seq.predict(test_ds)"
      ],
      "metadata": {
        "colab": {
          "base_uri": "https://localhost:8080/"
        },
        "id": "rktFvdttc7SF",
        "outputId": "b69d5550-653f-4a80-caae-ae4d67233796"
      },
      "execution_count": 20,
      "outputs": [
        {
          "output_type": "stream",
          "name": "stdout",
          "text": [
            "4/4 [==============================] - 20s 4s/step\n"
          ]
        }
      ]
    },
    {
      "cell_type": "code",
      "source": [
        "from sklearn.metrics import precision_recall_fscore_support\n",
        "print(precision_recall_fscore_support(y, preds, average='macro'))"
      ],
      "metadata": {
        "colab": {
          "base_uri": "https://localhost:8080/"
        },
        "id": "hxM0m669jyDN",
        "outputId": "7ce22cac-a93d-4feb-d8de-302ec4827af1"
      },
      "execution_count": 21,
      "outputs": [
        {
          "output_type": "stream",
          "name": "stdout",
          "text": [
            "(0.9894736842105264, 0.9772727272727273, 0.9828220193437585, None)\n"
          ]
        }
      ]
    },
    {
      "cell_type": "code",
      "source": [
        "'''from sklearn.metrics import f1_score\n",
        "from sklearn.metrics import precision_recall_fscore_support\n",
        "f1_score(y, preds, average='macro')'''"
      ],
      "metadata": {
        "colab": {
          "base_uri": "https://localhost:8080/",
          "height": 35
        },
        "id": "UY74Rc_9k-mz",
        "outputId": "81657265-68a3-4809-c12e-ebb6e14fff10"
      },
      "execution_count": 30,
      "outputs": [
        {
          "output_type": "execute_result",
          "data": {
            "text/plain": [
              "\"from sklearn.metrics import f1_score\\nfrom sklearn.metrics import precision_recall_fscore_support\\nf1_score(y, preds, average='macro')\""
            ],
            "application/vnd.google.colaboratory.intrinsic+json": {
              "type": "string"
            }
          },
          "metadata": {},
          "execution_count": 30
        }
      ]
    },
    {
      "cell_type": "code",
      "source": [],
      "metadata": {
        "id": "q9nkWwcQ6RiF"
      },
      "execution_count": null,
      "outputs": []
    }
  ]
}