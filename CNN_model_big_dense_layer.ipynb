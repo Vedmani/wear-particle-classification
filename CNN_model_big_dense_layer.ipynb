{
  "nbformat": 4,
  "nbformat_minor": 0,
  "metadata": {
    "colab": {
      "provenance": [],
      "collapsed_sections": [],
      "include_colab_link": true
    },
    "kernelspec": {
      "name": "python3",
      "display_name": "Python 3"
    },
    "language_info": {
      "name": "python"
    },
    "accelerator": "GPU",
    "gpuClass": "standard",
    "widgets": {
      "application/vnd.jupyter.widget-state+json": {
        "4bcc75c81656437385c3ad8f4bc7bcef": {
          "model_module": "@jupyter-widgets/controls",
          "model_name": "VBoxModel",
          "model_module_version": "1.5.0",
          "state": {
            "_dom_classes": [],
            "_model_module": "@jupyter-widgets/controls",
            "_model_module_version": "1.5.0",
            "_model_name": "VBoxModel",
            "_view_count": null,
            "_view_module": "@jupyter-widgets/controls",
            "_view_module_version": "1.5.0",
            "_view_name": "VBoxView",
            "box_style": "",
            "children": [
              "IPY_MODEL_0f07a1ba693b4b27934f0a574ad2662b",
              "IPY_MODEL_a5da382712c34c67b457fcddbe2000f0"
            ],
            "layout": "IPY_MODEL_3a914eee32eb4c6b9a4c52b9685e2931"
          }
        },
        "0f07a1ba693b4b27934f0a574ad2662b": {
          "model_module": "@jupyter-widgets/controls",
          "model_name": "LabelModel",
          "model_module_version": "1.5.0",
          "state": {
            "_dom_classes": [],
            "_model_module": "@jupyter-widgets/controls",
            "_model_module_version": "1.5.0",
            "_model_name": "LabelModel",
            "_view_count": null,
            "_view_module": "@jupyter-widgets/controls",
            "_view_module_version": "1.5.0",
            "_view_name": "LabelView",
            "description": "",
            "description_tooltip": null,
            "layout": "IPY_MODEL_2961ffca9edd406b9e6fd061b912d102",
            "placeholder": "​",
            "style": "IPY_MODEL_0c0ae7da462d4936a828a19f6d08e71a",
            "value": "714.925 MB of 714.925 MB uploaded (0.037 MB deduped)\r"
          }
        },
        "a5da382712c34c67b457fcddbe2000f0": {
          "model_module": "@jupyter-widgets/controls",
          "model_name": "FloatProgressModel",
          "model_module_version": "1.5.0",
          "state": {
            "_dom_classes": [],
            "_model_module": "@jupyter-widgets/controls",
            "_model_module_version": "1.5.0",
            "_model_name": "FloatProgressModel",
            "_view_count": null,
            "_view_module": "@jupyter-widgets/controls",
            "_view_module_version": "1.5.0",
            "_view_name": "ProgressView",
            "bar_style": "",
            "description": "",
            "description_tooltip": null,
            "layout": "IPY_MODEL_be31bde217c846bf8c7642da84fc9ab3",
            "max": 1,
            "min": 0,
            "orientation": "horizontal",
            "style": "IPY_MODEL_05ea5f7a40f34aba83d76667d5540454",
            "value": 1
          }
        },
        "3a914eee32eb4c6b9a4c52b9685e2931": {
          "model_module": "@jupyter-widgets/base",
          "model_name": "LayoutModel",
          "model_module_version": "1.2.0",
          "state": {
            "_model_module": "@jupyter-widgets/base",
            "_model_module_version": "1.2.0",
            "_model_name": "LayoutModel",
            "_view_count": null,
            "_view_module": "@jupyter-widgets/base",
            "_view_module_version": "1.2.0",
            "_view_name": "LayoutView",
            "align_content": null,
            "align_items": null,
            "align_self": null,
            "border": null,
            "bottom": null,
            "display": null,
            "flex": null,
            "flex_flow": null,
            "grid_area": null,
            "grid_auto_columns": null,
            "grid_auto_flow": null,
            "grid_auto_rows": null,
            "grid_column": null,
            "grid_gap": null,
            "grid_row": null,
            "grid_template_areas": null,
            "grid_template_columns": null,
            "grid_template_rows": null,
            "height": null,
            "justify_content": null,
            "justify_items": null,
            "left": null,
            "margin": null,
            "max_height": null,
            "max_width": null,
            "min_height": null,
            "min_width": null,
            "object_fit": null,
            "object_position": null,
            "order": null,
            "overflow": null,
            "overflow_x": null,
            "overflow_y": null,
            "padding": null,
            "right": null,
            "top": null,
            "visibility": null,
            "width": null
          }
        },
        "2961ffca9edd406b9e6fd061b912d102": {
          "model_module": "@jupyter-widgets/base",
          "model_name": "LayoutModel",
          "model_module_version": "1.2.0",
          "state": {
            "_model_module": "@jupyter-widgets/base",
            "_model_module_version": "1.2.0",
            "_model_name": "LayoutModel",
            "_view_count": null,
            "_view_module": "@jupyter-widgets/base",
            "_view_module_version": "1.2.0",
            "_view_name": "LayoutView",
            "align_content": null,
            "align_items": null,
            "align_self": null,
            "border": null,
            "bottom": null,
            "display": null,
            "flex": null,
            "flex_flow": null,
            "grid_area": null,
            "grid_auto_columns": null,
            "grid_auto_flow": null,
            "grid_auto_rows": null,
            "grid_column": null,
            "grid_gap": null,
            "grid_row": null,
            "grid_template_areas": null,
            "grid_template_columns": null,
            "grid_template_rows": null,
            "height": null,
            "justify_content": null,
            "justify_items": null,
            "left": null,
            "margin": null,
            "max_height": null,
            "max_width": null,
            "min_height": null,
            "min_width": null,
            "object_fit": null,
            "object_position": null,
            "order": null,
            "overflow": null,
            "overflow_x": null,
            "overflow_y": null,
            "padding": null,
            "right": null,
            "top": null,
            "visibility": null,
            "width": null
          }
        },
        "0c0ae7da462d4936a828a19f6d08e71a": {
          "model_module": "@jupyter-widgets/controls",
          "model_name": "DescriptionStyleModel",
          "model_module_version": "1.5.0",
          "state": {
            "_model_module": "@jupyter-widgets/controls",
            "_model_module_version": "1.5.0",
            "_model_name": "DescriptionStyleModel",
            "_view_count": null,
            "_view_module": "@jupyter-widgets/base",
            "_view_module_version": "1.2.0",
            "_view_name": "StyleView",
            "description_width": ""
          }
        },
        "be31bde217c846bf8c7642da84fc9ab3": {
          "model_module": "@jupyter-widgets/base",
          "model_name": "LayoutModel",
          "model_module_version": "1.2.0",
          "state": {
            "_model_module": "@jupyter-widgets/base",
            "_model_module_version": "1.2.0",
            "_model_name": "LayoutModel",
            "_view_count": null,
            "_view_module": "@jupyter-widgets/base",
            "_view_module_version": "1.2.0",
            "_view_name": "LayoutView",
            "align_content": null,
            "align_items": null,
            "align_self": null,
            "border": null,
            "bottom": null,
            "display": null,
            "flex": null,
            "flex_flow": null,
            "grid_area": null,
            "grid_auto_columns": null,
            "grid_auto_flow": null,
            "grid_auto_rows": null,
            "grid_column": null,
            "grid_gap": null,
            "grid_row": null,
            "grid_template_areas": null,
            "grid_template_columns": null,
            "grid_template_rows": null,
            "height": null,
            "justify_content": null,
            "justify_items": null,
            "left": null,
            "margin": null,
            "max_height": null,
            "max_width": null,
            "min_height": null,
            "min_width": null,
            "object_fit": null,
            "object_position": null,
            "order": null,
            "overflow": null,
            "overflow_x": null,
            "overflow_y": null,
            "padding": null,
            "right": null,
            "top": null,
            "visibility": null,
            "width": null
          }
        },
        "05ea5f7a40f34aba83d76667d5540454": {
          "model_module": "@jupyter-widgets/controls",
          "model_name": "ProgressStyleModel",
          "model_module_version": "1.5.0",
          "state": {
            "_model_module": "@jupyter-widgets/controls",
            "_model_module_version": "1.5.0",
            "_model_name": "ProgressStyleModel",
            "_view_count": null,
            "_view_module": "@jupyter-widgets/base",
            "_view_module_version": "1.2.0",
            "_view_name": "StyleView",
            "bar_color": null,
            "description_width": ""
          }
        }
      }
    }
  },
  "cells": [
    {
      "cell_type": "markdown",
      "metadata": {
        "id": "view-in-github",
        "colab_type": "text"
      },
      "source": [
        "<a href=\"https://colab.research.google.com/github/Vedmani/wear-particle-classification/blob/main/CNN_model_big_dense_layer.ipynb\" target=\"_parent\"><img src=\"https://colab.research.google.com/assets/colab-badge.svg\" alt=\"Open In Colab\"/></a>"
      ]
    },
    {
      "cell_type": "code",
      "source": [
        "from google.colab import drive\n",
        "drive.mount('/content/drive')"
      ],
      "metadata": {
        "colab": {
          "base_uri": "https://localhost:8080/"
        },
        "id": "XW1U1huwLrdV",
        "outputId": "94882351-475b-4849-c79c-7c75e0bf9235"
      },
      "execution_count": 1,
      "outputs": [
        {
          "output_type": "stream",
          "name": "stdout",
          "text": [
            "Mounted at /content/drive\n"
          ]
        }
      ]
    },
    {
      "cell_type": "code",
      "source": [
        "!pip install wandb -qU\n",
        "!wandb login "
      ],
      "metadata": {
        "id": "PpVWYBPJYBGE",
        "colab": {
          "base_uri": "https://localhost:8080/"
        },
        "outputId": "220aaf0f-5b30-4d0c-8bf3-fe92e6fed97b"
      },
      "execution_count": 2,
      "outputs": [
        {
          "output_type": "stream",
          "name": "stdout",
          "text": [
            "\u001b[K     |████████████████████████████████| 1.9 MB 33.4 MB/s \n",
            "\u001b[K     |████████████████████████████████| 182 kB 45.4 MB/s \n",
            "\u001b[K     |████████████████████████████████| 166 kB 71.0 MB/s \n",
            "\u001b[K     |████████████████████████████████| 63 kB 1.4 MB/s \n",
            "\u001b[K     |████████████████████████████████| 166 kB 66.5 MB/s \n",
            "\u001b[K     |████████████████████████████████| 162 kB 30.1 MB/s \n",
            "\u001b[K     |████████████████████████████████| 162 kB 78.9 MB/s \n",
            "\u001b[K     |████████████████████████████████| 158 kB 70.6 MB/s \n",
            "\u001b[K     |████████████████████████████████| 157 kB 72.9 MB/s \n",
            "\u001b[K     |████████████████████████████████| 157 kB 73.4 MB/s \n",
            "\u001b[K     |████████████████████████████████| 157 kB 61.8 MB/s \n",
            "\u001b[K     |████████████████████████████████| 157 kB 73.8 MB/s \n",
            "\u001b[K     |████████████████████████████████| 157 kB 74.4 MB/s \n",
            "\u001b[K     |████████████████████████████████| 157 kB 79.9 MB/s \n",
            "\u001b[K     |████████████████████████████████| 157 kB 73.7 MB/s \n",
            "\u001b[K     |████████████████████████████████| 156 kB 78.8 MB/s \n",
            "\u001b[?25h  Building wheel for pathtools (setup.py) ... \u001b[?25l\u001b[?25hdone\n",
            "\u001b[34m\u001b[1mwandb\u001b[0m: Logging into wandb.ai. (Learn how to deploy a W&B server locally: https://wandb.me/wandb-server)\n",
            "\u001b[34m\u001b[1mwandb\u001b[0m: You can find your API key in your browser here: https://wandb.ai/authorize\n",
            "\u001b[34m\u001b[1mwandb\u001b[0m: Paste an API key from your profile and hit enter, or press ctrl+c to quit: \n",
            "\u001b[34m\u001b[1mwandb\u001b[0m: Appending key for api.wandb.ai to your netrc file: /root/.netrc\n"
          ]
        }
      ]
    },
    {
      "cell_type": "code",
      "execution_count": 3,
      "metadata": {
        "id": "lIfpn_2YgJDO",
        "pycharm": {
          "name": "#%%\n"
        }
      },
      "outputs": [],
      "source": [
        "import tensorflow as tf\n",
        "from tensorflow import keras\n",
        "from tensorflow.keras.models import Sequential\n",
        "import wandb\n",
        "from wandb.keras import WandbCallback\n",
        "from tensorflow.keras import layers"
      ]
    },
    {
      "cell_type": "code",
      "source": [
        "tf.keras.utils.set_random_seed(1)\n",
        "tf.config.experimental.enable_op_determinism()"
      ],
      "metadata": {
        "id": "7o3jMYqH8S8g",
        "pycharm": {
          "name": "#%%\n"
        }
      },
      "execution_count": 4,
      "outputs": []
    },
    {
      "cell_type": "code",
      "source": [
        "PATH = '/content/drive/MyDrive/Research Internship/final data/wear particles/Train'\n",
        "test_path = '/content/drive/MyDrive/Research Internship/final data/wear particles/Test'\n",
        "batch_size = 32\n",
        "img_height = 224\n",
        "img_width = 224"
      ],
      "metadata": {
        "id": "_4_D1B1c1JDU",
        "pycharm": {
          "name": "#%%\n"
        }
      },
      "execution_count": 5,
      "outputs": []
    },
    {
      "cell_type": "code",
      "source": [
        "train_ds = tf.keras.utils.image_dataset_from_directory(\n",
        "  PATH,\n",
        "  validation_split=0.2,\n",
        "  subset=\"training\",\n",
        "  seed=42,\n",
        "  image_size=(img_height, img_width),\n",
        "  batch_size=batch_size)\n",
        "\n",
        "val_ds = tf.keras.utils.image_dataset_from_directory(\n",
        "  PATH,\n",
        "  validation_split=0.2,\n",
        "  subset=\"validation\",\n",
        "  seed=42,\n",
        "  image_size=(img_height, img_width),\n",
        "  batch_size=batch_size)\n",
        "\n",
        "test_ds = tf.keras.utils.image_dataset_from_directory(\n",
        "  test_path,\n",
        "  seed = 42,\n",
        "  image_size=(img_height, img_width)  )"
      ],
      "metadata": {
        "colab": {
          "base_uri": "https://localhost:8080/"
        },
        "id": "jq2TmJmm1gnc",
        "outputId": "4756e358-99da-4020-f007-78ce3b5d6d65",
        "pycharm": {
          "name": "#%%\n"
        }
      },
      "execution_count": 6,
      "outputs": [
        {
          "output_type": "stream",
          "name": "stdout",
          "text": [
            "Found 879 files belonging to 5 classes.\n",
            "Using 704 files for training.\n",
            "Found 879 files belonging to 5 classes.\n",
            "Using 175 files for validation.\n",
            "Found 94 files belonging to 5 classes.\n"
          ]
        }
      ]
    },
    {
      "cell_type": "code",
      "source": [
        "class_names = train_ds.class_names\n",
        "test_class_names = test_ds.class_names\n",
        "class_names == test_class_names\n",
        "print(class_names)"
      ],
      "metadata": {
        "colab": {
          "base_uri": "https://localhost:8080/"
        },
        "id": "9iMDAOraOOsq",
        "outputId": "bb2e347f-855e-44ae-82bc-cbc168ef990b",
        "pycharm": {
          "name": "#%%\n"
        }
      },
      "execution_count": 7,
      "outputs": [
        {
          "output_type": "stream",
          "name": "stdout",
          "text": [
            "['cutting wear', 'normal rubbing and cutting wear combined', 'normal rubbing wear', 'red oxide', 'severe sliding wear']\n"
          ]
        }
      ]
    },
    {
      "cell_type": "code",
      "source": [
        "num_classes = len(class_names)\n",
        "data_augmentation = tf.keras.Sequential([tf.keras.layers.RandomFlip(\"horizontal_and_vertical\"),tf.keras.layers.RandomRotation(0.2),tf.keras.layers.RandomZoom(0.1),])\n",
        "model = Sequential([\n",
        "  tf.keras.layers.Rescaling(1./255, input_shape=(img_height, img_width, 3)),\n",
        "  data_augmentation,\n",
        "  layers.Conv2D(16, 3, activation='relu'),\n",
        "  layers.MaxPooling2D(),\n",
        "  layers.Conv2D(32, 3, activation='relu'),\n",
        "  layers.MaxPooling2D(),\n",
        "  layers.Conv2D(64, 3, activation='relu'),\n",
        "  layers.MaxPooling2D(),\n",
        "  layers.Conv2D(128, 3, activation='relu'),\n",
        "  layers.MaxPooling2D(),\n",
        "  layers.Conv2D(256, 3, activation='relu'),\n",
        "  layers.MaxPooling2D(),\n",
        "  layers.Conv2D(512, 3, activation='relu'),\n",
        "  layers.MaxPooling2D(),\n",
        "  #layers.Dropout(0.2),\n",
        "  layers.Flatten(),\n",
        "  layers.Dense(1028, activation='relu'),\n",
        "  layers.Dropout(0.5), \n",
        "  layers.Dense(num_classes, activation='softmax')\n",
        "])"
      ],
      "metadata": {
        "id": "XOb7OtW7OVA_",
        "pycharm": {
          "name": "#%%\n"
        }
      },
      "execution_count": 32,
      "outputs": []
    },
    {
      "cell_type": "code",
      "source": [
        "model.compile(\n",
        "              optimizer= tf.keras.optimizers.Adam(learning_rate=0.001, beta_1=0.9, beta_2=0.999, epsilon=1e-07, amsgrad=False, name='Adam'),\n",
        "              loss=tf.keras.losses.SparseCategoricalCrossentropy(from_logits=False),\n",
        "              metrics=['accuracy']\n",
        "              )"
      ],
      "metadata": {
        "id": "iiwASt6xRIi3",
        "pycharm": {
          "name": "#%%\n"
        }
      },
      "execution_count": 33,
      "outputs": []
    },
    {
      "cell_type": "code",
      "source": [
        "model.summary()"
      ],
      "metadata": {
        "colab": {
          "base_uri": "https://localhost:8080/"
        },
        "id": "19JAVYt_Tii0",
        "outputId": "43c75936-ce51-493a-f8a2-96f78982d409",
        "pycharm": {
          "name": "#%%\n"
        }
      },
      "execution_count": 34,
      "outputs": [
        {
          "output_type": "stream",
          "name": "stdout",
          "text": [
            "Model: \"sequential_7\"\n",
            "_________________________________________________________________\n",
            " Layer (type)                Output Shape              Param #   \n",
            "=================================================================\n",
            " rescaling_3 (Rescaling)     (None, 224, 224, 3)       0         \n",
            "                                                                 \n",
            " sequential_6 (Sequential)   (None, 224, 224, 3)       0         \n",
            "                                                                 \n",
            " conv2d_18 (Conv2D)          (None, 222, 222, 16)      448       \n",
            "                                                                 \n",
            " max_pooling2d_18 (MaxPoolin  (None, 111, 111, 16)     0         \n",
            " g2D)                                                            \n",
            "                                                                 \n",
            " conv2d_19 (Conv2D)          (None, 109, 109, 32)      4640      \n",
            "                                                                 \n",
            " max_pooling2d_19 (MaxPoolin  (None, 54, 54, 32)       0         \n",
            " g2D)                                                            \n",
            "                                                                 \n",
            " conv2d_20 (Conv2D)          (None, 52, 52, 64)        18496     \n",
            "                                                                 \n",
            " max_pooling2d_20 (MaxPoolin  (None, 26, 26, 64)       0         \n",
            " g2D)                                                            \n",
            "                                                                 \n",
            " conv2d_21 (Conv2D)          (None, 24, 24, 128)       73856     \n",
            "                                                                 \n",
            " max_pooling2d_21 (MaxPoolin  (None, 12, 12, 128)      0         \n",
            " g2D)                                                            \n",
            "                                                                 \n",
            " conv2d_22 (Conv2D)          (None, 10, 10, 256)       295168    \n",
            "                                                                 \n",
            " max_pooling2d_22 (MaxPoolin  (None, 5, 5, 256)        0         \n",
            " g2D)                                                            \n",
            "                                                                 \n",
            " conv2d_23 (Conv2D)          (None, 3, 3, 512)         1180160   \n",
            "                                                                 \n",
            " max_pooling2d_23 (MaxPoolin  (None, 1, 1, 512)        0         \n",
            " g2D)                                                            \n",
            "                                                                 \n",
            " flatten_3 (Flatten)         (None, 512)               0         \n",
            "                                                                 \n",
            " dense_6 (Dense)             (None, 1028)              527364    \n",
            "                                                                 \n",
            " dropout_5 (Dropout)         (None, 1028)              0         \n",
            "                                                                 \n",
            " dense_7 (Dense)             (None, 5)                 5145      \n",
            "                                                                 \n",
            "=================================================================\n",
            "Total params: 2,105,277\n",
            "Trainable params: 2,105,277\n",
            "Non-trainable params: 0\n",
            "_________________________________________________________________\n"
          ]
        }
      ]
    },
    {
      "cell_type": "code",
      "source": [
        "'''model_checkpoint_callback = tf.keras.callbacks.ModelCheckpoint(\n",
        "    filepath=\"/content/drive/MyDrive/Research Internship/augmentation/my_best_model.epoch{epoch:02d}-val_accuracy{val_accuracy:.2f}\",\n",
        "    save_weights_only=False,\n",
        "    monitor='val_accuracy',\n",
        "    mode='max',\n",
        "    save_best_only=True)'''"
      ],
      "metadata": {
        "id": "fTkNhlXm7VZc",
        "pycharm": {
          "name": "#%%\n"
        },
        "colab": {
          "base_uri": "https://localhost:8080/",
          "height": 53
        },
        "outputId": "ff9a4114-d0a3-4490-8aef-b06442056852"
      },
      "execution_count": 20,
      "outputs": [
        {
          "output_type": "execute_result",
          "data": {
            "text/plain": [
              "'model_checkpoint_callback = tf.keras.callbacks.ModelCheckpoint(\\n    filepath=\"/content/drive/MyDrive/Research Internship/augmentation/my_best_model.epoch{epoch:02d}-val_accuracy{val_accuracy:.2f}\",\\n    save_weights_only=False,\\n    monitor=\\'val_accuracy\\',\\n    mode=\\'max\\',\\n    save_best_only=True)'"
            ],
            "application/vnd.google.colaboratory.intrinsic+json": {
              "type": "string"
            }
          },
          "metadata": {},
          "execution_count": 20
        }
      ]
    },
    {
      "cell_type": "code",
      "source": [
        "wandb.init(\n",
        "      # Set the project where this run will be logged\n",
        "      project=\"CNN_particle_classification\", \n",
        "      name = \"big dense layer\",\n",
        ")"
      ],
      "metadata": {
        "colab": {
          "base_uri": "https://localhost:8080/",
          "height": 90
        },
        "id": "t7zAHolKaPT5",
        "outputId": "ad05a61b-6b00-41a7-e507-b0228fffac3e"
      },
      "execution_count": 35,
      "outputs": [
        {
          "output_type": "display_data",
          "data": {
            "text/plain": [
              "<IPython.core.display.HTML object>"
            ],
            "text/html": [
              "Tracking run with wandb version 0.13.5"
            ]
          },
          "metadata": {}
        },
        {
          "output_type": "display_data",
          "data": {
            "text/plain": [
              "<IPython.core.display.HTML object>"
            ],
            "text/html": [
              "Run data is saved locally in <code>/content/wandb/run-20221104_072028-1cbfrzs6</code>"
            ]
          },
          "metadata": {}
        },
        {
          "output_type": "display_data",
          "data": {
            "text/plain": [
              "<IPython.core.display.HTML object>"
            ],
            "text/html": [
              "Syncing run <strong><a href=\"https://wandb.ai/vedmanivaidya/CNN_particle_classification/runs/1cbfrzs6\" target=\"_blank\">big dense layer</a></strong> to <a href=\"https://wandb.ai/vedmanivaidya/CNN_particle_classification\" target=\"_blank\">Weights & Biases</a> (<a href=\"https://wandb.me/run\" target=\"_blank\">docs</a>)<br/>"
            ]
          },
          "metadata": {}
        },
        {
          "output_type": "execute_result",
          "data": {
            "text/html": [
              "<button onClick=\"this.nextSibling.style.display='block';this.style.display='none';\">Display W&B run</button><iframe src=\"https://wandb.ai/vedmanivaidya/CNN_particle_classification/runs/1cbfrzs6?jupyter=true\" style=\"border:none;width:100%;height:420px;display:none;\"></iframe>"
            ],
            "text/plain": [
              "<wandb.sdk.wandb_run.Run at 0x7f87c971a190>"
            ]
          },
          "metadata": {},
          "execution_count": 35
        }
      ]
    },
    {
      "cell_type": "code",
      "source": [
        "%%time\n",
        "epochs=200\n",
        "history = model.fit(\n",
        "  train_ds,\n",
        "  validation_data=val_ds,\n",
        "  epochs=epochs,\n",
        "  callbacks=[WandbCallback()]\n",
        ")"
      ],
      "metadata": {
        "colab": {
          "base_uri": "https://localhost:8080/"
        },
        "id": "4Nfnd3urTn2W",
        "outputId": "c34db5da-1df1-4eaf-d6fb-a86fe234d0d2",
        "pycharm": {
          "name": "#%%\n"
        }
      },
      "execution_count": 36,
      "outputs": [
        {
          "output_type": "stream",
          "name": "stdout",
          "text": [
            "Epoch 1/200\n",
            "22/22 [==============================] - ETA: 0s - loss: 1.4114 - accuracy: 0.3793"
          ]
        },
        {
          "output_type": "stream",
          "name": "stderr",
          "text": [
            "WARNING:absl:Found untraced functions such as _jit_compiled_convolution_op, _jit_compiled_convolution_op, _jit_compiled_convolution_op, _jit_compiled_convolution_op, _jit_compiled_convolution_op while saving (showing 5 of 6). These functions will not be directly callable after loading.\n",
            "\u001b[34m\u001b[1mwandb\u001b[0m: Adding directory to artifact (/content/wandb/run-20221104_072028-1cbfrzs6/files/model-best)... Done. 0.2s\n"
          ]
        },
        {
          "output_type": "stream",
          "name": "stdout",
          "text": [
            "\b\b\b\b\b\b\b\b\b\b\b\b\b\b\b\b\b\b\b\b\b\b\b\b\b\b\b\b\b\b\b\b\b\b\b\b\b\b\b\b\b\b\b\b\b\b\b\b\b\b\b\b\b\b\b\b\b\b\b\b\b\b\b\b\b\b\b\b\b\b\b\b\b\b\b\b\b\b\b\b\b\b\r22/22 [==============================] - 9s 311ms/step - loss: 1.4114 - accuracy: 0.3793 - val_loss: 1.1843 - val_accuracy: 0.3886\n",
            "Epoch 2/200\n",
            "22/22 [==============================] - 3s 130ms/step - loss: 1.1141 - accuracy: 0.5469 - val_loss: 1.2049 - val_accuracy: 0.5371\n",
            "Epoch 3/200\n",
            "22/22 [==============================] - ETA: 0s - loss: 1.1002 - accuracy: 0.5866"
          ]
        },
        {
          "output_type": "stream",
          "name": "stderr",
          "text": [
            "WARNING:absl:Found untraced functions such as _jit_compiled_convolution_op, _jit_compiled_convolution_op, _jit_compiled_convolution_op, _jit_compiled_convolution_op, _jit_compiled_convolution_op while saving (showing 5 of 6). These functions will not be directly callable after loading.\n",
            "\u001b[34m\u001b[1mwandb\u001b[0m: Adding directory to artifact (/content/wandb/run-20221104_072028-1cbfrzs6/files/model-best)... Done. 0.2s\n"
          ]
        },
        {
          "output_type": "stream",
          "name": "stdout",
          "text": [
            "\b\b\b\b\b\b\b\b\b\b\b\b\b\b\b\b\b\b\b\b\b\b\b\b\b\b\b\b\b\b\b\b\b\b\b\b\b\b\b\b\b\b\b\b\b\b\b\b\b\b\b\b\b\b\b\b\b\b\b\b\b\b\b\b\b\b\b\b\b\b\b\b\b\b\b\b\b\b\b\b\b\b\r22/22 [==============================] - 7s 280ms/step - loss: 1.1002 - accuracy: 0.5866 - val_loss: 1.1414 - val_accuracy: 0.5257\n",
            "Epoch 4/200\n",
            "22/22 [==============================] - ETA: 0s - loss: 1.0182 - accuracy: 0.6165"
          ]
        },
        {
          "output_type": "stream",
          "name": "stderr",
          "text": [
            "WARNING:absl:Found untraced functions such as _jit_compiled_convolution_op, _jit_compiled_convolution_op, _jit_compiled_convolution_op, _jit_compiled_convolution_op, _jit_compiled_convolution_op while saving (showing 5 of 6). These functions will not be directly callable after loading.\n",
            "\u001b[34m\u001b[1mwandb\u001b[0m: Adding directory to artifact (/content/wandb/run-20221104_072028-1cbfrzs6/files/model-best)... Done. 0.2s\n"
          ]
        },
        {
          "output_type": "stream",
          "name": "stdout",
          "text": [
            "\b\b\b\b\b\b\b\b\b\b\b\b\b\b\b\b\b\b\b\b\b\b\b\b\b\b\b\b\b\b\b\b\b\b\b\b\b\b\b\b\b\b\b\b\b\b\b\b\b\b\b\b\b\b\b\b\b\b\b\b\b\b\b\b\b\b\b\b\b\b\b\b\b\b\b\b\b\b\b\b\b\b\r22/22 [==============================] - 7s 303ms/step - loss: 1.0182 - accuracy: 0.6165 - val_loss: 1.1234 - val_accuracy: 0.5257\n",
            "Epoch 5/200\n",
            "22/22 [==============================] - ETA: 0s - loss: 0.9599 - accuracy: 0.6264"
          ]
        },
        {
          "output_type": "stream",
          "name": "stderr",
          "text": [
            "WARNING:absl:Found untraced functions such as _jit_compiled_convolution_op, _jit_compiled_convolution_op, _jit_compiled_convolution_op, _jit_compiled_convolution_op, _jit_compiled_convolution_op while saving (showing 5 of 6). These functions will not be directly callable after loading.\n",
            "\u001b[34m\u001b[1mwandb\u001b[0m: Adding directory to artifact (/content/wandb/run-20221104_072028-1cbfrzs6/files/model-best)... Done. 0.2s\n"
          ]
        },
        {
          "output_type": "stream",
          "name": "stdout",
          "text": [
            "\b\b\b\b\b\b\b\b\b\b\b\b\b\b\b\b\b\b\b\b\b\b\b\b\b\b\b\b\b\b\b\b\b\b\b\b\b\b\b\b\b\b\b\b\b\b\b\b\b\b\b\b\b\b\b\b\b\b\b\b\b\b\b\b\b\b\b\b\b\b\b\b\b\b\b\b\b\b\b\b\b\b\r22/22 [==============================] - 7s 291ms/step - loss: 0.9599 - accuracy: 0.6264 - val_loss: 1.0664 - val_accuracy: 0.5714\n",
            "Epoch 6/200\n",
            "22/22 [==============================] - 3s 124ms/step - loss: 0.9806 - accuracy: 0.6122 - val_loss: 1.1087 - val_accuracy: 0.5314\n",
            "Epoch 7/200\n",
            "22/22 [==============================] - ETA: 0s - loss: 0.9540 - accuracy: 0.6236"
          ]
        },
        {
          "output_type": "stream",
          "name": "stderr",
          "text": [
            "WARNING:absl:Found untraced functions such as _jit_compiled_convolution_op, _jit_compiled_convolution_op, _jit_compiled_convolution_op, _jit_compiled_convolution_op, _jit_compiled_convolution_op while saving (showing 5 of 6). These functions will not be directly callable after loading.\n",
            "\u001b[34m\u001b[1mwandb\u001b[0m: Adding directory to artifact (/content/wandb/run-20221104_072028-1cbfrzs6/files/model-best)... Done. 0.2s\n"
          ]
        },
        {
          "output_type": "stream",
          "name": "stdout",
          "text": [
            "\b\b\b\b\b\b\b\b\b\b\b\b\b\b\b\b\b\b\b\b\b\b\b\b\b\b\b\b\b\b\b\b\b\b\b\b\b\b\b\b\b\b\b\b\b\b\b\b\b\b\b\b\b\b\b\b\b\b\b\b\b\b\b\b\b\b\b\b\b\b\b\b\b\b\b\b\b\b\b\b\b\b\r22/22 [==============================] - 6s 271ms/step - loss: 0.9540 - accuracy: 0.6236 - val_loss: 0.9945 - val_accuracy: 0.5600\n",
            "Epoch 8/200\n",
            "22/22 [==============================] - 3s 122ms/step - loss: 0.9885 - accuracy: 0.6236 - val_loss: 1.0354 - val_accuracy: 0.5829\n",
            "Epoch 9/200\n",
            "22/22 [==============================] - 3s 118ms/step - loss: 0.9392 - accuracy: 0.6307 - val_loss: 0.9982 - val_accuracy: 0.5429\n",
            "Epoch 10/200\n",
            "22/22 [==============================] - 3s 124ms/step - loss: 0.9612 - accuracy: 0.6321 - val_loss: 1.0738 - val_accuracy: 0.5543\n",
            "Epoch 11/200\n",
            "22/22 [==============================] - ETA: 0s - loss: 0.9491 - accuracy: 0.6349"
          ]
        },
        {
          "output_type": "stream",
          "name": "stderr",
          "text": [
            "WARNING:absl:Found untraced functions such as _jit_compiled_convolution_op, _jit_compiled_convolution_op, _jit_compiled_convolution_op, _jit_compiled_convolution_op, _jit_compiled_convolution_op while saving (showing 5 of 6). These functions will not be directly callable after loading.\n",
            "\u001b[34m\u001b[1mwandb\u001b[0m: Adding directory to artifact (/content/wandb/run-20221104_072028-1cbfrzs6/files/model-best)... Done. 0.2s\n"
          ]
        },
        {
          "output_type": "stream",
          "name": "stdout",
          "text": [
            "\b\b\b\b\b\b\b\b\b\b\b\b\b\b\b\b\b\b\b\b\b\b\b\b\b\b\b\b\b\b\b\b\b\b\b\b\b\b\b\b\b\b\b\b\b\b\b\b\b\b\b\b\b\b\b\b\b\b\b\b\b\b\b\b\b\b\b\b\b\b\b\b\b\b\b\b\b\b\b\b\b\b\r22/22 [==============================] - 7s 290ms/step - loss: 0.9491 - accuracy: 0.6349 - val_loss: 0.9244 - val_accuracy: 0.5943\n",
            "Epoch 12/200\n",
            "22/22 [==============================] - 3s 119ms/step - loss: 0.8678 - accuracy: 0.6562 - val_loss: 0.9462 - val_accuracy: 0.5886\n",
            "Epoch 13/200\n",
            "22/22 [==============================] - ETA: 0s - loss: 0.8459 - accuracy: 0.6662"
          ]
        },
        {
          "output_type": "stream",
          "name": "stderr",
          "text": [
            "WARNING:absl:Found untraced functions such as _jit_compiled_convolution_op, _jit_compiled_convolution_op, _jit_compiled_convolution_op, _jit_compiled_convolution_op, _jit_compiled_convolution_op while saving (showing 5 of 6). These functions will not be directly callable after loading.\n",
            "\u001b[34m\u001b[1mwandb\u001b[0m: Adding directory to artifact (/content/wandb/run-20221104_072028-1cbfrzs6/files/model-best)... Done. 0.2s\n"
          ]
        },
        {
          "output_type": "stream",
          "name": "stdout",
          "text": [
            "\b\b\b\b\b\b\b\b\b\b\b\b\b\b\b\b\b\b\b\b\b\b\b\b\b\b\b\b\b\b\b\b\b\b\b\b\b\b\b\b\b\b\b\b\b\b\b\b\b\b\b\b\b\b\b\b\b\b\b\b\b\b\b\b\b\b\b\b\b\b\b\b\b\b\b\b\b\b\b\b\b\b\r22/22 [==============================] - 6s 277ms/step - loss: 0.8459 - accuracy: 0.6662 - val_loss: 0.9048 - val_accuracy: 0.6629\n",
            "Epoch 14/200\n",
            "22/22 [==============================] - ETA: 0s - loss: 0.9362 - accuracy: 0.6491"
          ]
        },
        {
          "output_type": "stream",
          "name": "stderr",
          "text": [
            "WARNING:absl:Found untraced functions such as _jit_compiled_convolution_op, _jit_compiled_convolution_op, _jit_compiled_convolution_op, _jit_compiled_convolution_op, _jit_compiled_convolution_op while saving (showing 5 of 6). These functions will not be directly callable after loading.\n",
            "\u001b[34m\u001b[1mwandb\u001b[0m: Adding directory to artifact (/content/wandb/run-20221104_072028-1cbfrzs6/files/model-best)... Done. 0.2s\n"
          ]
        },
        {
          "output_type": "stream",
          "name": "stdout",
          "text": [
            "\b\b\b\b\b\b\b\b\b\b\b\b\b\b\b\b\b\b\b\b\b\b\b\b\b\b\b\b\b\b\b\b\b\b\b\b\b\b\b\b\b\b\b\b\b\b\b\b\b\b\b\b\b\b\b\b\b\b\b\b\b\b\b\b\b\b\b\b\b\b\b\b\b\b\b\b\b\b\b\b\b\b\r22/22 [==============================] - 7s 295ms/step - loss: 0.9362 - accuracy: 0.6491 - val_loss: 0.8539 - val_accuracy: 0.6686\n",
            "Epoch 15/200\n",
            "22/22 [==============================] - 3s 124ms/step - loss: 0.8328 - accuracy: 0.6790 - val_loss: 0.8708 - val_accuracy: 0.6686\n",
            "Epoch 16/200\n",
            "22/22 [==============================] - 3s 127ms/step - loss: 0.7737 - accuracy: 0.6960 - val_loss: 0.9131 - val_accuracy: 0.6343\n",
            "Epoch 17/200\n",
            "22/22 [==============================] - 4s 183ms/step - loss: 0.8464 - accuracy: 0.6776 - val_loss: 0.9149 - val_accuracy: 0.6400\n",
            "Epoch 18/200\n",
            "22/22 [==============================] - 5s 199ms/step - loss: 0.7747 - accuracy: 0.6932 - val_loss: 1.0738 - val_accuracy: 0.6800\n",
            "Epoch 19/200\n",
            "22/22 [==============================] - ETA: 0s - loss: 0.6982 - accuracy: 0.7401"
          ]
        },
        {
          "output_type": "stream",
          "name": "stderr",
          "text": [
            "WARNING:absl:Found untraced functions such as _jit_compiled_convolution_op, _jit_compiled_convolution_op, _jit_compiled_convolution_op, _jit_compiled_convolution_op, _jit_compiled_convolution_op while saving (showing 5 of 6). These functions will not be directly callable after loading.\n",
            "\u001b[34m\u001b[1mwandb\u001b[0m: Adding directory to artifact (/content/wandb/run-20221104_072028-1cbfrzs6/files/model-best)... Done. 0.2s\n"
          ]
        },
        {
          "output_type": "stream",
          "name": "stdout",
          "text": [
            "\b\b\b\b\b\b\b\b\b\b\b\b\b\b\b\b\b\b\b\b\b\b\b\b\b\b\b\b\b\b\b\b\b\b\b\b\b\b\b\b\b\b\b\b\b\b\b\b\b\b\b\b\b\b\b\b\b\b\b\b\b\b\b\b\b\b\b\b\b\b\b\b\b\b\b\b\b\b\b\b\b\b\r22/22 [==============================] - 7s 280ms/step - loss: 0.6982 - accuracy: 0.7401 - val_loss: 0.7278 - val_accuracy: 0.6971\n",
            "Epoch 20/200\n",
            "22/22 [==============================] - ETA: 0s - loss: 0.6596 - accuracy: 0.7599"
          ]
        },
        {
          "output_type": "stream",
          "name": "stderr",
          "text": [
            "WARNING:absl:Found untraced functions such as _jit_compiled_convolution_op, _jit_compiled_convolution_op, _jit_compiled_convolution_op, _jit_compiled_convolution_op, _jit_compiled_convolution_op while saving (showing 5 of 6). These functions will not be directly callable after loading.\n",
            "\u001b[34m\u001b[1mwandb\u001b[0m: Adding directory to artifact (/content/wandb/run-20221104_072028-1cbfrzs6/files/model-best)... Done. 0.2s\n"
          ]
        },
        {
          "output_type": "stream",
          "name": "stdout",
          "text": [
            "\b\b\b\b\b\b\b\b\b\b\b\b\b\b\b\b\b\b\b\b\b\b\b\b\b\b\b\b\b\b\b\b\b\b\b\b\b\b\b\b\b\b\b\b\b\b\b\b\b\b\b\b\b\b\b\b\b\b\b\b\b\b\b\b\b\b\b\b\b\b\b\b\b\b\b\b\b\b\b\b\b\b\r22/22 [==============================] - 7s 304ms/step - loss: 0.6596 - accuracy: 0.7599 - val_loss: 0.6644 - val_accuracy: 0.7257\n",
            "Epoch 21/200\n",
            "22/22 [==============================] - 3s 121ms/step - loss: 0.6346 - accuracy: 0.7528 - val_loss: 0.7726 - val_accuracy: 0.7257\n",
            "Epoch 22/200\n",
            "22/22 [==============================] - 3s 128ms/step - loss: 0.7149 - accuracy: 0.7145 - val_loss: 0.8225 - val_accuracy: 0.6914\n",
            "Epoch 23/200\n",
            "22/22 [==============================] - 3s 118ms/step - loss: 0.6923 - accuracy: 0.7344 - val_loss: 0.7517 - val_accuracy: 0.7086\n",
            "Epoch 24/200\n",
            "22/22 [==============================] - 3s 115ms/step - loss: 0.6974 - accuracy: 0.7344 - val_loss: 0.7233 - val_accuracy: 0.7257\n",
            "Epoch 25/200\n",
            "22/22 [==============================] - ETA: 0s - loss: 0.6540 - accuracy: 0.7514"
          ]
        },
        {
          "output_type": "stream",
          "name": "stderr",
          "text": [
            "WARNING:absl:Found untraced functions such as _jit_compiled_convolution_op, _jit_compiled_convolution_op, _jit_compiled_convolution_op, _jit_compiled_convolution_op, _jit_compiled_convolution_op while saving (showing 5 of 6). These functions will not be directly callable after loading.\n",
            "\u001b[34m\u001b[1mwandb\u001b[0m: Adding directory to artifact (/content/wandb/run-20221104_072028-1cbfrzs6/files/model-best)... Done. 0.2s\n"
          ]
        },
        {
          "output_type": "stream",
          "name": "stdout",
          "text": [
            "\b\b\b\b\b\b\b\b\b\b\b\b\b\b\b\b\b\b\b\b\b\b\b\b\b\b\b\b\b\b\b\b\b\b\b\b\b\b\b\b\b\b\b\b\b\b\b\b\b\b\b\b\b\b\b\b\b\b\b\b\b\b\b\b\b\b\b\b\b\b\b\b\b\b\b\b\b\b\b\b\b\b\r22/22 [==============================] - 7s 295ms/step - loss: 0.6540 - accuracy: 0.7514 - val_loss: 0.6393 - val_accuracy: 0.7429\n",
            "Epoch 26/200\n",
            "22/22 [==============================] - 3s 124ms/step - loss: 0.5828 - accuracy: 0.7713 - val_loss: 0.7276 - val_accuracy: 0.7600\n",
            "Epoch 27/200\n",
            "22/22 [==============================] - ETA: 0s - loss: 0.5813 - accuracy: 0.7557"
          ]
        },
        {
          "output_type": "stream",
          "name": "stderr",
          "text": [
            "WARNING:absl:Found untraced functions such as _jit_compiled_convolution_op, _jit_compiled_convolution_op, _jit_compiled_convolution_op, _jit_compiled_convolution_op, _jit_compiled_convolution_op while saving (showing 5 of 6). These functions will not be directly callable after loading.\n",
            "\u001b[34m\u001b[1mwandb\u001b[0m: Adding directory to artifact (/content/wandb/run-20221104_072028-1cbfrzs6/files/model-best)... Done. 0.2s\n"
          ]
        },
        {
          "output_type": "stream",
          "name": "stdout",
          "text": [
            "\b\b\b\b\b\b\b\b\b\b\b\b\b\b\b\b\b\b\b\b\b\b\b\b\b\b\b\b\b\b\b\b\b\b\b\b\b\b\b\b\b\b\b\b\b\b\b\b\b\b\b\b\b\b\b\b\b\b\b\b\b\b\b\b\b\b\b\b\b\b\b\b\b\b\b\b\b\b\b\b\b\b\r22/22 [==============================] - 7s 280ms/step - loss: 0.5813 - accuracy: 0.7557 - val_loss: 0.6328 - val_accuracy: 0.7486\n",
            "Epoch 28/200\n",
            "22/22 [==============================] - ETA: 0s - loss: 0.5747 - accuracy: 0.7685"
          ]
        },
        {
          "output_type": "stream",
          "name": "stderr",
          "text": [
            "WARNING:absl:Found untraced functions such as _jit_compiled_convolution_op, _jit_compiled_convolution_op, _jit_compiled_convolution_op, _jit_compiled_convolution_op, _jit_compiled_convolution_op while saving (showing 5 of 6). These functions will not be directly callable after loading.\n",
            "\u001b[34m\u001b[1mwandb\u001b[0m: Adding directory to artifact (/content/wandb/run-20221104_072028-1cbfrzs6/files/model-best)... Done. 0.2s\n"
          ]
        },
        {
          "output_type": "stream",
          "name": "stdout",
          "text": [
            "\b\b\b\b\b\b\b\b\b\b\b\b\b\b\b\b\b\b\b\b\b\b\b\b\b\b\b\b\b\b\b\b\b\b\b\b\b\b\b\b\b\b\b\b\b\b\b\b\b\b\b\b\b\b\b\b\b\b\b\b\b\b\b\b\b\b\b\b\b\b\b\b\b\b\b\b\b\b\b\b\b\b\r22/22 [==============================] - 7s 279ms/step - loss: 0.5747 - accuracy: 0.7685 - val_loss: 0.5704 - val_accuracy: 0.7829\n",
            "Epoch 29/200\n",
            "22/22 [==============================] - 3s 122ms/step - loss: 0.4845 - accuracy: 0.7912 - val_loss: 0.7013 - val_accuracy: 0.7543\n",
            "Epoch 30/200\n",
            "22/22 [==============================] - 3s 116ms/step - loss: 0.4732 - accuracy: 0.8054 - val_loss: 0.9553 - val_accuracy: 0.6800\n",
            "Epoch 31/200\n",
            "22/22 [==============================] - ETA: 0s - loss: 0.4603 - accuracy: 0.8068"
          ]
        },
        {
          "output_type": "stream",
          "name": "stderr",
          "text": [
            "WARNING:absl:Found untraced functions such as _jit_compiled_convolution_op, _jit_compiled_convolution_op, _jit_compiled_convolution_op, _jit_compiled_convolution_op, _jit_compiled_convolution_op while saving (showing 5 of 6). These functions will not be directly callable after loading.\n",
            "\u001b[34m\u001b[1mwandb\u001b[0m: Adding directory to artifact (/content/wandb/run-20221104_072028-1cbfrzs6/files/model-best)... Done. 0.2s\n"
          ]
        },
        {
          "output_type": "stream",
          "name": "stdout",
          "text": [
            "\b\b\b\b\b\b\b\b\b\b\b\b\b\b\b\b\b\b\b\b\b\b\b\b\b\b\b\b\b\b\b\b\b\b\b\b\b\b\b\b\b\b\b\b\b\b\b\b\b\b\b\b\b\b\b\b\b\b\b\b\b\b\b\b\b\b\b\b\b\b\b\b\b\b\b\b\b\b\b\b\b\b\r22/22 [==============================] - 7s 294ms/step - loss: 0.4603 - accuracy: 0.8068 - val_loss: 0.5000 - val_accuracy: 0.8000\n",
            "Epoch 32/200\n",
            "22/22 [==============================] - 3s 125ms/step - loss: 0.4623 - accuracy: 0.8139 - val_loss: 0.5684 - val_accuracy: 0.7829\n",
            "Epoch 33/200\n",
            "22/22 [==============================] - 3s 118ms/step - loss: 0.4486 - accuracy: 0.8111 - val_loss: 0.5534 - val_accuracy: 0.7943\n",
            "Epoch 34/200\n",
            "22/22 [==============================] - ETA: 0s - loss: 0.4175 - accuracy: 0.8182"
          ]
        },
        {
          "output_type": "stream",
          "name": "stderr",
          "text": [
            "WARNING:absl:Found untraced functions such as _jit_compiled_convolution_op, _jit_compiled_convolution_op, _jit_compiled_convolution_op, _jit_compiled_convolution_op, _jit_compiled_convolution_op while saving (showing 5 of 6). These functions will not be directly callable after loading.\n",
            "\u001b[34m\u001b[1mwandb\u001b[0m: Adding directory to artifact (/content/wandb/run-20221104_072028-1cbfrzs6/files/model-best)... Done. 0.2s\n"
          ]
        },
        {
          "output_type": "stream",
          "name": "stdout",
          "text": [
            "\b\b\b\b\b\b\b\b\b\b\b\b\b\b\b\b\b\b\b\b\b\b\b\b\b\b\b\b\b\b\b\b\b\b\b\b\b\b\b\b\b\b\b\b\b\b\b\b\b\b\b\b\b\b\b\b\b\b\b\b\b\b\b\b\b\b\b\b\b\b\b\b\b\b\b\b\b\b\b\b\b\b\r22/22 [==============================] - 7s 283ms/step - loss: 0.4175 - accuracy: 0.8182 - val_loss: 0.4620 - val_accuracy: 0.8286\n",
            "Epoch 35/200\n",
            "22/22 [==============================] - 3s 117ms/step - loss: 0.4255 - accuracy: 0.8139 - val_loss: 0.4654 - val_accuracy: 0.8114\n",
            "Epoch 36/200\n",
            "22/22 [==============================] - 3s 117ms/step - loss: 0.3907 - accuracy: 0.8395 - val_loss: 0.7272 - val_accuracy: 0.7657\n",
            "Epoch 37/200\n",
            "22/22 [==============================] - 3s 121ms/step - loss: 0.3997 - accuracy: 0.8423 - val_loss: 0.5909 - val_accuracy: 0.8114\n",
            "Epoch 38/200\n",
            "22/22 [==============================] - ETA: 0s - loss: 0.4188 - accuracy: 0.8224"
          ]
        },
        {
          "output_type": "stream",
          "name": "stderr",
          "text": [
            "WARNING:absl:Found untraced functions such as _jit_compiled_convolution_op, _jit_compiled_convolution_op, _jit_compiled_convolution_op, _jit_compiled_convolution_op, _jit_compiled_convolution_op while saving (showing 5 of 6). These functions will not be directly callable after loading.\n",
            "\u001b[34m\u001b[1mwandb\u001b[0m: Adding directory to artifact (/content/wandb/run-20221104_072028-1cbfrzs6/files/model-best)... Done. 0.2s\n"
          ]
        },
        {
          "output_type": "stream",
          "name": "stdout",
          "text": [
            "\b\b\b\b\b\b\b\b\b\b\b\b\b\b\b\b\b\b\b\b\b\b\b\b\b\b\b\b\b\b\b\b\b\b\b\b\b\b\b\b\b\b\b\b\b\b\b\b\b\b\b\b\b\b\b\b\b\b\b\b\b\b\b\b\b\b\b\b\b\b\b\b\b\b\b\b\b\b\b\b\b\b\r22/22 [==============================] - 7s 289ms/step - loss: 0.4188 - accuracy: 0.8224 - val_loss: 0.4365 - val_accuracy: 0.8171\n",
            "Epoch 39/200\n",
            "22/22 [==============================] - 3s 121ms/step - loss: 0.3588 - accuracy: 0.8608 - val_loss: 0.8350 - val_accuracy: 0.7600\n",
            "Epoch 40/200\n",
            "22/22 [==============================] - 3s 121ms/step - loss: 0.4409 - accuracy: 0.8438 - val_loss: 0.4853 - val_accuracy: 0.8000\n",
            "Epoch 41/200\n",
            "22/22 [==============================] - 3s 119ms/step - loss: 0.3750 - accuracy: 0.8565 - val_loss: 0.6151 - val_accuracy: 0.8000\n",
            "Epoch 42/200\n",
            "22/22 [==============================] - 3s 116ms/step - loss: 0.3815 - accuracy: 0.8651 - val_loss: 0.6644 - val_accuracy: 0.7771\n",
            "Epoch 43/200\n",
            "22/22 [==============================] - 3s 118ms/step - loss: 0.3761 - accuracy: 0.8438 - val_loss: 0.4427 - val_accuracy: 0.8400\n",
            "Epoch 44/200\n",
            "22/22 [==============================] - 3s 120ms/step - loss: 0.5070 - accuracy: 0.8295 - val_loss: 0.6425 - val_accuracy: 0.7543\n",
            "Epoch 45/200\n",
            "22/22 [==============================] - 3s 119ms/step - loss: 0.4934 - accuracy: 0.8040 - val_loss: 0.5445 - val_accuracy: 0.7314\n",
            "Epoch 46/200\n",
            "22/22 [==============================] - 3s 120ms/step - loss: 0.4118 - accuracy: 0.8480 - val_loss: 0.7706 - val_accuracy: 0.7886\n",
            "Epoch 47/200\n",
            "22/22 [==============================] - 3s 115ms/step - loss: 0.4325 - accuracy: 0.8324 - val_loss: 0.6310 - val_accuracy: 0.7314\n",
            "Epoch 48/200\n",
            "22/22 [==============================] - 5s 195ms/step - loss: 0.4028 - accuracy: 0.8622 - val_loss: 0.6641 - val_accuracy: 0.8000\n",
            "Epoch 49/200\n",
            "22/22 [==============================] - 3s 118ms/step - loss: 0.3692 - accuracy: 0.8594 - val_loss: 0.4972 - val_accuracy: 0.7886\n",
            "Epoch 50/200\n",
            "22/22 [==============================] - 3s 126ms/step - loss: 0.4110 - accuracy: 0.8338 - val_loss: 0.5277 - val_accuracy: 0.7657\n",
            "Epoch 51/200\n",
            "22/22 [==============================] - 3s 117ms/step - loss: 0.3532 - accuracy: 0.8679 - val_loss: 0.4769 - val_accuracy: 0.8286\n",
            "Epoch 52/200\n",
            "22/22 [==============================] - ETA: 0s - loss: 0.3164 - accuracy: 0.8778"
          ]
        },
        {
          "output_type": "stream",
          "name": "stderr",
          "text": [
            "WARNING:absl:Found untraced functions such as _jit_compiled_convolution_op, _jit_compiled_convolution_op, _jit_compiled_convolution_op, _jit_compiled_convolution_op, _jit_compiled_convolution_op while saving (showing 5 of 6). These functions will not be directly callable after loading.\n",
            "\u001b[34m\u001b[1mwandb\u001b[0m: Adding directory to artifact (/content/wandb/run-20221104_072028-1cbfrzs6/files/model-best)... Done. 0.2s\n"
          ]
        },
        {
          "output_type": "stream",
          "name": "stdout",
          "text": [
            "\b\b\b\b\b\b\b\b\b\b\b\b\b\b\b\b\b\b\b\b\b\b\b\b\b\b\b\b\b\b\b\b\b\b\b\b\b\b\b\b\b\b\b\b\b\b\b\b\b\b\b\b\b\b\b\b\b\b\b\b\b\b\b\b\b\b\b\b\b\b\b\b\b\b\b\b\b\b\b\b\b\b\r22/22 [==============================] - 6s 272ms/step - loss: 0.3164 - accuracy: 0.8778 - val_loss: 0.3978 - val_accuracy: 0.8343\n",
            "Epoch 53/200\n",
            "22/22 [==============================] - 3s 126ms/step - loss: 0.3689 - accuracy: 0.8679 - val_loss: 0.6083 - val_accuracy: 0.7714\n",
            "Epoch 54/200\n",
            "22/22 [==============================] - 3s 121ms/step - loss: 0.3576 - accuracy: 0.8807 - val_loss: 0.6808 - val_accuracy: 0.6971\n",
            "Epoch 55/200\n",
            "22/22 [==============================] - 3s 114ms/step - loss: 0.3551 - accuracy: 0.8651 - val_loss: 0.5445 - val_accuracy: 0.8514\n",
            "Epoch 56/200\n",
            "22/22 [==============================] - 3s 123ms/step - loss: 0.2778 - accuracy: 0.8977 - val_loss: 0.4765 - val_accuracy: 0.8514\n",
            "Epoch 57/200\n",
            "22/22 [==============================] - 3s 121ms/step - loss: 0.2835 - accuracy: 0.8963 - val_loss: 0.4355 - val_accuracy: 0.8400\n",
            "Epoch 58/200\n",
            "22/22 [==============================] - 3s 123ms/step - loss: 0.2398 - accuracy: 0.9176 - val_loss: 0.5002 - val_accuracy: 0.8286\n",
            "Epoch 59/200\n",
            "22/22 [==============================] - 3s 121ms/step - loss: 0.2497 - accuracy: 0.9077 - val_loss: 0.7424 - val_accuracy: 0.7829\n",
            "Epoch 60/200\n",
            "22/22 [==============================] - ETA: 0s - loss: 0.2666 - accuracy: 0.8892"
          ]
        },
        {
          "output_type": "stream",
          "name": "stderr",
          "text": [
            "WARNING:absl:Found untraced functions such as _jit_compiled_convolution_op, _jit_compiled_convolution_op, _jit_compiled_convolution_op, _jit_compiled_convolution_op, _jit_compiled_convolution_op while saving (showing 5 of 6). These functions will not be directly callable after loading.\n",
            "\u001b[34m\u001b[1mwandb\u001b[0m: Adding directory to artifact (/content/wandb/run-20221104_072028-1cbfrzs6/files/model-best)... Done. 0.2s\n"
          ]
        },
        {
          "output_type": "stream",
          "name": "stdout",
          "text": [
            "\b\b\b\b\b\b\b\b\b\b\b\b\b\b\b\b\b\b\b\b\b\b\b\b\b\b\b\b\b\b\b\b\b\b\b\b\b\b\b\b\b\b\b\b\b\b\b\b\b\b\b\b\b\b\b\b\b\b\b\b\b\b\b\b\b\b\b\b\b\b\b\b\b\b\b\b\b\b\b\b\b\b\r22/22 [==============================] - 7s 303ms/step - loss: 0.2666 - accuracy: 0.8892 - val_loss: 0.3807 - val_accuracy: 0.8629\n",
            "Epoch 61/200\n",
            "22/22 [==============================] - ETA: 0s - loss: 0.2777 - accuracy: 0.9006"
          ]
        },
        {
          "output_type": "stream",
          "name": "stderr",
          "text": [
            "WARNING:absl:Found untraced functions such as _jit_compiled_convolution_op, _jit_compiled_convolution_op, _jit_compiled_convolution_op, _jit_compiled_convolution_op, _jit_compiled_convolution_op while saving (showing 5 of 6). These functions will not be directly callable after loading.\n",
            "\u001b[34m\u001b[1mwandb\u001b[0m: Adding directory to artifact (/content/wandb/run-20221104_072028-1cbfrzs6/files/model-best)... Done. 0.2s\n"
          ]
        },
        {
          "output_type": "stream",
          "name": "stdout",
          "text": [
            "\b\b\b\b\b\b\b\b\b\b\b\b\b\b\b\b\b\b\b\b\b\b\b\b\b\b\b\b\b\b\b\b\b\b\b\b\b\b\b\b\b\b\b\b\b\b\b\b\b\b\b\b\b\b\b\b\b\b\b\b\b\b\b\b\b\b\b\b\b\b\b\b\b\b\b\b\b\b\b\b\b\b\r22/22 [==============================] - 7s 287ms/step - loss: 0.2777 - accuracy: 0.9006 - val_loss: 0.3582 - val_accuracy: 0.8457\n",
            "Epoch 62/200\n",
            "22/22 [==============================] - 3s 127ms/step - loss: 0.2365 - accuracy: 0.9162 - val_loss: 0.3944 - val_accuracy: 0.8343\n",
            "Epoch 63/200\n",
            "22/22 [==============================] - 3s 117ms/step - loss: 0.2761 - accuracy: 0.9077 - val_loss: 0.8341 - val_accuracy: 0.7829\n",
            "Epoch 64/200\n",
            "22/22 [==============================] - 3s 125ms/step - loss: 0.4181 - accuracy: 0.8338 - val_loss: 0.4746 - val_accuracy: 0.7886\n",
            "Epoch 65/200\n",
            "22/22 [==============================] - 3s 121ms/step - loss: 0.3173 - accuracy: 0.8707 - val_loss: 0.5273 - val_accuracy: 0.8286\n",
            "Epoch 66/200\n",
            "22/22 [==============================] - 3s 115ms/step - loss: 0.2563 - accuracy: 0.8892 - val_loss: 0.5320 - val_accuracy: 0.8343\n",
            "Epoch 67/200\n",
            "22/22 [==============================] - 3s 117ms/step - loss: 0.2079 - accuracy: 0.9162 - val_loss: 1.0318 - val_accuracy: 0.7371\n",
            "Epoch 68/200\n",
            "22/22 [==============================] - 3s 118ms/step - loss: 0.2371 - accuracy: 0.9205 - val_loss: 0.4435 - val_accuracy: 0.8343\n",
            "Epoch 69/200\n",
            "22/22 [==============================] - 3s 117ms/step - loss: 0.2365 - accuracy: 0.9048 - val_loss: 0.4582 - val_accuracy: 0.8514\n",
            "Epoch 70/200\n",
            "22/22 [==============================] - 3s 127ms/step - loss: 0.1993 - accuracy: 0.9119 - val_loss: 0.4044 - val_accuracy: 0.8743\n",
            "Epoch 71/200\n",
            "22/22 [==============================] - 3s 115ms/step - loss: 0.1703 - accuracy: 0.9318 - val_loss: 0.4861 - val_accuracy: 0.8400\n",
            "Epoch 72/200\n",
            "22/22 [==============================] - 3s 126ms/step - loss: 0.1963 - accuracy: 0.9261 - val_loss: 0.7136 - val_accuracy: 0.7771\n",
            "Epoch 73/200\n",
            "22/22 [==============================] - 3s 124ms/step - loss: 0.2451 - accuracy: 0.9062 - val_loss: 0.4271 - val_accuracy: 0.8514\n",
            "Epoch 74/200\n",
            "22/22 [==============================] - 3s 118ms/step - loss: 0.1970 - accuracy: 0.9276 - val_loss: 0.4434 - val_accuracy: 0.8343\n",
            "Epoch 75/200\n",
            "22/22 [==============================] - 3s 123ms/step - loss: 0.2111 - accuracy: 0.9290 - val_loss: 0.4907 - val_accuracy: 0.8400\n",
            "Epoch 76/200\n",
            "22/22 [==============================] - 6s 216ms/step - loss: 0.2070 - accuracy: 0.9261 - val_loss: 0.6922 - val_accuracy: 0.8171\n",
            "Epoch 77/200\n",
            "22/22 [==============================] - 4s 137ms/step - loss: 0.2778 - accuracy: 0.8864 - val_loss: 0.5414 - val_accuracy: 0.8343\n",
            "Epoch 78/200\n",
            "22/22 [==============================] - 3s 121ms/step - loss: 0.2568 - accuracy: 0.8963 - val_loss: 0.4726 - val_accuracy: 0.8171\n",
            "Epoch 79/200\n",
            "22/22 [==============================] - 3s 122ms/step - loss: 0.3698 - accuracy: 0.8693 - val_loss: 1.0097 - val_accuracy: 0.7200\n",
            "Epoch 80/200\n",
            "22/22 [==============================] - 3s 115ms/step - loss: 0.2684 - accuracy: 0.8963 - val_loss: 0.3639 - val_accuracy: 0.8686\n",
            "Epoch 81/200\n",
            "22/22 [==============================] - 3s 115ms/step - loss: 0.2350 - accuracy: 0.9162 - val_loss: 0.5745 - val_accuracy: 0.8514\n",
            "Epoch 82/200\n",
            "22/22 [==============================] - 3s 125ms/step - loss: 0.1915 - accuracy: 0.9261 - val_loss: 0.3723 - val_accuracy: 0.8514\n",
            "Epoch 83/200\n",
            "22/22 [==============================] - 3s 115ms/step - loss: 0.1658 - accuracy: 0.9418 - val_loss: 0.5024 - val_accuracy: 0.8286\n",
            "Epoch 84/200\n",
            "22/22 [==============================] - ETA: 0s - loss: 0.1736 - accuracy: 0.9318"
          ]
        },
        {
          "output_type": "stream",
          "name": "stderr",
          "text": [
            "WARNING:absl:Found untraced functions such as _jit_compiled_convolution_op, _jit_compiled_convolution_op, _jit_compiled_convolution_op, _jit_compiled_convolution_op, _jit_compiled_convolution_op while saving (showing 5 of 6). These functions will not be directly callable after loading.\n",
            "\u001b[34m\u001b[1mwandb\u001b[0m: Adding directory to artifact (/content/wandb/run-20221104_072028-1cbfrzs6/files/model-best)... Done. 0.2s\n"
          ]
        },
        {
          "output_type": "stream",
          "name": "stdout",
          "text": [
            "\b\b\b\b\b\b\b\b\b\b\b\b\b\b\b\b\b\b\b\b\b\b\b\b\b\b\b\b\b\b\b\b\b\b\b\b\b\b\b\b\b\b\b\b\b\b\b\b\b\b\b\b\b\b\b\b\b\b\b\b\b\b\b\b\b\b\b\b\b\b\b\b\b\b\b\b\b\b\b\b\b\b\r22/22 [==============================] - 7s 287ms/step - loss: 0.1736 - accuracy: 0.9318 - val_loss: 0.3126 - val_accuracy: 0.8629\n",
            "Epoch 85/200\n",
            "22/22 [==============================] - 3s 122ms/step - loss: 0.1963 - accuracy: 0.9318 - val_loss: 0.4908 - val_accuracy: 0.8286\n",
            "Epoch 86/200\n",
            "22/22 [==============================] - 3s 117ms/step - loss: 0.2493 - accuracy: 0.9105 - val_loss: 0.4918 - val_accuracy: 0.8514\n",
            "Epoch 87/200\n",
            "22/22 [==============================] - 3s 125ms/step - loss: 0.2149 - accuracy: 0.9276 - val_loss: 0.5172 - val_accuracy: 0.8343\n",
            "Epoch 88/200\n",
            "22/22 [==============================] - ETA: 0s - loss: 0.1992 - accuracy: 0.9290"
          ]
        },
        {
          "output_type": "stream",
          "name": "stderr",
          "text": [
            "WARNING:absl:Found untraced functions such as _jit_compiled_convolution_op, _jit_compiled_convolution_op, _jit_compiled_convolution_op, _jit_compiled_convolution_op, _jit_compiled_convolution_op while saving (showing 5 of 6). These functions will not be directly callable after loading.\n",
            "\u001b[34m\u001b[1mwandb\u001b[0m: Adding directory to artifact (/content/wandb/run-20221104_072028-1cbfrzs6/files/model-best)... Done. 0.2s\n"
          ]
        },
        {
          "output_type": "stream",
          "name": "stdout",
          "text": [
            "\b\b\b\b\b\b\b\b\b\b\b\b\b\b\b\b\b\b\b\b\b\b\b\b\b\b\b\b\b\b\b\b\b\b\b\b\b\b\b\b\b\b\b\b\b\b\b\b\b\b\b\b\b\b\b\b\b\b\b\b\b\b\b\b\b\b\b\b\b\b\b\b\b\b\b\b\b\b\b\b\b\b\r22/22 [==============================] - 6s 276ms/step - loss: 0.1992 - accuracy: 0.9290 - val_loss: 0.2782 - val_accuracy: 0.9143\n",
            "Epoch 89/200\n",
            "22/22 [==============================] - 3s 121ms/step - loss: 0.1558 - accuracy: 0.9474 - val_loss: 0.4090 - val_accuracy: 0.8686\n",
            "Epoch 90/200\n",
            "22/22 [==============================] - 3s 119ms/step - loss: 0.1261 - accuracy: 0.9560 - val_loss: 0.3994 - val_accuracy: 0.8571\n",
            "Epoch 91/200\n",
            "22/22 [==============================] - 3s 118ms/step - loss: 0.1425 - accuracy: 0.9531 - val_loss: 0.3464 - val_accuracy: 0.8857\n",
            "Epoch 92/200\n",
            "22/22 [==============================] - 3s 117ms/step - loss: 0.2115 - accuracy: 0.9276 - val_loss: 0.3549 - val_accuracy: 0.8686\n",
            "Epoch 93/200\n",
            "22/22 [==============================] - 3s 115ms/step - loss: 0.1438 - accuracy: 0.9446 - val_loss: 0.3993 - val_accuracy: 0.8629\n",
            "Epoch 94/200\n",
            "22/22 [==============================] - 3s 124ms/step - loss: 0.1800 - accuracy: 0.9389 - val_loss: 0.3768 - val_accuracy: 0.8629\n",
            "Epoch 95/200\n",
            "22/22 [==============================] - 3s 121ms/step - loss: 0.1475 - accuracy: 0.9446 - val_loss: 0.3725 - val_accuracy: 0.8629\n",
            "Epoch 96/200\n",
            "22/22 [==============================] - 3s 119ms/step - loss: 0.1642 - accuracy: 0.9474 - val_loss: 0.4228 - val_accuracy: 0.8286\n",
            "Epoch 97/200\n",
            "22/22 [==============================] - 3s 116ms/step - loss: 0.1649 - accuracy: 0.9304 - val_loss: 0.4084 - val_accuracy: 0.8800\n",
            "Epoch 98/200\n",
            "22/22 [==============================] - 3s 124ms/step - loss: 0.1257 - accuracy: 0.9489 - val_loss: 0.4596 - val_accuracy: 0.8514\n",
            "Epoch 99/200\n",
            "22/22 [==============================] - 3s 117ms/step - loss: 0.1184 - accuracy: 0.9503 - val_loss: 0.3058 - val_accuracy: 0.9029\n",
            "Epoch 100/200\n",
            "22/22 [==============================] - 3s 115ms/step - loss: 0.1348 - accuracy: 0.9517 - val_loss: 0.4342 - val_accuracy: 0.8571\n",
            "Epoch 101/200\n",
            "22/22 [==============================] - 3s 112ms/step - loss: 0.1472 - accuracy: 0.9460 - val_loss: 0.3581 - val_accuracy: 0.8629\n",
            "Epoch 102/200\n",
            "22/22 [==============================] - 3s 123ms/step - loss: 0.1524 - accuracy: 0.9474 - val_loss: 0.7800 - val_accuracy: 0.7886\n",
            "Epoch 103/200\n",
            "22/22 [==============================] - 3s 116ms/step - loss: 0.2128 - accuracy: 0.9247 - val_loss: 0.5563 - val_accuracy: 0.8114\n",
            "Epoch 104/200\n",
            "22/22 [==============================] - 3s 116ms/step - loss: 0.1942 - accuracy: 0.9318 - val_loss: 0.4459 - val_accuracy: 0.8457\n",
            "Epoch 105/200\n",
            "22/22 [==============================] - 3s 114ms/step - loss: 0.1063 - accuracy: 0.9602 - val_loss: 0.4277 - val_accuracy: 0.8857\n",
            "Epoch 106/200\n",
            "22/22 [==============================] - ETA: 0s - loss: 0.1351 - accuracy: 0.9517"
          ]
        },
        {
          "output_type": "stream",
          "name": "stderr",
          "text": [
            "WARNING:absl:Found untraced functions such as _jit_compiled_convolution_op, _jit_compiled_convolution_op, _jit_compiled_convolution_op, _jit_compiled_convolution_op, _jit_compiled_convolution_op while saving (showing 5 of 6). These functions will not be directly callable after loading.\n",
            "\u001b[34m\u001b[1mwandb\u001b[0m: Adding directory to artifact (/content/wandb/run-20221104_072028-1cbfrzs6/files/model-best)... Done. 0.2s\n"
          ]
        },
        {
          "output_type": "stream",
          "name": "stdout",
          "text": [
            "\b\b\b\b\b\b\b\b\b\b\b\b\b\b\b\b\b\b\b\b\b\b\b\b\b\b\b\b\b\b\b\b\b\b\b\b\b\b\b\b\b\b\b\b\b\b\b\b\b\b\b\b\b\b\b\b\b\b\b\b\b\b\b\b\b\b\b\b\b\b\b\b\b\b\b\b\b\b\b\b\b\b\r22/22 [==============================] - 7s 299ms/step - loss: 0.1351 - accuracy: 0.9517 - val_loss: 0.2487 - val_accuracy: 0.9029\n",
            "Epoch 107/200\n",
            "22/22 [==============================] - 3s 123ms/step - loss: 0.1312 - accuracy: 0.9474 - val_loss: 0.5613 - val_accuracy: 0.8971\n",
            "Epoch 108/200\n",
            "22/22 [==============================] - 3s 127ms/step - loss: 0.2772 - accuracy: 0.9020 - val_loss: 0.3547 - val_accuracy: 0.8514\n",
            "Epoch 109/200\n",
            "22/22 [==============================] - 3s 121ms/step - loss: 0.1972 - accuracy: 0.9375 - val_loss: 0.2981 - val_accuracy: 0.8971\n",
            "Epoch 110/200\n",
            "22/22 [==============================] - 3s 127ms/step - loss: 0.1302 - accuracy: 0.9432 - val_loss: 0.3198 - val_accuracy: 0.8971\n",
            "Epoch 111/200\n",
            "22/22 [==============================] - 4s 156ms/step - loss: 0.1321 - accuracy: 0.9517 - val_loss: 0.2879 - val_accuracy: 0.9029\n",
            "Epoch 112/200\n",
            "22/22 [==============================] - 5s 167ms/step - loss: 0.1020 - accuracy: 0.9659 - val_loss: 0.3737 - val_accuracy: 0.8914\n",
            "Epoch 113/200\n",
            "22/22 [==============================] - ETA: 0s - loss: 0.0918 - accuracy: 0.9673"
          ]
        },
        {
          "output_type": "stream",
          "name": "stderr",
          "text": [
            "WARNING:absl:Found untraced functions such as _jit_compiled_convolution_op, _jit_compiled_convolution_op, _jit_compiled_convolution_op, _jit_compiled_convolution_op, _jit_compiled_convolution_op while saving (showing 5 of 6). These functions will not be directly callable after loading.\n",
            "\u001b[34m\u001b[1mwandb\u001b[0m: Adding directory to artifact (/content/wandb/run-20221104_072028-1cbfrzs6/files/model-best)... Done. 0.2s\n"
          ]
        },
        {
          "output_type": "stream",
          "name": "stdout",
          "text": [
            "\b\b\b\b\b\b\b\b\b\b\b\b\b\b\b\b\b\b\b\b\b\b\b\b\b\b\b\b\b\b\b\b\b\b\b\b\b\b\b\b\b\b\b\b\b\b\b\b\b\b\b\b\b\b\b\b\b\b\b\b\b\b\b\b\b\b\b\b\b\b\b\b\b\b\b\b\b\b\b\b\b\b\r22/22 [==============================] - 6s 278ms/step - loss: 0.0918 - accuracy: 0.9673 - val_loss: 0.2453 - val_accuracy: 0.9086\n",
            "Epoch 114/200\n",
            "22/22 [==============================] - 3s 125ms/step - loss: 0.1345 - accuracy: 0.9503 - val_loss: 0.3941 - val_accuracy: 0.8857\n",
            "Epoch 115/200\n",
            "22/22 [==============================] - 3s 123ms/step - loss: 0.1251 - accuracy: 0.9545 - val_loss: 0.6139 - val_accuracy: 0.8171\n",
            "Epoch 116/200\n",
            "22/22 [==============================] - ETA: 0s - loss: 0.1591 - accuracy: 0.9432"
          ]
        },
        {
          "output_type": "stream",
          "name": "stderr",
          "text": [
            "WARNING:absl:Found untraced functions such as _jit_compiled_convolution_op, _jit_compiled_convolution_op, _jit_compiled_convolution_op, _jit_compiled_convolution_op, _jit_compiled_convolution_op while saving (showing 5 of 6). These functions will not be directly callable after loading.\n",
            "\u001b[34m\u001b[1mwandb\u001b[0m: Adding directory to artifact (/content/wandb/run-20221104_072028-1cbfrzs6/files/model-best)... Done. 0.2s\n"
          ]
        },
        {
          "output_type": "stream",
          "name": "stdout",
          "text": [
            "\b\b\b\b\b\b\b\b\b\b\b\b\b\b\b\b\b\b\b\b\b\b\b\b\b\b\b\b\b\b\b\b\b\b\b\b\b\b\b\b\b\b\b\b\b\b\b\b\b\b\b\b\b\b\b\b\b\b\b\b\b\b\b\b\b\b\b\b\b\b\b\b\b\b\b\b\b\b\b\b\b\b\r22/22 [==============================] - 7s 300ms/step - loss: 0.1591 - accuracy: 0.9432 - val_loss: 0.2297 - val_accuracy: 0.9143\n",
            "Epoch 117/200\n",
            "22/22 [==============================] - 3s 123ms/step - loss: 0.1332 - accuracy: 0.9517 - val_loss: 0.3527 - val_accuracy: 0.8800\n",
            "Epoch 118/200\n",
            "22/22 [==============================] - 3s 116ms/step - loss: 0.1085 - accuracy: 0.9645 - val_loss: 0.3869 - val_accuracy: 0.8743\n",
            "Epoch 119/200\n",
            "22/22 [==============================] - 3s 123ms/step - loss: 0.1318 - accuracy: 0.9545 - val_loss: 0.2489 - val_accuracy: 0.9086\n",
            "Epoch 120/200\n",
            "22/22 [==============================] - 3s 117ms/step - loss: 0.1543 - accuracy: 0.9389 - val_loss: 0.2950 - val_accuracy: 0.9029\n",
            "Epoch 121/200\n",
            "22/22 [==============================] - 3s 123ms/step - loss: 0.1107 - accuracy: 0.9602 - val_loss: 0.2876 - val_accuracy: 0.9143\n",
            "Epoch 122/200\n",
            "22/22 [==============================] - 3s 116ms/step - loss: 0.0802 - accuracy: 0.9688 - val_loss: 0.2773 - val_accuracy: 0.8914\n",
            "Epoch 123/200\n",
            "22/22 [==============================] - 3s 119ms/step - loss: 0.0891 - accuracy: 0.9688 - val_loss: 0.2427 - val_accuracy: 0.9143\n",
            "Epoch 124/200\n",
            "22/22 [==============================] - 3s 115ms/step - loss: 0.0626 - accuracy: 0.9815 - val_loss: 0.2679 - val_accuracy: 0.9143\n",
            "Epoch 125/200\n",
            "22/22 [==============================] - 3s 123ms/step - loss: 0.1108 - accuracy: 0.9574 - val_loss: 0.6738 - val_accuracy: 0.8057\n",
            "Epoch 126/200\n",
            "22/22 [==============================] - 3s 124ms/step - loss: 0.1370 - accuracy: 0.9489 - val_loss: 0.6114 - val_accuracy: 0.8514\n",
            "Epoch 127/200\n",
            "22/22 [==============================] - 3s 116ms/step - loss: 0.1201 - accuracy: 0.9588 - val_loss: 0.3301 - val_accuracy: 0.8971\n",
            "Epoch 128/200\n",
            "22/22 [==============================] - 3s 114ms/step - loss: 0.0633 - accuracy: 0.9858 - val_loss: 0.3439 - val_accuracy: 0.9086\n",
            "Epoch 129/200\n",
            "22/22 [==============================] - 3s 119ms/step - loss: 0.0670 - accuracy: 0.9759 - val_loss: 0.3277 - val_accuracy: 0.9086\n",
            "Epoch 130/200\n",
            "22/22 [==============================] - ETA: 0s - loss: 0.1144 - accuracy: 0.9574"
          ]
        },
        {
          "output_type": "stream",
          "name": "stderr",
          "text": [
            "WARNING:absl:Found untraced functions such as _jit_compiled_convolution_op, _jit_compiled_convolution_op, _jit_compiled_convolution_op, _jit_compiled_convolution_op, _jit_compiled_convolution_op while saving (showing 5 of 6). These functions will not be directly callable after loading.\n",
            "\u001b[34m\u001b[1mwandb\u001b[0m: Adding directory to artifact (/content/wandb/run-20221104_072028-1cbfrzs6/files/model-best)... Done. 0.2s\n"
          ]
        },
        {
          "output_type": "stream",
          "name": "stdout",
          "text": [
            "\b\b\b\b\b\b\b\b\b\b\b\b\b\b\b\b\b\b\b\b\b\b\b\b\b\b\b\b\b\b\b\b\b\b\b\b\b\b\b\b\b\b\b\b\b\b\b\b\b\b\b\b\b\b\b\b\b\b\b\b\b\b\b\b\b\b\b\b\b\b\b\b\b\b\b\b\b\b\b\b\b\b\r22/22 [==============================] - 7s 283ms/step - loss: 0.1144 - accuracy: 0.9574 - val_loss: 0.1804 - val_accuracy: 0.9429\n",
            "Epoch 131/200\n",
            "22/22 [==============================] - 3s 122ms/step - loss: 0.1425 - accuracy: 0.9645 - val_loss: 0.3966 - val_accuracy: 0.9029\n",
            "Epoch 132/200\n",
            "22/22 [==============================] - 3s 121ms/step - loss: 0.1914 - accuracy: 0.9418 - val_loss: 0.6452 - val_accuracy: 0.8286\n",
            "Epoch 133/200\n",
            "22/22 [==============================] - 3s 116ms/step - loss: 0.1619 - accuracy: 0.9403 - val_loss: 0.4885 - val_accuracy: 0.8743\n",
            "Epoch 134/200\n",
            "22/22 [==============================] - 3s 121ms/step - loss: 0.1372 - accuracy: 0.9588 - val_loss: 0.5032 - val_accuracy: 0.8514\n",
            "Epoch 135/200\n",
            "22/22 [==============================] - 3s 122ms/step - loss: 0.1126 - accuracy: 0.9560 - val_loss: 0.3726 - val_accuracy: 0.8686\n",
            "Epoch 136/200\n",
            "22/22 [==============================] - 3s 114ms/step - loss: 0.0637 - accuracy: 0.9759 - val_loss: 0.2585 - val_accuracy: 0.9314\n",
            "Epoch 137/200\n",
            "22/22 [==============================] - 3s 123ms/step - loss: 0.0527 - accuracy: 0.9815 - val_loss: 0.4486 - val_accuracy: 0.9029\n",
            "Epoch 138/200\n",
            "22/22 [==============================] - 5s 210ms/step - loss: 0.1059 - accuracy: 0.9688 - val_loss: 0.6623 - val_accuracy: 0.8971\n",
            "Epoch 139/200\n",
            "22/22 [==============================] - 5s 166ms/step - loss: 0.1632 - accuracy: 0.9432 - val_loss: 0.4137 - val_accuracy: 0.9029\n",
            "Epoch 140/200\n",
            "22/22 [==============================] - 3s 115ms/step - loss: 0.0888 - accuracy: 0.9716 - val_loss: 0.4013 - val_accuracy: 0.8914\n",
            "Epoch 141/200\n",
            "22/22 [==============================] - 3s 120ms/step - loss: 0.1103 - accuracy: 0.9631 - val_loss: 0.3420 - val_accuracy: 0.8971\n",
            "Epoch 142/200\n",
            "22/22 [==============================] - 3s 122ms/step - loss: 0.0975 - accuracy: 0.9688 - val_loss: 0.3221 - val_accuracy: 0.8971\n",
            "Epoch 143/200\n",
            "22/22 [==============================] - 3s 125ms/step - loss: 0.0971 - accuracy: 0.9673 - val_loss: 0.3814 - val_accuracy: 0.9086\n",
            "Epoch 144/200\n",
            "22/22 [==============================] - 3s 116ms/step - loss: 0.0825 - accuracy: 0.9659 - val_loss: 0.4007 - val_accuracy: 0.8800\n",
            "Epoch 145/200\n",
            "22/22 [==============================] - 3s 112ms/step - loss: 0.0905 - accuracy: 0.9659 - val_loss: 0.2466 - val_accuracy: 0.9257\n",
            "Epoch 146/200\n",
            "22/22 [==============================] - 3s 113ms/step - loss: 0.0534 - accuracy: 0.9815 - val_loss: 0.2990 - val_accuracy: 0.9086\n",
            "Epoch 147/200\n",
            "22/22 [==============================] - 3s 118ms/step - loss: 0.0705 - accuracy: 0.9744 - val_loss: 0.3404 - val_accuracy: 0.9086\n",
            "Epoch 148/200\n",
            "22/22 [==============================] - 3s 115ms/step - loss: 0.0576 - accuracy: 0.9830 - val_loss: 0.2785 - val_accuracy: 0.9200\n",
            "Epoch 149/200\n",
            "22/22 [==============================] - 3s 113ms/step - loss: 0.0823 - accuracy: 0.9773 - val_loss: 0.2352 - val_accuracy: 0.9143\n",
            "Epoch 150/200\n",
            "22/22 [==============================] - 3s 114ms/step - loss: 0.0953 - accuracy: 0.9702 - val_loss: 0.7867 - val_accuracy: 0.8971\n",
            "Epoch 151/200\n",
            "22/22 [==============================] - 3s 120ms/step - loss: 0.0968 - accuracy: 0.9659 - val_loss: 0.3082 - val_accuracy: 0.9029\n",
            "Epoch 152/200\n",
            "22/22 [==============================] - 3s 114ms/step - loss: 0.0926 - accuracy: 0.9645 - val_loss: 0.5001 - val_accuracy: 0.8686\n",
            "Epoch 153/200\n",
            "22/22 [==============================] - 3s 119ms/step - loss: 0.0902 - accuracy: 0.9688 - val_loss: 0.5449 - val_accuracy: 0.8457\n",
            "Epoch 154/200\n",
            "22/22 [==============================] - 3s 114ms/step - loss: 0.0592 - accuracy: 0.9773 - val_loss: 0.4312 - val_accuracy: 0.8800\n",
            "Epoch 155/200\n",
            "22/22 [==============================] - 3s 112ms/step - loss: 0.0908 - accuracy: 0.9659 - val_loss: 1.0142 - val_accuracy: 0.8114\n",
            "Epoch 156/200\n",
            "22/22 [==============================] - 3s 111ms/step - loss: 0.0957 - accuracy: 0.9673 - val_loss: 0.4030 - val_accuracy: 0.8629\n",
            "Epoch 157/200\n",
            "22/22 [==============================] - 3s 122ms/step - loss: 0.1392 - accuracy: 0.9602 - val_loss: 0.4563 - val_accuracy: 0.8857\n",
            "Epoch 158/200\n",
            "22/22 [==============================] - 3s 115ms/step - loss: 0.0646 - accuracy: 0.9730 - val_loss: 0.3104 - val_accuracy: 0.9143\n",
            "Epoch 159/200\n",
            "22/22 [==============================] - 3s 114ms/step - loss: 0.0589 - accuracy: 0.9773 - val_loss: 0.3716 - val_accuracy: 0.8857\n",
            "Epoch 160/200\n",
            "22/22 [==============================] - 3s 115ms/step - loss: 0.1063 - accuracy: 0.9645 - val_loss: 0.3706 - val_accuracy: 0.8743\n",
            "Epoch 161/200\n",
            "22/22 [==============================] - 3s 120ms/step - loss: 0.2021 - accuracy: 0.9347 - val_loss: 0.6464 - val_accuracy: 0.8457\n",
            "Epoch 162/200\n",
            "22/22 [==============================] - 3s 124ms/step - loss: 0.2002 - accuracy: 0.9403 - val_loss: 0.4756 - val_accuracy: 0.8571\n",
            "Epoch 163/200\n",
            "22/22 [==============================] - 3s 121ms/step - loss: 0.1366 - accuracy: 0.9531 - val_loss: 0.3816 - val_accuracy: 0.8971\n",
            "Epoch 164/200\n",
            "22/22 [==============================] - 3s 113ms/step - loss: 0.1500 - accuracy: 0.9361 - val_loss: 0.4246 - val_accuracy: 0.8800\n",
            "Epoch 165/200\n",
            "22/22 [==============================] - 3s 113ms/step - loss: 0.0750 - accuracy: 0.9702 - val_loss: 0.6341 - val_accuracy: 0.8743\n",
            "Epoch 166/200\n",
            "22/22 [==============================] - 3s 114ms/step - loss: 0.0468 - accuracy: 0.9844 - val_loss: 0.4194 - val_accuracy: 0.8914\n",
            "Epoch 167/200\n",
            "22/22 [==============================] - 3s 113ms/step - loss: 0.0336 - accuracy: 0.9915 - val_loss: 0.3925 - val_accuracy: 0.9086\n",
            "Epoch 168/200\n",
            "22/22 [==============================] - 3s 125ms/step - loss: 0.0358 - accuracy: 0.9858 - val_loss: 0.3430 - val_accuracy: 0.9086\n",
            "Epoch 169/200\n",
            "22/22 [==============================] - 3s 116ms/step - loss: 0.0414 - accuracy: 0.9830 - val_loss: 0.2259 - val_accuracy: 0.9314\n",
            "Epoch 170/200\n",
            "22/22 [==============================] - 3s 121ms/step - loss: 0.0838 - accuracy: 0.9673 - val_loss: 0.6564 - val_accuracy: 0.8571\n",
            "Epoch 171/200\n",
            "22/22 [==============================] - 3s 114ms/step - loss: 0.1443 - accuracy: 0.9602 - val_loss: 0.3948 - val_accuracy: 0.8686\n",
            "Epoch 172/200\n",
            "22/22 [==============================] - 3s 122ms/step - loss: 0.0695 - accuracy: 0.9730 - val_loss: 0.3253 - val_accuracy: 0.8857\n",
            "Epoch 173/200\n",
            "22/22 [==============================] - 3s 112ms/step - loss: 0.1154 - accuracy: 0.9574 - val_loss: 0.3418 - val_accuracy: 0.8800\n",
            "Epoch 174/200\n",
            "22/22 [==============================] - 3s 115ms/step - loss: 0.0911 - accuracy: 0.9602 - val_loss: 0.4196 - val_accuracy: 0.8743\n",
            "Epoch 175/200\n",
            "22/22 [==============================] - 4s 151ms/step - loss: 0.0798 - accuracy: 0.9659 - val_loss: 0.4958 - val_accuracy: 0.8800\n",
            "Epoch 176/200\n",
            "22/22 [==============================] - 5s 173ms/step - loss: 0.0651 - accuracy: 0.9744 - val_loss: 0.4557 - val_accuracy: 0.8686\n",
            "Epoch 177/200\n",
            "22/22 [==============================] - 3s 117ms/step - loss: 0.0665 - accuracy: 0.9744 - val_loss: 0.3387 - val_accuracy: 0.9029\n",
            "Epoch 178/200\n",
            "22/22 [==============================] - 3s 117ms/step - loss: 0.0554 - accuracy: 0.9787 - val_loss: 0.8878 - val_accuracy: 0.8400\n",
            "Epoch 179/200\n",
            "22/22 [==============================] - 3s 120ms/step - loss: 0.0518 - accuracy: 0.9830 - val_loss: 0.4274 - val_accuracy: 0.9029\n",
            "Epoch 180/200\n",
            "22/22 [==============================] - 3s 122ms/step - loss: 0.0606 - accuracy: 0.9815 - val_loss: 0.2260 - val_accuracy: 0.9486\n",
            "Epoch 181/200\n",
            "22/22 [==============================] - 3s 123ms/step - loss: 0.0376 - accuracy: 0.9844 - val_loss: 0.2541 - val_accuracy: 0.9486\n",
            "Epoch 182/200\n",
            "22/22 [==============================] - 3s 116ms/step - loss: 0.0516 - accuracy: 0.9830 - val_loss: 0.3970 - val_accuracy: 0.9086\n",
            "Epoch 183/200\n",
            "22/22 [==============================] - 3s 115ms/step - loss: 0.0440 - accuracy: 0.9787 - val_loss: 0.3632 - val_accuracy: 0.9200\n",
            "Epoch 184/200\n",
            "22/22 [==============================] - 3s 117ms/step - loss: 0.0478 - accuracy: 0.9787 - val_loss: 0.7338 - val_accuracy: 0.8514\n",
            "Epoch 185/200\n",
            "22/22 [==============================] - 3s 123ms/step - loss: 0.1009 - accuracy: 0.9659 - val_loss: 0.6795 - val_accuracy: 0.8800\n",
            "Epoch 186/200\n",
            "22/22 [==============================] - 3s 120ms/step - loss: 0.1277 - accuracy: 0.9631 - val_loss: 1.2373 - val_accuracy: 0.8057\n",
            "Epoch 187/200\n",
            "22/22 [==============================] - 3s 116ms/step - loss: 0.1182 - accuracy: 0.9659 - val_loss: 0.8601 - val_accuracy: 0.8000\n",
            "Epoch 188/200\n",
            "22/22 [==============================] - 3s 123ms/step - loss: 0.1211 - accuracy: 0.9688 - val_loss: 0.3764 - val_accuracy: 0.9029\n",
            "Epoch 189/200\n",
            "22/22 [==============================] - 3s 119ms/step - loss: 0.4425 - accuracy: 0.8750 - val_loss: 0.8605 - val_accuracy: 0.7314\n",
            "Epoch 190/200\n",
            "22/22 [==============================] - 3s 124ms/step - loss: 0.2886 - accuracy: 0.8906 - val_loss: 0.3195 - val_accuracy: 0.9029\n",
            "Epoch 191/200\n",
            "22/22 [==============================] - 3s 115ms/step - loss: 0.1510 - accuracy: 0.9489 - val_loss: 0.2598 - val_accuracy: 0.9314\n",
            "Epoch 192/200\n",
            "22/22 [==============================] - 3s 122ms/step - loss: 0.1444 - accuracy: 0.9489 - val_loss: 0.2868 - val_accuracy: 0.8743\n",
            "Epoch 193/200\n",
            "22/22 [==============================] - ETA: 0s - loss: 0.1263 - accuracy: 0.9588"
          ]
        },
        {
          "output_type": "stream",
          "name": "stderr",
          "text": [
            "WARNING:absl:Found untraced functions such as _jit_compiled_convolution_op, _jit_compiled_convolution_op, _jit_compiled_convolution_op, _jit_compiled_convolution_op, _jit_compiled_convolution_op while saving (showing 5 of 6). These functions will not be directly callable after loading.\n",
            "\u001b[34m\u001b[1mwandb\u001b[0m: Adding directory to artifact (/content/wandb/run-20221104_072028-1cbfrzs6/files/model-best)... Done. 0.2s\n"
          ]
        },
        {
          "output_type": "stream",
          "name": "stdout",
          "text": [
            "\b\b\b\b\b\b\b\b\b\b\b\b\b\b\b\b\b\b\b\b\b\b\b\b\b\b\b\b\b\b\b\b\b\b\b\b\b\b\b\b\b\b\b\b\b\b\b\b\b\b\b\b\b\b\b\b\b\b\b\b\b\b\b\b\b\b\b\b\b\b\b\b\b\b\b\b\b\b\b\b\b\b\r22/22 [==============================] - 7s 293ms/step - loss: 0.1263 - accuracy: 0.9588 - val_loss: 0.1686 - val_accuracy: 0.9543\n",
            "Epoch 194/200\n",
            "22/22 [==============================] - 3s 121ms/step - loss: 0.1230 - accuracy: 0.9602 - val_loss: 0.3721 - val_accuracy: 0.8857\n",
            "Epoch 195/200\n",
            "22/22 [==============================] - 3s 122ms/step - loss: 0.1080 - accuracy: 0.9645 - val_loss: 0.3250 - val_accuracy: 0.9086\n",
            "Epoch 196/200\n",
            "22/22 [==============================] - 3s 122ms/step - loss: 0.0958 - accuracy: 0.9631 - val_loss: 0.2890 - val_accuracy: 0.9086\n",
            "Epoch 197/200\n",
            "22/22 [==============================] - ETA: 0s - loss: 0.0947 - accuracy: 0.9673"
          ]
        },
        {
          "output_type": "stream",
          "name": "stderr",
          "text": [
            "WARNING:absl:Found untraced functions such as _jit_compiled_convolution_op, _jit_compiled_convolution_op, _jit_compiled_convolution_op, _jit_compiled_convolution_op, _jit_compiled_convolution_op while saving (showing 5 of 6). These functions will not be directly callable after loading.\n",
            "\u001b[34m\u001b[1mwandb\u001b[0m: Adding directory to artifact (/content/wandb/run-20221104_072028-1cbfrzs6/files/model-best)... Done. 0.2s\n"
          ]
        },
        {
          "output_type": "stream",
          "name": "stdout",
          "text": [
            "\b\b\b\b\b\b\b\b\b\b\b\b\b\b\b\b\b\b\b\b\b\b\b\b\b\b\b\b\b\b\b\b\b\b\b\b\b\b\b\b\b\b\b\b\b\b\b\b\b\b\b\b\b\b\b\b\b\b\b\b\b\b\b\b\b\b\b\b\b\b\b\b\b\b\b\b\b\b\b\b\b\b\r22/22 [==============================] - 6s 273ms/step - loss: 0.0947 - accuracy: 0.9673 - val_loss: 0.1612 - val_accuracy: 0.9371\n",
            "Epoch 198/200\n",
            "22/22 [==============================] - ETA: 0s - loss: 0.0811 - accuracy: 0.9702"
          ]
        },
        {
          "output_type": "stream",
          "name": "stderr",
          "text": [
            "WARNING:absl:Found untraced functions such as _jit_compiled_convolution_op, _jit_compiled_convolution_op, _jit_compiled_convolution_op, _jit_compiled_convolution_op, _jit_compiled_convolution_op while saving (showing 5 of 6). These functions will not be directly callable after loading.\n",
            "\u001b[34m\u001b[1mwandb\u001b[0m: Adding directory to artifact (/content/wandb/run-20221104_072028-1cbfrzs6/files/model-best)... Done. 0.2s\n"
          ]
        },
        {
          "output_type": "stream",
          "name": "stdout",
          "text": [
            "\b\b\b\b\b\b\b\b\b\b\b\b\b\b\b\b\b\b\b\b\b\b\b\b\b\b\b\b\b\b\b\b\b\b\b\b\b\b\b\b\b\b\b\b\b\b\b\b\b\b\b\b\b\b\b\b\b\b\b\b\b\b\b\b\b\b\b\b\b\b\b\b\b\b\b\b\b\b\b\b\b\b\r22/22 [==============================] - 7s 299ms/step - loss: 0.0811 - accuracy: 0.9702 - val_loss: 0.1107 - val_accuracy: 0.9714\n",
            "Epoch 199/200\n",
            "22/22 [==============================] - 3s 121ms/step - loss: 0.0636 - accuracy: 0.9759 - val_loss: 0.3069 - val_accuracy: 0.8743\n",
            "Epoch 200/200\n",
            "22/22 [==============================] - 3s 122ms/step - loss: 0.0676 - accuracy: 0.9744 - val_loss: 0.3422 - val_accuracy: 0.8914\n",
            "CPU times: user 11min 53s, sys: 1min 42s, total: 13min 36s\n",
            "Wall time: 15min 57s\n"
          ]
        }
      ]
    },
    {
      "cell_type": "code",
      "source": [
        "wandb.finish()"
      ],
      "metadata": {
        "colab": {
          "base_uri": "https://localhost:8080/",
          "height": 397,
          "referenced_widgets": [
            "4bcc75c81656437385c3ad8f4bc7bcef",
            "0f07a1ba693b4b27934f0a574ad2662b",
            "a5da382712c34c67b457fcddbe2000f0",
            "3a914eee32eb4c6b9a4c52b9685e2931",
            "2961ffca9edd406b9e6fd061b912d102",
            "0c0ae7da462d4936a828a19f6d08e71a",
            "be31bde217c846bf8c7642da84fc9ab3",
            "05ea5f7a40f34aba83d76667d5540454"
          ]
        },
        "id": "x3u_gJJobdjh",
        "outputId": "b1913dce-3071-4235-e3a2-91febdf87443"
      },
      "execution_count": 37,
      "outputs": [
        {
          "output_type": "display_data",
          "data": {
            "text/plain": [
              "<IPython.core.display.HTML object>"
            ],
            "text/html": [
              "Waiting for W&B process to finish... <strong style=\"color:green\">(success).</strong>"
            ]
          },
          "metadata": {}
        },
        {
          "output_type": "display_data",
          "data": {
            "text/plain": [
              "VBox(children=(Label(value='714.864 MB of 714.864 MB uploaded (0.037 MB deduped)\\r'), FloatProgress(value=1.0,…"
            ],
            "application/vnd.jupyter.widget-view+json": {
              "version_major": 2,
              "version_minor": 0,
              "model_id": "4bcc75c81656437385c3ad8f4bc7bcef"
            }
          },
          "metadata": {}
        },
        {
          "output_type": "display_data",
          "data": {
            "text/plain": [
              "<IPython.core.display.HTML object>"
            ],
            "text/html": [
              "<style>\n",
              "    table.wandb td:nth-child(1) { padding: 0 10px; text-align: left ; width: auto;} td:nth-child(2) {text-align: left ; width: 100%}\n",
              "    .wandb-row { display: flex; flex-direction: row; flex-wrap: wrap; justify-content: flex-start; width: 100% }\n",
              "    .wandb-col { display: flex; flex-direction: column; flex-basis: 100%; flex: 1; padding: 10px; }\n",
              "    </style>\n",
              "<div class=\"wandb-row\"><div class=\"wandb-col\"><h3>Run history:</h3><br/><table class=\"wandb\"><tr><td>accuracy</td><td>▁▂▃▃▄▅▅▆▆▆▆▇▇▇▇▇▇▇▇▇▇▇██████████▇███████</td></tr><tr><td>epoch</td><td>▁▁▁▁▂▂▂▂▂▃▃▃▃▃▃▄▄▄▄▄▅▅▅▅▅▅▆▆▆▆▆▇▇▇▇▇▇███</td></tr><tr><td>loss</td><td>█▇▆▆▅▅▄▃▃▃▃▃▂▂▂▂▂▂▂▂▂▃▁▁▁▁▂▁▁▁▁▁▂▁▁▁▁▂▂▁</td></tr><tr><td>val_accuracy</td><td>▁▁▂▃▄▅▆▅▅▆▆▇▆▆▅▆▇█▇▇▆▇▇▇▇█▇█▇█▇█▇█▇▇▇█▇▇</td></tr><tr><td>val_loss</td><td>█▇▆▆▅▄▃▄▄▅▂▃▂▂▄▂▂▁▂▂▅▂▂▂▁▂▃▄▂▁▂▁▂▁▂▆▄▂▂▁</td></tr></table><br/></div><div class=\"wandb-col\"><h3>Run summary:</h3><br/><table class=\"wandb\"><tr><td>accuracy</td><td>0.97443</td></tr><tr><td>best_epoch</td><td>197</td></tr><tr><td>best_val_loss</td><td>0.11073</td></tr><tr><td>epoch</td><td>199</td></tr><tr><td>loss</td><td>0.06762</td></tr><tr><td>val_accuracy</td><td>0.89143</td></tr><tr><td>val_loss</td><td>0.34224</td></tr></table><br/></div></div>"
            ]
          },
          "metadata": {}
        },
        {
          "output_type": "display_data",
          "data": {
            "text/plain": [
              "<IPython.core.display.HTML object>"
            ],
            "text/html": [
              "Synced <strong style=\"color:#cdcd00\">big dense layer</strong>: <a href=\"https://wandb.ai/vedmanivaidya/CNN_particle_classification/runs/1cbfrzs6\" target=\"_blank\">https://wandb.ai/vedmanivaidya/CNN_particle_classification/runs/1cbfrzs6</a><br/>Synced 5 W&B file(s), 1 media file(s), 85 artifact file(s) and 1 other file(s)"
            ]
          },
          "metadata": {}
        },
        {
          "output_type": "display_data",
          "data": {
            "text/plain": [
              "<IPython.core.display.HTML object>"
            ],
            "text/html": [
              "Find logs at: <code>./wandb/run-20221104_072028-1cbfrzs6/logs</code>"
            ]
          },
          "metadata": {}
        }
      ]
    },
    {
      "cell_type": "code",
      "source": [
        "!nvidia-smi --query-gpu=gpu_name --format=csv"
      ],
      "metadata": {
        "id": "caK1UVEmvN0T",
        "colab": {
          "base_uri": "https://localhost:8080/"
        },
        "outputId": "5a491807-86b6-4029-c8ff-94b2462c444d",
        "pycharm": {
          "name": "#%%\n"
        }
      },
      "execution_count": 31,
      "outputs": [
        {
          "output_type": "stream",
          "name": "stdout",
          "text": [
            "name\n",
            "Tesla T4\n"
          ]
        }
      ]
    }
  ]
}