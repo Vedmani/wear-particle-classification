{
  "cells": [
    {
      "cell_type": "markdown",
      "metadata": {
        "id": "view-in-github",
        "colab_type": "text"
      },
      "source": [
        "<a href=\"https://colab.research.google.com/github/Vedmani/wear-particle-classification/blob/main/ResNet152.ipynb\" target=\"_parent\"><img src=\"https://colab.research.google.com/assets/colab-badge.svg\" alt=\"Open In Colab\"/></a>"
      ]
    },
    {
      "cell_type": "code",
      "source": [
        "from google.colab import drive\n",
        "drive.mount('/content/drive')"
      ],
      "metadata": {
        "colab": {
          "base_uri": "https://localhost:8080/"
        },
        "id": "hZxsQnPoFFCQ",
        "outputId": "1ee09a21-e4a0-4df1-a5f9-6c69c2e0bac2"
      },
      "execution_count": null,
      "outputs": [
        {
          "output_type": "stream",
          "name": "stdout",
          "text": [
            "Mounted at /content/drive\n"
          ]
        }
      ]
    },
    {
      "cell_type": "code",
      "execution_count": null,
      "outputs": [
        {
          "output_type": "stream",
          "name": "stdout",
          "text": [
            "\u001b[K     |████████████████████████████████| 1.9 MB 30.5 MB/s \n",
            "\u001b[K     |████████████████████████████████| 182 kB 72.2 MB/s \n",
            "\u001b[K     |████████████████████████████████| 162 kB 68.1 MB/s \n",
            "\u001b[K     |████████████████████████████████| 63 kB 1.3 MB/s \n",
            "\u001b[K     |████████████████████████████████| 162 kB 78.4 MB/s \n",
            "\u001b[K     |████████████████████████████████| 158 kB 74.4 MB/s \n",
            "\u001b[K     |████████████████████████████████| 157 kB 73.8 MB/s \n",
            "\u001b[K     |████████████████████████████████| 157 kB 79.3 MB/s \n",
            "\u001b[K     |████████████████████████████████| 157 kB 66.3 MB/s \n",
            "\u001b[K     |████████████████████████████████| 157 kB 75.6 MB/s \n",
            "\u001b[K     |████████████████████████████████| 157 kB 79.8 MB/s \n",
            "\u001b[K     |████████████████████████████████| 157 kB 81.8 MB/s \n",
            "\u001b[K     |████████████████████████████████| 157 kB 75.8 MB/s \n",
            "\u001b[K     |████████████████████████████████| 156 kB 62.3 MB/s \n",
            "\u001b[?25h  Building wheel for pathtools (setup.py) ... \u001b[?25l\u001b[?25hdone\n",
            "\u001b[34m\u001b[1mwandb\u001b[0m: Logging into wandb.ai. (Learn how to deploy a W&B server locally: https://wandb.me/wandb-server)\n",
            "\u001b[34m\u001b[1mwandb\u001b[0m: You can find your API key in your browser here: https://wandb.ai/authorize\n",
            "\u001b[34m\u001b[1mwandb\u001b[0m: Paste an API key from your profile and hit enter, or press ctrl+c to quit: \n",
            "\u001b[34m\u001b[1mwandb\u001b[0m: Appending key for api.wandb.ai to your netrc file: /root/.netrc\n"
          ]
        }
      ],
      "source": [
        "!pip install wandb -qU\n",
        "!wandb login"
      ],
      "metadata": {
        "pycharm": {
          "name": "#%%\n"
        },
        "colab": {
          "base_uri": "https://localhost:8080/"
        },
        "id": "nzVPsk5i2f6k",
        "outputId": "475b2b2a-bd88-478c-a053-67a22d6bd4d9"
      }
    },
    {
      "cell_type": "code",
      "execution_count": null,
      "outputs": [],
      "source": [
        "import tensorflow as tf\n",
        "from tensorflow import keras\n",
        "from tensorflow.keras import layers\n",
        "from tensorflow.keras.models import Sequential\n",
        "import wandb\n",
        "from wandb.keras import WandbCallback"
      ],
      "metadata": {
        "pycharm": {
          "name": "#%%\n"
        },
        "id": "acoOtOXx2f6z"
      }
    },
    {
      "cell_type": "code",
      "execution_count": null,
      "outputs": [],
      "source": [
        "tf.keras.utils.set_random_seed(1)\n",
        "tf.config.experimental.enable_op_determinism()"
      ],
      "metadata": {
        "pycharm": {
          "name": "#%%\n"
        },
        "id": "vhcPFfST2f62"
      }
    },
    {
      "cell_type": "code",
      "source": [
        "PATH = '/content/drive/MyDrive/Research Internship/final data/wear particles/Train'\n",
        "test_path = '/content/drive/MyDrive/Research Internship/final data/wear particles/Test'\n",
        "batch_size = 32\n",
        "img_height = 224\n",
        "img_width = 224\n",
        "\n",
        "train_ds = tf.keras.utils.image_dataset_from_directory(\n",
        "  PATH,\n",
        "  validation_split=0.2,\n",
        "  subset=\"training\",\n",
        "  seed=42,\n",
        "  image_size=(img_height, img_width),\n",
        "  batch_size=batch_size)\n",
        "\n",
        "val_ds = tf.keras.utils.image_dataset_from_directory(\n",
        "  PATH,\n",
        "  validation_split=0.2,\n",
        "  subset=\"validation\",\n",
        "  seed=42,\n",
        "  image_size=(img_height, img_width),\n",
        "  batch_size=batch_size)\n",
        "\n",
        "test_ds = tf.keras.utils.image_dataset_from_directory(\n",
        "  test_path,\n",
        "  seed = 42,\n",
        "  image_size=(img_height, img_width))\n",
        "\n",
        "class_names = train_ds.class_names\n",
        "test_class_names = test_ds.class_names\n",
        "num_classes = len(class_names)\n",
        "print(class_names)"
      ],
      "metadata": {
        "colab": {
          "base_uri": "https://localhost:8080/"
        },
        "id": "CiW-AljoCyRN",
        "outputId": "a7bb3a43-9fb4-4bd9-b945-2c7638f0ed6c"
      },
      "execution_count": null,
      "outputs": [
        {
          "output_type": "stream",
          "name": "stdout",
          "text": [
            "Found 740 files belonging to 5 classes.\n",
            "Using 592 files for training.\n",
            "Found 740 files belonging to 5 classes.\n",
            "Using 148 files for validation.\n",
            "['cutting wear', 'normal rubbign and cutting wear combined', 'normal rubbing wear', 'red oxide', 'severe sliding wear']\n"
          ]
        }
      ]
    },
    {
      "cell_type": "code",
      "source": [
        "resnet152 = tf.keras.applications.ResNet152(\n",
        "    include_top=False,\n",
        "    weights=\"imagenet\",\n",
        "    input_tensor=None,\n",
        "    input_shape=None,\n",
        "    pooling=None)\n",
        "model_resnet152=Sequential([\n",
        "  layers.Rescaling(1./255, input_shape=(img_height, img_width, 3)),\n",
        "  resnet152,\n",
        "  layers.Flatten(),\n",
        "  layers.Dense(32, activation='relu'),\n",
        "  layers.Dropout(0.2), \n",
        "  layers.Dense(num_classes, activation='softmax')\n",
        "])\n",
        "resnet152.trainable=False\n",
        "model_resnet152.summary()"
      ],
      "metadata": {
        "colab": {
          "base_uri": "https://localhost:8080/"
        },
        "id": "qTLja-HJCy79",
        "outputId": "c02ac90a-3e46-497f-f1c6-9587b4aa4487"
      },
      "execution_count": null,
      "outputs": [
        {
          "output_type": "stream",
          "name": "stdout",
          "text": [
            "Downloading data from https://storage.googleapis.com/tensorflow/keras-applications/resnet/resnet152_weights_tf_dim_ordering_tf_kernels_notop.h5\n",
            "234700800/234698864 [==============================] - 1s 0us/step\n",
            "234708992/234698864 [==============================] - 1s 0us/step\n",
            "Model: \"sequential_1\"\n",
            "_________________________________________________________________\n",
            " Layer (type)                Output Shape              Param #   \n",
            "=================================================================\n",
            " rescaling (Rescaling)       (None, 224, 224, 3)       0         \n",
            "                                                                 \n",
            " resnet152 (Functional)      (None, None, None, 2048)  58370944  \n",
            "                                                                 \n",
            " flatten (Flatten)           (None, 100352)            0         \n",
            "                                                                 \n",
            " dense (Dense)               (None, 1028)              103162884 \n",
            "                                                                 \n",
            " dense_1 (Dense)             (None, 5)                 5145      \n",
            "                                                                 \n",
            "=================================================================\n",
            "Total params: 161,538,973\n",
            "Trainable params: 103,168,029\n",
            "Non-trainable params: 58,370,944\n",
            "_________________________________________________________________\n"
          ]
        }
      ]
    },
    {
      "cell_type": "code",
      "source": [
        "model_resnet152.compile(\n",
        "              optimizer= tf.keras.optimizers.Adam(learning_rate=0.001, beta_1=0.9, beta_2=0.999, epsilon=1e-07, amsgrad=False, name='Adam'),\n",
        "              loss=tf.keras.losses.SparseCategoricalCrossentropy(from_logits=False),\n",
        "              metrics=['accuracy']\n",
        "              )"
      ],
      "metadata": {
        "id": "UKCoWlAWD1XP"
      },
      "execution_count": null,
      "outputs": []
    },
    {
      "cell_type": "code",
      "source": [
        "wandb.init(\n",
        "      # Set the project where this run will be logged\n",
        "      project=\"Transfer_Learning_New\", \n",
        "      name = \"resnet152 with hidden dense\",\n",
        ")"
      ],
      "metadata": {
        "colab": {
          "base_uri": "https://localhost:8080/",
          "height": 125
        },
        "id": "v7gcv8AMD9Vv",
        "outputId": "a131be9a-7128-4f6e-85b9-dd7afe0a36fd"
      },
      "execution_count": null,
      "outputs": [
        {
          "output_type": "stream",
          "name": "stderr",
          "text": [
            "ERROR:wandb.jupyter:Failed to detect the name of this notebook, you can set it manually with the WANDB_NOTEBOOK_NAME environment variable to enable code saving.\n",
            "\u001b[34m\u001b[1mwandb\u001b[0m: Currently logged in as: \u001b[33mvedmanivaidya\u001b[0m. Use \u001b[1m`wandb login --relogin`\u001b[0m to force relogin\n"
          ]
        },
        {
          "output_type": "display_data",
          "data": {
            "text/plain": [
              "<IPython.core.display.HTML object>"
            ],
            "text/html": [
              "Tracking run with wandb version 0.13.4"
            ]
          },
          "metadata": {}
        },
        {
          "output_type": "display_data",
          "data": {
            "text/plain": [
              "<IPython.core.display.HTML object>"
            ],
            "text/html": [
              "Run data is saved locally in <code>/content/wandb/run-20221012_092338-2e2tf4vg</code>"
            ]
          },
          "metadata": {}
        },
        {
          "output_type": "display_data",
          "data": {
            "text/plain": [
              "<IPython.core.display.HTML object>"
            ],
            "text/html": [
              "Syncing run <strong><a href=\"https://wandb.ai/vedmanivaidya/Transfer_learning/runs/2e2tf4vg\" target=\"_blank\">resnet152</a></strong> to <a href=\"https://wandb.ai/vedmanivaidya/Transfer_learning\" target=\"_blank\">Weights & Biases</a> (<a href=\"https://wandb.me/run\" target=\"_blank\">docs</a>)<br/>"
            ]
          },
          "metadata": {}
        },
        {
          "output_type": "execute_result",
          "data": {
            "text/html": [
              "<button onClick=\"this.nextSibling.style.display='block';this.style.display='none';\">Display W&B run</button><iframe src=\"https://wandb.ai/vedmanivaidya/Transfer_learning/runs/2e2tf4vg?jupyter=true\" style=\"border:none;width:100%;height:420px;display:none;\"></iframe>"
            ],
            "text/plain": [
              "<wandb.sdk.wandb_run.Run at 0x7f7e664eabd0>"
            ]
          },
          "metadata": {},
          "execution_count": 8
        }
      ]
    },
    {
      "cell_type": "code",
      "source": [
        "%%time\n",
        "epochs=40\n",
        "history = model_resnet152.fit(\n",
        "  train_ds,\n",
        "  validation_data=val_ds,\n",
        "  epochs=epochs,\n",
        "callbacks=[WandbCallback()]\n",
        ")"
      ],
      "metadata": {
        "colab": {
          "base_uri": "https://localhost:8080/"
        },
        "id": "yQ50kAkQEOBS",
        "outputId": "3912548f-8562-4e3a-ef35-f6631fd306d8"
      },
      "execution_count": null,
      "outputs": [
        {
          "output_type": "stream",
          "name": "stderr",
          "text": [
            "\u001b[34m\u001b[1mwandb\u001b[0m: \u001b[33mWARNING\u001b[0m The save_model argument by default saves the model in the HDF5 format that cannot save custom objects like subclassed models and custom layers. This behavior will be deprecated in a future release in favor of the SavedModel format. Meanwhile, the HDF5 model is saved as W&B files and the SavedModel as W&B Artifacts.\n"
          ]
        },
        {
          "output_type": "stream",
          "name": "stdout",
          "text": [
            "Epoch 1/40\n",
            "19/19 [==============================] - ETA: 0s - loss: 18.5271 - accuracy: 0.3649"
          ]
        },
        {
          "output_type": "stream",
          "name": "stderr",
          "text": [
            "\u001b[34m\u001b[1mwandb\u001b[0m: Adding directory to artifact (/content/wandb/run-20221012_092338-2e2tf4vg/files/model-best)... Done. 8.7s\n"
          ]
        },
        {
          "output_type": "stream",
          "name": "stdout",
          "text": [
            "\b\b\b\b\b\b\b\b\b\b\b\b\b\b\b\b\b\b\b\b\b\b\b\b\b\b\b\b\b\b\b\b\b\b\b\b\b\b\b\b\b\b\b\b\b\b\b\b\b\b\b\b\b\b\b\b\b\b\b\b\b\b\b\b\b\b\b\b\b\b\b\b\b\b\b\b\b\b\b\b\b\b\b\r19/19 [==============================] - 267s 9s/step - loss: 18.5271 - accuracy: 0.3649 - val_loss: 2.9054 - val_accuracy: 0.6081\n",
            "Epoch 2/40\n",
            "19/19 [==============================] - ETA: 0s - loss: 1.9686 - accuracy: 0.5000"
          ]
        },
        {
          "output_type": "stream",
          "name": "stderr",
          "text": [
            "\u001b[34m\u001b[1mwandb\u001b[0m: Adding directory to artifact (/content/wandb/run-20221012_092338-2e2tf4vg/files/model-best)... Done. 8.7s\n"
          ]
        },
        {
          "output_type": "stream",
          "name": "stdout",
          "text": [
            "\b\b\b\b\b\b\b\b\b\b\b\b\b\b\b\b\b\b\b\b\b\b\b\b\b\b\b\b\b\b\b\b\b\b\b\b\b\b\b\b\b\b\b\b\b\b\b\b\b\b\b\b\b\b\b\b\b\b\b\b\b\b\b\b\b\b\b\b\b\b\b\b\b\b\b\b\b\b\b\b\b\b\r19/19 [==============================] - 87s 5s/step - loss: 1.9686 - accuracy: 0.5000 - val_loss: 1.5716 - val_accuracy: 0.4595\n",
            "Epoch 3/40\n",
            "19/19 [==============================] - 8s 378ms/step - loss: 1.4024 - accuracy: 0.5422 - val_loss: 2.1083 - val_accuracy: 0.4662\n",
            "Epoch 4/40\n",
            "19/19 [==============================] - ETA: 0s - loss: 1.2640 - accuracy: 0.5541"
          ]
        },
        {
          "output_type": "stream",
          "name": "stderr",
          "text": [
            "\u001b[34m\u001b[1mwandb\u001b[0m: Adding directory to artifact (/content/wandb/run-20221012_092338-2e2tf4vg/files/model-best)... Done. 8.7s\n"
          ]
        },
        {
          "output_type": "stream",
          "name": "stdout",
          "text": [
            "\b\b\b\b\b\b\b\b\b\b\b\b\b\b\b\b\b\b\b\b\b\b\b\b\b\b\b\b\b\b\b\b\b\b\b\b\b\b\b\b\b\b\b\b\b\b\b\b\b\b\b\b\b\b\b\b\b\b\b\b\b\b\b\b\b\b\b\b\b\b\b\b\b\b\b\b\b\b\b\b\b\b\r19/19 [==============================] - 89s 5s/step - loss: 1.2640 - accuracy: 0.5541 - val_loss: 1.0622 - val_accuracy: 0.6622\n",
            "Epoch 5/40\n",
            "19/19 [==============================] - ETA: 0s - loss: 0.8975 - accuracy: 0.6419"
          ]
        },
        {
          "output_type": "stream",
          "name": "stderr",
          "text": [
            "\u001b[34m\u001b[1mwandb\u001b[0m: Adding directory to artifact (/content/wandb/run-20221012_092338-2e2tf4vg/files/model-best)... Done. 9.4s\n"
          ]
        },
        {
          "output_type": "stream",
          "name": "stdout",
          "text": [
            "\b\b\b\b\b\b\b\b\b\b\b\b\b\b\b\b\b\b\b\b\b\b\b\b\b\b\b\b\b\b\b\b\b\b\b\b\b\b\b\b\b\b\b\b\b\b\b\b\b\b\b\b\b\b\b\b\b\b\b\b\b\b\b\b\b\b\b\b\b\b\b\b\b\b\b\b\b\b\b\b\b\b\r19/19 [==============================] - 89s 5s/step - loss: 0.8975 - accuracy: 0.6419 - val_loss: 0.8570 - val_accuracy: 0.6486\n",
            "Epoch 6/40\n",
            "19/19 [==============================] - 8s 381ms/step - loss: 0.8213 - accuracy: 0.6723 - val_loss: 0.9306 - val_accuracy: 0.6486\n",
            "Epoch 7/40\n",
            "19/19 [==============================] - ETA: 0s - loss: 0.7897 - accuracy: 0.7145"
          ]
        },
        {
          "output_type": "stream",
          "name": "stderr",
          "text": [
            "\u001b[34m\u001b[1mwandb\u001b[0m: Adding directory to artifact (/content/wandb/run-20221012_092338-2e2tf4vg/files/model-best)... Done. 8.6s\n"
          ]
        },
        {
          "output_type": "stream",
          "name": "stdout",
          "text": [
            "\b\b\b\b\b\b\b\b\b\b\b\b\b\b\b\b\b\b\b\b\b\b\b\b\b\b\b\b\b\b\b\b\b\b\b\b\b\b\b\b\b\b\b\b\b\b\b\b\b\b\b\b\b\b\b\b\b\b\b\b\b\b\b\b\b\b\b\b\b\b\b\b\b\b\b\b\b\b\b\b\b\b\r19/19 [==============================] - 88s 5s/step - loss: 0.7897 - accuracy: 0.7145 - val_loss: 0.8115 - val_accuracy: 0.6892\n",
            "Epoch 8/40\n",
            "19/19 [==============================] - 8s 372ms/step - loss: 0.7569 - accuracy: 0.7196 - val_loss: 0.8972 - val_accuracy: 0.6892\n",
            "Epoch 9/40\n",
            "19/19 [==============================] - ETA: 0s - loss: 0.7006 - accuracy: 0.7534"
          ]
        },
        {
          "output_type": "stream",
          "name": "stderr",
          "text": [
            "\u001b[34m\u001b[1mwandb\u001b[0m: Adding directory to artifact (/content/wandb/run-20221012_092338-2e2tf4vg/files/model-best)... Done. 8.7s\n"
          ]
        },
        {
          "output_type": "stream",
          "name": "stdout",
          "text": [
            "\b\b\b\b\b\b\b\b\b\b\b\b\b\b\b\b\b\b\b\b\b\b\b\b\b\b\b\b\b\b\b\b\b\b\b\b\b\b\b\b\b\b\b\b\b\b\b\b\b\b\b\b\b\b\b\b\b\b\b\b\b\b\b\b\b\b\b\b\b\b\b\b\b\b\b\b\b\b\b\b\b\b\r19/19 [==============================] - 85s 5s/step - loss: 0.7006 - accuracy: 0.7534 - val_loss: 0.6900 - val_accuracy: 0.7230\n",
            "Epoch 10/40\n",
            "19/19 [==============================] - 8s 374ms/step - loss: 0.6692 - accuracy: 0.7466 - val_loss: 0.7312 - val_accuracy: 0.7027\n",
            "Epoch 11/40\n",
            "19/19 [==============================] - 8s 378ms/step - loss: 0.6446 - accuracy: 0.7601 - val_loss: 0.7324 - val_accuracy: 0.7162\n",
            "Epoch 12/40\n",
            "19/19 [==============================] - 8s 381ms/step - loss: 0.6559 - accuracy: 0.7432 - val_loss: 1.1133 - val_accuracy: 0.5338\n",
            "Epoch 13/40\n",
            "19/19 [==============================] - 8s 379ms/step - loss: 0.9874 - accuracy: 0.6115 - val_loss: 1.1144 - val_accuracy: 0.5946\n",
            "Epoch 14/40\n",
            "19/19 [==============================] - ETA: 0s - loss: 0.7590 - accuracy: 0.7128"
          ]
        },
        {
          "output_type": "stream",
          "name": "stderr",
          "text": [
            "\u001b[34m\u001b[1mwandb\u001b[0m: Adding directory to artifact (/content/wandb/run-20221012_092338-2e2tf4vg/files/model-best)... Done. 8.6s\n"
          ]
        },
        {
          "output_type": "stream",
          "name": "stdout",
          "text": [
            "\b\b\b\b\b\b\b\b\b\b\b\b\b\b\b\b\b\b\b\b\b\b\b\b\b\b\b\b\b\b\b\b\b\b\b\b\b\b\b\b\b\b\b\b\b\b\b\b\b\b\b\b\b\b\b\b\b\b\b\b\b\b\b\b\b\b\b\b\b\b\b\b\b\b\b\b\b\b\b\b\b\b\r19/19 [==============================] - 93s 5s/step - loss: 0.7590 - accuracy: 0.7128 - val_loss: 0.6156 - val_accuracy: 0.7770\n",
            "Epoch 15/40\n",
            "19/19 [==============================] - ETA: 0s - loss: 0.5668 - accuracy: 0.7872"
          ]
        },
        {
          "output_type": "stream",
          "name": "stderr",
          "text": [
            "\u001b[34m\u001b[1mwandb\u001b[0m: Adding directory to artifact (/content/wandb/run-20221012_092338-2e2tf4vg/files/model-best)... Done. 8.7s\n"
          ]
        },
        {
          "output_type": "stream",
          "name": "stdout",
          "text": [
            "\b\b\b\b\b\b\b\b\b\b\b\b\b\b\b\b\b\b\b\b\b\b\b\b\b\b\b\b\b\b\b\b\b\b\b\b\b\b\b\b\b\b\b\b\b\b\b\b\b\b\b\b\b\b\b\b\b\b\b\b\b\b\b\b\b\b\b\b\b\b\b\b\b\b\b\b\b\b\b\b\b\b\r19/19 [==============================] - 86s 5s/step - loss: 0.5668 - accuracy: 0.7872 - val_loss: 0.5905 - val_accuracy: 0.8041\n",
            "Epoch 16/40\n",
            "19/19 [==============================] - ETA: 0s - loss: 0.4952 - accuracy: 0.8378"
          ]
        },
        {
          "output_type": "stream",
          "name": "stderr",
          "text": [
            "\u001b[34m\u001b[1mwandb\u001b[0m: Adding directory to artifact (/content/wandb/run-20221012_092338-2e2tf4vg/files/model-best)... Done. 8.8s\n"
          ]
        },
        {
          "output_type": "stream",
          "name": "stdout",
          "text": [
            "\b\b\b\b\b\b\b\b\b\b\b\b\b\b\b\b\b\b\b\b\b\b\b\b\b\b\b\b\b\b\b\b\b\b\b\b\b\b\b\b\b\b\b\b\b\b\b\b\b\b\b\b\b\b\b\b\b\b\b\b\b\b\b\b\b\b\b\b\b\b\b\b\b\b\b\b\b\b\b\b\b\b\r19/19 [==============================] - 85s 5s/step - loss: 0.4952 - accuracy: 0.8378 - val_loss: 0.5586 - val_accuracy: 0.7568\n",
            "Epoch 17/40\n",
            "19/19 [==============================] - 8s 381ms/step - loss: 0.4616 - accuracy: 0.8446 - val_loss: 0.5813 - val_accuracy: 0.7973\n",
            "Epoch 18/40\n",
            "19/19 [==============================] - 8s 378ms/step - loss: 0.4415 - accuracy: 0.8666 - val_loss: 0.5652 - val_accuracy: 0.7432\n",
            "Epoch 19/40\n",
            "19/19 [==============================] - ETA: 0s - loss: 0.5021 - accuracy: 0.8125"
          ]
        },
        {
          "output_type": "stream",
          "name": "stderr",
          "text": [
            "\u001b[34m\u001b[1mwandb\u001b[0m: Adding directory to artifact (/content/wandb/run-20221012_092338-2e2tf4vg/files/model-best)... Done. 8.6s\n"
          ]
        },
        {
          "output_type": "stream",
          "name": "stdout",
          "text": [
            "\b\b\b\b\b\b\b\b\b\b\b\b\b\b\b\b\b\b\b\b\b\b\b\b\b\b\b\b\b\b\b\b\b\b\b\b\b\b\b\b\b\b\b\b\b\b\b\b\b\b\b\b\b\b\b\b\b\b\b\b\b\b\b\b\b\b\b\b\b\b\b\b\b\b\b\b\b\b\b\b\b\b\r19/19 [==============================] - 86s 5s/step - loss: 0.5021 - accuracy: 0.8125 - val_loss: 0.5276 - val_accuracy: 0.7905\n",
            "Epoch 20/40\n",
            "19/19 [==============================] - 8s 377ms/step - loss: 0.4489 - accuracy: 0.8581 - val_loss: 0.5835 - val_accuracy: 0.7500\n",
            "Epoch 21/40\n",
            "19/19 [==============================] - 8s 376ms/step - loss: 0.4886 - accuracy: 0.8125 - val_loss: 0.6641 - val_accuracy: 0.7500\n",
            "Epoch 22/40\n",
            "19/19 [==============================] - ETA: 0s - loss: 0.4169 - accuracy: 0.8682"
          ]
        },
        {
          "output_type": "stream",
          "name": "stderr",
          "text": [
            "\u001b[34m\u001b[1mwandb\u001b[0m: Adding directory to artifact (/content/wandb/run-20221012_092338-2e2tf4vg/files/model-best)... Done. 8.7s\n"
          ]
        },
        {
          "output_type": "stream",
          "name": "stdout",
          "text": [
            "\b\b\b\b\b\b\b\b\b\b\b\b\b\b\b\b\b\b\b\b\b\b\b\b\b\b\b\b\b\b\b\b\b\b\b\b\b\b\b\b\b\b\b\b\b\b\b\b\b\b\b\b\b\b\b\b\b\b\b\b\b\b\b\b\b\b\b\b\b\b\b\b\b\b\b\b\b\b\b\b\b\b\r19/19 [==============================] - 85s 5s/step - loss: 0.4169 - accuracy: 0.8682 - val_loss: 0.4656 - val_accuracy: 0.8378\n",
            "Epoch 23/40\n",
            "19/19 [==============================] - 8s 372ms/step - loss: 0.3957 - accuracy: 0.8733 - val_loss: 0.4895 - val_accuracy: 0.8243\n",
            "Epoch 24/40\n",
            "19/19 [==============================] - 8s 376ms/step - loss: 0.4568 - accuracy: 0.8345 - val_loss: 0.5764 - val_accuracy: 0.7770\n",
            "Epoch 25/40\n",
            "19/19 [==============================] - 8s 379ms/step - loss: 0.4280 - accuracy: 0.8412 - val_loss: 0.5301 - val_accuracy: 0.7838\n",
            "Epoch 26/40\n",
            "19/19 [==============================] - ETA: 0s - loss: 0.3469 - accuracy: 0.9071"
          ]
        },
        {
          "output_type": "stream",
          "name": "stderr",
          "text": [
            "\u001b[34m\u001b[1mwandb\u001b[0m: Adding directory to artifact (/content/wandb/run-20221012_092338-2e2tf4vg/files/model-best)... Done. 8.7s\n"
          ]
        },
        {
          "output_type": "stream",
          "name": "stdout",
          "text": [
            "\b\b\b\b\b\b\b\b\b\b\b\b\b\b\b\b\b\b\b\b\b\b\b\b\b\b\b\b\b\b\b\b\b\b\b\b\b\b\b\b\b\b\b\b\b\b\b\b\b\b\b\b\b\b\b\b\b\b\b\b\b\b\b\b\b\b\b\b\b\b\b\b\b\b\b\b\b\b\b\b\b\b\r19/19 [==============================] - 93s 5s/step - loss: 0.3469 - accuracy: 0.9071 - val_loss: 0.4603 - val_accuracy: 0.8514\n",
            "Epoch 27/40\n",
            "19/19 [==============================] - 8s 373ms/step - loss: 0.3127 - accuracy: 0.9139 - val_loss: 0.5234 - val_accuracy: 0.7905\n",
            "Epoch 28/40\n",
            "19/19 [==============================] - 8s 375ms/step - loss: 0.3379 - accuracy: 0.9003 - val_loss: 0.5378 - val_accuracy: 0.7703\n",
            "Epoch 29/40\n",
            "19/19 [==============================] - 8s 380ms/step - loss: 0.3956 - accuracy: 0.8564 - val_loss: 0.5077 - val_accuracy: 0.8446\n",
            "Epoch 30/40\n",
            "19/19 [==============================] - ETA: 0s - loss: 0.3632 - accuracy: 0.8733"
          ]
        },
        {
          "output_type": "stream",
          "name": "stderr",
          "text": [
            "\u001b[34m\u001b[1mwandb\u001b[0m: Adding directory to artifact (/content/wandb/run-20221012_092338-2e2tf4vg/files/model-best)... Done. 8.8s\n"
          ]
        },
        {
          "output_type": "stream",
          "name": "stdout",
          "text": [
            "\b\b\b\b\b\b\b\b\b\b\b\b\b\b\b\b\b\b\b\b\b\b\b\b\b\b\b\b\b\b\b\b\b\b\b\b\b\b\b\b\b\b\b\b\b\b\b\b\b\b\b\b\b\b\b\b\b\b\b\b\b\b\b\b\b\b\b\b\b\b\b\b\b\b\b\b\b\b\b\b\b\b\r19/19 [==============================] - 86s 5s/step - loss: 0.3632 - accuracy: 0.8733 - val_loss: 0.4564 - val_accuracy: 0.8851\n",
            "Epoch 31/40\n",
            "19/19 [==============================] - 8s 373ms/step - loss: 0.5424 - accuracy: 0.8074 - val_loss: 0.6070 - val_accuracy: 0.7838\n",
            "Epoch 32/40\n",
            "19/19 [==============================] - 8s 375ms/step - loss: 0.4462 - accuracy: 0.8142 - val_loss: 0.6779 - val_accuracy: 0.7162\n",
            "Epoch 33/40\n",
            "19/19 [==============================] - 8s 384ms/step - loss: 0.4677 - accuracy: 0.8108 - val_loss: 0.8557 - val_accuracy: 0.6757\n",
            "Epoch 34/40\n",
            "19/19 [==============================] - 8s 381ms/step - loss: 0.4891 - accuracy: 0.8159 - val_loss: 0.5125 - val_accuracy: 0.8446\n",
            "Epoch 35/40\n",
            "19/19 [==============================] - 8s 375ms/step - loss: 0.2610 - accuracy: 0.9358 - val_loss: 0.4873 - val_accuracy: 0.8108\n",
            "Epoch 36/40\n",
            "19/19 [==============================] - 8s 374ms/step - loss: 0.2937 - accuracy: 0.9105 - val_loss: 0.5043 - val_accuracy: 0.8176\n",
            "Epoch 37/40\n",
            "19/19 [==============================] - 8s 375ms/step - loss: 0.2828 - accuracy: 0.9172 - val_loss: 0.5002 - val_accuracy: 0.8041\n",
            "Epoch 38/40\n",
            "19/19 [==============================] - ETA: 0s - loss: 0.2892 - accuracy: 0.9037"
          ]
        },
        {
          "output_type": "stream",
          "name": "stderr",
          "text": [
            "\u001b[34m\u001b[1mwandb\u001b[0m: Adding directory to artifact (/content/wandb/run-20221012_092338-2e2tf4vg/files/model-best)... Done. 8.8s\n"
          ]
        },
        {
          "output_type": "stream",
          "name": "stdout",
          "text": [
            "\b\b\b\b\b\b\b\b\b\b\b\b\b\b\b\b\b\b\b\b\b\b\b\b\b\b\b\b\b\b\b\b\b\b\b\b\b\b\b\b\b\b\b\b\b\b\b\b\b\b\b\b\b\b\b\b\b\b\b\b\b\b\b\b\b\b\b\b\b\b\b\b\b\b\b\b\b\b\b\b\b\b\r19/19 [==============================] - 85s 5s/step - loss: 0.2892 - accuracy: 0.9037 - val_loss: 0.4520 - val_accuracy: 0.8176\n",
            "Epoch 39/40\n",
            "19/19 [==============================] - 8s 381ms/step - loss: 0.3509 - accuracy: 0.8902 - val_loss: 0.6055 - val_accuracy: 0.7770\n",
            "Epoch 40/40\n",
            "19/19 [==============================] - 8s 375ms/step - loss: 0.2661 - accuracy: 0.9088 - val_loss: 0.6677 - val_accuracy: 0.7432\n",
            "CPU times: user 16min 29s, sys: 1min 59s, total: 18min 28s\n",
            "Wall time: 32min 43s\n"
          ]
        }
      ]
    },
    {
      "cell_type": "code",
      "source": [
        "wandb.finish()"
      ],
      "metadata": {
        "colab": {
          "base_uri": "https://localhost:8080/",
          "height": 333
        },
        "id": "WaZ2tnFeETsF",
        "outputId": "67643f9a-d6c1-4d51-f94e-222bf4e65bf3"
      },
      "execution_count": null,
      "outputs": [
        {
          "output_type": "display_data",
          "data": {
            "text/plain": [
              "<IPython.core.display.HTML object>"
            ],
            "text/html": [
              "Waiting for W&B process to finish... <strong style=\"color:green\">(success).</strong>"
            ]
          },
          "metadata": {}
        },
        {
          "output_type": "display_data",
          "data": {
            "text/plain": [
              "<IPython.core.display.HTML object>"
            ],
            "text/html": [
              "<style>\n",
              "    table.wandb td:nth-child(1) { padding: 0 10px; text-align: left ; width: auto;} td:nth-child(2) {text-align: left ; width: 100%}\n",
              "    .wandb-row { display: flex; flex-direction: row; flex-wrap: wrap; justify-content: flex-start; width: 100% }\n",
              "    .wandb-col { display: flex; flex-direction: column; flex-basis: 100%; flex: 1; padding: 10px; }\n",
              "    </style>\n",
              "<div class=\"wandb-row\"><div class=\"wandb-col\"><h3>Run history:</h3><br/><table class=\"wandb\"><tr><td>accuracy</td><td>▁▃▃▃▄▅▅▅▆▆▆▆▄▅▆▇▇▇▆▇▆▇▇▇▇███▇▇▆▇▆▇████▇█</td></tr><tr><td>epoch</td><td>▁▁▁▂▂▂▂▂▂▃▃▃▃▃▄▄▄▄▄▄▅▅▅▅▅▅▆▆▆▆▆▇▇▇▇▇▇███</td></tr><tr><td>loss</td><td>█▂▁▁▁▁▁▁▁▁▁▁▁▁▁▁▁▁▁▁▁▁▁▁▁▁▁▁▁▁▁▁▁▁▁▁▁▁▁▁</td></tr><tr><td>val_accuracy</td><td>▃▁▁▄▄▄▅▅▅▅▅▂▃▆▇▆▇▆▆▆▆▇▇▆▆▇▆▆▇█▆▅▅▇▇▇▇▇▆▆</td></tr><tr><td>val_loss</td><td>█▄▆▃▂▂▂▂▂▂▂▃▃▁▁▁▁▁▁▁▂▁▁▁▁▁▁▁▁▁▁▂▂▁▁▁▁▁▁▂</td></tr></table><br/></div><div class=\"wandb-col\"><h3>Run summary:</h3><br/><table class=\"wandb\"><tr><td>accuracy</td><td>0.90878</td></tr><tr><td>best_epoch</td><td>37</td></tr><tr><td>best_val_loss</td><td>0.45199</td></tr><tr><td>epoch</td><td>39</td></tr><tr><td>loss</td><td>0.26607</td></tr><tr><td>val_accuracy</td><td>0.74324</td></tr><tr><td>val_loss</td><td>0.66772</td></tr></table><br/></div></div>"
            ]
          },
          "metadata": {}
        },
        {
          "output_type": "display_data",
          "data": {
            "text/plain": [
              "<IPython.core.display.HTML object>"
            ],
            "text/html": [
              "Synced <strong style=\"color:#cdcd00\">resnet152</strong>: <a href=\"https://wandb.ai/vedmanivaidya/Transfer_learning/runs/2e2tf4vg\" target=\"_blank\">https://wandb.ai/vedmanivaidya/Transfer_learning/runs/2e2tf4vg</a><br/>Synced 5 W&B file(s), 1 media file(s), 43 artifact file(s) and 1 other file(s)"
            ]
          },
          "metadata": {}
        },
        {
          "output_type": "display_data",
          "data": {
            "text/plain": [
              "<IPython.core.display.HTML object>"
            ],
            "text/html": [
              "Find logs at: <code>./wandb/run-20221012_092338-2e2tf4vg/logs</code>"
            ]
          },
          "metadata": {}
        }
      ]
    },
    {
      "cell_type": "code",
      "source": [
        "!nvidia-smi --query-gpu=gpu_name --format=csv"
      ],
      "metadata": {
        "id": "evsoqZlgK-dc"
      },
      "execution_count": null,
      "outputs": []
    }
  ],
  "metadata": {
    "kernelspec": {
      "display_name": "Python 3",
      "language": "python",
      "name": "python3"
    },
    "language_info": {
      "codemirror_mode": {
        "name": "ipython",
        "version": 2
      },
      "file_extension": ".py",
      "mimetype": "text/x-python",
      "name": "python",
      "nbconvert_exporter": "python",
      "pygments_lexer": "ipython2",
      "version": "2.7.6"
    },
    "colab": {
      "provenance": [],
      "include_colab_link": true
    },
    "accelerator": "GPU"
  },
  "nbformat": 4,
  "nbformat_minor": 0
}